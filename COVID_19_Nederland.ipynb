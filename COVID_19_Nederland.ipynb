{
  "nbformat": 4,
  "nbformat_minor": 0,
  "metadata": {
    "colab": {
      "name": "COVID-19_Nederland.ipynb",
      "provenance": [],
      "private_outputs": true,
      "authorship_tag": "ABX9TyNM9//lXke8tTinyaWF/hap",
      "include_colab_link": true
    },
    "kernelspec": {
      "name": "python3",
      "display_name": "Python 3"
    }
  },
  "cells": [
    {
      "cell_type": "markdown",
      "metadata": {
        "id": "view-in-github",
        "colab_type": "text"
      },
      "source": [
        "<a href=\"https://colab.research.google.com/github/flow4u/public/blob/master/COVID_19_Nederland.ipynb\" target=\"_parent\"><img src=\"https://colab.research.google.com/assets/colab-badge.svg\" alt=\"Open In Colab\"/></a>"
      ]
    },
    {
      "cell_type": "code",
      "metadata": {
        "id": "6E9yiuNpKC85",
        "colab_type": "code",
        "colab": {}
      },
      "source": [
        "'''\n",
        "IMPORTANT: inital run might fail, just wait a few seconds and do RUN ALL again\n",
        "\n",
        "Animated gif is created in folder to the right: COVID19_Netherland.gif\n",
        "\n",
        "'''\n",
        "\n",
        "try:\n",
        "  import geopandas as gpd\n",
        "except:\n",
        "  !pip install geopandas\n",
        "  import geopandas as gpd\n",
        "\n",
        "try: \n",
        "  import cbsodata\n",
        "except:\n",
        "  !pip install cbsodata\n",
        "  import cbsodata\n",
        "import pandas as pd\n",
        "import matplotlib.pyplot as plt\n",
        "from PIL import Image, ImageDraw\n",
        "import glob\n",
        " \n",
        "\n",
        "# Zoek op welke data beschikbaar is\n",
        "metadata = pd.DataFrame(cbsodata.get_meta('84583NED', 'DataProperties'))\n"
      ],
      "execution_count": 0,
      "outputs": []
    },
    {
      "cell_type": "code",
      "metadata": {
        "id": "zsEj96_7Llc-",
        "colab_type": "code",
        "colab": {}
      },
      "source": [
        "# Haal de kaart met gemeentegrenzen op van PDOK\n",
        "geodata_url = 'https://geodata.nationaalgeoregister.nl/cbsgebiedsindelingen/wfs?request=GetFeature&service=WFS&version=2.0.0&typeName=cbs_gemeente_2019_gegeneraliseerd&outputFormat=json'\n",
        "gemeentegrenzen = gpd.read_file(geodata_url)"
      ],
      "execution_count": 0,
      "outputs": []
    },
    {
      "cell_type": "code",
      "metadata": {
        "id": "9d3gVparg0Be",
        "colab_type": "code",
        "colab": {}
      },
      "source": [
        "# https://docs.google.com/spreadsheets/d/1Qn740kNVKrKf1-Xs1rMemcXgSCIVo9D-ezC1egrlJd0/edit#gid=1628578164\n",
        "covid19_nl_url = 'https://docs.google.com/spreadsheets/d/e/2PACX-1vSVeWQqQEvMoFBiDN7Xv-BVriY6Lmtai-FGBQ4fR8Lb_RD5K1aFwnyfjkFrQnuQLOOikfEFQX-bEImZ/pub?gid=2109076169&single=true&output=csv'\n",
        "covid19_nl = pd.read_csv(covid19_nl_url)\n",
        "# print(covid19_nl.head())\n",
        "dates = [h for h in covid19_nl if h[0:4]=='2020']"
      ],
      "execution_count": 0,
      "outputs": []
    },
    {
      "cell_type": "code",
      "metadata": {
        "id": "Mzo0xVI2Lks9",
        "colab_type": "code",
        "colab": {}
      },
      "source": [
        "# Download geboortecijfers en verwijder spaties uit regiocodes\n",
        "data = pd.DataFrame(cbsodata.get_data('84583NED', select = ['WijkenEnBuurten', 'Codering_3', 'AantalInwoners_5']))\n",
        "data['Codering_3'] = data['Codering_3'].str.strip()"
      ],
      "execution_count": 0,
      "outputs": []
    },
    {
      "cell_type": "code",
      "metadata": {
        "id": "2BVt9un-WXe-",
        "colab_type": "code",
        "colab": {}
      },
      "source": [
        "# Merge\n",
        "data = pd.merge(data, covid19_nl, left_on='WijkenEnBuurten', right_on='WijkenEnBuurten')"
      ],
      "execution_count": 0,
      "outputs": []
    },
    {
      "cell_type": "code",
      "metadata": {
        "id": "pyqUV_E5LqB_",
        "colab_type": "code",
        "colab": {}
      },
      "source": [
        "images = []\n",
        "%matplotlib inline\n",
        "plt.style.use('ggplot') #'classic')\n",
        "data_temp=[]\n",
        "data_temp = data.copy()\n",
        "\n",
        "for d in dates:\n",
        "  # data_temp['Per1000'] = data_temp[d]/data_temp['AantalInwoners_5']*1000\n",
        "  data_temp[d] = data_temp[d]/data_temp['AantalInwoners_5']*1000\n",
        "  # print(data_temp)\n",
        "  # print(result.head())\n",
        "\n",
        "data_temp = data_temp[data_temp['Codering_3'].str.contains(\"GM\")]\n",
        "\n",
        "# Koppel CBS-data aan geodata met regiocodes\n",
        "gemeentegrenzen = pd.merge(gemeentegrenzen, data_temp,\n",
        "                          left_on = \"statcode\", \n",
        "                          right_on = \"Codering_3\")\n",
        "# print(gemeentegrenzen.head())"
      ],
      "execution_count": 0,
      "outputs": []
    },
    {
      "cell_type": "code",
      "metadata": {
        "id": "mn5epeW6enpH",
        "colab_type": "code",
        "colab": {}
      },
      "source": [
        "import matplotlib.image as mpimg\n",
        "import os\n",
        "\n",
        "\n",
        "cwd = os.getcwd()\n",
        "png_target = cwd+'/pngs'\n",
        "try:\n",
        "  os.makedirs(png_target)\n",
        "except:\n",
        "  pass\n",
        "# print(cwd)\n",
        "\n",
        "for d in dates:\n",
        "  # Maak een thematische kaart\n",
        "  p = gemeentegrenzen.plot(column=d, \n",
        "                          figsize = (10,8),\n",
        "                          legend=True,\n",
        "                          vmin=0,\n",
        "                          vmax=10,\n",
        "                          cmap='rainbow'\n",
        "                          )\n",
        "  p.axis('off')\n",
        "  p.set_title('geregistreerde COVID-19 patiënten per 1000 inwoners op ' + d[6:8]+'-'+d[4:6])\n",
        "  fig1 = plt.gcf()\n",
        "  fig1.savefig(png_target + '/' + d+'.png')\n",
        "  plt.close()\n"
      ],
      "execution_count": 0,
      "outputs": []
    },
    {
      "cell_type": "code",
      "metadata": {
        "id": "Iupakr8YkT7m",
        "colab_type": "code",
        "colab": {}
      },
      "source": [
        "import imageio\n",
        "\n",
        "png_dir = png_target\n",
        "images = []\n",
        "for file_name in sorted(os.listdir(png_dir)):\n",
        "  # print(file_name)\n",
        "  if file_name.endswith('.png'):\n",
        "      file_path = os.path.join(png_dir, file_name)\n",
        "      images.append(imageio.imread(file_path))\n",
        "for i in range(0,5):\n",
        "  images.append(imageio.imread(file_path))\n",
        "imageio.mimsave('../content/COVID19_Nederland.gif', images, fps=3, loop=0)"
      ],
      "execution_count": 0,
      "outputs": []
    },
    {
      "cell_type": "code",
      "metadata": {
        "id": "cYIN0_VMNntx",
        "colab_type": "code",
        "colab": {}
      },
      "source": [
        ""
      ],
      "execution_count": 0,
      "outputs": []
    }
  ]
}
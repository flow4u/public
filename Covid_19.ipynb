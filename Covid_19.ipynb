{
  "nbformat": 4,
  "nbformat_minor": 0,
  "metadata": {
    "colab": {
      "name": "Covid-19.ipynb",
      "provenance": [],
      "collapsed_sections": [
        "9qgrf6ZnK4k2",
        "mNWCnM28LVM8"
      ],
      "authorship_tag": "ABX9TyOJK4z6U7/rLoOYi0hnqHiq",
      "include_colab_link": true
    },
    "kernelspec": {
      "name": "python3",
      "display_name": "Python 3"
    },
    "widgets": {
      "application/vnd.jupyter.widget-state+json": {
        "8bbf74b2652c4ab8920381323cf4a573": {
          "model_module": "@jupyter-widgets/controls",
          "model_name": "GridBoxModel",
          "state": {
            "_view_name": "GridBoxView",
            "_dom_classes": [],
            "_model_name": "GridBoxModel",
            "_view_module": "@jupyter-widgets/controls",
            "_model_module_version": "1.5.0",
            "_view_count": null,
            "_view_module_version": "1.5.0",
            "box_style": "",
            "layout": "IPY_MODEL_8d68dd3869fe4f0bbd9dced42db8919f",
            "_model_module": "@jupyter-widgets/controls",
            "children": [
              "IPY_MODEL_dbc85cf762ad40379bb9750f394953bb",
              "IPY_MODEL_3ca1f0d60d1049ecb49f004981671ee0",
              "IPY_MODEL_ebcf395de1a742a6868f361c927b76c8",
              "IPY_MODEL_f305224872684ac099a108e06b8dce6d",
              "IPY_MODEL_ea75f56cc2744eb586c06ba6a596d23f",
              "IPY_MODEL_903b5ddd152a4dddbe85d5f8962e6469",
              "IPY_MODEL_d16cd4c1cab3494ab429c3b2ef5f9ad4",
              "IPY_MODEL_58c62e34c8dc4419bcff9abf7736072d",
              "IPY_MODEL_c384a70a91524f3a84c5375456bb83d8",
              "IPY_MODEL_ab84723540354b728c617da2febc1b2b",
              "IPY_MODEL_e88c9392971643a981c697fb74d18e04",
              "IPY_MODEL_27fe85834d0e49e4a46235f85620f034",
              "IPY_MODEL_8d44afabc0354ce29f495388238cb1b8",
              "IPY_MODEL_8b841fe7db494c7cb5e0530dc1d639c3",
              "IPY_MODEL_f03a58212f3e4740a13eff97f817500f",
              "IPY_MODEL_a890485963ce412a8750eebc234a1d97",
              "IPY_MODEL_4b2982fc83e74646b8ca539d48dcd92a",
              "IPY_MODEL_fe92c34044f444d4b9d338c32458b9b4",
              "IPY_MODEL_19333d21025946d3b69e17972142d9e6",
              "IPY_MODEL_680cd5b081464744a4c39ddfba9fc8c9",
              "IPY_MODEL_9bdc9dc524e64ae9a2446d97a7ee1feb",
              "IPY_MODEL_de30fde5dd5542d199698b8a41615def",
              "IPY_MODEL_24d4585114614a9589b1e4424b768b0f",
              "IPY_MODEL_d328faf1817643f0a416238b5f781676",
              "IPY_MODEL_507d35239bac45358102a65b9030c57d",
              "IPY_MODEL_fcc60d4eb9b34c20ac1cebe3b47e86e4",
              "IPY_MODEL_70b9044485a04f63a29202c2b877c374",
              "IPY_MODEL_00f3fb913ed746799a9bb37c06e68034",
              "IPY_MODEL_f516a4c68b9040a3aa325b4517ecb4be",
              "IPY_MODEL_5e4f8e5c54824b439a91be7be16a6543",
              "IPY_MODEL_8c00f3e912a4437999565eefc09e5cac",
              "IPY_MODEL_88f87dd3e7a74b578f4880c7ae64f040",
              "IPY_MODEL_9e46344500fd4c5399e6783a0a8b4458",
              "IPY_MODEL_8486e78cac5942ef99bbf51d9bb7d2d7",
              "IPY_MODEL_b083204fb9904f33a7572e8efcd04b96",
              "IPY_MODEL_cff1b34a30784d148bf5b5ef3851ca96",
              "IPY_MODEL_0b44cc76497040798385cd2db9470d1f",
              "IPY_MODEL_41756498528c4df98eb6942e4b074fbf",
              "IPY_MODEL_950ebbb2b0b64e32a34bd74b35589531",
              "IPY_MODEL_eb7b69c46df5413384d5d2976d9b8c37",
              "IPY_MODEL_93d91669008147f0a4351c94a3bfeba4",
              "IPY_MODEL_406f883674e44c3b9c175ece76a2f9dd",
              "IPY_MODEL_747381842ceb43d18d046054a1d5bd89",
              "IPY_MODEL_c036a7c9b18c40d1a2fe241154943b37",
              "IPY_MODEL_18c8293c810a41cd9eba9c31093c9bef",
              "IPY_MODEL_64e3c6cd8d334d96a7beaa7860010e83",
              "IPY_MODEL_e9fb64b4f0564f4ba38bb68307430237",
              "IPY_MODEL_b750f5f06d2e46f8955f5985f1503139",
              "IPY_MODEL_01e9ef9d8c504b64b1cd8354e73351bf",
              "IPY_MODEL_71289a9195184352bb762c678243c6c9",
              "IPY_MODEL_32c0e5b2558a452c8760e189d89e56f7",
              "IPY_MODEL_d9c79c8ec42e442388539387c3867afb",
              "IPY_MODEL_6f62f1037cd542118c3e40bc296ac093"
            ]
          }
        },
        "8d68dd3869fe4f0bbd9dced42db8919f": {
          "model_module": "@jupyter-widgets/base",
          "model_name": "LayoutModel",
          "state": {
            "_view_name": "LayoutView",
            "grid_template_rows": null,
            "right": null,
            "justify_content": null,
            "_view_module": "@jupyter-widgets/base",
            "overflow": null,
            "_model_module_version": "1.2.0",
            "_view_count": null,
            "flex_flow": null,
            "width": null,
            "min_width": null,
            "border": null,
            "align_items": null,
            "bottom": null,
            "_model_module": "@jupyter-widgets/base",
            "top": null,
            "grid_column": null,
            "overflow_y": null,
            "overflow_x": null,
            "grid_auto_flow": null,
            "grid_area": null,
            "grid_template_columns": "repeat(auto-fill,130px",
            "flex": null,
            "_model_name": "LayoutModel",
            "justify_items": null,
            "grid_row": null,
            "max_height": null,
            "align_content": null,
            "visibility": null,
            "align_self": null,
            "height": null,
            "min_height": null,
            "padding": null,
            "grid_auto_rows": null,
            "grid_gap": null,
            "max_width": null,
            "order": null,
            "_view_module_version": "1.2.0",
            "grid_template_areas": null,
            "object_position": null,
            "object_fit": null,
            "grid_auto_columns": null,
            "margin": null,
            "display": null,
            "left": null
          }
        },
        "dbc85cf762ad40379bb9750f394953bb": {
          "model_module": "@jupyter-widgets/controls",
          "model_name": "ToggleButtonModel",
          "state": {
            "_view_name": "ToggleButtonView",
            "style": "IPY_MODEL_4bef2ad6242b4e27b3f1622cdd5265ab",
            "_dom_classes": [],
            "description": "Albania",
            "_model_name": "ToggleButtonModel",
            "button_style": "",
            "_view_module": "@jupyter-widgets/controls",
            "_model_module_version": "1.5.0",
            "tooltip": "",
            "_view_count": null,
            "disabled": false,
            "_view_module_version": "1.5.0",
            "value": false,
            "description_tooltip": null,
            "_model_module": "@jupyter-widgets/controls",
            "layout": "IPY_MODEL_2592a8fa23c34ce88fc0a00a892c84d2",
            "icon": ""
          }
        },
        "3ca1f0d60d1049ecb49f004981671ee0": {
          "model_module": "@jupyter-widgets/controls",
          "model_name": "ToggleButtonModel",
          "state": {
            "_view_name": "ToggleButtonView",
            "style": "IPY_MODEL_63527c363fce4d7ba2075df85d8cce40",
            "_dom_classes": [],
            "description": "Andorra",
            "_model_name": "ToggleButtonModel",
            "button_style": "",
            "_view_module": "@jupyter-widgets/controls",
            "_model_module_version": "1.5.0",
            "tooltip": "",
            "_view_count": null,
            "disabled": false,
            "_view_module_version": "1.5.0",
            "value": false,
            "description_tooltip": null,
            "_model_module": "@jupyter-widgets/controls",
            "layout": "IPY_MODEL_aa0a435a909e46d19018b4ffab2e8ab3",
            "icon": ""
          }
        },
        "ebcf395de1a742a6868f361c927b76c8": {
          "model_module": "@jupyter-widgets/controls",
          "model_name": "ToggleButtonModel",
          "state": {
            "_view_name": "ToggleButtonView",
            "style": "IPY_MODEL_57886f879d5f4030aaccd3d50f2f224b",
            "_dom_classes": [],
            "description": "Armenia",
            "_model_name": "ToggleButtonModel",
            "button_style": "",
            "_view_module": "@jupyter-widgets/controls",
            "_model_module_version": "1.5.0",
            "tooltip": "",
            "_view_count": null,
            "disabled": false,
            "_view_module_version": "1.5.0",
            "value": false,
            "description_tooltip": null,
            "_model_module": "@jupyter-widgets/controls",
            "layout": "IPY_MODEL_78f13c6f2f4b4889bd50ec41155e5746",
            "icon": ""
          }
        },
        "f305224872684ac099a108e06b8dce6d": {
          "model_module": "@jupyter-widgets/controls",
          "model_name": "ToggleButtonModel",
          "state": {
            "_view_name": "ToggleButtonView",
            "style": "IPY_MODEL_725574034bf5450099345bc5bfe0129d",
            "_dom_classes": [],
            "description": "Austria",
            "_model_name": "ToggleButtonModel",
            "button_style": "",
            "_view_module": "@jupyter-widgets/controls",
            "_model_module_version": "1.5.0",
            "tooltip": "",
            "_view_count": null,
            "disabled": false,
            "_view_module_version": "1.5.0",
            "value": false,
            "description_tooltip": null,
            "_model_module": "@jupyter-widgets/controls",
            "layout": "IPY_MODEL_e857535ebecb46ee93e82ac8638fc49f",
            "icon": ""
          }
        },
        "ea75f56cc2744eb586c06ba6a596d23f": {
          "model_module": "@jupyter-widgets/controls",
          "model_name": "ToggleButtonModel",
          "state": {
            "_view_name": "ToggleButtonView",
            "style": "IPY_MODEL_7012165197ea46cba3ccfbdac20c2e27",
            "_dom_classes": [],
            "description": "Belarus",
            "_model_name": "ToggleButtonModel",
            "button_style": "",
            "_view_module": "@jupyter-widgets/controls",
            "_model_module_version": "1.5.0",
            "tooltip": "",
            "_view_count": null,
            "disabled": false,
            "_view_module_version": "1.5.0",
            "value": false,
            "description_tooltip": null,
            "_model_module": "@jupyter-widgets/controls",
            "layout": "IPY_MODEL_de90895860434757aa9d971847cf6a05",
            "icon": ""
          }
        },
        "903b5ddd152a4dddbe85d5f8962e6469": {
          "model_module": "@jupyter-widgets/controls",
          "model_name": "ToggleButtonModel",
          "state": {
            "_view_name": "ToggleButtonView",
            "style": "IPY_MODEL_427a1a79a34147a7ac9b31f78c9db135",
            "_dom_classes": [],
            "description": "Belgium",
            "_model_name": "ToggleButtonModel",
            "button_style": "",
            "_view_module": "@jupyter-widgets/controls",
            "_model_module_version": "1.5.0",
            "tooltip": "",
            "_view_count": null,
            "disabled": false,
            "_view_module_version": "1.5.0",
            "value": false,
            "description_tooltip": null,
            "_model_module": "@jupyter-widgets/controls",
            "layout": "IPY_MODEL_16519cb3804e43318ee6e93b18b5fa9e",
            "icon": ""
          }
        },
        "d16cd4c1cab3494ab429c3b2ef5f9ad4": {
          "model_module": "@jupyter-widgets/controls",
          "model_name": "ToggleButtonModel",
          "state": {
            "_view_name": "ToggleButtonView",
            "style": "IPY_MODEL_0b5ac283199a4e6ba0926c534d9b3984",
            "_dom_classes": [],
            "description": "Bosnia and Herzegovina",
            "_model_name": "ToggleButtonModel",
            "button_style": "",
            "_view_module": "@jupyter-widgets/controls",
            "_model_module_version": "1.5.0",
            "tooltip": "",
            "_view_count": null,
            "disabled": false,
            "_view_module_version": "1.5.0",
            "value": false,
            "description_tooltip": null,
            "_model_module": "@jupyter-widgets/controls",
            "layout": "IPY_MODEL_42307337c57c45dca11038b299c3cdfa",
            "icon": ""
          }
        },
        "58c62e34c8dc4419bcff9abf7736072d": {
          "model_module": "@jupyter-widgets/controls",
          "model_name": "ToggleButtonModel",
          "state": {
            "_view_name": "ToggleButtonView",
            "style": "IPY_MODEL_052cf338244045709d41c03377858f01",
            "_dom_classes": [],
            "description": "Bulgaria",
            "_model_name": "ToggleButtonModel",
            "button_style": "",
            "_view_module": "@jupyter-widgets/controls",
            "_model_module_version": "1.5.0",
            "tooltip": "",
            "_view_count": null,
            "disabled": false,
            "_view_module_version": "1.5.0",
            "value": false,
            "description_tooltip": null,
            "_model_module": "@jupyter-widgets/controls",
            "layout": "IPY_MODEL_23196341e9364f549a564da5c8735aac",
            "icon": ""
          }
        },
        "c384a70a91524f3a84c5375456bb83d8": {
          "model_module": "@jupyter-widgets/controls",
          "model_name": "ToggleButtonModel",
          "state": {
            "_view_name": "ToggleButtonView",
            "style": "IPY_MODEL_1e34c641d5fd4facb07ddf242fefbd47",
            "_dom_classes": [],
            "description": "Channel Islands",
            "_model_name": "ToggleButtonModel",
            "button_style": "",
            "_view_module": "@jupyter-widgets/controls",
            "_model_module_version": "1.5.0",
            "tooltip": "",
            "_view_count": null,
            "disabled": false,
            "_view_module_version": "1.5.0",
            "value": false,
            "description_tooltip": null,
            "_model_module": "@jupyter-widgets/controls",
            "layout": "IPY_MODEL_f4e52a291afd47afa35913c0b52f41bd",
            "icon": ""
          }
        },
        "ab84723540354b728c617da2febc1b2b": {
          "model_module": "@jupyter-widgets/controls",
          "model_name": "ToggleButtonModel",
          "state": {
            "_view_name": "ToggleButtonView",
            "style": "IPY_MODEL_8688678d248e442fb2f00c5d538b22f4",
            "_dom_classes": [],
            "description": "Croatia",
            "_model_name": "ToggleButtonModel",
            "button_style": "",
            "_view_module": "@jupyter-widgets/controls",
            "_model_module_version": "1.5.0",
            "tooltip": "",
            "_view_count": null,
            "disabled": false,
            "_view_module_version": "1.5.0",
            "value": false,
            "description_tooltip": null,
            "_model_module": "@jupyter-widgets/controls",
            "layout": "IPY_MODEL_19d5af26873f44d5a11a836d15b14935",
            "icon": ""
          }
        },
        "e88c9392971643a981c697fb74d18e04": {
          "model_module": "@jupyter-widgets/controls",
          "model_name": "ToggleButtonModel",
          "state": {
            "_view_name": "ToggleButtonView",
            "style": "IPY_MODEL_58489a6289ab49f7a2e451d20e60c26e",
            "_dom_classes": [],
            "description": "Cyprus",
            "_model_name": "ToggleButtonModel",
            "button_style": "",
            "_view_module": "@jupyter-widgets/controls",
            "_model_module_version": "1.5.0",
            "tooltip": "",
            "_view_count": null,
            "disabled": false,
            "_view_module_version": "1.5.0",
            "value": false,
            "description_tooltip": null,
            "_model_module": "@jupyter-widgets/controls",
            "layout": "IPY_MODEL_f8bcd32a7fa249e3aedae2a621139363",
            "icon": ""
          }
        },
        "27fe85834d0e49e4a46235f85620f034": {
          "model_module": "@jupyter-widgets/controls",
          "model_name": "ToggleButtonModel",
          "state": {
            "_view_name": "ToggleButtonView",
            "style": "IPY_MODEL_b21c7cd8577a466ab5c0bcaa9811011e",
            "_dom_classes": [],
            "description": "Czech Republic",
            "_model_name": "ToggleButtonModel",
            "button_style": "",
            "_view_module": "@jupyter-widgets/controls",
            "_model_module_version": "1.5.0",
            "tooltip": "",
            "_view_count": null,
            "disabled": false,
            "_view_module_version": "1.5.0",
            "value": false,
            "description_tooltip": null,
            "_model_module": "@jupyter-widgets/controls",
            "layout": "IPY_MODEL_0411acf1c5ad4c21b3da50ba05449f54",
            "icon": ""
          }
        },
        "8d44afabc0354ce29f495388238cb1b8": {
          "model_module": "@jupyter-widgets/controls",
          "model_name": "ToggleButtonModel",
          "state": {
            "_view_name": "ToggleButtonView",
            "style": "IPY_MODEL_a7a2d5baba4241419d50a8010902fd44",
            "_dom_classes": [],
            "description": "Czechia",
            "_model_name": "ToggleButtonModel",
            "button_style": "",
            "_view_module": "@jupyter-widgets/controls",
            "_model_module_version": "1.5.0",
            "tooltip": "",
            "_view_count": null,
            "disabled": false,
            "_view_module_version": "1.5.0",
            "value": false,
            "description_tooltip": null,
            "_model_module": "@jupyter-widgets/controls",
            "layout": "IPY_MODEL_123df0e163aa48fa8fa950df0b855986",
            "icon": ""
          }
        },
        "8b841fe7db494c7cb5e0530dc1d639c3": {
          "model_module": "@jupyter-widgets/controls",
          "model_name": "ToggleButtonModel",
          "state": {
            "_view_name": "ToggleButtonView",
            "style": "IPY_MODEL_117852ed2d314ae89e9e0eb047cba9f8",
            "_dom_classes": [],
            "description": "Denmark",
            "_model_name": "ToggleButtonModel",
            "button_style": "",
            "_view_module": "@jupyter-widgets/controls",
            "_model_module_version": "1.5.0",
            "tooltip": "",
            "_view_count": null,
            "disabled": false,
            "_view_module_version": "1.5.0",
            "value": false,
            "description_tooltip": null,
            "_model_module": "@jupyter-widgets/controls",
            "layout": "IPY_MODEL_4d8ca9559038444b94b2e44745bc9c00",
            "icon": ""
          }
        },
        "f03a58212f3e4740a13eff97f817500f": {
          "model_module": "@jupyter-widgets/controls",
          "model_name": "ToggleButtonModel",
          "state": {
            "_view_name": "ToggleButtonView",
            "style": "IPY_MODEL_3016df000027449e9985c69e541ad34b",
            "_dom_classes": [],
            "description": "Estonia",
            "_model_name": "ToggleButtonModel",
            "button_style": "",
            "_view_module": "@jupyter-widgets/controls",
            "_model_module_version": "1.5.0",
            "tooltip": "",
            "_view_count": null,
            "disabled": false,
            "_view_module_version": "1.5.0",
            "value": false,
            "description_tooltip": null,
            "_model_module": "@jupyter-widgets/controls",
            "layout": "IPY_MODEL_8fff1e0d5d6f435097df0e75ecf4b288",
            "icon": ""
          }
        },
        "a890485963ce412a8750eebc234a1d97": {
          "model_module": "@jupyter-widgets/controls",
          "model_name": "ToggleButtonModel",
          "state": {
            "_view_name": "ToggleButtonView",
            "style": "IPY_MODEL_cfe3af30b351436ab3f1b64d552e7d9b",
            "_dom_classes": [],
            "description": "Finland",
            "_model_name": "ToggleButtonModel",
            "button_style": "",
            "_view_module": "@jupyter-widgets/controls",
            "_model_module_version": "1.5.0",
            "tooltip": "",
            "_view_count": null,
            "disabled": false,
            "_view_module_version": "1.5.0",
            "value": false,
            "description_tooltip": null,
            "_model_module": "@jupyter-widgets/controls",
            "layout": "IPY_MODEL_992301d0723749c2bf6e2fc987c89dcf",
            "icon": ""
          }
        },
        "4b2982fc83e74646b8ca539d48dcd92a": {
          "model_module": "@jupyter-widgets/controls",
          "model_name": "ToggleButtonModel",
          "state": {
            "_view_name": "ToggleButtonView",
            "style": "IPY_MODEL_2b1854ffd0f24f838de1eb253cebad2a",
            "_dom_classes": [],
            "description": "France",
            "_model_name": "ToggleButtonModel",
            "button_style": "",
            "_view_module": "@jupyter-widgets/controls",
            "_model_module_version": "1.5.0",
            "tooltip": "",
            "_view_count": null,
            "disabled": false,
            "_view_module_version": "1.5.0",
            "value": false,
            "description_tooltip": null,
            "_model_module": "@jupyter-widgets/controls",
            "layout": "IPY_MODEL_bb90a7cb25634ef5acc4706acd457bb5",
            "icon": ""
          }
        },
        "fe92c34044f444d4b9d338c32458b9b4": {
          "model_module": "@jupyter-widgets/controls",
          "model_name": "ToggleButtonModel",
          "state": {
            "_view_name": "ToggleButtonView",
            "style": "IPY_MODEL_1caa54514f294924ad9938cf785fdcf0",
            "_dom_classes": [],
            "description": "Georgia",
            "_model_name": "ToggleButtonModel",
            "button_style": "",
            "_view_module": "@jupyter-widgets/controls",
            "_model_module_version": "1.5.0",
            "tooltip": "",
            "_view_count": null,
            "disabled": false,
            "_view_module_version": "1.5.0",
            "value": false,
            "description_tooltip": null,
            "_model_module": "@jupyter-widgets/controls",
            "layout": "IPY_MODEL_d504730a1c9a461d849d396d9e08a823",
            "icon": ""
          }
        },
        "19333d21025946d3b69e17972142d9e6": {
          "model_module": "@jupyter-widgets/controls",
          "model_name": "ToggleButtonModel",
          "state": {
            "_view_name": "ToggleButtonView",
            "style": "IPY_MODEL_e2062aad4ed045e5acbd2ef901103b30",
            "_dom_classes": [],
            "description": "Germany",
            "_model_name": "ToggleButtonModel",
            "button_style": "",
            "_view_module": "@jupyter-widgets/controls",
            "_model_module_version": "1.5.0",
            "tooltip": "",
            "_view_count": null,
            "disabled": false,
            "_view_module_version": "1.5.0",
            "value": false,
            "description_tooltip": null,
            "_model_module": "@jupyter-widgets/controls",
            "layout": "IPY_MODEL_1deb284f58a24df8a8e75e3a88a01880",
            "icon": ""
          }
        },
        "680cd5b081464744a4c39ddfba9fc8c9": {
          "model_module": "@jupyter-widgets/controls",
          "model_name": "ToggleButtonModel",
          "state": {
            "_view_name": "ToggleButtonView",
            "style": "IPY_MODEL_5c1ab5919c524230b09325090d71efdf",
            "_dom_classes": [],
            "description": "Gibraltar",
            "_model_name": "ToggleButtonModel",
            "button_style": "",
            "_view_module": "@jupyter-widgets/controls",
            "_model_module_version": "1.5.0",
            "tooltip": "",
            "_view_count": null,
            "disabled": false,
            "_view_module_version": "1.5.0",
            "value": false,
            "description_tooltip": null,
            "_model_module": "@jupyter-widgets/controls",
            "layout": "IPY_MODEL_c93cd66ec0ec4e8c8a5dd8d6655f60ea",
            "icon": ""
          }
        },
        "9bdc9dc524e64ae9a2446d97a7ee1feb": {
          "model_module": "@jupyter-widgets/controls",
          "model_name": "ToggleButtonModel",
          "state": {
            "_view_name": "ToggleButtonView",
            "style": "IPY_MODEL_a3190b5dff544a259bc1b6e62cefecfb",
            "_dom_classes": [],
            "description": "Greece",
            "_model_name": "ToggleButtonModel",
            "button_style": "",
            "_view_module": "@jupyter-widgets/controls",
            "_model_module_version": "1.5.0",
            "tooltip": "",
            "_view_count": null,
            "disabled": false,
            "_view_module_version": "1.5.0",
            "value": false,
            "description_tooltip": null,
            "_model_module": "@jupyter-widgets/controls",
            "layout": "IPY_MODEL_10de42fa5d4b442cbb611182a7ba67a7",
            "icon": ""
          }
        },
        "de30fde5dd5542d199698b8a41615def": {
          "model_module": "@jupyter-widgets/controls",
          "model_name": "ToggleButtonModel",
          "state": {
            "_view_name": "ToggleButtonView",
            "style": "IPY_MODEL_5e1168d23d894b179d06140aa106c008",
            "_dom_classes": [],
            "description": "Holy See",
            "_model_name": "ToggleButtonModel",
            "button_style": "",
            "_view_module": "@jupyter-widgets/controls",
            "_model_module_version": "1.5.0",
            "tooltip": "",
            "_view_count": null,
            "disabled": false,
            "_view_module_version": "1.5.0",
            "value": false,
            "description_tooltip": null,
            "_model_module": "@jupyter-widgets/controls",
            "layout": "IPY_MODEL_0273ef6ffe864ac09cdaffd002ec0346",
            "icon": ""
          }
        },
        "24d4585114614a9589b1e4424b768b0f": {
          "model_module": "@jupyter-widgets/controls",
          "model_name": "ToggleButtonModel",
          "state": {
            "_view_name": "ToggleButtonView",
            "style": "IPY_MODEL_357e1c933d06446d95ae747f7701540d",
            "_dom_classes": [],
            "description": "Hungary",
            "_model_name": "ToggleButtonModel",
            "button_style": "",
            "_view_module": "@jupyter-widgets/controls",
            "_model_module_version": "1.5.0",
            "tooltip": "",
            "_view_count": null,
            "disabled": false,
            "_view_module_version": "1.5.0",
            "value": false,
            "description_tooltip": null,
            "_model_module": "@jupyter-widgets/controls",
            "layout": "IPY_MODEL_bc32770f8dd044c99fef1bce00411f1b",
            "icon": ""
          }
        },
        "d328faf1817643f0a416238b5f781676": {
          "model_module": "@jupyter-widgets/controls",
          "model_name": "ToggleButtonModel",
          "state": {
            "_view_name": "ToggleButtonView",
            "style": "IPY_MODEL_1b42fa052c38496b9781fe92b4aa3051",
            "_dom_classes": [],
            "description": "Iceland",
            "_model_name": "ToggleButtonModel",
            "button_style": "",
            "_view_module": "@jupyter-widgets/controls",
            "_model_module_version": "1.5.0",
            "tooltip": "",
            "_view_count": null,
            "disabled": false,
            "_view_module_version": "1.5.0",
            "value": false,
            "description_tooltip": null,
            "_model_module": "@jupyter-widgets/controls",
            "layout": "IPY_MODEL_8f637cdb8fee417eabc39af05a6a9bd3",
            "icon": ""
          }
        },
        "507d35239bac45358102a65b9030c57d": {
          "model_module": "@jupyter-widgets/controls",
          "model_name": "ToggleButtonModel",
          "state": {
            "_view_name": "ToggleButtonView",
            "style": "IPY_MODEL_86fb5aa3c4124db4983c75271663646b",
            "_dom_classes": [],
            "description": "Ireland",
            "_model_name": "ToggleButtonModel",
            "button_style": "",
            "_view_module": "@jupyter-widgets/controls",
            "_model_module_version": "1.5.0",
            "tooltip": "",
            "_view_count": null,
            "disabled": false,
            "_view_module_version": "1.5.0",
            "value": false,
            "description_tooltip": null,
            "_model_module": "@jupyter-widgets/controls",
            "layout": "IPY_MODEL_4d0ba5a8142d4c32b04119df00ef463a",
            "icon": ""
          }
        },
        "fcc60d4eb9b34c20ac1cebe3b47e86e4": {
          "model_module": "@jupyter-widgets/controls",
          "model_name": "ToggleButtonModel",
          "state": {
            "_view_name": "ToggleButtonView",
            "style": "IPY_MODEL_8a39131967874b9b927480aabf8a4dba",
            "_dom_classes": [],
            "description": "Italy",
            "_model_name": "ToggleButtonModel",
            "button_style": "",
            "_view_module": "@jupyter-widgets/controls",
            "_model_module_version": "1.5.0",
            "tooltip": "",
            "_view_count": null,
            "disabled": false,
            "_view_module_version": "1.5.0",
            "value": false,
            "description_tooltip": null,
            "_model_module": "@jupyter-widgets/controls",
            "layout": "IPY_MODEL_ca4923865828451ebceb2734f4dd31dd",
            "icon": ""
          }
        },
        "70b9044485a04f63a29202c2b877c374": {
          "model_module": "@jupyter-widgets/controls",
          "model_name": "ToggleButtonModel",
          "state": {
            "_view_name": "ToggleButtonView",
            "style": "IPY_MODEL_19d1cbce61dc4fcf85c3d19d6744db36",
            "_dom_classes": [],
            "description": "Latvia",
            "_model_name": "ToggleButtonModel",
            "button_style": "",
            "_view_module": "@jupyter-widgets/controls",
            "_model_module_version": "1.5.0",
            "tooltip": "",
            "_view_count": null,
            "disabled": false,
            "_view_module_version": "1.5.0",
            "value": false,
            "description_tooltip": null,
            "_model_module": "@jupyter-widgets/controls",
            "layout": "IPY_MODEL_98ef99063d944b64af7e4da09d797a26",
            "icon": ""
          }
        },
        "00f3fb913ed746799a9bb37c06e68034": {
          "model_module": "@jupyter-widgets/controls",
          "model_name": "ToggleButtonModel",
          "state": {
            "_view_name": "ToggleButtonView",
            "style": "IPY_MODEL_c56e085d3e894836b9b5d34cf8c524d1",
            "_dom_classes": [],
            "description": "Liechtenstein",
            "_model_name": "ToggleButtonModel",
            "button_style": "",
            "_view_module": "@jupyter-widgets/controls",
            "_model_module_version": "1.5.0",
            "tooltip": "",
            "_view_count": null,
            "disabled": false,
            "_view_module_version": "1.5.0",
            "value": false,
            "description_tooltip": null,
            "_model_module": "@jupyter-widgets/controls",
            "layout": "IPY_MODEL_354eb17984864fdb80a359da29be8f5f",
            "icon": ""
          }
        },
        "f516a4c68b9040a3aa325b4517ecb4be": {
          "model_module": "@jupyter-widgets/controls",
          "model_name": "ToggleButtonModel",
          "state": {
            "_view_name": "ToggleButtonView",
            "style": "IPY_MODEL_5e51da69be1845ceb56b926a2540e801",
            "_dom_classes": [],
            "description": "Lithuania",
            "_model_name": "ToggleButtonModel",
            "button_style": "",
            "_view_module": "@jupyter-widgets/controls",
            "_model_module_version": "1.5.0",
            "tooltip": "",
            "_view_count": null,
            "disabled": false,
            "_view_module_version": "1.5.0",
            "value": false,
            "description_tooltip": null,
            "_model_module": "@jupyter-widgets/controls",
            "layout": "IPY_MODEL_8111b7e36ce44642bee77d23e4514b19",
            "icon": ""
          }
        },
        "5e4f8e5c54824b439a91be7be16a6543": {
          "model_module": "@jupyter-widgets/controls",
          "model_name": "ToggleButtonModel",
          "state": {
            "_view_name": "ToggleButtonView",
            "style": "IPY_MODEL_01c139a89a00413f85bf364820f4c0ab",
            "_dom_classes": [],
            "description": "Luxembourg",
            "_model_name": "ToggleButtonModel",
            "button_style": "",
            "_view_module": "@jupyter-widgets/controls",
            "_model_module_version": "1.5.0",
            "tooltip": "",
            "_view_count": null,
            "disabled": false,
            "_view_module_version": "1.5.0",
            "value": false,
            "description_tooltip": null,
            "_model_module": "@jupyter-widgets/controls",
            "layout": "IPY_MODEL_8fe7488940af486ca35fe2b6f9a5467c",
            "icon": ""
          }
        },
        "8c00f3e912a4437999565eefc09e5cac": {
          "model_module": "@jupyter-widgets/controls",
          "model_name": "ToggleButtonModel",
          "state": {
            "_view_name": "ToggleButtonView",
            "style": "IPY_MODEL_5f0d5e327949467ab45664453425a68f",
            "_dom_classes": [],
            "description": "Malta",
            "_model_name": "ToggleButtonModel",
            "button_style": "",
            "_view_module": "@jupyter-widgets/controls",
            "_model_module_version": "1.5.0",
            "tooltip": "",
            "_view_count": null,
            "disabled": false,
            "_view_module_version": "1.5.0",
            "value": false,
            "description_tooltip": null,
            "_model_module": "@jupyter-widgets/controls",
            "layout": "IPY_MODEL_86c4165e696c4b6b80a1d4f31c9e03a0",
            "icon": ""
          }
        },
        "88f87dd3e7a74b578f4880c7ae64f040": {
          "model_module": "@jupyter-widgets/controls",
          "model_name": "ToggleButtonModel",
          "state": {
            "_view_name": "ToggleButtonView",
            "style": "IPY_MODEL_a731a497529f4791ad16a81d27ef272d",
            "_dom_classes": [],
            "description": "Moldova",
            "_model_name": "ToggleButtonModel",
            "button_style": "",
            "_view_module": "@jupyter-widgets/controls",
            "_model_module_version": "1.5.0",
            "tooltip": "",
            "_view_count": null,
            "disabled": false,
            "_view_module_version": "1.5.0",
            "value": false,
            "description_tooltip": null,
            "_model_module": "@jupyter-widgets/controls",
            "layout": "IPY_MODEL_fb09b8eab8374d3db558590a690b1021",
            "icon": ""
          }
        },
        "9e46344500fd4c5399e6783a0a8b4458": {
          "model_module": "@jupyter-widgets/controls",
          "model_name": "ToggleButtonModel",
          "state": {
            "_view_name": "ToggleButtonView",
            "style": "IPY_MODEL_58ca7bb0e90e4b25ba53a9a614f5690e",
            "_dom_classes": [],
            "description": "Monaco",
            "_model_name": "ToggleButtonModel",
            "button_style": "",
            "_view_module": "@jupyter-widgets/controls",
            "_model_module_version": "1.5.0",
            "tooltip": "",
            "_view_count": null,
            "disabled": false,
            "_view_module_version": "1.5.0",
            "value": false,
            "description_tooltip": null,
            "_model_module": "@jupyter-widgets/controls",
            "layout": "IPY_MODEL_03f0a640fff744d5a6c9b728b7a7ac56",
            "icon": ""
          }
        },
        "8486e78cac5942ef99bbf51d9bb7d2d7": {
          "model_module": "@jupyter-widgets/controls",
          "model_name": "ToggleButtonModel",
          "state": {
            "_view_name": "ToggleButtonView",
            "style": "IPY_MODEL_cd64a16f378c4ab1a152a63667ba772b",
            "_dom_classes": [],
            "description": "Netherlands",
            "_model_name": "ToggleButtonModel",
            "button_style": "",
            "_view_module": "@jupyter-widgets/controls",
            "_model_module_version": "1.5.0",
            "tooltip": "",
            "_view_count": null,
            "disabled": false,
            "_view_module_version": "1.5.0",
            "value": false,
            "description_tooltip": null,
            "_model_module": "@jupyter-widgets/controls",
            "layout": "IPY_MODEL_5173ec849b9f4c42aeb80949c916635a",
            "icon": ""
          }
        },
        "b083204fb9904f33a7572e8efcd04b96": {
          "model_module": "@jupyter-widgets/controls",
          "model_name": "ToggleButtonModel",
          "state": {
            "_view_name": "ToggleButtonView",
            "style": "IPY_MODEL_38285b2a19784cfca28d775df99a077e",
            "_dom_classes": [],
            "description": "North Macedonia",
            "_model_name": "ToggleButtonModel",
            "button_style": "",
            "_view_module": "@jupyter-widgets/controls",
            "_model_module_version": "1.5.0",
            "tooltip": "",
            "_view_count": null,
            "disabled": false,
            "_view_module_version": "1.5.0",
            "value": false,
            "description_tooltip": null,
            "_model_module": "@jupyter-widgets/controls",
            "layout": "IPY_MODEL_3a2539abd33e49158a7e80409634b9d1",
            "icon": ""
          }
        },
        "cff1b34a30784d148bf5b5ef3851ca96": {
          "model_module": "@jupyter-widgets/controls",
          "model_name": "ToggleButtonModel",
          "state": {
            "_view_name": "ToggleButtonView",
            "style": "IPY_MODEL_b4fb807bc36d4abd836d0fb6fd51341a",
            "_dom_classes": [],
            "description": "Norway",
            "_model_name": "ToggleButtonModel",
            "button_style": "",
            "_view_module": "@jupyter-widgets/controls",
            "_model_module_version": "1.5.0",
            "tooltip": "",
            "_view_count": null,
            "disabled": false,
            "_view_module_version": "1.5.0",
            "value": false,
            "description_tooltip": null,
            "_model_module": "@jupyter-widgets/controls",
            "layout": "IPY_MODEL_cf7f0cc096a643eba9d039a3b46db129",
            "icon": ""
          }
        },
        "0b44cc76497040798385cd2db9470d1f": {
          "model_module": "@jupyter-widgets/controls",
          "model_name": "ToggleButtonModel",
          "state": {
            "_view_name": "ToggleButtonView",
            "style": "IPY_MODEL_10e66ff5f8774533998c5cbb661941ed",
            "_dom_classes": [],
            "description": "Poland",
            "_model_name": "ToggleButtonModel",
            "button_style": "",
            "_view_module": "@jupyter-widgets/controls",
            "_model_module_version": "1.5.0",
            "tooltip": "",
            "_view_count": null,
            "disabled": false,
            "_view_module_version": "1.5.0",
            "value": false,
            "description_tooltip": null,
            "_model_module": "@jupyter-widgets/controls",
            "layout": "IPY_MODEL_668a0969a5344a248feddd0b2b947d2e",
            "icon": ""
          }
        },
        "41756498528c4df98eb6942e4b074fbf": {
          "model_module": "@jupyter-widgets/controls",
          "model_name": "ToggleButtonModel",
          "state": {
            "_view_name": "ToggleButtonView",
            "style": "IPY_MODEL_1d6944359b6a4de0bb821c1f4667a911",
            "_dom_classes": [],
            "description": "Portugal",
            "_model_name": "ToggleButtonModel",
            "button_style": "",
            "_view_module": "@jupyter-widgets/controls",
            "_model_module_version": "1.5.0",
            "tooltip": "",
            "_view_count": null,
            "disabled": false,
            "_view_module_version": "1.5.0",
            "value": false,
            "description_tooltip": null,
            "_model_module": "@jupyter-widgets/controls",
            "layout": "IPY_MODEL_90723a475a7547f8bd3e768375428347",
            "icon": ""
          }
        },
        "950ebbb2b0b64e32a34bd74b35589531": {
          "model_module": "@jupyter-widgets/controls",
          "model_name": "ToggleButtonModel",
          "state": {
            "_view_name": "ToggleButtonView",
            "style": "IPY_MODEL_4a01a9b7ac974dcf87c2076ecc8cf01a",
            "_dom_classes": [],
            "description": "Republic of Moldova",
            "_model_name": "ToggleButtonModel",
            "button_style": "",
            "_view_module": "@jupyter-widgets/controls",
            "_model_module_version": "1.5.0",
            "tooltip": "",
            "_view_count": null,
            "disabled": false,
            "_view_module_version": "1.5.0",
            "value": false,
            "description_tooltip": null,
            "_model_module": "@jupyter-widgets/controls",
            "layout": "IPY_MODEL_cc7c4c23af54490981879bdbf819aeb3",
            "icon": ""
          }
        },
        "eb7b69c46df5413384d5d2976d9b8c37": {
          "model_module": "@jupyter-widgets/controls",
          "model_name": "ToggleButtonModel",
          "state": {
            "_view_name": "ToggleButtonView",
            "style": "IPY_MODEL_0617d4d665354cda9a468be28f8cec63",
            "_dom_classes": [],
            "description": "Romania",
            "_model_name": "ToggleButtonModel",
            "button_style": "",
            "_view_module": "@jupyter-widgets/controls",
            "_model_module_version": "1.5.0",
            "tooltip": "",
            "_view_count": null,
            "disabled": false,
            "_view_module_version": "1.5.0",
            "value": false,
            "description_tooltip": null,
            "_model_module": "@jupyter-widgets/controls",
            "layout": "IPY_MODEL_0c1d286efe5046339e77cb712f906692",
            "icon": ""
          }
        },
        "93d91669008147f0a4351c94a3bfeba4": {
          "model_module": "@jupyter-widgets/controls",
          "model_name": "ToggleButtonModel",
          "state": {
            "_view_name": "ToggleButtonView",
            "style": "IPY_MODEL_78e178a28c324a719fb59ccff13f2054",
            "_dom_classes": [],
            "description": "Russia",
            "_model_name": "ToggleButtonModel",
            "button_style": "",
            "_view_module": "@jupyter-widgets/controls",
            "_model_module_version": "1.5.0",
            "tooltip": "",
            "_view_count": null,
            "disabled": false,
            "_view_module_version": "1.5.0",
            "value": false,
            "description_tooltip": null,
            "_model_module": "@jupyter-widgets/controls",
            "layout": "IPY_MODEL_dcbb84b498274ddb854ade7f986f89a9",
            "icon": ""
          }
        },
        "406f883674e44c3b9c175ece76a2f9dd": {
          "model_module": "@jupyter-widgets/controls",
          "model_name": "ToggleButtonModel",
          "state": {
            "_view_name": "ToggleButtonView",
            "style": "IPY_MODEL_8eb98cb332234ea785f2703788d63db4",
            "_dom_classes": [],
            "description": "Russian Federation",
            "_model_name": "ToggleButtonModel",
            "button_style": "",
            "_view_module": "@jupyter-widgets/controls",
            "_model_module_version": "1.5.0",
            "tooltip": "",
            "_view_count": null,
            "disabled": false,
            "_view_module_version": "1.5.0",
            "value": false,
            "description_tooltip": null,
            "_model_module": "@jupyter-widgets/controls",
            "layout": "IPY_MODEL_c72ecb79bbbe445d935e474a0db2b3da",
            "icon": ""
          }
        },
        "747381842ceb43d18d046054a1d5bd89": {
          "model_module": "@jupyter-widgets/controls",
          "model_name": "ToggleButtonModel",
          "state": {
            "_view_name": "ToggleButtonView",
            "style": "IPY_MODEL_515e9ba7c4d44162a33b1999c46861d2",
            "_dom_classes": [],
            "description": "San Marino",
            "_model_name": "ToggleButtonModel",
            "button_style": "",
            "_view_module": "@jupyter-widgets/controls",
            "_model_module_version": "1.5.0",
            "tooltip": "",
            "_view_count": null,
            "disabled": false,
            "_view_module_version": "1.5.0",
            "value": false,
            "description_tooltip": null,
            "_model_module": "@jupyter-widgets/controls",
            "layout": "IPY_MODEL_91882977030643a78c7b828c06c1952e",
            "icon": ""
          }
        },
        "c036a7c9b18c40d1a2fe241154943b37": {
          "model_module": "@jupyter-widgets/controls",
          "model_name": "ToggleButtonModel",
          "state": {
            "_view_name": "ToggleButtonView",
            "style": "IPY_MODEL_7af24cbb05fa4c8eb2a661606f82027f",
            "_dom_classes": [],
            "description": "Serbia",
            "_model_name": "ToggleButtonModel",
            "button_style": "",
            "_view_module": "@jupyter-widgets/controls",
            "_model_module_version": "1.5.0",
            "tooltip": "",
            "_view_count": null,
            "disabled": false,
            "_view_module_version": "1.5.0",
            "value": false,
            "description_tooltip": null,
            "_model_module": "@jupyter-widgets/controls",
            "layout": "IPY_MODEL_ad7a7812279444eea5cd22c15f0f42fb",
            "icon": ""
          }
        },
        "18c8293c810a41cd9eba9c31093c9bef": {
          "model_module": "@jupyter-widgets/controls",
          "model_name": "ToggleButtonModel",
          "state": {
            "_view_name": "ToggleButtonView",
            "style": "IPY_MODEL_978f8219440c475fb5ae03b568c583b8",
            "_dom_classes": [],
            "description": "Slovakia",
            "_model_name": "ToggleButtonModel",
            "button_style": "",
            "_view_module": "@jupyter-widgets/controls",
            "_model_module_version": "1.5.0",
            "tooltip": "",
            "_view_count": null,
            "disabled": false,
            "_view_module_version": "1.5.0",
            "value": false,
            "description_tooltip": null,
            "_model_module": "@jupyter-widgets/controls",
            "layout": "IPY_MODEL_5a02f3e681bb4271a31f3213d2c56f20",
            "icon": ""
          }
        },
        "64e3c6cd8d334d96a7beaa7860010e83": {
          "model_module": "@jupyter-widgets/controls",
          "model_name": "ToggleButtonModel",
          "state": {
            "_view_name": "ToggleButtonView",
            "style": "IPY_MODEL_a03d191efac0411395fe9b501dbf3379",
            "_dom_classes": [],
            "description": "Slovenia",
            "_model_name": "ToggleButtonModel",
            "button_style": "",
            "_view_module": "@jupyter-widgets/controls",
            "_model_module_version": "1.5.0",
            "tooltip": "",
            "_view_count": null,
            "disabled": false,
            "_view_module_version": "1.5.0",
            "value": false,
            "description_tooltip": null,
            "_model_module": "@jupyter-widgets/controls",
            "layout": "IPY_MODEL_1a047864510c45a88f9ab6c8cb3c5182",
            "icon": ""
          }
        },
        "e9fb64b4f0564f4ba38bb68307430237": {
          "model_module": "@jupyter-widgets/controls",
          "model_name": "ToggleButtonModel",
          "state": {
            "_view_name": "ToggleButtonView",
            "style": "IPY_MODEL_9bfeed6669524b798a08106c24302b8a",
            "_dom_classes": [],
            "description": "Spain",
            "_model_name": "ToggleButtonModel",
            "button_style": "",
            "_view_module": "@jupyter-widgets/controls",
            "_model_module_version": "1.5.0",
            "tooltip": "",
            "_view_count": null,
            "disabled": false,
            "_view_module_version": "1.5.0",
            "value": false,
            "description_tooltip": null,
            "_model_module": "@jupyter-widgets/controls",
            "layout": "IPY_MODEL_3581b153183741db83836331fd8a7fa1",
            "icon": ""
          }
        },
        "b750f5f06d2e46f8955f5985f1503139": {
          "model_module": "@jupyter-widgets/controls",
          "model_name": "ToggleButtonModel",
          "state": {
            "_view_name": "ToggleButtonView",
            "style": "IPY_MODEL_87700ba7e6d94ac5b5940a09632efea2",
            "_dom_classes": [],
            "description": "Sweden",
            "_model_name": "ToggleButtonModel",
            "button_style": "",
            "_view_module": "@jupyter-widgets/controls",
            "_model_module_version": "1.5.0",
            "tooltip": "",
            "_view_count": null,
            "disabled": false,
            "_view_module_version": "1.5.0",
            "value": false,
            "description_tooltip": null,
            "_model_module": "@jupyter-widgets/controls",
            "layout": "IPY_MODEL_1b2e7a0ad7d64384bc785868f10c39b6",
            "icon": ""
          }
        },
        "01e9ef9d8c504b64b1cd8354e73351bf": {
          "model_module": "@jupyter-widgets/controls",
          "model_name": "ToggleButtonModel",
          "state": {
            "_view_name": "ToggleButtonView",
            "style": "IPY_MODEL_dd52f81fec234346aec5fd5baa1e8190",
            "_dom_classes": [],
            "description": "Switzerland",
            "_model_name": "ToggleButtonModel",
            "button_style": "",
            "_view_module": "@jupyter-widgets/controls",
            "_model_module_version": "1.5.0",
            "tooltip": "",
            "_view_count": null,
            "disabled": false,
            "_view_module_version": "1.5.0",
            "value": false,
            "description_tooltip": null,
            "_model_module": "@jupyter-widgets/controls",
            "layout": "IPY_MODEL_5f3e4545227f4359b731511a6afa28e8",
            "icon": ""
          }
        },
        "71289a9195184352bb762c678243c6c9": {
          "model_module": "@jupyter-widgets/controls",
          "model_name": "ToggleButtonModel",
          "state": {
            "_view_name": "ToggleButtonView",
            "style": "IPY_MODEL_d43c78ae2d484119b75014f5eb0ba552",
            "_dom_classes": [],
            "description": "Turkey",
            "_model_name": "ToggleButtonModel",
            "button_style": "",
            "_view_module": "@jupyter-widgets/controls",
            "_model_module_version": "1.5.0",
            "tooltip": "",
            "_view_count": null,
            "disabled": false,
            "_view_module_version": "1.5.0",
            "value": false,
            "description_tooltip": null,
            "_model_module": "@jupyter-widgets/controls",
            "layout": "IPY_MODEL_84ca8f28661646f585957f57f97d11fd",
            "icon": ""
          }
        },
        "32c0e5b2558a452c8760e189d89e56f7": {
          "model_module": "@jupyter-widgets/controls",
          "model_name": "ToggleButtonModel",
          "state": {
            "_view_name": "ToggleButtonView",
            "style": "IPY_MODEL_52401f7877bf4735ac69d1e746a4e15e",
            "_dom_classes": [],
            "description": "UK",
            "_model_name": "ToggleButtonModel",
            "button_style": "",
            "_view_module": "@jupyter-widgets/controls",
            "_model_module_version": "1.5.0",
            "tooltip": "",
            "_view_count": null,
            "disabled": false,
            "_view_module_version": "1.5.0",
            "value": false,
            "description_tooltip": null,
            "_model_module": "@jupyter-widgets/controls",
            "layout": "IPY_MODEL_96614eed352d401e98b8e09deea73d57",
            "icon": ""
          }
        },
        "d9c79c8ec42e442388539387c3867afb": {
          "model_module": "@jupyter-widgets/controls",
          "model_name": "ToggleButtonModel",
          "state": {
            "_view_name": "ToggleButtonView",
            "style": "IPY_MODEL_23a740171d194b868cff542bd5c15df4",
            "_dom_classes": [],
            "description": "Ukraine",
            "_model_name": "ToggleButtonModel",
            "button_style": "",
            "_view_module": "@jupyter-widgets/controls",
            "_model_module_version": "1.5.0",
            "tooltip": "",
            "_view_count": null,
            "disabled": false,
            "_view_module_version": "1.5.0",
            "value": false,
            "description_tooltip": null,
            "_model_module": "@jupyter-widgets/controls",
            "layout": "IPY_MODEL_cd8b213e2387403b922c6292a33dff0d",
            "icon": ""
          }
        },
        "6f62f1037cd542118c3e40bc296ac093": {
          "model_module": "@jupyter-widgets/controls",
          "model_name": "ToggleButtonModel",
          "state": {
            "_view_name": "ToggleButtonView",
            "style": "IPY_MODEL_9d373388b50c41f7915c9fc5e9c0258d",
            "_dom_classes": [],
            "description": "United Kingdom",
            "_model_name": "ToggleButtonModel",
            "button_style": "",
            "_view_module": "@jupyter-widgets/controls",
            "_model_module_version": "1.5.0",
            "tooltip": "",
            "_view_count": null,
            "disabled": false,
            "_view_module_version": "1.5.0",
            "value": false,
            "description_tooltip": null,
            "_model_module": "@jupyter-widgets/controls",
            "layout": "IPY_MODEL_e41c9b7cc04043a5ad8444419da72a61",
            "icon": ""
          }
        },
        "4bef2ad6242b4e27b3f1622cdd5265ab": {
          "model_module": "@jupyter-widgets/controls",
          "model_name": "DescriptionStyleModel",
          "state": {
            "_view_name": "StyleView",
            "_model_name": "DescriptionStyleModel",
            "description_width": "",
            "_view_module": "@jupyter-widgets/base",
            "_model_module_version": "1.5.0",
            "_view_count": null,
            "_view_module_version": "1.2.0",
            "_model_module": "@jupyter-widgets/controls"
          }
        },
        "2592a8fa23c34ce88fc0a00a892c84d2": {
          "model_module": "@jupyter-widgets/base",
          "model_name": "LayoutModel",
          "state": {
            "_view_name": "LayoutView",
            "grid_template_rows": null,
            "right": null,
            "justify_content": null,
            "_view_module": "@jupyter-widgets/base",
            "overflow": null,
            "_model_module_version": "1.2.0",
            "_view_count": null,
            "flex_flow": null,
            "width": null,
            "min_width": null,
            "border": null,
            "align_items": null,
            "bottom": null,
            "_model_module": "@jupyter-widgets/base",
            "top": null,
            "grid_column": null,
            "overflow_y": null,
            "overflow_x": null,
            "grid_auto_flow": null,
            "grid_area": null,
            "grid_template_columns": null,
            "flex": null,
            "_model_name": "LayoutModel",
            "justify_items": null,
            "grid_row": null,
            "max_height": null,
            "align_content": null,
            "visibility": null,
            "align_self": null,
            "height": null,
            "min_height": null,
            "padding": null,
            "grid_auto_rows": null,
            "grid_gap": null,
            "max_width": null,
            "order": null,
            "_view_module_version": "1.2.0",
            "grid_template_areas": null,
            "object_position": null,
            "object_fit": null,
            "grid_auto_columns": null,
            "margin": null,
            "display": null,
            "left": null
          }
        },
        "63527c363fce4d7ba2075df85d8cce40": {
          "model_module": "@jupyter-widgets/controls",
          "model_name": "DescriptionStyleModel",
          "state": {
            "_view_name": "StyleView",
            "_model_name": "DescriptionStyleModel",
            "description_width": "",
            "_view_module": "@jupyter-widgets/base",
            "_model_module_version": "1.5.0",
            "_view_count": null,
            "_view_module_version": "1.2.0",
            "_model_module": "@jupyter-widgets/controls"
          }
        },
        "aa0a435a909e46d19018b4ffab2e8ab3": {
          "model_module": "@jupyter-widgets/base",
          "model_name": "LayoutModel",
          "state": {
            "_view_name": "LayoutView",
            "grid_template_rows": null,
            "right": null,
            "justify_content": null,
            "_view_module": "@jupyter-widgets/base",
            "overflow": null,
            "_model_module_version": "1.2.0",
            "_view_count": null,
            "flex_flow": null,
            "width": null,
            "min_width": null,
            "border": null,
            "align_items": null,
            "bottom": null,
            "_model_module": "@jupyter-widgets/base",
            "top": null,
            "grid_column": null,
            "overflow_y": null,
            "overflow_x": null,
            "grid_auto_flow": null,
            "grid_area": null,
            "grid_template_columns": null,
            "flex": null,
            "_model_name": "LayoutModel",
            "justify_items": null,
            "grid_row": null,
            "max_height": null,
            "align_content": null,
            "visibility": null,
            "align_self": null,
            "height": null,
            "min_height": null,
            "padding": null,
            "grid_auto_rows": null,
            "grid_gap": null,
            "max_width": null,
            "order": null,
            "_view_module_version": "1.2.0",
            "grid_template_areas": null,
            "object_position": null,
            "object_fit": null,
            "grid_auto_columns": null,
            "margin": null,
            "display": null,
            "left": null
          }
        },
        "57886f879d5f4030aaccd3d50f2f224b": {
          "model_module": "@jupyter-widgets/controls",
          "model_name": "DescriptionStyleModel",
          "state": {
            "_view_name": "StyleView",
            "_model_name": "DescriptionStyleModel",
            "description_width": "",
            "_view_module": "@jupyter-widgets/base",
            "_model_module_version": "1.5.0",
            "_view_count": null,
            "_view_module_version": "1.2.0",
            "_model_module": "@jupyter-widgets/controls"
          }
        },
        "78f13c6f2f4b4889bd50ec41155e5746": {
          "model_module": "@jupyter-widgets/base",
          "model_name": "LayoutModel",
          "state": {
            "_view_name": "LayoutView",
            "grid_template_rows": null,
            "right": null,
            "justify_content": null,
            "_view_module": "@jupyter-widgets/base",
            "overflow": null,
            "_model_module_version": "1.2.0",
            "_view_count": null,
            "flex_flow": null,
            "width": null,
            "min_width": null,
            "border": null,
            "align_items": null,
            "bottom": null,
            "_model_module": "@jupyter-widgets/base",
            "top": null,
            "grid_column": null,
            "overflow_y": null,
            "overflow_x": null,
            "grid_auto_flow": null,
            "grid_area": null,
            "grid_template_columns": null,
            "flex": null,
            "_model_name": "LayoutModel",
            "justify_items": null,
            "grid_row": null,
            "max_height": null,
            "align_content": null,
            "visibility": null,
            "align_self": null,
            "height": null,
            "min_height": null,
            "padding": null,
            "grid_auto_rows": null,
            "grid_gap": null,
            "max_width": null,
            "order": null,
            "_view_module_version": "1.2.0",
            "grid_template_areas": null,
            "object_position": null,
            "object_fit": null,
            "grid_auto_columns": null,
            "margin": null,
            "display": null,
            "left": null
          }
        },
        "725574034bf5450099345bc5bfe0129d": {
          "model_module": "@jupyter-widgets/controls",
          "model_name": "DescriptionStyleModel",
          "state": {
            "_view_name": "StyleView",
            "_model_name": "DescriptionStyleModel",
            "description_width": "",
            "_view_module": "@jupyter-widgets/base",
            "_model_module_version": "1.5.0",
            "_view_count": null,
            "_view_module_version": "1.2.0",
            "_model_module": "@jupyter-widgets/controls"
          }
        },
        "e857535ebecb46ee93e82ac8638fc49f": {
          "model_module": "@jupyter-widgets/base",
          "model_name": "LayoutModel",
          "state": {
            "_view_name": "LayoutView",
            "grid_template_rows": null,
            "right": null,
            "justify_content": null,
            "_view_module": "@jupyter-widgets/base",
            "overflow": null,
            "_model_module_version": "1.2.0",
            "_view_count": null,
            "flex_flow": null,
            "width": null,
            "min_width": null,
            "border": null,
            "align_items": null,
            "bottom": null,
            "_model_module": "@jupyter-widgets/base",
            "top": null,
            "grid_column": null,
            "overflow_y": null,
            "overflow_x": null,
            "grid_auto_flow": null,
            "grid_area": null,
            "grid_template_columns": null,
            "flex": null,
            "_model_name": "LayoutModel",
            "justify_items": null,
            "grid_row": null,
            "max_height": null,
            "align_content": null,
            "visibility": null,
            "align_self": null,
            "height": null,
            "min_height": null,
            "padding": null,
            "grid_auto_rows": null,
            "grid_gap": null,
            "max_width": null,
            "order": null,
            "_view_module_version": "1.2.0",
            "grid_template_areas": null,
            "object_position": null,
            "object_fit": null,
            "grid_auto_columns": null,
            "margin": null,
            "display": null,
            "left": null
          }
        },
        "7012165197ea46cba3ccfbdac20c2e27": {
          "model_module": "@jupyter-widgets/controls",
          "model_name": "DescriptionStyleModel",
          "state": {
            "_view_name": "StyleView",
            "_model_name": "DescriptionStyleModel",
            "description_width": "",
            "_view_module": "@jupyter-widgets/base",
            "_model_module_version": "1.5.0",
            "_view_count": null,
            "_view_module_version": "1.2.0",
            "_model_module": "@jupyter-widgets/controls"
          }
        },
        "de90895860434757aa9d971847cf6a05": {
          "model_module": "@jupyter-widgets/base",
          "model_name": "LayoutModel",
          "state": {
            "_view_name": "LayoutView",
            "grid_template_rows": null,
            "right": null,
            "justify_content": null,
            "_view_module": "@jupyter-widgets/base",
            "overflow": null,
            "_model_module_version": "1.2.0",
            "_view_count": null,
            "flex_flow": null,
            "width": null,
            "min_width": null,
            "border": null,
            "align_items": null,
            "bottom": null,
            "_model_module": "@jupyter-widgets/base",
            "top": null,
            "grid_column": null,
            "overflow_y": null,
            "overflow_x": null,
            "grid_auto_flow": null,
            "grid_area": null,
            "grid_template_columns": null,
            "flex": null,
            "_model_name": "LayoutModel",
            "justify_items": null,
            "grid_row": null,
            "max_height": null,
            "align_content": null,
            "visibility": null,
            "align_self": null,
            "height": null,
            "min_height": null,
            "padding": null,
            "grid_auto_rows": null,
            "grid_gap": null,
            "max_width": null,
            "order": null,
            "_view_module_version": "1.2.0",
            "grid_template_areas": null,
            "object_position": null,
            "object_fit": null,
            "grid_auto_columns": null,
            "margin": null,
            "display": null,
            "left": null
          }
        },
        "427a1a79a34147a7ac9b31f78c9db135": {
          "model_module": "@jupyter-widgets/controls",
          "model_name": "DescriptionStyleModel",
          "state": {
            "_view_name": "StyleView",
            "_model_name": "DescriptionStyleModel",
            "description_width": "",
            "_view_module": "@jupyter-widgets/base",
            "_model_module_version": "1.5.0",
            "_view_count": null,
            "_view_module_version": "1.2.0",
            "_model_module": "@jupyter-widgets/controls"
          }
        },
        "16519cb3804e43318ee6e93b18b5fa9e": {
          "model_module": "@jupyter-widgets/base",
          "model_name": "LayoutModel",
          "state": {
            "_view_name": "LayoutView",
            "grid_template_rows": null,
            "right": null,
            "justify_content": null,
            "_view_module": "@jupyter-widgets/base",
            "overflow": null,
            "_model_module_version": "1.2.0",
            "_view_count": null,
            "flex_flow": null,
            "width": null,
            "min_width": null,
            "border": null,
            "align_items": null,
            "bottom": null,
            "_model_module": "@jupyter-widgets/base",
            "top": null,
            "grid_column": null,
            "overflow_y": null,
            "overflow_x": null,
            "grid_auto_flow": null,
            "grid_area": null,
            "grid_template_columns": null,
            "flex": null,
            "_model_name": "LayoutModel",
            "justify_items": null,
            "grid_row": null,
            "max_height": null,
            "align_content": null,
            "visibility": null,
            "align_self": null,
            "height": null,
            "min_height": null,
            "padding": null,
            "grid_auto_rows": null,
            "grid_gap": null,
            "max_width": null,
            "order": null,
            "_view_module_version": "1.2.0",
            "grid_template_areas": null,
            "object_position": null,
            "object_fit": null,
            "grid_auto_columns": null,
            "margin": null,
            "display": null,
            "left": null
          }
        },
        "0b5ac283199a4e6ba0926c534d9b3984": {
          "model_module": "@jupyter-widgets/controls",
          "model_name": "DescriptionStyleModel",
          "state": {
            "_view_name": "StyleView",
            "_model_name": "DescriptionStyleModel",
            "description_width": "",
            "_view_module": "@jupyter-widgets/base",
            "_model_module_version": "1.5.0",
            "_view_count": null,
            "_view_module_version": "1.2.0",
            "_model_module": "@jupyter-widgets/controls"
          }
        },
        "42307337c57c45dca11038b299c3cdfa": {
          "model_module": "@jupyter-widgets/base",
          "model_name": "LayoutModel",
          "state": {
            "_view_name": "LayoutView",
            "grid_template_rows": null,
            "right": null,
            "justify_content": null,
            "_view_module": "@jupyter-widgets/base",
            "overflow": null,
            "_model_module_version": "1.2.0",
            "_view_count": null,
            "flex_flow": null,
            "width": null,
            "min_width": null,
            "border": null,
            "align_items": null,
            "bottom": null,
            "_model_module": "@jupyter-widgets/base",
            "top": null,
            "grid_column": null,
            "overflow_y": null,
            "overflow_x": null,
            "grid_auto_flow": null,
            "grid_area": null,
            "grid_template_columns": null,
            "flex": null,
            "_model_name": "LayoutModel",
            "justify_items": null,
            "grid_row": null,
            "max_height": null,
            "align_content": null,
            "visibility": null,
            "align_self": null,
            "height": null,
            "min_height": null,
            "padding": null,
            "grid_auto_rows": null,
            "grid_gap": null,
            "max_width": null,
            "order": null,
            "_view_module_version": "1.2.0",
            "grid_template_areas": null,
            "object_position": null,
            "object_fit": null,
            "grid_auto_columns": null,
            "margin": null,
            "display": null,
            "left": null
          }
        },
        "052cf338244045709d41c03377858f01": {
          "model_module": "@jupyter-widgets/controls",
          "model_name": "DescriptionStyleModel",
          "state": {
            "_view_name": "StyleView",
            "_model_name": "DescriptionStyleModel",
            "description_width": "",
            "_view_module": "@jupyter-widgets/base",
            "_model_module_version": "1.5.0",
            "_view_count": null,
            "_view_module_version": "1.2.0",
            "_model_module": "@jupyter-widgets/controls"
          }
        },
        "23196341e9364f549a564da5c8735aac": {
          "model_module": "@jupyter-widgets/base",
          "model_name": "LayoutModel",
          "state": {
            "_view_name": "LayoutView",
            "grid_template_rows": null,
            "right": null,
            "justify_content": null,
            "_view_module": "@jupyter-widgets/base",
            "overflow": null,
            "_model_module_version": "1.2.0",
            "_view_count": null,
            "flex_flow": null,
            "width": null,
            "min_width": null,
            "border": null,
            "align_items": null,
            "bottom": null,
            "_model_module": "@jupyter-widgets/base",
            "top": null,
            "grid_column": null,
            "overflow_y": null,
            "overflow_x": null,
            "grid_auto_flow": null,
            "grid_area": null,
            "grid_template_columns": null,
            "flex": null,
            "_model_name": "LayoutModel",
            "justify_items": null,
            "grid_row": null,
            "max_height": null,
            "align_content": null,
            "visibility": null,
            "align_self": null,
            "height": null,
            "min_height": null,
            "padding": null,
            "grid_auto_rows": null,
            "grid_gap": null,
            "max_width": null,
            "order": null,
            "_view_module_version": "1.2.0",
            "grid_template_areas": null,
            "object_position": null,
            "object_fit": null,
            "grid_auto_columns": null,
            "margin": null,
            "display": null,
            "left": null
          }
        },
        "1e34c641d5fd4facb07ddf242fefbd47": {
          "model_module": "@jupyter-widgets/controls",
          "model_name": "DescriptionStyleModel",
          "state": {
            "_view_name": "StyleView",
            "_model_name": "DescriptionStyleModel",
            "description_width": "",
            "_view_module": "@jupyter-widgets/base",
            "_model_module_version": "1.5.0",
            "_view_count": null,
            "_view_module_version": "1.2.0",
            "_model_module": "@jupyter-widgets/controls"
          }
        },
        "f4e52a291afd47afa35913c0b52f41bd": {
          "model_module": "@jupyter-widgets/base",
          "model_name": "LayoutModel",
          "state": {
            "_view_name": "LayoutView",
            "grid_template_rows": null,
            "right": null,
            "justify_content": null,
            "_view_module": "@jupyter-widgets/base",
            "overflow": null,
            "_model_module_version": "1.2.0",
            "_view_count": null,
            "flex_flow": null,
            "width": null,
            "min_width": null,
            "border": null,
            "align_items": null,
            "bottom": null,
            "_model_module": "@jupyter-widgets/base",
            "top": null,
            "grid_column": null,
            "overflow_y": null,
            "overflow_x": null,
            "grid_auto_flow": null,
            "grid_area": null,
            "grid_template_columns": null,
            "flex": null,
            "_model_name": "LayoutModel",
            "justify_items": null,
            "grid_row": null,
            "max_height": null,
            "align_content": null,
            "visibility": null,
            "align_self": null,
            "height": null,
            "min_height": null,
            "padding": null,
            "grid_auto_rows": null,
            "grid_gap": null,
            "max_width": null,
            "order": null,
            "_view_module_version": "1.2.0",
            "grid_template_areas": null,
            "object_position": null,
            "object_fit": null,
            "grid_auto_columns": null,
            "margin": null,
            "display": null,
            "left": null
          }
        },
        "8688678d248e442fb2f00c5d538b22f4": {
          "model_module": "@jupyter-widgets/controls",
          "model_name": "DescriptionStyleModel",
          "state": {
            "_view_name": "StyleView",
            "_model_name": "DescriptionStyleModel",
            "description_width": "",
            "_view_module": "@jupyter-widgets/base",
            "_model_module_version": "1.5.0",
            "_view_count": null,
            "_view_module_version": "1.2.0",
            "_model_module": "@jupyter-widgets/controls"
          }
        },
        "19d5af26873f44d5a11a836d15b14935": {
          "model_module": "@jupyter-widgets/base",
          "model_name": "LayoutModel",
          "state": {
            "_view_name": "LayoutView",
            "grid_template_rows": null,
            "right": null,
            "justify_content": null,
            "_view_module": "@jupyter-widgets/base",
            "overflow": null,
            "_model_module_version": "1.2.0",
            "_view_count": null,
            "flex_flow": null,
            "width": null,
            "min_width": null,
            "border": null,
            "align_items": null,
            "bottom": null,
            "_model_module": "@jupyter-widgets/base",
            "top": null,
            "grid_column": null,
            "overflow_y": null,
            "overflow_x": null,
            "grid_auto_flow": null,
            "grid_area": null,
            "grid_template_columns": null,
            "flex": null,
            "_model_name": "LayoutModel",
            "justify_items": null,
            "grid_row": null,
            "max_height": null,
            "align_content": null,
            "visibility": null,
            "align_self": null,
            "height": null,
            "min_height": null,
            "padding": null,
            "grid_auto_rows": null,
            "grid_gap": null,
            "max_width": null,
            "order": null,
            "_view_module_version": "1.2.0",
            "grid_template_areas": null,
            "object_position": null,
            "object_fit": null,
            "grid_auto_columns": null,
            "margin": null,
            "display": null,
            "left": null
          }
        },
        "58489a6289ab49f7a2e451d20e60c26e": {
          "model_module": "@jupyter-widgets/controls",
          "model_name": "DescriptionStyleModel",
          "state": {
            "_view_name": "StyleView",
            "_model_name": "DescriptionStyleModel",
            "description_width": "",
            "_view_module": "@jupyter-widgets/base",
            "_model_module_version": "1.5.0",
            "_view_count": null,
            "_view_module_version": "1.2.0",
            "_model_module": "@jupyter-widgets/controls"
          }
        },
        "f8bcd32a7fa249e3aedae2a621139363": {
          "model_module": "@jupyter-widgets/base",
          "model_name": "LayoutModel",
          "state": {
            "_view_name": "LayoutView",
            "grid_template_rows": null,
            "right": null,
            "justify_content": null,
            "_view_module": "@jupyter-widgets/base",
            "overflow": null,
            "_model_module_version": "1.2.0",
            "_view_count": null,
            "flex_flow": null,
            "width": null,
            "min_width": null,
            "border": null,
            "align_items": null,
            "bottom": null,
            "_model_module": "@jupyter-widgets/base",
            "top": null,
            "grid_column": null,
            "overflow_y": null,
            "overflow_x": null,
            "grid_auto_flow": null,
            "grid_area": null,
            "grid_template_columns": null,
            "flex": null,
            "_model_name": "LayoutModel",
            "justify_items": null,
            "grid_row": null,
            "max_height": null,
            "align_content": null,
            "visibility": null,
            "align_self": null,
            "height": null,
            "min_height": null,
            "padding": null,
            "grid_auto_rows": null,
            "grid_gap": null,
            "max_width": null,
            "order": null,
            "_view_module_version": "1.2.0",
            "grid_template_areas": null,
            "object_position": null,
            "object_fit": null,
            "grid_auto_columns": null,
            "margin": null,
            "display": null,
            "left": null
          }
        },
        "b21c7cd8577a466ab5c0bcaa9811011e": {
          "model_module": "@jupyter-widgets/controls",
          "model_name": "DescriptionStyleModel",
          "state": {
            "_view_name": "StyleView",
            "_model_name": "DescriptionStyleModel",
            "description_width": "",
            "_view_module": "@jupyter-widgets/base",
            "_model_module_version": "1.5.0",
            "_view_count": null,
            "_view_module_version": "1.2.0",
            "_model_module": "@jupyter-widgets/controls"
          }
        },
        "0411acf1c5ad4c21b3da50ba05449f54": {
          "model_module": "@jupyter-widgets/base",
          "model_name": "LayoutModel",
          "state": {
            "_view_name": "LayoutView",
            "grid_template_rows": null,
            "right": null,
            "justify_content": null,
            "_view_module": "@jupyter-widgets/base",
            "overflow": null,
            "_model_module_version": "1.2.0",
            "_view_count": null,
            "flex_flow": null,
            "width": null,
            "min_width": null,
            "border": null,
            "align_items": null,
            "bottom": null,
            "_model_module": "@jupyter-widgets/base",
            "top": null,
            "grid_column": null,
            "overflow_y": null,
            "overflow_x": null,
            "grid_auto_flow": null,
            "grid_area": null,
            "grid_template_columns": null,
            "flex": null,
            "_model_name": "LayoutModel",
            "justify_items": null,
            "grid_row": null,
            "max_height": null,
            "align_content": null,
            "visibility": null,
            "align_self": null,
            "height": null,
            "min_height": null,
            "padding": null,
            "grid_auto_rows": null,
            "grid_gap": null,
            "max_width": null,
            "order": null,
            "_view_module_version": "1.2.0",
            "grid_template_areas": null,
            "object_position": null,
            "object_fit": null,
            "grid_auto_columns": null,
            "margin": null,
            "display": null,
            "left": null
          }
        },
        "a7a2d5baba4241419d50a8010902fd44": {
          "model_module": "@jupyter-widgets/controls",
          "model_name": "DescriptionStyleModel",
          "state": {
            "_view_name": "StyleView",
            "_model_name": "DescriptionStyleModel",
            "description_width": "",
            "_view_module": "@jupyter-widgets/base",
            "_model_module_version": "1.5.0",
            "_view_count": null,
            "_view_module_version": "1.2.0",
            "_model_module": "@jupyter-widgets/controls"
          }
        },
        "123df0e163aa48fa8fa950df0b855986": {
          "model_module": "@jupyter-widgets/base",
          "model_name": "LayoutModel",
          "state": {
            "_view_name": "LayoutView",
            "grid_template_rows": null,
            "right": null,
            "justify_content": null,
            "_view_module": "@jupyter-widgets/base",
            "overflow": null,
            "_model_module_version": "1.2.0",
            "_view_count": null,
            "flex_flow": null,
            "width": null,
            "min_width": null,
            "border": null,
            "align_items": null,
            "bottom": null,
            "_model_module": "@jupyter-widgets/base",
            "top": null,
            "grid_column": null,
            "overflow_y": null,
            "overflow_x": null,
            "grid_auto_flow": null,
            "grid_area": null,
            "grid_template_columns": null,
            "flex": null,
            "_model_name": "LayoutModel",
            "justify_items": null,
            "grid_row": null,
            "max_height": null,
            "align_content": null,
            "visibility": null,
            "align_self": null,
            "height": null,
            "min_height": null,
            "padding": null,
            "grid_auto_rows": null,
            "grid_gap": null,
            "max_width": null,
            "order": null,
            "_view_module_version": "1.2.0",
            "grid_template_areas": null,
            "object_position": null,
            "object_fit": null,
            "grid_auto_columns": null,
            "margin": null,
            "display": null,
            "left": null
          }
        },
        "117852ed2d314ae89e9e0eb047cba9f8": {
          "model_module": "@jupyter-widgets/controls",
          "model_name": "DescriptionStyleModel",
          "state": {
            "_view_name": "StyleView",
            "_model_name": "DescriptionStyleModel",
            "description_width": "",
            "_view_module": "@jupyter-widgets/base",
            "_model_module_version": "1.5.0",
            "_view_count": null,
            "_view_module_version": "1.2.0",
            "_model_module": "@jupyter-widgets/controls"
          }
        },
        "4d8ca9559038444b94b2e44745bc9c00": {
          "model_module": "@jupyter-widgets/base",
          "model_name": "LayoutModel",
          "state": {
            "_view_name": "LayoutView",
            "grid_template_rows": null,
            "right": null,
            "justify_content": null,
            "_view_module": "@jupyter-widgets/base",
            "overflow": null,
            "_model_module_version": "1.2.0",
            "_view_count": null,
            "flex_flow": null,
            "width": null,
            "min_width": null,
            "border": null,
            "align_items": null,
            "bottom": null,
            "_model_module": "@jupyter-widgets/base",
            "top": null,
            "grid_column": null,
            "overflow_y": null,
            "overflow_x": null,
            "grid_auto_flow": null,
            "grid_area": null,
            "grid_template_columns": null,
            "flex": null,
            "_model_name": "LayoutModel",
            "justify_items": null,
            "grid_row": null,
            "max_height": null,
            "align_content": null,
            "visibility": null,
            "align_self": null,
            "height": null,
            "min_height": null,
            "padding": null,
            "grid_auto_rows": null,
            "grid_gap": null,
            "max_width": null,
            "order": null,
            "_view_module_version": "1.2.0",
            "grid_template_areas": null,
            "object_position": null,
            "object_fit": null,
            "grid_auto_columns": null,
            "margin": null,
            "display": null,
            "left": null
          }
        },
        "3016df000027449e9985c69e541ad34b": {
          "model_module": "@jupyter-widgets/controls",
          "model_name": "DescriptionStyleModel",
          "state": {
            "_view_name": "StyleView",
            "_model_name": "DescriptionStyleModel",
            "description_width": "",
            "_view_module": "@jupyter-widgets/base",
            "_model_module_version": "1.5.0",
            "_view_count": null,
            "_view_module_version": "1.2.0",
            "_model_module": "@jupyter-widgets/controls"
          }
        },
        "8fff1e0d5d6f435097df0e75ecf4b288": {
          "model_module": "@jupyter-widgets/base",
          "model_name": "LayoutModel",
          "state": {
            "_view_name": "LayoutView",
            "grid_template_rows": null,
            "right": null,
            "justify_content": null,
            "_view_module": "@jupyter-widgets/base",
            "overflow": null,
            "_model_module_version": "1.2.0",
            "_view_count": null,
            "flex_flow": null,
            "width": null,
            "min_width": null,
            "border": null,
            "align_items": null,
            "bottom": null,
            "_model_module": "@jupyter-widgets/base",
            "top": null,
            "grid_column": null,
            "overflow_y": null,
            "overflow_x": null,
            "grid_auto_flow": null,
            "grid_area": null,
            "grid_template_columns": null,
            "flex": null,
            "_model_name": "LayoutModel",
            "justify_items": null,
            "grid_row": null,
            "max_height": null,
            "align_content": null,
            "visibility": null,
            "align_self": null,
            "height": null,
            "min_height": null,
            "padding": null,
            "grid_auto_rows": null,
            "grid_gap": null,
            "max_width": null,
            "order": null,
            "_view_module_version": "1.2.0",
            "grid_template_areas": null,
            "object_position": null,
            "object_fit": null,
            "grid_auto_columns": null,
            "margin": null,
            "display": null,
            "left": null
          }
        },
        "cfe3af30b351436ab3f1b64d552e7d9b": {
          "model_module": "@jupyter-widgets/controls",
          "model_name": "DescriptionStyleModel",
          "state": {
            "_view_name": "StyleView",
            "_model_name": "DescriptionStyleModel",
            "description_width": "",
            "_view_module": "@jupyter-widgets/base",
            "_model_module_version": "1.5.0",
            "_view_count": null,
            "_view_module_version": "1.2.0",
            "_model_module": "@jupyter-widgets/controls"
          }
        },
        "992301d0723749c2bf6e2fc987c89dcf": {
          "model_module": "@jupyter-widgets/base",
          "model_name": "LayoutModel",
          "state": {
            "_view_name": "LayoutView",
            "grid_template_rows": null,
            "right": null,
            "justify_content": null,
            "_view_module": "@jupyter-widgets/base",
            "overflow": null,
            "_model_module_version": "1.2.0",
            "_view_count": null,
            "flex_flow": null,
            "width": null,
            "min_width": null,
            "border": null,
            "align_items": null,
            "bottom": null,
            "_model_module": "@jupyter-widgets/base",
            "top": null,
            "grid_column": null,
            "overflow_y": null,
            "overflow_x": null,
            "grid_auto_flow": null,
            "grid_area": null,
            "grid_template_columns": null,
            "flex": null,
            "_model_name": "LayoutModel",
            "justify_items": null,
            "grid_row": null,
            "max_height": null,
            "align_content": null,
            "visibility": null,
            "align_self": null,
            "height": null,
            "min_height": null,
            "padding": null,
            "grid_auto_rows": null,
            "grid_gap": null,
            "max_width": null,
            "order": null,
            "_view_module_version": "1.2.0",
            "grid_template_areas": null,
            "object_position": null,
            "object_fit": null,
            "grid_auto_columns": null,
            "margin": null,
            "display": null,
            "left": null
          }
        },
        "2b1854ffd0f24f838de1eb253cebad2a": {
          "model_module": "@jupyter-widgets/controls",
          "model_name": "DescriptionStyleModel",
          "state": {
            "_view_name": "StyleView",
            "_model_name": "DescriptionStyleModel",
            "description_width": "",
            "_view_module": "@jupyter-widgets/base",
            "_model_module_version": "1.5.0",
            "_view_count": null,
            "_view_module_version": "1.2.0",
            "_model_module": "@jupyter-widgets/controls"
          }
        },
        "bb90a7cb25634ef5acc4706acd457bb5": {
          "model_module": "@jupyter-widgets/base",
          "model_name": "LayoutModel",
          "state": {
            "_view_name": "LayoutView",
            "grid_template_rows": null,
            "right": null,
            "justify_content": null,
            "_view_module": "@jupyter-widgets/base",
            "overflow": null,
            "_model_module_version": "1.2.0",
            "_view_count": null,
            "flex_flow": null,
            "width": null,
            "min_width": null,
            "border": null,
            "align_items": null,
            "bottom": null,
            "_model_module": "@jupyter-widgets/base",
            "top": null,
            "grid_column": null,
            "overflow_y": null,
            "overflow_x": null,
            "grid_auto_flow": null,
            "grid_area": null,
            "grid_template_columns": null,
            "flex": null,
            "_model_name": "LayoutModel",
            "justify_items": null,
            "grid_row": null,
            "max_height": null,
            "align_content": null,
            "visibility": null,
            "align_self": null,
            "height": null,
            "min_height": null,
            "padding": null,
            "grid_auto_rows": null,
            "grid_gap": null,
            "max_width": null,
            "order": null,
            "_view_module_version": "1.2.0",
            "grid_template_areas": null,
            "object_position": null,
            "object_fit": null,
            "grid_auto_columns": null,
            "margin": null,
            "display": null,
            "left": null
          }
        },
        "1caa54514f294924ad9938cf785fdcf0": {
          "model_module": "@jupyter-widgets/controls",
          "model_name": "DescriptionStyleModel",
          "state": {
            "_view_name": "StyleView",
            "_model_name": "DescriptionStyleModel",
            "description_width": "",
            "_view_module": "@jupyter-widgets/base",
            "_model_module_version": "1.5.0",
            "_view_count": null,
            "_view_module_version": "1.2.0",
            "_model_module": "@jupyter-widgets/controls"
          }
        },
        "d504730a1c9a461d849d396d9e08a823": {
          "model_module": "@jupyter-widgets/base",
          "model_name": "LayoutModel",
          "state": {
            "_view_name": "LayoutView",
            "grid_template_rows": null,
            "right": null,
            "justify_content": null,
            "_view_module": "@jupyter-widgets/base",
            "overflow": null,
            "_model_module_version": "1.2.0",
            "_view_count": null,
            "flex_flow": null,
            "width": null,
            "min_width": null,
            "border": null,
            "align_items": null,
            "bottom": null,
            "_model_module": "@jupyter-widgets/base",
            "top": null,
            "grid_column": null,
            "overflow_y": null,
            "overflow_x": null,
            "grid_auto_flow": null,
            "grid_area": null,
            "grid_template_columns": null,
            "flex": null,
            "_model_name": "LayoutModel",
            "justify_items": null,
            "grid_row": null,
            "max_height": null,
            "align_content": null,
            "visibility": null,
            "align_self": null,
            "height": null,
            "min_height": null,
            "padding": null,
            "grid_auto_rows": null,
            "grid_gap": null,
            "max_width": null,
            "order": null,
            "_view_module_version": "1.2.0",
            "grid_template_areas": null,
            "object_position": null,
            "object_fit": null,
            "grid_auto_columns": null,
            "margin": null,
            "display": null,
            "left": null
          }
        },
        "e2062aad4ed045e5acbd2ef901103b30": {
          "model_module": "@jupyter-widgets/controls",
          "model_name": "DescriptionStyleModel",
          "state": {
            "_view_name": "StyleView",
            "_model_name": "DescriptionStyleModel",
            "description_width": "",
            "_view_module": "@jupyter-widgets/base",
            "_model_module_version": "1.5.0",
            "_view_count": null,
            "_view_module_version": "1.2.0",
            "_model_module": "@jupyter-widgets/controls"
          }
        },
        "1deb284f58a24df8a8e75e3a88a01880": {
          "model_module": "@jupyter-widgets/base",
          "model_name": "LayoutModel",
          "state": {
            "_view_name": "LayoutView",
            "grid_template_rows": null,
            "right": null,
            "justify_content": null,
            "_view_module": "@jupyter-widgets/base",
            "overflow": null,
            "_model_module_version": "1.2.0",
            "_view_count": null,
            "flex_flow": null,
            "width": null,
            "min_width": null,
            "border": null,
            "align_items": null,
            "bottom": null,
            "_model_module": "@jupyter-widgets/base",
            "top": null,
            "grid_column": null,
            "overflow_y": null,
            "overflow_x": null,
            "grid_auto_flow": null,
            "grid_area": null,
            "grid_template_columns": null,
            "flex": null,
            "_model_name": "LayoutModel",
            "justify_items": null,
            "grid_row": null,
            "max_height": null,
            "align_content": null,
            "visibility": null,
            "align_self": null,
            "height": null,
            "min_height": null,
            "padding": null,
            "grid_auto_rows": null,
            "grid_gap": null,
            "max_width": null,
            "order": null,
            "_view_module_version": "1.2.0",
            "grid_template_areas": null,
            "object_position": null,
            "object_fit": null,
            "grid_auto_columns": null,
            "margin": null,
            "display": null,
            "left": null
          }
        },
        "5c1ab5919c524230b09325090d71efdf": {
          "model_module": "@jupyter-widgets/controls",
          "model_name": "DescriptionStyleModel",
          "state": {
            "_view_name": "StyleView",
            "_model_name": "DescriptionStyleModel",
            "description_width": "",
            "_view_module": "@jupyter-widgets/base",
            "_model_module_version": "1.5.0",
            "_view_count": null,
            "_view_module_version": "1.2.0",
            "_model_module": "@jupyter-widgets/controls"
          }
        },
        "c93cd66ec0ec4e8c8a5dd8d6655f60ea": {
          "model_module": "@jupyter-widgets/base",
          "model_name": "LayoutModel",
          "state": {
            "_view_name": "LayoutView",
            "grid_template_rows": null,
            "right": null,
            "justify_content": null,
            "_view_module": "@jupyter-widgets/base",
            "overflow": null,
            "_model_module_version": "1.2.0",
            "_view_count": null,
            "flex_flow": null,
            "width": null,
            "min_width": null,
            "border": null,
            "align_items": null,
            "bottom": null,
            "_model_module": "@jupyter-widgets/base",
            "top": null,
            "grid_column": null,
            "overflow_y": null,
            "overflow_x": null,
            "grid_auto_flow": null,
            "grid_area": null,
            "grid_template_columns": null,
            "flex": null,
            "_model_name": "LayoutModel",
            "justify_items": null,
            "grid_row": null,
            "max_height": null,
            "align_content": null,
            "visibility": null,
            "align_self": null,
            "height": null,
            "min_height": null,
            "padding": null,
            "grid_auto_rows": null,
            "grid_gap": null,
            "max_width": null,
            "order": null,
            "_view_module_version": "1.2.0",
            "grid_template_areas": null,
            "object_position": null,
            "object_fit": null,
            "grid_auto_columns": null,
            "margin": null,
            "display": null,
            "left": null
          }
        },
        "a3190b5dff544a259bc1b6e62cefecfb": {
          "model_module": "@jupyter-widgets/controls",
          "model_name": "DescriptionStyleModel",
          "state": {
            "_view_name": "StyleView",
            "_model_name": "DescriptionStyleModel",
            "description_width": "",
            "_view_module": "@jupyter-widgets/base",
            "_model_module_version": "1.5.0",
            "_view_count": null,
            "_view_module_version": "1.2.0",
            "_model_module": "@jupyter-widgets/controls"
          }
        },
        "10de42fa5d4b442cbb611182a7ba67a7": {
          "model_module": "@jupyter-widgets/base",
          "model_name": "LayoutModel",
          "state": {
            "_view_name": "LayoutView",
            "grid_template_rows": null,
            "right": null,
            "justify_content": null,
            "_view_module": "@jupyter-widgets/base",
            "overflow": null,
            "_model_module_version": "1.2.0",
            "_view_count": null,
            "flex_flow": null,
            "width": null,
            "min_width": null,
            "border": null,
            "align_items": null,
            "bottom": null,
            "_model_module": "@jupyter-widgets/base",
            "top": null,
            "grid_column": null,
            "overflow_y": null,
            "overflow_x": null,
            "grid_auto_flow": null,
            "grid_area": null,
            "grid_template_columns": null,
            "flex": null,
            "_model_name": "LayoutModel",
            "justify_items": null,
            "grid_row": null,
            "max_height": null,
            "align_content": null,
            "visibility": null,
            "align_self": null,
            "height": null,
            "min_height": null,
            "padding": null,
            "grid_auto_rows": null,
            "grid_gap": null,
            "max_width": null,
            "order": null,
            "_view_module_version": "1.2.0",
            "grid_template_areas": null,
            "object_position": null,
            "object_fit": null,
            "grid_auto_columns": null,
            "margin": null,
            "display": null,
            "left": null
          }
        },
        "5e1168d23d894b179d06140aa106c008": {
          "model_module": "@jupyter-widgets/controls",
          "model_name": "DescriptionStyleModel",
          "state": {
            "_view_name": "StyleView",
            "_model_name": "DescriptionStyleModel",
            "description_width": "",
            "_view_module": "@jupyter-widgets/base",
            "_model_module_version": "1.5.0",
            "_view_count": null,
            "_view_module_version": "1.2.0",
            "_model_module": "@jupyter-widgets/controls"
          }
        },
        "0273ef6ffe864ac09cdaffd002ec0346": {
          "model_module": "@jupyter-widgets/base",
          "model_name": "LayoutModel",
          "state": {
            "_view_name": "LayoutView",
            "grid_template_rows": null,
            "right": null,
            "justify_content": null,
            "_view_module": "@jupyter-widgets/base",
            "overflow": null,
            "_model_module_version": "1.2.0",
            "_view_count": null,
            "flex_flow": null,
            "width": null,
            "min_width": null,
            "border": null,
            "align_items": null,
            "bottom": null,
            "_model_module": "@jupyter-widgets/base",
            "top": null,
            "grid_column": null,
            "overflow_y": null,
            "overflow_x": null,
            "grid_auto_flow": null,
            "grid_area": null,
            "grid_template_columns": null,
            "flex": null,
            "_model_name": "LayoutModel",
            "justify_items": null,
            "grid_row": null,
            "max_height": null,
            "align_content": null,
            "visibility": null,
            "align_self": null,
            "height": null,
            "min_height": null,
            "padding": null,
            "grid_auto_rows": null,
            "grid_gap": null,
            "max_width": null,
            "order": null,
            "_view_module_version": "1.2.0",
            "grid_template_areas": null,
            "object_position": null,
            "object_fit": null,
            "grid_auto_columns": null,
            "margin": null,
            "display": null,
            "left": null
          }
        },
        "357e1c933d06446d95ae747f7701540d": {
          "model_module": "@jupyter-widgets/controls",
          "model_name": "DescriptionStyleModel",
          "state": {
            "_view_name": "StyleView",
            "_model_name": "DescriptionStyleModel",
            "description_width": "",
            "_view_module": "@jupyter-widgets/base",
            "_model_module_version": "1.5.0",
            "_view_count": null,
            "_view_module_version": "1.2.0",
            "_model_module": "@jupyter-widgets/controls"
          }
        },
        "bc32770f8dd044c99fef1bce00411f1b": {
          "model_module": "@jupyter-widgets/base",
          "model_name": "LayoutModel",
          "state": {
            "_view_name": "LayoutView",
            "grid_template_rows": null,
            "right": null,
            "justify_content": null,
            "_view_module": "@jupyter-widgets/base",
            "overflow": null,
            "_model_module_version": "1.2.0",
            "_view_count": null,
            "flex_flow": null,
            "width": null,
            "min_width": null,
            "border": null,
            "align_items": null,
            "bottom": null,
            "_model_module": "@jupyter-widgets/base",
            "top": null,
            "grid_column": null,
            "overflow_y": null,
            "overflow_x": null,
            "grid_auto_flow": null,
            "grid_area": null,
            "grid_template_columns": null,
            "flex": null,
            "_model_name": "LayoutModel",
            "justify_items": null,
            "grid_row": null,
            "max_height": null,
            "align_content": null,
            "visibility": null,
            "align_self": null,
            "height": null,
            "min_height": null,
            "padding": null,
            "grid_auto_rows": null,
            "grid_gap": null,
            "max_width": null,
            "order": null,
            "_view_module_version": "1.2.0",
            "grid_template_areas": null,
            "object_position": null,
            "object_fit": null,
            "grid_auto_columns": null,
            "margin": null,
            "display": null,
            "left": null
          }
        },
        "1b42fa052c38496b9781fe92b4aa3051": {
          "model_module": "@jupyter-widgets/controls",
          "model_name": "DescriptionStyleModel",
          "state": {
            "_view_name": "StyleView",
            "_model_name": "DescriptionStyleModel",
            "description_width": "",
            "_view_module": "@jupyter-widgets/base",
            "_model_module_version": "1.5.0",
            "_view_count": null,
            "_view_module_version": "1.2.0",
            "_model_module": "@jupyter-widgets/controls"
          }
        },
        "8f637cdb8fee417eabc39af05a6a9bd3": {
          "model_module": "@jupyter-widgets/base",
          "model_name": "LayoutModel",
          "state": {
            "_view_name": "LayoutView",
            "grid_template_rows": null,
            "right": null,
            "justify_content": null,
            "_view_module": "@jupyter-widgets/base",
            "overflow": null,
            "_model_module_version": "1.2.0",
            "_view_count": null,
            "flex_flow": null,
            "width": null,
            "min_width": null,
            "border": null,
            "align_items": null,
            "bottom": null,
            "_model_module": "@jupyter-widgets/base",
            "top": null,
            "grid_column": null,
            "overflow_y": null,
            "overflow_x": null,
            "grid_auto_flow": null,
            "grid_area": null,
            "grid_template_columns": null,
            "flex": null,
            "_model_name": "LayoutModel",
            "justify_items": null,
            "grid_row": null,
            "max_height": null,
            "align_content": null,
            "visibility": null,
            "align_self": null,
            "height": null,
            "min_height": null,
            "padding": null,
            "grid_auto_rows": null,
            "grid_gap": null,
            "max_width": null,
            "order": null,
            "_view_module_version": "1.2.0",
            "grid_template_areas": null,
            "object_position": null,
            "object_fit": null,
            "grid_auto_columns": null,
            "margin": null,
            "display": null,
            "left": null
          }
        },
        "86fb5aa3c4124db4983c75271663646b": {
          "model_module": "@jupyter-widgets/controls",
          "model_name": "DescriptionStyleModel",
          "state": {
            "_view_name": "StyleView",
            "_model_name": "DescriptionStyleModel",
            "description_width": "",
            "_view_module": "@jupyter-widgets/base",
            "_model_module_version": "1.5.0",
            "_view_count": null,
            "_view_module_version": "1.2.0",
            "_model_module": "@jupyter-widgets/controls"
          }
        },
        "4d0ba5a8142d4c32b04119df00ef463a": {
          "model_module": "@jupyter-widgets/base",
          "model_name": "LayoutModel",
          "state": {
            "_view_name": "LayoutView",
            "grid_template_rows": null,
            "right": null,
            "justify_content": null,
            "_view_module": "@jupyter-widgets/base",
            "overflow": null,
            "_model_module_version": "1.2.0",
            "_view_count": null,
            "flex_flow": null,
            "width": null,
            "min_width": null,
            "border": null,
            "align_items": null,
            "bottom": null,
            "_model_module": "@jupyter-widgets/base",
            "top": null,
            "grid_column": null,
            "overflow_y": null,
            "overflow_x": null,
            "grid_auto_flow": null,
            "grid_area": null,
            "grid_template_columns": null,
            "flex": null,
            "_model_name": "LayoutModel",
            "justify_items": null,
            "grid_row": null,
            "max_height": null,
            "align_content": null,
            "visibility": null,
            "align_self": null,
            "height": null,
            "min_height": null,
            "padding": null,
            "grid_auto_rows": null,
            "grid_gap": null,
            "max_width": null,
            "order": null,
            "_view_module_version": "1.2.0",
            "grid_template_areas": null,
            "object_position": null,
            "object_fit": null,
            "grid_auto_columns": null,
            "margin": null,
            "display": null,
            "left": null
          }
        },
        "8a39131967874b9b927480aabf8a4dba": {
          "model_module": "@jupyter-widgets/controls",
          "model_name": "DescriptionStyleModel",
          "state": {
            "_view_name": "StyleView",
            "_model_name": "DescriptionStyleModel",
            "description_width": "",
            "_view_module": "@jupyter-widgets/base",
            "_model_module_version": "1.5.0",
            "_view_count": null,
            "_view_module_version": "1.2.0",
            "_model_module": "@jupyter-widgets/controls"
          }
        },
        "ca4923865828451ebceb2734f4dd31dd": {
          "model_module": "@jupyter-widgets/base",
          "model_name": "LayoutModel",
          "state": {
            "_view_name": "LayoutView",
            "grid_template_rows": null,
            "right": null,
            "justify_content": null,
            "_view_module": "@jupyter-widgets/base",
            "overflow": null,
            "_model_module_version": "1.2.0",
            "_view_count": null,
            "flex_flow": null,
            "width": null,
            "min_width": null,
            "border": null,
            "align_items": null,
            "bottom": null,
            "_model_module": "@jupyter-widgets/base",
            "top": null,
            "grid_column": null,
            "overflow_y": null,
            "overflow_x": null,
            "grid_auto_flow": null,
            "grid_area": null,
            "grid_template_columns": null,
            "flex": null,
            "_model_name": "LayoutModel",
            "justify_items": null,
            "grid_row": null,
            "max_height": null,
            "align_content": null,
            "visibility": null,
            "align_self": null,
            "height": null,
            "min_height": null,
            "padding": null,
            "grid_auto_rows": null,
            "grid_gap": null,
            "max_width": null,
            "order": null,
            "_view_module_version": "1.2.0",
            "grid_template_areas": null,
            "object_position": null,
            "object_fit": null,
            "grid_auto_columns": null,
            "margin": null,
            "display": null,
            "left": null
          }
        },
        "19d1cbce61dc4fcf85c3d19d6744db36": {
          "model_module": "@jupyter-widgets/controls",
          "model_name": "DescriptionStyleModel",
          "state": {
            "_view_name": "StyleView",
            "_model_name": "DescriptionStyleModel",
            "description_width": "",
            "_view_module": "@jupyter-widgets/base",
            "_model_module_version": "1.5.0",
            "_view_count": null,
            "_view_module_version": "1.2.0",
            "_model_module": "@jupyter-widgets/controls"
          }
        },
        "98ef99063d944b64af7e4da09d797a26": {
          "model_module": "@jupyter-widgets/base",
          "model_name": "LayoutModel",
          "state": {
            "_view_name": "LayoutView",
            "grid_template_rows": null,
            "right": null,
            "justify_content": null,
            "_view_module": "@jupyter-widgets/base",
            "overflow": null,
            "_model_module_version": "1.2.0",
            "_view_count": null,
            "flex_flow": null,
            "width": null,
            "min_width": null,
            "border": null,
            "align_items": null,
            "bottom": null,
            "_model_module": "@jupyter-widgets/base",
            "top": null,
            "grid_column": null,
            "overflow_y": null,
            "overflow_x": null,
            "grid_auto_flow": null,
            "grid_area": null,
            "grid_template_columns": null,
            "flex": null,
            "_model_name": "LayoutModel",
            "justify_items": null,
            "grid_row": null,
            "max_height": null,
            "align_content": null,
            "visibility": null,
            "align_self": null,
            "height": null,
            "min_height": null,
            "padding": null,
            "grid_auto_rows": null,
            "grid_gap": null,
            "max_width": null,
            "order": null,
            "_view_module_version": "1.2.0",
            "grid_template_areas": null,
            "object_position": null,
            "object_fit": null,
            "grid_auto_columns": null,
            "margin": null,
            "display": null,
            "left": null
          }
        },
        "c56e085d3e894836b9b5d34cf8c524d1": {
          "model_module": "@jupyter-widgets/controls",
          "model_name": "DescriptionStyleModel",
          "state": {
            "_view_name": "StyleView",
            "_model_name": "DescriptionStyleModel",
            "description_width": "",
            "_view_module": "@jupyter-widgets/base",
            "_model_module_version": "1.5.0",
            "_view_count": null,
            "_view_module_version": "1.2.0",
            "_model_module": "@jupyter-widgets/controls"
          }
        },
        "354eb17984864fdb80a359da29be8f5f": {
          "model_module": "@jupyter-widgets/base",
          "model_name": "LayoutModel",
          "state": {
            "_view_name": "LayoutView",
            "grid_template_rows": null,
            "right": null,
            "justify_content": null,
            "_view_module": "@jupyter-widgets/base",
            "overflow": null,
            "_model_module_version": "1.2.0",
            "_view_count": null,
            "flex_flow": null,
            "width": null,
            "min_width": null,
            "border": null,
            "align_items": null,
            "bottom": null,
            "_model_module": "@jupyter-widgets/base",
            "top": null,
            "grid_column": null,
            "overflow_y": null,
            "overflow_x": null,
            "grid_auto_flow": null,
            "grid_area": null,
            "grid_template_columns": null,
            "flex": null,
            "_model_name": "LayoutModel",
            "justify_items": null,
            "grid_row": null,
            "max_height": null,
            "align_content": null,
            "visibility": null,
            "align_self": null,
            "height": null,
            "min_height": null,
            "padding": null,
            "grid_auto_rows": null,
            "grid_gap": null,
            "max_width": null,
            "order": null,
            "_view_module_version": "1.2.0",
            "grid_template_areas": null,
            "object_position": null,
            "object_fit": null,
            "grid_auto_columns": null,
            "margin": null,
            "display": null,
            "left": null
          }
        },
        "5e51da69be1845ceb56b926a2540e801": {
          "model_module": "@jupyter-widgets/controls",
          "model_name": "DescriptionStyleModel",
          "state": {
            "_view_name": "StyleView",
            "_model_name": "DescriptionStyleModel",
            "description_width": "",
            "_view_module": "@jupyter-widgets/base",
            "_model_module_version": "1.5.0",
            "_view_count": null,
            "_view_module_version": "1.2.0",
            "_model_module": "@jupyter-widgets/controls"
          }
        },
        "8111b7e36ce44642bee77d23e4514b19": {
          "model_module": "@jupyter-widgets/base",
          "model_name": "LayoutModel",
          "state": {
            "_view_name": "LayoutView",
            "grid_template_rows": null,
            "right": null,
            "justify_content": null,
            "_view_module": "@jupyter-widgets/base",
            "overflow": null,
            "_model_module_version": "1.2.0",
            "_view_count": null,
            "flex_flow": null,
            "width": null,
            "min_width": null,
            "border": null,
            "align_items": null,
            "bottom": null,
            "_model_module": "@jupyter-widgets/base",
            "top": null,
            "grid_column": null,
            "overflow_y": null,
            "overflow_x": null,
            "grid_auto_flow": null,
            "grid_area": null,
            "grid_template_columns": null,
            "flex": null,
            "_model_name": "LayoutModel",
            "justify_items": null,
            "grid_row": null,
            "max_height": null,
            "align_content": null,
            "visibility": null,
            "align_self": null,
            "height": null,
            "min_height": null,
            "padding": null,
            "grid_auto_rows": null,
            "grid_gap": null,
            "max_width": null,
            "order": null,
            "_view_module_version": "1.2.0",
            "grid_template_areas": null,
            "object_position": null,
            "object_fit": null,
            "grid_auto_columns": null,
            "margin": null,
            "display": null,
            "left": null
          }
        },
        "01c139a89a00413f85bf364820f4c0ab": {
          "model_module": "@jupyter-widgets/controls",
          "model_name": "DescriptionStyleModel",
          "state": {
            "_view_name": "StyleView",
            "_model_name": "DescriptionStyleModel",
            "description_width": "",
            "_view_module": "@jupyter-widgets/base",
            "_model_module_version": "1.5.0",
            "_view_count": null,
            "_view_module_version": "1.2.0",
            "_model_module": "@jupyter-widgets/controls"
          }
        },
        "8fe7488940af486ca35fe2b6f9a5467c": {
          "model_module": "@jupyter-widgets/base",
          "model_name": "LayoutModel",
          "state": {
            "_view_name": "LayoutView",
            "grid_template_rows": null,
            "right": null,
            "justify_content": null,
            "_view_module": "@jupyter-widgets/base",
            "overflow": null,
            "_model_module_version": "1.2.0",
            "_view_count": null,
            "flex_flow": null,
            "width": null,
            "min_width": null,
            "border": null,
            "align_items": null,
            "bottom": null,
            "_model_module": "@jupyter-widgets/base",
            "top": null,
            "grid_column": null,
            "overflow_y": null,
            "overflow_x": null,
            "grid_auto_flow": null,
            "grid_area": null,
            "grid_template_columns": null,
            "flex": null,
            "_model_name": "LayoutModel",
            "justify_items": null,
            "grid_row": null,
            "max_height": null,
            "align_content": null,
            "visibility": null,
            "align_self": null,
            "height": null,
            "min_height": null,
            "padding": null,
            "grid_auto_rows": null,
            "grid_gap": null,
            "max_width": null,
            "order": null,
            "_view_module_version": "1.2.0",
            "grid_template_areas": null,
            "object_position": null,
            "object_fit": null,
            "grid_auto_columns": null,
            "margin": null,
            "display": null,
            "left": null
          }
        },
        "5f0d5e327949467ab45664453425a68f": {
          "model_module": "@jupyter-widgets/controls",
          "model_name": "DescriptionStyleModel",
          "state": {
            "_view_name": "StyleView",
            "_model_name": "DescriptionStyleModel",
            "description_width": "",
            "_view_module": "@jupyter-widgets/base",
            "_model_module_version": "1.5.0",
            "_view_count": null,
            "_view_module_version": "1.2.0",
            "_model_module": "@jupyter-widgets/controls"
          }
        },
        "86c4165e696c4b6b80a1d4f31c9e03a0": {
          "model_module": "@jupyter-widgets/base",
          "model_name": "LayoutModel",
          "state": {
            "_view_name": "LayoutView",
            "grid_template_rows": null,
            "right": null,
            "justify_content": null,
            "_view_module": "@jupyter-widgets/base",
            "overflow": null,
            "_model_module_version": "1.2.0",
            "_view_count": null,
            "flex_flow": null,
            "width": null,
            "min_width": null,
            "border": null,
            "align_items": null,
            "bottom": null,
            "_model_module": "@jupyter-widgets/base",
            "top": null,
            "grid_column": null,
            "overflow_y": null,
            "overflow_x": null,
            "grid_auto_flow": null,
            "grid_area": null,
            "grid_template_columns": null,
            "flex": null,
            "_model_name": "LayoutModel",
            "justify_items": null,
            "grid_row": null,
            "max_height": null,
            "align_content": null,
            "visibility": null,
            "align_self": null,
            "height": null,
            "min_height": null,
            "padding": null,
            "grid_auto_rows": null,
            "grid_gap": null,
            "max_width": null,
            "order": null,
            "_view_module_version": "1.2.0",
            "grid_template_areas": null,
            "object_position": null,
            "object_fit": null,
            "grid_auto_columns": null,
            "margin": null,
            "display": null,
            "left": null
          }
        },
        "a731a497529f4791ad16a81d27ef272d": {
          "model_module": "@jupyter-widgets/controls",
          "model_name": "DescriptionStyleModel",
          "state": {
            "_view_name": "StyleView",
            "_model_name": "DescriptionStyleModel",
            "description_width": "",
            "_view_module": "@jupyter-widgets/base",
            "_model_module_version": "1.5.0",
            "_view_count": null,
            "_view_module_version": "1.2.0",
            "_model_module": "@jupyter-widgets/controls"
          }
        },
        "fb09b8eab8374d3db558590a690b1021": {
          "model_module": "@jupyter-widgets/base",
          "model_name": "LayoutModel",
          "state": {
            "_view_name": "LayoutView",
            "grid_template_rows": null,
            "right": null,
            "justify_content": null,
            "_view_module": "@jupyter-widgets/base",
            "overflow": null,
            "_model_module_version": "1.2.0",
            "_view_count": null,
            "flex_flow": null,
            "width": null,
            "min_width": null,
            "border": null,
            "align_items": null,
            "bottom": null,
            "_model_module": "@jupyter-widgets/base",
            "top": null,
            "grid_column": null,
            "overflow_y": null,
            "overflow_x": null,
            "grid_auto_flow": null,
            "grid_area": null,
            "grid_template_columns": null,
            "flex": null,
            "_model_name": "LayoutModel",
            "justify_items": null,
            "grid_row": null,
            "max_height": null,
            "align_content": null,
            "visibility": null,
            "align_self": null,
            "height": null,
            "min_height": null,
            "padding": null,
            "grid_auto_rows": null,
            "grid_gap": null,
            "max_width": null,
            "order": null,
            "_view_module_version": "1.2.0",
            "grid_template_areas": null,
            "object_position": null,
            "object_fit": null,
            "grid_auto_columns": null,
            "margin": null,
            "display": null,
            "left": null
          }
        },
        "58ca7bb0e90e4b25ba53a9a614f5690e": {
          "model_module": "@jupyter-widgets/controls",
          "model_name": "DescriptionStyleModel",
          "state": {
            "_view_name": "StyleView",
            "_model_name": "DescriptionStyleModel",
            "description_width": "",
            "_view_module": "@jupyter-widgets/base",
            "_model_module_version": "1.5.0",
            "_view_count": null,
            "_view_module_version": "1.2.0",
            "_model_module": "@jupyter-widgets/controls"
          }
        },
        "03f0a640fff744d5a6c9b728b7a7ac56": {
          "model_module": "@jupyter-widgets/base",
          "model_name": "LayoutModel",
          "state": {
            "_view_name": "LayoutView",
            "grid_template_rows": null,
            "right": null,
            "justify_content": null,
            "_view_module": "@jupyter-widgets/base",
            "overflow": null,
            "_model_module_version": "1.2.0",
            "_view_count": null,
            "flex_flow": null,
            "width": null,
            "min_width": null,
            "border": null,
            "align_items": null,
            "bottom": null,
            "_model_module": "@jupyter-widgets/base",
            "top": null,
            "grid_column": null,
            "overflow_y": null,
            "overflow_x": null,
            "grid_auto_flow": null,
            "grid_area": null,
            "grid_template_columns": null,
            "flex": null,
            "_model_name": "LayoutModel",
            "justify_items": null,
            "grid_row": null,
            "max_height": null,
            "align_content": null,
            "visibility": null,
            "align_self": null,
            "height": null,
            "min_height": null,
            "padding": null,
            "grid_auto_rows": null,
            "grid_gap": null,
            "max_width": null,
            "order": null,
            "_view_module_version": "1.2.0",
            "grid_template_areas": null,
            "object_position": null,
            "object_fit": null,
            "grid_auto_columns": null,
            "margin": null,
            "display": null,
            "left": null
          }
        },
        "cd64a16f378c4ab1a152a63667ba772b": {
          "model_module": "@jupyter-widgets/controls",
          "model_name": "DescriptionStyleModel",
          "state": {
            "_view_name": "StyleView",
            "_model_name": "DescriptionStyleModel",
            "description_width": "",
            "_view_module": "@jupyter-widgets/base",
            "_model_module_version": "1.5.0",
            "_view_count": null,
            "_view_module_version": "1.2.0",
            "_model_module": "@jupyter-widgets/controls"
          }
        },
        "5173ec849b9f4c42aeb80949c916635a": {
          "model_module": "@jupyter-widgets/base",
          "model_name": "LayoutModel",
          "state": {
            "_view_name": "LayoutView",
            "grid_template_rows": null,
            "right": null,
            "justify_content": null,
            "_view_module": "@jupyter-widgets/base",
            "overflow": null,
            "_model_module_version": "1.2.0",
            "_view_count": null,
            "flex_flow": null,
            "width": null,
            "min_width": null,
            "border": null,
            "align_items": null,
            "bottom": null,
            "_model_module": "@jupyter-widgets/base",
            "top": null,
            "grid_column": null,
            "overflow_y": null,
            "overflow_x": null,
            "grid_auto_flow": null,
            "grid_area": null,
            "grid_template_columns": null,
            "flex": null,
            "_model_name": "LayoutModel",
            "justify_items": null,
            "grid_row": null,
            "max_height": null,
            "align_content": null,
            "visibility": null,
            "align_self": null,
            "height": null,
            "min_height": null,
            "padding": null,
            "grid_auto_rows": null,
            "grid_gap": null,
            "max_width": null,
            "order": null,
            "_view_module_version": "1.2.0",
            "grid_template_areas": null,
            "object_position": null,
            "object_fit": null,
            "grid_auto_columns": null,
            "margin": null,
            "display": null,
            "left": null
          }
        },
        "38285b2a19784cfca28d775df99a077e": {
          "model_module": "@jupyter-widgets/controls",
          "model_name": "DescriptionStyleModel",
          "state": {
            "_view_name": "StyleView",
            "_model_name": "DescriptionStyleModel",
            "description_width": "",
            "_view_module": "@jupyter-widgets/base",
            "_model_module_version": "1.5.0",
            "_view_count": null,
            "_view_module_version": "1.2.0",
            "_model_module": "@jupyter-widgets/controls"
          }
        },
        "3a2539abd33e49158a7e80409634b9d1": {
          "model_module": "@jupyter-widgets/base",
          "model_name": "LayoutModel",
          "state": {
            "_view_name": "LayoutView",
            "grid_template_rows": null,
            "right": null,
            "justify_content": null,
            "_view_module": "@jupyter-widgets/base",
            "overflow": null,
            "_model_module_version": "1.2.0",
            "_view_count": null,
            "flex_flow": null,
            "width": null,
            "min_width": null,
            "border": null,
            "align_items": null,
            "bottom": null,
            "_model_module": "@jupyter-widgets/base",
            "top": null,
            "grid_column": null,
            "overflow_y": null,
            "overflow_x": null,
            "grid_auto_flow": null,
            "grid_area": null,
            "grid_template_columns": null,
            "flex": null,
            "_model_name": "LayoutModel",
            "justify_items": null,
            "grid_row": null,
            "max_height": null,
            "align_content": null,
            "visibility": null,
            "align_self": null,
            "height": null,
            "min_height": null,
            "padding": null,
            "grid_auto_rows": null,
            "grid_gap": null,
            "max_width": null,
            "order": null,
            "_view_module_version": "1.2.0",
            "grid_template_areas": null,
            "object_position": null,
            "object_fit": null,
            "grid_auto_columns": null,
            "margin": null,
            "display": null,
            "left": null
          }
        },
        "b4fb807bc36d4abd836d0fb6fd51341a": {
          "model_module": "@jupyter-widgets/controls",
          "model_name": "DescriptionStyleModel",
          "state": {
            "_view_name": "StyleView",
            "_model_name": "DescriptionStyleModel",
            "description_width": "",
            "_view_module": "@jupyter-widgets/base",
            "_model_module_version": "1.5.0",
            "_view_count": null,
            "_view_module_version": "1.2.0",
            "_model_module": "@jupyter-widgets/controls"
          }
        },
        "cf7f0cc096a643eba9d039a3b46db129": {
          "model_module": "@jupyter-widgets/base",
          "model_name": "LayoutModel",
          "state": {
            "_view_name": "LayoutView",
            "grid_template_rows": null,
            "right": null,
            "justify_content": null,
            "_view_module": "@jupyter-widgets/base",
            "overflow": null,
            "_model_module_version": "1.2.0",
            "_view_count": null,
            "flex_flow": null,
            "width": null,
            "min_width": null,
            "border": null,
            "align_items": null,
            "bottom": null,
            "_model_module": "@jupyter-widgets/base",
            "top": null,
            "grid_column": null,
            "overflow_y": null,
            "overflow_x": null,
            "grid_auto_flow": null,
            "grid_area": null,
            "grid_template_columns": null,
            "flex": null,
            "_model_name": "LayoutModel",
            "justify_items": null,
            "grid_row": null,
            "max_height": null,
            "align_content": null,
            "visibility": null,
            "align_self": null,
            "height": null,
            "min_height": null,
            "padding": null,
            "grid_auto_rows": null,
            "grid_gap": null,
            "max_width": null,
            "order": null,
            "_view_module_version": "1.2.0",
            "grid_template_areas": null,
            "object_position": null,
            "object_fit": null,
            "grid_auto_columns": null,
            "margin": null,
            "display": null,
            "left": null
          }
        },
        "10e66ff5f8774533998c5cbb661941ed": {
          "model_module": "@jupyter-widgets/controls",
          "model_name": "DescriptionStyleModel",
          "state": {
            "_view_name": "StyleView",
            "_model_name": "DescriptionStyleModel",
            "description_width": "",
            "_view_module": "@jupyter-widgets/base",
            "_model_module_version": "1.5.0",
            "_view_count": null,
            "_view_module_version": "1.2.0",
            "_model_module": "@jupyter-widgets/controls"
          }
        },
        "668a0969a5344a248feddd0b2b947d2e": {
          "model_module": "@jupyter-widgets/base",
          "model_name": "LayoutModel",
          "state": {
            "_view_name": "LayoutView",
            "grid_template_rows": null,
            "right": null,
            "justify_content": null,
            "_view_module": "@jupyter-widgets/base",
            "overflow": null,
            "_model_module_version": "1.2.0",
            "_view_count": null,
            "flex_flow": null,
            "width": null,
            "min_width": null,
            "border": null,
            "align_items": null,
            "bottom": null,
            "_model_module": "@jupyter-widgets/base",
            "top": null,
            "grid_column": null,
            "overflow_y": null,
            "overflow_x": null,
            "grid_auto_flow": null,
            "grid_area": null,
            "grid_template_columns": null,
            "flex": null,
            "_model_name": "LayoutModel",
            "justify_items": null,
            "grid_row": null,
            "max_height": null,
            "align_content": null,
            "visibility": null,
            "align_self": null,
            "height": null,
            "min_height": null,
            "padding": null,
            "grid_auto_rows": null,
            "grid_gap": null,
            "max_width": null,
            "order": null,
            "_view_module_version": "1.2.0",
            "grid_template_areas": null,
            "object_position": null,
            "object_fit": null,
            "grid_auto_columns": null,
            "margin": null,
            "display": null,
            "left": null
          }
        },
        "1d6944359b6a4de0bb821c1f4667a911": {
          "model_module": "@jupyter-widgets/controls",
          "model_name": "DescriptionStyleModel",
          "state": {
            "_view_name": "StyleView",
            "_model_name": "DescriptionStyleModel",
            "description_width": "",
            "_view_module": "@jupyter-widgets/base",
            "_model_module_version": "1.5.0",
            "_view_count": null,
            "_view_module_version": "1.2.0",
            "_model_module": "@jupyter-widgets/controls"
          }
        },
        "90723a475a7547f8bd3e768375428347": {
          "model_module": "@jupyter-widgets/base",
          "model_name": "LayoutModel",
          "state": {
            "_view_name": "LayoutView",
            "grid_template_rows": null,
            "right": null,
            "justify_content": null,
            "_view_module": "@jupyter-widgets/base",
            "overflow": null,
            "_model_module_version": "1.2.0",
            "_view_count": null,
            "flex_flow": null,
            "width": null,
            "min_width": null,
            "border": null,
            "align_items": null,
            "bottom": null,
            "_model_module": "@jupyter-widgets/base",
            "top": null,
            "grid_column": null,
            "overflow_y": null,
            "overflow_x": null,
            "grid_auto_flow": null,
            "grid_area": null,
            "grid_template_columns": null,
            "flex": null,
            "_model_name": "LayoutModel",
            "justify_items": null,
            "grid_row": null,
            "max_height": null,
            "align_content": null,
            "visibility": null,
            "align_self": null,
            "height": null,
            "min_height": null,
            "padding": null,
            "grid_auto_rows": null,
            "grid_gap": null,
            "max_width": null,
            "order": null,
            "_view_module_version": "1.2.0",
            "grid_template_areas": null,
            "object_position": null,
            "object_fit": null,
            "grid_auto_columns": null,
            "margin": null,
            "display": null,
            "left": null
          }
        },
        "4a01a9b7ac974dcf87c2076ecc8cf01a": {
          "model_module": "@jupyter-widgets/controls",
          "model_name": "DescriptionStyleModel",
          "state": {
            "_view_name": "StyleView",
            "_model_name": "DescriptionStyleModel",
            "description_width": "",
            "_view_module": "@jupyter-widgets/base",
            "_model_module_version": "1.5.0",
            "_view_count": null,
            "_view_module_version": "1.2.0",
            "_model_module": "@jupyter-widgets/controls"
          }
        },
        "cc7c4c23af54490981879bdbf819aeb3": {
          "model_module": "@jupyter-widgets/base",
          "model_name": "LayoutModel",
          "state": {
            "_view_name": "LayoutView",
            "grid_template_rows": null,
            "right": null,
            "justify_content": null,
            "_view_module": "@jupyter-widgets/base",
            "overflow": null,
            "_model_module_version": "1.2.0",
            "_view_count": null,
            "flex_flow": null,
            "width": null,
            "min_width": null,
            "border": null,
            "align_items": null,
            "bottom": null,
            "_model_module": "@jupyter-widgets/base",
            "top": null,
            "grid_column": null,
            "overflow_y": null,
            "overflow_x": null,
            "grid_auto_flow": null,
            "grid_area": null,
            "grid_template_columns": null,
            "flex": null,
            "_model_name": "LayoutModel",
            "justify_items": null,
            "grid_row": null,
            "max_height": null,
            "align_content": null,
            "visibility": null,
            "align_self": null,
            "height": null,
            "min_height": null,
            "padding": null,
            "grid_auto_rows": null,
            "grid_gap": null,
            "max_width": null,
            "order": null,
            "_view_module_version": "1.2.0",
            "grid_template_areas": null,
            "object_position": null,
            "object_fit": null,
            "grid_auto_columns": null,
            "margin": null,
            "display": null,
            "left": null
          }
        },
        "0617d4d665354cda9a468be28f8cec63": {
          "model_module": "@jupyter-widgets/controls",
          "model_name": "DescriptionStyleModel",
          "state": {
            "_view_name": "StyleView",
            "_model_name": "DescriptionStyleModel",
            "description_width": "",
            "_view_module": "@jupyter-widgets/base",
            "_model_module_version": "1.5.0",
            "_view_count": null,
            "_view_module_version": "1.2.0",
            "_model_module": "@jupyter-widgets/controls"
          }
        },
        "0c1d286efe5046339e77cb712f906692": {
          "model_module": "@jupyter-widgets/base",
          "model_name": "LayoutModel",
          "state": {
            "_view_name": "LayoutView",
            "grid_template_rows": null,
            "right": null,
            "justify_content": null,
            "_view_module": "@jupyter-widgets/base",
            "overflow": null,
            "_model_module_version": "1.2.0",
            "_view_count": null,
            "flex_flow": null,
            "width": null,
            "min_width": null,
            "border": null,
            "align_items": null,
            "bottom": null,
            "_model_module": "@jupyter-widgets/base",
            "top": null,
            "grid_column": null,
            "overflow_y": null,
            "overflow_x": null,
            "grid_auto_flow": null,
            "grid_area": null,
            "grid_template_columns": null,
            "flex": null,
            "_model_name": "LayoutModel",
            "justify_items": null,
            "grid_row": null,
            "max_height": null,
            "align_content": null,
            "visibility": null,
            "align_self": null,
            "height": null,
            "min_height": null,
            "padding": null,
            "grid_auto_rows": null,
            "grid_gap": null,
            "max_width": null,
            "order": null,
            "_view_module_version": "1.2.0",
            "grid_template_areas": null,
            "object_position": null,
            "object_fit": null,
            "grid_auto_columns": null,
            "margin": null,
            "display": null,
            "left": null
          }
        },
        "78e178a28c324a719fb59ccff13f2054": {
          "model_module": "@jupyter-widgets/controls",
          "model_name": "DescriptionStyleModel",
          "state": {
            "_view_name": "StyleView",
            "_model_name": "DescriptionStyleModel",
            "description_width": "",
            "_view_module": "@jupyter-widgets/base",
            "_model_module_version": "1.5.0",
            "_view_count": null,
            "_view_module_version": "1.2.0",
            "_model_module": "@jupyter-widgets/controls"
          }
        },
        "dcbb84b498274ddb854ade7f986f89a9": {
          "model_module": "@jupyter-widgets/base",
          "model_name": "LayoutModel",
          "state": {
            "_view_name": "LayoutView",
            "grid_template_rows": null,
            "right": null,
            "justify_content": null,
            "_view_module": "@jupyter-widgets/base",
            "overflow": null,
            "_model_module_version": "1.2.0",
            "_view_count": null,
            "flex_flow": null,
            "width": null,
            "min_width": null,
            "border": null,
            "align_items": null,
            "bottom": null,
            "_model_module": "@jupyter-widgets/base",
            "top": null,
            "grid_column": null,
            "overflow_y": null,
            "overflow_x": null,
            "grid_auto_flow": null,
            "grid_area": null,
            "grid_template_columns": null,
            "flex": null,
            "_model_name": "LayoutModel",
            "justify_items": null,
            "grid_row": null,
            "max_height": null,
            "align_content": null,
            "visibility": null,
            "align_self": null,
            "height": null,
            "min_height": null,
            "padding": null,
            "grid_auto_rows": null,
            "grid_gap": null,
            "max_width": null,
            "order": null,
            "_view_module_version": "1.2.0",
            "grid_template_areas": null,
            "object_position": null,
            "object_fit": null,
            "grid_auto_columns": null,
            "margin": null,
            "display": null,
            "left": null
          }
        },
        "8eb98cb332234ea785f2703788d63db4": {
          "model_module": "@jupyter-widgets/controls",
          "model_name": "DescriptionStyleModel",
          "state": {
            "_view_name": "StyleView",
            "_model_name": "DescriptionStyleModel",
            "description_width": "",
            "_view_module": "@jupyter-widgets/base",
            "_model_module_version": "1.5.0",
            "_view_count": null,
            "_view_module_version": "1.2.0",
            "_model_module": "@jupyter-widgets/controls"
          }
        },
        "c72ecb79bbbe445d935e474a0db2b3da": {
          "model_module": "@jupyter-widgets/base",
          "model_name": "LayoutModel",
          "state": {
            "_view_name": "LayoutView",
            "grid_template_rows": null,
            "right": null,
            "justify_content": null,
            "_view_module": "@jupyter-widgets/base",
            "overflow": null,
            "_model_module_version": "1.2.0",
            "_view_count": null,
            "flex_flow": null,
            "width": null,
            "min_width": null,
            "border": null,
            "align_items": null,
            "bottom": null,
            "_model_module": "@jupyter-widgets/base",
            "top": null,
            "grid_column": null,
            "overflow_y": null,
            "overflow_x": null,
            "grid_auto_flow": null,
            "grid_area": null,
            "grid_template_columns": null,
            "flex": null,
            "_model_name": "LayoutModel",
            "justify_items": null,
            "grid_row": null,
            "max_height": null,
            "align_content": null,
            "visibility": null,
            "align_self": null,
            "height": null,
            "min_height": null,
            "padding": null,
            "grid_auto_rows": null,
            "grid_gap": null,
            "max_width": null,
            "order": null,
            "_view_module_version": "1.2.0",
            "grid_template_areas": null,
            "object_position": null,
            "object_fit": null,
            "grid_auto_columns": null,
            "margin": null,
            "display": null,
            "left": null
          }
        },
        "515e9ba7c4d44162a33b1999c46861d2": {
          "model_module": "@jupyter-widgets/controls",
          "model_name": "DescriptionStyleModel",
          "state": {
            "_view_name": "StyleView",
            "_model_name": "DescriptionStyleModel",
            "description_width": "",
            "_view_module": "@jupyter-widgets/base",
            "_model_module_version": "1.5.0",
            "_view_count": null,
            "_view_module_version": "1.2.0",
            "_model_module": "@jupyter-widgets/controls"
          }
        },
        "91882977030643a78c7b828c06c1952e": {
          "model_module": "@jupyter-widgets/base",
          "model_name": "LayoutModel",
          "state": {
            "_view_name": "LayoutView",
            "grid_template_rows": null,
            "right": null,
            "justify_content": null,
            "_view_module": "@jupyter-widgets/base",
            "overflow": null,
            "_model_module_version": "1.2.0",
            "_view_count": null,
            "flex_flow": null,
            "width": null,
            "min_width": null,
            "border": null,
            "align_items": null,
            "bottom": null,
            "_model_module": "@jupyter-widgets/base",
            "top": null,
            "grid_column": null,
            "overflow_y": null,
            "overflow_x": null,
            "grid_auto_flow": null,
            "grid_area": null,
            "grid_template_columns": null,
            "flex": null,
            "_model_name": "LayoutModel",
            "justify_items": null,
            "grid_row": null,
            "max_height": null,
            "align_content": null,
            "visibility": null,
            "align_self": null,
            "height": null,
            "min_height": null,
            "padding": null,
            "grid_auto_rows": null,
            "grid_gap": null,
            "max_width": null,
            "order": null,
            "_view_module_version": "1.2.0",
            "grid_template_areas": null,
            "object_position": null,
            "object_fit": null,
            "grid_auto_columns": null,
            "margin": null,
            "display": null,
            "left": null
          }
        },
        "7af24cbb05fa4c8eb2a661606f82027f": {
          "model_module": "@jupyter-widgets/controls",
          "model_name": "DescriptionStyleModel",
          "state": {
            "_view_name": "StyleView",
            "_model_name": "DescriptionStyleModel",
            "description_width": "",
            "_view_module": "@jupyter-widgets/base",
            "_model_module_version": "1.5.0",
            "_view_count": null,
            "_view_module_version": "1.2.0",
            "_model_module": "@jupyter-widgets/controls"
          }
        },
        "ad7a7812279444eea5cd22c15f0f42fb": {
          "model_module": "@jupyter-widgets/base",
          "model_name": "LayoutModel",
          "state": {
            "_view_name": "LayoutView",
            "grid_template_rows": null,
            "right": null,
            "justify_content": null,
            "_view_module": "@jupyter-widgets/base",
            "overflow": null,
            "_model_module_version": "1.2.0",
            "_view_count": null,
            "flex_flow": null,
            "width": null,
            "min_width": null,
            "border": null,
            "align_items": null,
            "bottom": null,
            "_model_module": "@jupyter-widgets/base",
            "top": null,
            "grid_column": null,
            "overflow_y": null,
            "overflow_x": null,
            "grid_auto_flow": null,
            "grid_area": null,
            "grid_template_columns": null,
            "flex": null,
            "_model_name": "LayoutModel",
            "justify_items": null,
            "grid_row": null,
            "max_height": null,
            "align_content": null,
            "visibility": null,
            "align_self": null,
            "height": null,
            "min_height": null,
            "padding": null,
            "grid_auto_rows": null,
            "grid_gap": null,
            "max_width": null,
            "order": null,
            "_view_module_version": "1.2.0",
            "grid_template_areas": null,
            "object_position": null,
            "object_fit": null,
            "grid_auto_columns": null,
            "margin": null,
            "display": null,
            "left": null
          }
        },
        "978f8219440c475fb5ae03b568c583b8": {
          "model_module": "@jupyter-widgets/controls",
          "model_name": "DescriptionStyleModel",
          "state": {
            "_view_name": "StyleView",
            "_model_name": "DescriptionStyleModel",
            "description_width": "",
            "_view_module": "@jupyter-widgets/base",
            "_model_module_version": "1.5.0",
            "_view_count": null,
            "_view_module_version": "1.2.0",
            "_model_module": "@jupyter-widgets/controls"
          }
        },
        "5a02f3e681bb4271a31f3213d2c56f20": {
          "model_module": "@jupyter-widgets/base",
          "model_name": "LayoutModel",
          "state": {
            "_view_name": "LayoutView",
            "grid_template_rows": null,
            "right": null,
            "justify_content": null,
            "_view_module": "@jupyter-widgets/base",
            "overflow": null,
            "_model_module_version": "1.2.0",
            "_view_count": null,
            "flex_flow": null,
            "width": null,
            "min_width": null,
            "border": null,
            "align_items": null,
            "bottom": null,
            "_model_module": "@jupyter-widgets/base",
            "top": null,
            "grid_column": null,
            "overflow_y": null,
            "overflow_x": null,
            "grid_auto_flow": null,
            "grid_area": null,
            "grid_template_columns": null,
            "flex": null,
            "_model_name": "LayoutModel",
            "justify_items": null,
            "grid_row": null,
            "max_height": null,
            "align_content": null,
            "visibility": null,
            "align_self": null,
            "height": null,
            "min_height": null,
            "padding": null,
            "grid_auto_rows": null,
            "grid_gap": null,
            "max_width": null,
            "order": null,
            "_view_module_version": "1.2.0",
            "grid_template_areas": null,
            "object_position": null,
            "object_fit": null,
            "grid_auto_columns": null,
            "margin": null,
            "display": null,
            "left": null
          }
        },
        "a03d191efac0411395fe9b501dbf3379": {
          "model_module": "@jupyter-widgets/controls",
          "model_name": "DescriptionStyleModel",
          "state": {
            "_view_name": "StyleView",
            "_model_name": "DescriptionStyleModel",
            "description_width": "",
            "_view_module": "@jupyter-widgets/base",
            "_model_module_version": "1.5.0",
            "_view_count": null,
            "_view_module_version": "1.2.0",
            "_model_module": "@jupyter-widgets/controls"
          }
        },
        "1a047864510c45a88f9ab6c8cb3c5182": {
          "model_module": "@jupyter-widgets/base",
          "model_name": "LayoutModel",
          "state": {
            "_view_name": "LayoutView",
            "grid_template_rows": null,
            "right": null,
            "justify_content": null,
            "_view_module": "@jupyter-widgets/base",
            "overflow": null,
            "_model_module_version": "1.2.0",
            "_view_count": null,
            "flex_flow": null,
            "width": null,
            "min_width": null,
            "border": null,
            "align_items": null,
            "bottom": null,
            "_model_module": "@jupyter-widgets/base",
            "top": null,
            "grid_column": null,
            "overflow_y": null,
            "overflow_x": null,
            "grid_auto_flow": null,
            "grid_area": null,
            "grid_template_columns": null,
            "flex": null,
            "_model_name": "LayoutModel",
            "justify_items": null,
            "grid_row": null,
            "max_height": null,
            "align_content": null,
            "visibility": null,
            "align_self": null,
            "height": null,
            "min_height": null,
            "padding": null,
            "grid_auto_rows": null,
            "grid_gap": null,
            "max_width": null,
            "order": null,
            "_view_module_version": "1.2.0",
            "grid_template_areas": null,
            "object_position": null,
            "object_fit": null,
            "grid_auto_columns": null,
            "margin": null,
            "display": null,
            "left": null
          }
        },
        "9bfeed6669524b798a08106c24302b8a": {
          "model_module": "@jupyter-widgets/controls",
          "model_name": "DescriptionStyleModel",
          "state": {
            "_view_name": "StyleView",
            "_model_name": "DescriptionStyleModel",
            "description_width": "",
            "_view_module": "@jupyter-widgets/base",
            "_model_module_version": "1.5.0",
            "_view_count": null,
            "_view_module_version": "1.2.0",
            "_model_module": "@jupyter-widgets/controls"
          }
        },
        "3581b153183741db83836331fd8a7fa1": {
          "model_module": "@jupyter-widgets/base",
          "model_name": "LayoutModel",
          "state": {
            "_view_name": "LayoutView",
            "grid_template_rows": null,
            "right": null,
            "justify_content": null,
            "_view_module": "@jupyter-widgets/base",
            "overflow": null,
            "_model_module_version": "1.2.0",
            "_view_count": null,
            "flex_flow": null,
            "width": null,
            "min_width": null,
            "border": null,
            "align_items": null,
            "bottom": null,
            "_model_module": "@jupyter-widgets/base",
            "top": null,
            "grid_column": null,
            "overflow_y": null,
            "overflow_x": null,
            "grid_auto_flow": null,
            "grid_area": null,
            "grid_template_columns": null,
            "flex": null,
            "_model_name": "LayoutModel",
            "justify_items": null,
            "grid_row": null,
            "max_height": null,
            "align_content": null,
            "visibility": null,
            "align_self": null,
            "height": null,
            "min_height": null,
            "padding": null,
            "grid_auto_rows": null,
            "grid_gap": null,
            "max_width": null,
            "order": null,
            "_view_module_version": "1.2.0",
            "grid_template_areas": null,
            "object_position": null,
            "object_fit": null,
            "grid_auto_columns": null,
            "margin": null,
            "display": null,
            "left": null
          }
        },
        "87700ba7e6d94ac5b5940a09632efea2": {
          "model_module": "@jupyter-widgets/controls",
          "model_name": "DescriptionStyleModel",
          "state": {
            "_view_name": "StyleView",
            "_model_name": "DescriptionStyleModel",
            "description_width": "",
            "_view_module": "@jupyter-widgets/base",
            "_model_module_version": "1.5.0",
            "_view_count": null,
            "_view_module_version": "1.2.0",
            "_model_module": "@jupyter-widgets/controls"
          }
        },
        "1b2e7a0ad7d64384bc785868f10c39b6": {
          "model_module": "@jupyter-widgets/base",
          "model_name": "LayoutModel",
          "state": {
            "_view_name": "LayoutView",
            "grid_template_rows": null,
            "right": null,
            "justify_content": null,
            "_view_module": "@jupyter-widgets/base",
            "overflow": null,
            "_model_module_version": "1.2.0",
            "_view_count": null,
            "flex_flow": null,
            "width": null,
            "min_width": null,
            "border": null,
            "align_items": null,
            "bottom": null,
            "_model_module": "@jupyter-widgets/base",
            "top": null,
            "grid_column": null,
            "overflow_y": null,
            "overflow_x": null,
            "grid_auto_flow": null,
            "grid_area": null,
            "grid_template_columns": null,
            "flex": null,
            "_model_name": "LayoutModel",
            "justify_items": null,
            "grid_row": null,
            "max_height": null,
            "align_content": null,
            "visibility": null,
            "align_self": null,
            "height": null,
            "min_height": null,
            "padding": null,
            "grid_auto_rows": null,
            "grid_gap": null,
            "max_width": null,
            "order": null,
            "_view_module_version": "1.2.0",
            "grid_template_areas": null,
            "object_position": null,
            "object_fit": null,
            "grid_auto_columns": null,
            "margin": null,
            "display": null,
            "left": null
          }
        },
        "dd52f81fec234346aec5fd5baa1e8190": {
          "model_module": "@jupyter-widgets/controls",
          "model_name": "DescriptionStyleModel",
          "state": {
            "_view_name": "StyleView",
            "_model_name": "DescriptionStyleModel",
            "description_width": "",
            "_view_module": "@jupyter-widgets/base",
            "_model_module_version": "1.5.0",
            "_view_count": null,
            "_view_module_version": "1.2.0",
            "_model_module": "@jupyter-widgets/controls"
          }
        },
        "5f3e4545227f4359b731511a6afa28e8": {
          "model_module": "@jupyter-widgets/base",
          "model_name": "LayoutModel",
          "state": {
            "_view_name": "LayoutView",
            "grid_template_rows": null,
            "right": null,
            "justify_content": null,
            "_view_module": "@jupyter-widgets/base",
            "overflow": null,
            "_model_module_version": "1.2.0",
            "_view_count": null,
            "flex_flow": null,
            "width": null,
            "min_width": null,
            "border": null,
            "align_items": null,
            "bottom": null,
            "_model_module": "@jupyter-widgets/base",
            "top": null,
            "grid_column": null,
            "overflow_y": null,
            "overflow_x": null,
            "grid_auto_flow": null,
            "grid_area": null,
            "grid_template_columns": null,
            "flex": null,
            "_model_name": "LayoutModel",
            "justify_items": null,
            "grid_row": null,
            "max_height": null,
            "align_content": null,
            "visibility": null,
            "align_self": null,
            "height": null,
            "min_height": null,
            "padding": null,
            "grid_auto_rows": null,
            "grid_gap": null,
            "max_width": null,
            "order": null,
            "_view_module_version": "1.2.0",
            "grid_template_areas": null,
            "object_position": null,
            "object_fit": null,
            "grid_auto_columns": null,
            "margin": null,
            "display": null,
            "left": null
          }
        },
        "d43c78ae2d484119b75014f5eb0ba552": {
          "model_module": "@jupyter-widgets/controls",
          "model_name": "DescriptionStyleModel",
          "state": {
            "_view_name": "StyleView",
            "_model_name": "DescriptionStyleModel",
            "description_width": "",
            "_view_module": "@jupyter-widgets/base",
            "_model_module_version": "1.5.0",
            "_view_count": null,
            "_view_module_version": "1.2.0",
            "_model_module": "@jupyter-widgets/controls"
          }
        },
        "84ca8f28661646f585957f57f97d11fd": {
          "model_module": "@jupyter-widgets/base",
          "model_name": "LayoutModel",
          "state": {
            "_view_name": "LayoutView",
            "grid_template_rows": null,
            "right": null,
            "justify_content": null,
            "_view_module": "@jupyter-widgets/base",
            "overflow": null,
            "_model_module_version": "1.2.0",
            "_view_count": null,
            "flex_flow": null,
            "width": null,
            "min_width": null,
            "border": null,
            "align_items": null,
            "bottom": null,
            "_model_module": "@jupyter-widgets/base",
            "top": null,
            "grid_column": null,
            "overflow_y": null,
            "overflow_x": null,
            "grid_auto_flow": null,
            "grid_area": null,
            "grid_template_columns": null,
            "flex": null,
            "_model_name": "LayoutModel",
            "justify_items": null,
            "grid_row": null,
            "max_height": null,
            "align_content": null,
            "visibility": null,
            "align_self": null,
            "height": null,
            "min_height": null,
            "padding": null,
            "grid_auto_rows": null,
            "grid_gap": null,
            "max_width": null,
            "order": null,
            "_view_module_version": "1.2.0",
            "grid_template_areas": null,
            "object_position": null,
            "object_fit": null,
            "grid_auto_columns": null,
            "margin": null,
            "display": null,
            "left": null
          }
        },
        "52401f7877bf4735ac69d1e746a4e15e": {
          "model_module": "@jupyter-widgets/controls",
          "model_name": "DescriptionStyleModel",
          "state": {
            "_view_name": "StyleView",
            "_model_name": "DescriptionStyleModel",
            "description_width": "",
            "_view_module": "@jupyter-widgets/base",
            "_model_module_version": "1.5.0",
            "_view_count": null,
            "_view_module_version": "1.2.0",
            "_model_module": "@jupyter-widgets/controls"
          }
        },
        "96614eed352d401e98b8e09deea73d57": {
          "model_module": "@jupyter-widgets/base",
          "model_name": "LayoutModel",
          "state": {
            "_view_name": "LayoutView",
            "grid_template_rows": null,
            "right": null,
            "justify_content": null,
            "_view_module": "@jupyter-widgets/base",
            "overflow": null,
            "_model_module_version": "1.2.0",
            "_view_count": null,
            "flex_flow": null,
            "width": null,
            "min_width": null,
            "border": null,
            "align_items": null,
            "bottom": null,
            "_model_module": "@jupyter-widgets/base",
            "top": null,
            "grid_column": null,
            "overflow_y": null,
            "overflow_x": null,
            "grid_auto_flow": null,
            "grid_area": null,
            "grid_template_columns": null,
            "flex": null,
            "_model_name": "LayoutModel",
            "justify_items": null,
            "grid_row": null,
            "max_height": null,
            "align_content": null,
            "visibility": null,
            "align_self": null,
            "height": null,
            "min_height": null,
            "padding": null,
            "grid_auto_rows": null,
            "grid_gap": null,
            "max_width": null,
            "order": null,
            "_view_module_version": "1.2.0",
            "grid_template_areas": null,
            "object_position": null,
            "object_fit": null,
            "grid_auto_columns": null,
            "margin": null,
            "display": null,
            "left": null
          }
        },
        "23a740171d194b868cff542bd5c15df4": {
          "model_module": "@jupyter-widgets/controls",
          "model_name": "DescriptionStyleModel",
          "state": {
            "_view_name": "StyleView",
            "_model_name": "DescriptionStyleModel",
            "description_width": "",
            "_view_module": "@jupyter-widgets/base",
            "_model_module_version": "1.5.0",
            "_view_count": null,
            "_view_module_version": "1.2.0",
            "_model_module": "@jupyter-widgets/controls"
          }
        },
        "cd8b213e2387403b922c6292a33dff0d": {
          "model_module": "@jupyter-widgets/base",
          "model_name": "LayoutModel",
          "state": {
            "_view_name": "LayoutView",
            "grid_template_rows": null,
            "right": null,
            "justify_content": null,
            "_view_module": "@jupyter-widgets/base",
            "overflow": null,
            "_model_module_version": "1.2.0",
            "_view_count": null,
            "flex_flow": null,
            "width": null,
            "min_width": null,
            "border": null,
            "align_items": null,
            "bottom": null,
            "_model_module": "@jupyter-widgets/base",
            "top": null,
            "grid_column": null,
            "overflow_y": null,
            "overflow_x": null,
            "grid_auto_flow": null,
            "grid_area": null,
            "grid_template_columns": null,
            "flex": null,
            "_model_name": "LayoutModel",
            "justify_items": null,
            "grid_row": null,
            "max_height": null,
            "align_content": null,
            "visibility": null,
            "align_self": null,
            "height": null,
            "min_height": null,
            "padding": null,
            "grid_auto_rows": null,
            "grid_gap": null,
            "max_width": null,
            "order": null,
            "_view_module_version": "1.2.0",
            "grid_template_areas": null,
            "object_position": null,
            "object_fit": null,
            "grid_auto_columns": null,
            "margin": null,
            "display": null,
            "left": null
          }
        },
        "9d373388b50c41f7915c9fc5e9c0258d": {
          "model_module": "@jupyter-widgets/controls",
          "model_name": "DescriptionStyleModel",
          "state": {
            "_view_name": "StyleView",
            "_model_name": "DescriptionStyleModel",
            "description_width": "",
            "_view_module": "@jupyter-widgets/base",
            "_model_module_version": "1.5.0",
            "_view_count": null,
            "_view_module_version": "1.2.0",
            "_model_module": "@jupyter-widgets/controls"
          }
        },
        "e41c9b7cc04043a5ad8444419da72a61": {
          "model_module": "@jupyter-widgets/base",
          "model_name": "LayoutModel",
          "state": {
            "_view_name": "LayoutView",
            "grid_template_rows": null,
            "right": null,
            "justify_content": null,
            "_view_module": "@jupyter-widgets/base",
            "overflow": null,
            "_model_module_version": "1.2.0",
            "_view_count": null,
            "flex_flow": null,
            "width": null,
            "min_width": null,
            "border": null,
            "align_items": null,
            "bottom": null,
            "_model_module": "@jupyter-widgets/base",
            "top": null,
            "grid_column": null,
            "overflow_y": null,
            "overflow_x": null,
            "grid_auto_flow": null,
            "grid_area": null,
            "grid_template_columns": null,
            "flex": null,
            "_model_name": "LayoutModel",
            "justify_items": null,
            "grid_row": null,
            "max_height": null,
            "align_content": null,
            "visibility": null,
            "align_self": null,
            "height": null,
            "min_height": null,
            "padding": null,
            "grid_auto_rows": null,
            "grid_gap": null,
            "max_width": null,
            "order": null,
            "_view_module_version": "1.2.0",
            "grid_template_areas": null,
            "object_position": null,
            "object_fit": null,
            "grid_auto_columns": null,
            "margin": null,
            "display": null,
            "left": null
          }
        },
        "d7a08f7f8f5246a38082ca3a6247f2b7": {
          "model_module": "@jupyter-widgets/controls",
          "model_name": "GridBoxModel",
          "state": {
            "_view_name": "GridBoxView",
            "_dom_classes": [],
            "_model_name": "GridBoxModel",
            "_view_module": "@jupyter-widgets/controls",
            "_model_module_version": "1.5.0",
            "_view_count": null,
            "_view_module_version": "1.5.0",
            "box_style": "",
            "layout": "IPY_MODEL_8d68dd3869fe4f0bbd9dced42db8919f",
            "_model_module": "@jupyter-widgets/controls",
            "children": [
              "IPY_MODEL_bf385a420ecb473790be547cb20a94a5",
              "IPY_MODEL_d7bed6ff993c4053a74e52e1a2968a62",
              "IPY_MODEL_df774d8599cb4f969d87094278561bf5",
              "IPY_MODEL_f4bcedae162e4ca0bd741deabf5a3602",
              "IPY_MODEL_e58fc2f6a4b4435cb5c9bd43b377593c",
              "IPY_MODEL_786ad20c38834742b4aa7858da1edd7e",
              "IPY_MODEL_caa126a732044e3eb1bd3d57dbde26a9",
              "IPY_MODEL_d8b2427766a64ef3bc3cd605bf1d017a",
              "IPY_MODEL_20568ad1c19a456fb6ca3465ecb0ac78",
              "IPY_MODEL_35ba400e4f964af8b3e7d7ed70e3085c",
              "IPY_MODEL_cb5aa6dbee4f4828a3a3e93d3ced44b6",
              "IPY_MODEL_512edf54e63d446ea8865cd9e8847bb3",
              "IPY_MODEL_0aaa4de9ce58469a883721935a097bdb",
              "IPY_MODEL_3c03c47df18d456cb7f6333e3d61c4ef",
              "IPY_MODEL_9dab1c8fadc547f888c0fd4f4120ee68",
              "IPY_MODEL_71203d4af43c41708e63e22a106c4d5a",
              "IPY_MODEL_693812b58707466ba4d9480837952a3f",
              "IPY_MODEL_7cd1e89b0a4442e5a85ac14cd1cf7770",
              "IPY_MODEL_d639ff3c53eb4297997fe4b11591a74e",
              "IPY_MODEL_bcffe535fd4345ff8a2ef1e66638eef3",
              "IPY_MODEL_bbb2cbe2b4fa4766bad78b977e0b2969",
              "IPY_MODEL_3afaa1147ad04a03bac85d1b8d6c1953",
              "IPY_MODEL_4f5915da60944a0d94db6fcbc654639a",
              "IPY_MODEL_b94b39870a0545c486d0b7846a96f450",
              "IPY_MODEL_0f0d099328c8420ca75b44e790447870",
              "IPY_MODEL_4da382fd931248f5af99252aaa377802",
              "IPY_MODEL_2f75f91add9b46e8a19e1ab6a640a252",
              "IPY_MODEL_e11929d21d7e43299cd6f3c383874df8",
              "IPY_MODEL_02f46b71f944488594364f52ef2f9ef7",
              "IPY_MODEL_44599868bed741dbbe74a094780debc5",
              "IPY_MODEL_a67633c1933c4cfeb6f2924320f9f1f6",
              "IPY_MODEL_2825314132cb48f49584696dbef0a2a1",
              "IPY_MODEL_df85b93049af45ab99d337236b4d2ee0",
              "IPY_MODEL_f8165fed9bc64b5abfcbff253e91d8d0",
              "IPY_MODEL_5a7abd0aaab54c46a1977d473089268e",
              "IPY_MODEL_35c2fce617414046b485be3f13c53479",
              "IPY_MODEL_6e3aad6a7f1f460aa7fa1556439cfbbc",
              "IPY_MODEL_56868a1dee7b4ab5bbdbca7f16e87797",
              "IPY_MODEL_e3794c05f3fe4b8bbe23a10a4fad0599",
              "IPY_MODEL_044b7b677e17440cba400fe3ed5a7680",
              "IPY_MODEL_11f0b43da1484076b037fdfb568bed63",
              "IPY_MODEL_db108750ba4d42e8a70aac15168202f0"
            ]
          }
        },
        "bf385a420ecb473790be547cb20a94a5": {
          "model_module": "@jupyter-widgets/controls",
          "model_name": "ToggleButtonModel",
          "state": {
            "_view_name": "ToggleButtonView",
            "style": "IPY_MODEL_72eee7d29f7e451e96d4d4b0aceac52a",
            "_dom_classes": [],
            "description": "Afghanistan",
            "_model_name": "ToggleButtonModel",
            "button_style": "",
            "_view_module": "@jupyter-widgets/controls",
            "_model_module_version": "1.5.0",
            "tooltip": "",
            "_view_count": null,
            "disabled": false,
            "_view_module_version": "1.5.0",
            "value": false,
            "description_tooltip": null,
            "_model_module": "@jupyter-widgets/controls",
            "layout": "IPY_MODEL_f347364df98b4aa2b6fc3f05507d082f",
            "icon": ""
          }
        },
        "d7bed6ff993c4053a74e52e1a2968a62": {
          "model_module": "@jupyter-widgets/controls",
          "model_name": "ToggleButtonModel",
          "state": {
            "_view_name": "ToggleButtonView",
            "style": "IPY_MODEL_e0ef279a25944a23b6ddae73ef4ded1f",
            "_dom_classes": [],
            "description": "Azerbaijan",
            "_model_name": "ToggleButtonModel",
            "button_style": "",
            "_view_module": "@jupyter-widgets/controls",
            "_model_module_version": "1.5.0",
            "tooltip": "",
            "_view_count": null,
            "disabled": false,
            "_view_module_version": "1.5.0",
            "value": false,
            "description_tooltip": null,
            "_model_module": "@jupyter-widgets/controls",
            "layout": "IPY_MODEL_1e907de995e14cf084d9513da344169f",
            "icon": ""
          }
        },
        "df774d8599cb4f969d87094278561bf5": {
          "model_module": "@jupyter-widgets/controls",
          "model_name": "ToggleButtonModel",
          "state": {
            "_view_name": "ToggleButtonView",
            "style": "IPY_MODEL_5574f4cd94194d9abc0aca9db53e1f85",
            "_dom_classes": [],
            "description": "Bahrain",
            "_model_name": "ToggleButtonModel",
            "button_style": "",
            "_view_module": "@jupyter-widgets/controls",
            "_model_module_version": "1.5.0",
            "tooltip": "",
            "_view_count": null,
            "disabled": false,
            "_view_module_version": "1.5.0",
            "value": false,
            "description_tooltip": null,
            "_model_module": "@jupyter-widgets/controls",
            "layout": "IPY_MODEL_40c5010310b5435a8ee8c7680fda23c6",
            "icon": ""
          }
        },
        "f4bcedae162e4ca0bd741deabf5a3602": {
          "model_module": "@jupyter-widgets/controls",
          "model_name": "ToggleButtonModel",
          "state": {
            "_view_name": "ToggleButtonView",
            "style": "IPY_MODEL_cbc4a568d3a9448d88688ed2c34e1bce",
            "_dom_classes": [],
            "description": "Bangladesh",
            "_model_name": "ToggleButtonModel",
            "button_style": "",
            "_view_module": "@jupyter-widgets/controls",
            "_model_module_version": "1.5.0",
            "tooltip": "",
            "_view_count": null,
            "disabled": false,
            "_view_module_version": "1.5.0",
            "value": false,
            "description_tooltip": null,
            "_model_module": "@jupyter-widgets/controls",
            "layout": "IPY_MODEL_63969f602dec4bbfbfb722fbe8ec5a1b",
            "icon": ""
          }
        },
        "e58fc2f6a4b4435cb5c9bd43b377593c": {
          "model_module": "@jupyter-widgets/controls",
          "model_name": "ToggleButtonModel",
          "state": {
            "_view_name": "ToggleButtonView",
            "style": "IPY_MODEL_12a5a1e5cbc0442ea05dcb5d172a536c",
            "_dom_classes": [],
            "description": "Bhutan",
            "_model_name": "ToggleButtonModel",
            "button_style": "",
            "_view_module": "@jupyter-widgets/controls",
            "_model_module_version": "1.5.0",
            "tooltip": "",
            "_view_count": null,
            "disabled": false,
            "_view_module_version": "1.5.0",
            "value": false,
            "description_tooltip": null,
            "_model_module": "@jupyter-widgets/controls",
            "layout": "IPY_MODEL_fad10831546247d3a0e9c357f6d70f3a",
            "icon": ""
          }
        },
        "786ad20c38834742b4aa7858da1edd7e": {
          "model_module": "@jupyter-widgets/controls",
          "model_name": "ToggleButtonModel",
          "state": {
            "_view_name": "ToggleButtonView",
            "style": "IPY_MODEL_2dfe072a22a240269a8b5f5d38e4e992",
            "_dom_classes": [],
            "description": "Brunei",
            "_model_name": "ToggleButtonModel",
            "button_style": "",
            "_view_module": "@jupyter-widgets/controls",
            "_model_module_version": "1.5.0",
            "tooltip": "",
            "_view_count": null,
            "disabled": false,
            "_view_module_version": "1.5.0",
            "value": false,
            "description_tooltip": null,
            "_model_module": "@jupyter-widgets/controls",
            "layout": "IPY_MODEL_e04c0bb4a7d14101bc276a97a85f38ee",
            "icon": ""
          }
        },
        "caa126a732044e3eb1bd3d57dbde26a9": {
          "model_module": "@jupyter-widgets/controls",
          "model_name": "ToggleButtonModel",
          "state": {
            "_view_name": "ToggleButtonView",
            "style": "IPY_MODEL_caac4d0f8da844d387d73f6512868294",
            "_dom_classes": [],
            "description": "Cambodia",
            "_model_name": "ToggleButtonModel",
            "button_style": "",
            "_view_module": "@jupyter-widgets/controls",
            "_model_module_version": "1.5.0",
            "tooltip": "",
            "_view_count": null,
            "disabled": false,
            "_view_module_version": "1.5.0",
            "value": false,
            "description_tooltip": null,
            "_model_module": "@jupyter-widgets/controls",
            "layout": "IPY_MODEL_ec2e36c9a6a547ec9c9b0305a388ddb3",
            "icon": ""
          }
        },
        "d8b2427766a64ef3bc3cd605bf1d017a": {
          "model_module": "@jupyter-widgets/controls",
          "model_name": "ToggleButtonModel",
          "state": {
            "_view_name": "ToggleButtonView",
            "style": "IPY_MODEL_4427aa1c163b49ceb42e20424a72edb0",
            "_dom_classes": [],
            "description": "China",
            "_model_name": "ToggleButtonModel",
            "button_style": "",
            "_view_module": "@jupyter-widgets/controls",
            "_model_module_version": "1.5.0",
            "tooltip": "",
            "_view_count": null,
            "disabled": false,
            "_view_module_version": "1.5.0",
            "value": true,
            "description_tooltip": null,
            "_model_module": "@jupyter-widgets/controls",
            "layout": "IPY_MODEL_93c9794a24d74dda9c1e3f8b96922fd0",
            "icon": ""
          }
        },
        "20568ad1c19a456fb6ca3465ecb0ac78": {
          "model_module": "@jupyter-widgets/controls",
          "model_name": "ToggleButtonModel",
          "state": {
            "_view_name": "ToggleButtonView",
            "style": "IPY_MODEL_fd864a19c3714958b0aaa7c8b5b8b5bd",
            "_dom_classes": [],
            "description": "Hong Kong SAR",
            "_model_name": "ToggleButtonModel",
            "button_style": "",
            "_view_module": "@jupyter-widgets/controls",
            "_model_module_version": "1.5.0",
            "tooltip": "",
            "_view_count": null,
            "disabled": false,
            "_view_module_version": "1.5.0",
            "value": false,
            "description_tooltip": null,
            "_model_module": "@jupyter-widgets/controls",
            "layout": "IPY_MODEL_4f0c091b140e48d5a1c2cec8bf744cec",
            "icon": ""
          }
        },
        "35ba400e4f964af8b3e7d7ed70e3085c": {
          "model_module": "@jupyter-widgets/controls",
          "model_name": "ToggleButtonModel",
          "state": {
            "_view_name": "ToggleButtonView",
            "style": "IPY_MODEL_6dfd048baf9c4394943a46c5b6905243",
            "_dom_classes": [],
            "description": "India",
            "_model_name": "ToggleButtonModel",
            "button_style": "",
            "_view_module": "@jupyter-widgets/controls",
            "_model_module_version": "1.5.0",
            "tooltip": "",
            "_view_count": null,
            "disabled": false,
            "_view_module_version": "1.5.0",
            "value": false,
            "description_tooltip": null,
            "_model_module": "@jupyter-widgets/controls",
            "layout": "IPY_MODEL_0f1d99cdc1274351b61fec7fbaa8beed",
            "icon": ""
          }
        },
        "cb5aa6dbee4f4828a3a3e93d3ced44b6": {
          "model_module": "@jupyter-widgets/controls",
          "model_name": "ToggleButtonModel",
          "state": {
            "_view_name": "ToggleButtonView",
            "style": "IPY_MODEL_fa4201fe77e140f8821f9592a01d1d12",
            "_dom_classes": [],
            "description": "Indonesia",
            "_model_name": "ToggleButtonModel",
            "button_style": "",
            "_view_module": "@jupyter-widgets/controls",
            "_model_module_version": "1.5.0",
            "tooltip": "",
            "_view_count": null,
            "disabled": false,
            "_view_module_version": "1.5.0",
            "value": false,
            "description_tooltip": null,
            "_model_module": "@jupyter-widgets/controls",
            "layout": "IPY_MODEL_d4179a849b604e07a1d880305a239d04",
            "icon": ""
          }
        },
        "512edf54e63d446ea8865cd9e8847bb3": {
          "model_module": "@jupyter-widgets/controls",
          "model_name": "ToggleButtonModel",
          "state": {
            "_view_name": "ToggleButtonView",
            "style": "IPY_MODEL_b5430529d5344114bb456e469defac30",
            "_dom_classes": [],
            "description": "Iran",
            "_model_name": "ToggleButtonModel",
            "button_style": "",
            "_view_module": "@jupyter-widgets/controls",
            "_model_module_version": "1.5.0",
            "tooltip": "",
            "_view_count": null,
            "disabled": false,
            "_view_module_version": "1.5.0",
            "value": false,
            "description_tooltip": null,
            "_model_module": "@jupyter-widgets/controls",
            "layout": "IPY_MODEL_3bc4052d22844c3a99ffda1486756cf0",
            "icon": ""
          }
        },
        "0aaa4de9ce58469a883721935a097bdb": {
          "model_module": "@jupyter-widgets/controls",
          "model_name": "ToggleButtonModel",
          "state": {
            "_view_name": "ToggleButtonView",
            "style": "IPY_MODEL_e21282cc736946ae9ac8ef0e94fe3920",
            "_dom_classes": [],
            "description": "Iran (Islamic Republic of)",
            "_model_name": "ToggleButtonModel",
            "button_style": "",
            "_view_module": "@jupyter-widgets/controls",
            "_model_module_version": "1.5.0",
            "tooltip": "",
            "_view_count": null,
            "disabled": false,
            "_view_module_version": "1.5.0",
            "value": false,
            "description_tooltip": null,
            "_model_module": "@jupyter-widgets/controls",
            "layout": "IPY_MODEL_b64d7652c7474390b76c1c31f51fe5cf",
            "icon": ""
          }
        },
        "3c03c47df18d456cb7f6333e3d61c4ef": {
          "model_module": "@jupyter-widgets/controls",
          "model_name": "ToggleButtonModel",
          "state": {
            "_view_name": "ToggleButtonView",
            "style": "IPY_MODEL_72cf6c4c70ed4cd4b459bda59442a5b0",
            "_dom_classes": [],
            "description": "Iraq",
            "_model_name": "ToggleButtonModel",
            "button_style": "",
            "_view_module": "@jupyter-widgets/controls",
            "_model_module_version": "1.5.0",
            "tooltip": "",
            "_view_count": null,
            "disabled": false,
            "_view_module_version": "1.5.0",
            "value": false,
            "description_tooltip": null,
            "_model_module": "@jupyter-widgets/controls",
            "layout": "IPY_MODEL_1e45e6bb542347e78e61286017b0c866",
            "icon": ""
          }
        },
        "9dab1c8fadc547f888c0fd4f4120ee68": {
          "model_module": "@jupyter-widgets/controls",
          "model_name": "ToggleButtonModel",
          "state": {
            "_view_name": "ToggleButtonView",
            "style": "IPY_MODEL_29fcfa90a9cc45d4a9d5e29103139533",
            "_dom_classes": [],
            "description": "Israel",
            "_model_name": "ToggleButtonModel",
            "button_style": "",
            "_view_module": "@jupyter-widgets/controls",
            "_model_module_version": "1.5.0",
            "tooltip": "",
            "_view_count": null,
            "disabled": false,
            "_view_module_version": "1.5.0",
            "value": false,
            "description_tooltip": null,
            "_model_module": "@jupyter-widgets/controls",
            "layout": "IPY_MODEL_dd816b1c08c948e2bb4ea7d31ecdb869",
            "icon": ""
          }
        },
        "71203d4af43c41708e63e22a106c4d5a": {
          "model_module": "@jupyter-widgets/controls",
          "model_name": "ToggleButtonModel",
          "state": {
            "_view_name": "ToggleButtonView",
            "style": "IPY_MODEL_b32c2d007dc749b0b093886596a78fe0",
            "_dom_classes": [],
            "description": "Japan",
            "_model_name": "ToggleButtonModel",
            "button_style": "",
            "_view_module": "@jupyter-widgets/controls",
            "_model_module_version": "1.5.0",
            "tooltip": "",
            "_view_count": null,
            "disabled": false,
            "_view_module_version": "1.5.0",
            "value": false,
            "description_tooltip": null,
            "_model_module": "@jupyter-widgets/controls",
            "layout": "IPY_MODEL_75765ffb7916403fb9a45d3edddbd10e",
            "icon": ""
          }
        },
        "693812b58707466ba4d9480837952a3f": {
          "model_module": "@jupyter-widgets/controls",
          "model_name": "ToggleButtonModel",
          "state": {
            "_view_name": "ToggleButtonView",
            "style": "IPY_MODEL_d68f8a813da64e0394190941ebc84067",
            "_dom_classes": [],
            "description": "Jordan",
            "_model_name": "ToggleButtonModel",
            "button_style": "",
            "_view_module": "@jupyter-widgets/controls",
            "_model_module_version": "1.5.0",
            "tooltip": "",
            "_view_count": null,
            "disabled": false,
            "_view_module_version": "1.5.0",
            "value": false,
            "description_tooltip": null,
            "_model_module": "@jupyter-widgets/controls",
            "layout": "IPY_MODEL_a8b341e371b345b5aaa06fd5aaffea36",
            "icon": ""
          }
        },
        "7cd1e89b0a4442e5a85ac14cd1cf7770": {
          "model_module": "@jupyter-widgets/controls",
          "model_name": "ToggleButtonModel",
          "state": {
            "_view_name": "ToggleButtonView",
            "style": "IPY_MODEL_4dfdb1e23c53422e86d47d7766fd1755",
            "_dom_classes": [],
            "description": "Korea, South",
            "_model_name": "ToggleButtonModel",
            "button_style": "",
            "_view_module": "@jupyter-widgets/controls",
            "_model_module_version": "1.5.0",
            "tooltip": "",
            "_view_count": null,
            "disabled": false,
            "_view_module_version": "1.5.0",
            "value": false,
            "description_tooltip": null,
            "_model_module": "@jupyter-widgets/controls",
            "layout": "IPY_MODEL_bacb35098bb44536b43bc0bf9a2361f8",
            "icon": ""
          }
        },
        "d639ff3c53eb4297997fe4b11591a74e": {
          "model_module": "@jupyter-widgets/controls",
          "model_name": "ToggleButtonModel",
          "state": {
            "_view_name": "ToggleButtonView",
            "style": "IPY_MODEL_415c7dbeacc8429ca901b758077b2ae3",
            "_dom_classes": [],
            "description": "Kuwait",
            "_model_name": "ToggleButtonModel",
            "button_style": "",
            "_view_module": "@jupyter-widgets/controls",
            "_model_module_version": "1.5.0",
            "tooltip": "",
            "_view_count": null,
            "disabled": false,
            "_view_module_version": "1.5.0",
            "value": false,
            "description_tooltip": null,
            "_model_module": "@jupyter-widgets/controls",
            "layout": "IPY_MODEL_f0f397b5b0c0482ebc23da6651e2e59b",
            "icon": ""
          }
        },
        "bcffe535fd4345ff8a2ef1e66638eef3": {
          "model_module": "@jupyter-widgets/controls",
          "model_name": "ToggleButtonModel",
          "state": {
            "_view_name": "ToggleButtonView",
            "style": "IPY_MODEL_f68f8e0a160647f5b4ab3fb826f41936",
            "_dom_classes": [],
            "description": "Lebanon",
            "_model_name": "ToggleButtonModel",
            "button_style": "",
            "_view_module": "@jupyter-widgets/controls",
            "_model_module_version": "1.5.0",
            "tooltip": "",
            "_view_count": null,
            "disabled": false,
            "_view_module_version": "1.5.0",
            "value": false,
            "description_tooltip": null,
            "_model_module": "@jupyter-widgets/controls",
            "layout": "IPY_MODEL_2326703d262a4cc4ace19209ca2d91ac",
            "icon": ""
          }
        },
        "bbb2cbe2b4fa4766bad78b977e0b2969": {
          "model_module": "@jupyter-widgets/controls",
          "model_name": "ToggleButtonModel",
          "state": {
            "_view_name": "ToggleButtonView",
            "style": "IPY_MODEL_3c96dbfe7c524e5da80800ca4b1da1b4",
            "_dom_classes": [],
            "description": "Macao SAR",
            "_model_name": "ToggleButtonModel",
            "button_style": "",
            "_view_module": "@jupyter-widgets/controls",
            "_model_module_version": "1.5.0",
            "tooltip": "",
            "_view_count": null,
            "disabled": false,
            "_view_module_version": "1.5.0",
            "value": false,
            "description_tooltip": null,
            "_model_module": "@jupyter-widgets/controls",
            "layout": "IPY_MODEL_0d2a478076c84817ac52a936be254fbe",
            "icon": ""
          }
        },
        "3afaa1147ad04a03bac85d1b8d6c1953": {
          "model_module": "@jupyter-widgets/controls",
          "model_name": "ToggleButtonModel",
          "state": {
            "_view_name": "ToggleButtonView",
            "style": "IPY_MODEL_5919715dd485402f892d9dedb84ea762",
            "_dom_classes": [],
            "description": "Mainland China",
            "_model_name": "ToggleButtonModel",
            "button_style": "",
            "_view_module": "@jupyter-widgets/controls",
            "_model_module_version": "1.5.0",
            "tooltip": "",
            "_view_count": null,
            "disabled": false,
            "_view_module_version": "1.5.0",
            "value": true,
            "description_tooltip": null,
            "_model_module": "@jupyter-widgets/controls",
            "layout": "IPY_MODEL_08159ae4967746c19f4d5f0498cf634a",
            "icon": ""
          }
        },
        "4f5915da60944a0d94db6fcbc654639a": {
          "model_module": "@jupyter-widgets/controls",
          "model_name": "ToggleButtonModel",
          "state": {
            "_view_name": "ToggleButtonView",
            "style": "IPY_MODEL_076c28a24d9c4670a5caebdc3f0618af",
            "_dom_classes": [],
            "description": "Malaysia",
            "_model_name": "ToggleButtonModel",
            "button_style": "",
            "_view_module": "@jupyter-widgets/controls",
            "_model_module_version": "1.5.0",
            "tooltip": "",
            "_view_count": null,
            "disabled": false,
            "_view_module_version": "1.5.0",
            "value": false,
            "description_tooltip": null,
            "_model_module": "@jupyter-widgets/controls",
            "layout": "IPY_MODEL_9653e206cb464fa4b970783579bbd163",
            "icon": ""
          }
        },
        "b94b39870a0545c486d0b7846a96f450": {
          "model_module": "@jupyter-widgets/controls",
          "model_name": "ToggleButtonModel",
          "state": {
            "_view_name": "ToggleButtonView",
            "style": "IPY_MODEL_6b5ea9aaee9d4128822c7b2205c41acf",
            "_dom_classes": [],
            "description": "Maldives",
            "_model_name": "ToggleButtonModel",
            "button_style": "",
            "_view_module": "@jupyter-widgets/controls",
            "_model_module_version": "1.5.0",
            "tooltip": "",
            "_view_count": null,
            "disabled": false,
            "_view_module_version": "1.5.0",
            "value": false,
            "description_tooltip": null,
            "_model_module": "@jupyter-widgets/controls",
            "layout": "IPY_MODEL_ec39067b75a445a3a30da47642a2a2a1",
            "icon": ""
          }
        },
        "0f0d099328c8420ca75b44e790447870": {
          "model_module": "@jupyter-widgets/controls",
          "model_name": "ToggleButtonModel",
          "state": {
            "_view_name": "ToggleButtonView",
            "style": "IPY_MODEL_25a3db50ce5048dfa84f9b57ceaea492",
            "_dom_classes": [],
            "description": "Mongolia",
            "_model_name": "ToggleButtonModel",
            "button_style": "",
            "_view_module": "@jupyter-widgets/controls",
            "_model_module_version": "1.5.0",
            "tooltip": "",
            "_view_count": null,
            "disabled": false,
            "_view_module_version": "1.5.0",
            "value": false,
            "description_tooltip": null,
            "_model_module": "@jupyter-widgets/controls",
            "layout": "IPY_MODEL_fd0505cd9962422fbd2ee00a337c81ed",
            "icon": ""
          }
        },
        "4da382fd931248f5af99252aaa377802": {
          "model_module": "@jupyter-widgets/controls",
          "model_name": "ToggleButtonModel",
          "state": {
            "_view_name": "ToggleButtonView",
            "style": "IPY_MODEL_bc93a401afdd433889c58c19e79e1130",
            "_dom_classes": [],
            "description": "Nepal",
            "_model_name": "ToggleButtonModel",
            "button_style": "",
            "_view_module": "@jupyter-widgets/controls",
            "_model_module_version": "1.5.0",
            "tooltip": "",
            "_view_count": null,
            "disabled": false,
            "_view_module_version": "1.5.0",
            "value": false,
            "description_tooltip": null,
            "_model_module": "@jupyter-widgets/controls",
            "layout": "IPY_MODEL_50d24472464c49a6a8b8ced1c863ce4f",
            "icon": ""
          }
        },
        "2f75f91add9b46e8a19e1ab6a640a252": {
          "model_module": "@jupyter-widgets/controls",
          "model_name": "ToggleButtonModel",
          "state": {
            "_view_name": "ToggleButtonView",
            "style": "IPY_MODEL_82c395c4169a42ba8cb504f1ba59e278",
            "_dom_classes": [],
            "description": "Oman",
            "_model_name": "ToggleButtonModel",
            "button_style": "",
            "_view_module": "@jupyter-widgets/controls",
            "_model_module_version": "1.5.0",
            "tooltip": "",
            "_view_count": null,
            "disabled": false,
            "_view_module_version": "1.5.0",
            "value": false,
            "description_tooltip": null,
            "_model_module": "@jupyter-widgets/controls",
            "layout": "IPY_MODEL_a0d5e0c4a371417fa9e0d16e59d4d6a7",
            "icon": ""
          }
        },
        "e11929d21d7e43299cd6f3c383874df8": {
          "model_module": "@jupyter-widgets/controls",
          "model_name": "ToggleButtonModel",
          "state": {
            "_view_name": "ToggleButtonView",
            "style": "IPY_MODEL_73af1abf8d9941239db7c0518be07b7f",
            "_dom_classes": [],
            "description": "Pakistan",
            "_model_name": "ToggleButtonModel",
            "button_style": "",
            "_view_module": "@jupyter-widgets/controls",
            "_model_module_version": "1.5.0",
            "tooltip": "",
            "_view_count": null,
            "disabled": false,
            "_view_module_version": "1.5.0",
            "value": false,
            "description_tooltip": null,
            "_model_module": "@jupyter-widgets/controls",
            "layout": "IPY_MODEL_d317bd320ff740b78be663c994077565",
            "icon": ""
          }
        },
        "02f46b71f944488594364f52ef2f9ef7": {
          "model_module": "@jupyter-widgets/controls",
          "model_name": "ToggleButtonModel",
          "state": {
            "_view_name": "ToggleButtonView",
            "style": "IPY_MODEL_1b7a059cbe974c4cb70480b598366788",
            "_dom_classes": [],
            "description": "Philippines",
            "_model_name": "ToggleButtonModel",
            "button_style": "",
            "_view_module": "@jupyter-widgets/controls",
            "_model_module_version": "1.5.0",
            "tooltip": "",
            "_view_count": null,
            "disabled": false,
            "_view_module_version": "1.5.0",
            "value": false,
            "description_tooltip": null,
            "_model_module": "@jupyter-widgets/controls",
            "layout": "IPY_MODEL_26822105e3dd456e85046967fcb779aa",
            "icon": ""
          }
        },
        "44599868bed741dbbe74a094780debc5": {
          "model_module": "@jupyter-widgets/controls",
          "model_name": "ToggleButtonModel",
          "state": {
            "_view_name": "ToggleButtonView",
            "style": "IPY_MODEL_f207aae34cd440bf85de31ed936f70cd",
            "_dom_classes": [],
            "description": "Qatar",
            "_model_name": "ToggleButtonModel",
            "button_style": "",
            "_view_module": "@jupyter-widgets/controls",
            "_model_module_version": "1.5.0",
            "tooltip": "",
            "_view_count": null,
            "disabled": false,
            "_view_module_version": "1.5.0",
            "value": false,
            "description_tooltip": null,
            "_model_module": "@jupyter-widgets/controls",
            "layout": "IPY_MODEL_5c9288c13b024e69b82dc1772137d041",
            "icon": ""
          }
        },
        "a67633c1933c4cfeb6f2924320f9f1f6": {
          "model_module": "@jupyter-widgets/controls",
          "model_name": "ToggleButtonModel",
          "state": {
            "_view_name": "ToggleButtonView",
            "style": "IPY_MODEL_51ea4f390dc742f9adf875b06d7e5566",
            "_dom_classes": [],
            "description": "Republic of Korea",
            "_model_name": "ToggleButtonModel",
            "button_style": "",
            "_view_module": "@jupyter-widgets/controls",
            "_model_module_version": "1.5.0",
            "tooltip": "",
            "_view_count": null,
            "disabled": false,
            "_view_module_version": "1.5.0",
            "value": false,
            "description_tooltip": null,
            "_model_module": "@jupyter-widgets/controls",
            "layout": "IPY_MODEL_3f12837d470541c9b2761dbc0e7a53b4",
            "icon": ""
          }
        },
        "2825314132cb48f49584696dbef0a2a1": {
          "model_module": "@jupyter-widgets/controls",
          "model_name": "ToggleButtonModel",
          "state": {
            "_view_name": "ToggleButtonView",
            "style": "IPY_MODEL_ccfb126c516a4a9090a9559d0f590128",
            "_dom_classes": [],
            "description": "Saudi Arabia",
            "_model_name": "ToggleButtonModel",
            "button_style": "",
            "_view_module": "@jupyter-widgets/controls",
            "_model_module_version": "1.5.0",
            "tooltip": "",
            "_view_count": null,
            "disabled": false,
            "_view_module_version": "1.5.0",
            "value": false,
            "description_tooltip": null,
            "_model_module": "@jupyter-widgets/controls",
            "layout": "IPY_MODEL_310ed208564a4b20aa7b0934de83a1ea",
            "icon": ""
          }
        },
        "df85b93049af45ab99d337236b4d2ee0": {
          "model_module": "@jupyter-widgets/controls",
          "model_name": "ToggleButtonModel",
          "state": {
            "_view_name": "ToggleButtonView",
            "style": "IPY_MODEL_63ce6da9fce44392b433bf58f17fd6fd",
            "_dom_classes": [],
            "description": "Singapore",
            "_model_name": "ToggleButtonModel",
            "button_style": "",
            "_view_module": "@jupyter-widgets/controls",
            "_model_module_version": "1.5.0",
            "tooltip": "",
            "_view_count": null,
            "disabled": false,
            "_view_module_version": "1.5.0",
            "value": false,
            "description_tooltip": null,
            "_model_module": "@jupyter-widgets/controls",
            "layout": "IPY_MODEL_c0bb6355acd34f25aa78fe17662d3c80",
            "icon": ""
          }
        },
        "f8165fed9bc64b5abfcbff253e91d8d0": {
          "model_module": "@jupyter-widgets/controls",
          "model_name": "ToggleButtonModel",
          "state": {
            "_view_name": "ToggleButtonView",
            "style": "IPY_MODEL_5c2ff6319e6e4bfb950d0888f6c21f51",
            "_dom_classes": [],
            "description": "Sri Lanka",
            "_model_name": "ToggleButtonModel",
            "button_style": "",
            "_view_module": "@jupyter-widgets/controls",
            "_model_module_version": "1.5.0",
            "tooltip": "",
            "_view_count": null,
            "disabled": false,
            "_view_module_version": "1.5.0",
            "value": false,
            "description_tooltip": null,
            "_model_module": "@jupyter-widgets/controls",
            "layout": "IPY_MODEL_7957965f954b4da198942b8d689e1c3f",
            "icon": ""
          }
        },
        "5a7abd0aaab54c46a1977d473089268e": {
          "model_module": "@jupyter-widgets/controls",
          "model_name": "ToggleButtonModel",
          "state": {
            "_view_name": "ToggleButtonView",
            "style": "IPY_MODEL_0b597e17c16441f1aabd91d4ee7a4569",
            "_dom_classes": [],
            "description": "Taipei and environs",
            "_model_name": "ToggleButtonModel",
            "button_style": "",
            "_view_module": "@jupyter-widgets/controls",
            "_model_module_version": "1.5.0",
            "tooltip": "",
            "_view_count": null,
            "disabled": false,
            "_view_module_version": "1.5.0",
            "value": false,
            "description_tooltip": null,
            "_model_module": "@jupyter-widgets/controls",
            "layout": "IPY_MODEL_848b33d230744b3a882080556a749c5f",
            "icon": ""
          }
        },
        "35c2fce617414046b485be3f13c53479": {
          "model_module": "@jupyter-widgets/controls",
          "model_name": "ToggleButtonModel",
          "state": {
            "_view_name": "ToggleButtonView",
            "style": "IPY_MODEL_3277aad9d70d4f8b8ca32e423a881124",
            "_dom_classes": [],
            "description": "Taiwan*",
            "_model_name": "ToggleButtonModel",
            "button_style": "",
            "_view_module": "@jupyter-widgets/controls",
            "_model_module_version": "1.5.0",
            "tooltip": "",
            "_view_count": null,
            "disabled": false,
            "_view_module_version": "1.5.0",
            "value": false,
            "description_tooltip": null,
            "_model_module": "@jupyter-widgets/controls",
            "layout": "IPY_MODEL_60cdad8fb7164e848ee2c925e7f7d03e",
            "icon": ""
          }
        },
        "6e3aad6a7f1f460aa7fa1556439cfbbc": {
          "model_module": "@jupyter-widgets/controls",
          "model_name": "ToggleButtonModel",
          "state": {
            "_view_name": "ToggleButtonView",
            "style": "IPY_MODEL_960676ae78764e46999d21d0d95a58d7",
            "_dom_classes": [],
            "description": "Thailand",
            "_model_name": "ToggleButtonModel",
            "button_style": "",
            "_view_module": "@jupyter-widgets/controls",
            "_model_module_version": "1.5.0",
            "tooltip": "",
            "_view_count": null,
            "disabled": false,
            "_view_module_version": "1.5.0",
            "value": false,
            "description_tooltip": null,
            "_model_module": "@jupyter-widgets/controls",
            "layout": "IPY_MODEL_8a5c465663c643b3a0345cafd422fb90",
            "icon": ""
          }
        },
        "56868a1dee7b4ab5bbdbca7f16e87797": {
          "model_module": "@jupyter-widgets/controls",
          "model_name": "ToggleButtonModel",
          "state": {
            "_view_name": "ToggleButtonView",
            "style": "IPY_MODEL_e0f954a19a5749169dd8313aaf8e8e81",
            "_dom_classes": [],
            "description": "Turkey",
            "_model_name": "ToggleButtonModel",
            "button_style": "",
            "_view_module": "@jupyter-widgets/controls",
            "_model_module_version": "1.5.0",
            "tooltip": "",
            "_view_count": null,
            "disabled": false,
            "_view_module_version": "1.5.0",
            "value": false,
            "description_tooltip": null,
            "_model_module": "@jupyter-widgets/controls",
            "layout": "IPY_MODEL_261edee28b25492ca40883db51b0f993",
            "icon": ""
          }
        },
        "e3794c05f3fe4b8bbe23a10a4fad0599": {
          "model_module": "@jupyter-widgets/controls",
          "model_name": "ToggleButtonModel",
          "state": {
            "_view_name": "ToggleButtonView",
            "style": "IPY_MODEL_2c48cdfabcb44cebbb7099b1afef127b",
            "_dom_classes": [],
            "description": "United Arab Emirates",
            "_model_name": "ToggleButtonModel",
            "button_style": "",
            "_view_module": "@jupyter-widgets/controls",
            "_model_module_version": "1.5.0",
            "tooltip": "",
            "_view_count": null,
            "disabled": false,
            "_view_module_version": "1.5.0",
            "value": false,
            "description_tooltip": null,
            "_model_module": "@jupyter-widgets/controls",
            "layout": "IPY_MODEL_493f9dbc36bb4e81ab5874508b0af5f9",
            "icon": ""
          }
        },
        "044b7b677e17440cba400fe3ed5a7680": {
          "model_module": "@jupyter-widgets/controls",
          "model_name": "ToggleButtonModel",
          "state": {
            "_view_name": "ToggleButtonView",
            "style": "IPY_MODEL_080ff85cb1b74c47be00a028dd8c808d",
            "_dom_classes": [],
            "description": "Viet Nam",
            "_model_name": "ToggleButtonModel",
            "button_style": "",
            "_view_module": "@jupyter-widgets/controls",
            "_model_module_version": "1.5.0",
            "tooltip": "",
            "_view_count": null,
            "disabled": false,
            "_view_module_version": "1.5.0",
            "value": false,
            "description_tooltip": null,
            "_model_module": "@jupyter-widgets/controls",
            "layout": "IPY_MODEL_b982cb8b32464baca9de31ea812a7026",
            "icon": ""
          }
        },
        "11f0b43da1484076b037fdfb568bed63": {
          "model_module": "@jupyter-widgets/controls",
          "model_name": "ToggleButtonModel",
          "state": {
            "_view_name": "ToggleButtonView",
            "style": "IPY_MODEL_3be97376cc0e476992650c773d2182c4",
            "_dom_classes": [],
            "description": "Vietnam",
            "_model_name": "ToggleButtonModel",
            "button_style": "",
            "_view_module": "@jupyter-widgets/controls",
            "_model_module_version": "1.5.0",
            "tooltip": "",
            "_view_count": null,
            "disabled": false,
            "_view_module_version": "1.5.0",
            "value": false,
            "description_tooltip": null,
            "_model_module": "@jupyter-widgets/controls",
            "layout": "IPY_MODEL_6a6271224dff466887a575a88039594b",
            "icon": ""
          }
        },
        "db108750ba4d42e8a70aac15168202f0": {
          "model_module": "@jupyter-widgets/controls",
          "model_name": "ToggleButtonModel",
          "state": {
            "_view_name": "ToggleButtonView",
            "style": "IPY_MODEL_6dbce832063d4a53846189473464c68c",
            "_dom_classes": [],
            "description": "occupied Palestinian territory",
            "_model_name": "ToggleButtonModel",
            "button_style": "",
            "_view_module": "@jupyter-widgets/controls",
            "_model_module_version": "1.5.0",
            "tooltip": "",
            "_view_count": null,
            "disabled": false,
            "_view_module_version": "1.5.0",
            "value": false,
            "description_tooltip": null,
            "_model_module": "@jupyter-widgets/controls",
            "layout": "IPY_MODEL_48bca0d618a2418abd73ae22f9b50e1a",
            "icon": ""
          }
        },
        "72eee7d29f7e451e96d4d4b0aceac52a": {
          "model_module": "@jupyter-widgets/controls",
          "model_name": "DescriptionStyleModel",
          "state": {
            "_view_name": "StyleView",
            "_model_name": "DescriptionStyleModel",
            "description_width": "",
            "_view_module": "@jupyter-widgets/base",
            "_model_module_version": "1.5.0",
            "_view_count": null,
            "_view_module_version": "1.2.0",
            "_model_module": "@jupyter-widgets/controls"
          }
        },
        "f347364df98b4aa2b6fc3f05507d082f": {
          "model_module": "@jupyter-widgets/base",
          "model_name": "LayoutModel",
          "state": {
            "_view_name": "LayoutView",
            "grid_template_rows": null,
            "right": null,
            "justify_content": null,
            "_view_module": "@jupyter-widgets/base",
            "overflow": null,
            "_model_module_version": "1.2.0",
            "_view_count": null,
            "flex_flow": null,
            "width": null,
            "min_width": null,
            "border": null,
            "align_items": null,
            "bottom": null,
            "_model_module": "@jupyter-widgets/base",
            "top": null,
            "grid_column": null,
            "overflow_y": null,
            "overflow_x": null,
            "grid_auto_flow": null,
            "grid_area": null,
            "grid_template_columns": null,
            "flex": null,
            "_model_name": "LayoutModel",
            "justify_items": null,
            "grid_row": null,
            "max_height": null,
            "align_content": null,
            "visibility": null,
            "align_self": null,
            "height": null,
            "min_height": null,
            "padding": null,
            "grid_auto_rows": null,
            "grid_gap": null,
            "max_width": null,
            "order": null,
            "_view_module_version": "1.2.0",
            "grid_template_areas": null,
            "object_position": null,
            "object_fit": null,
            "grid_auto_columns": null,
            "margin": null,
            "display": null,
            "left": null
          }
        },
        "e0ef279a25944a23b6ddae73ef4ded1f": {
          "model_module": "@jupyter-widgets/controls",
          "model_name": "DescriptionStyleModel",
          "state": {
            "_view_name": "StyleView",
            "_model_name": "DescriptionStyleModel",
            "description_width": "",
            "_view_module": "@jupyter-widgets/base",
            "_model_module_version": "1.5.0",
            "_view_count": null,
            "_view_module_version": "1.2.0",
            "_model_module": "@jupyter-widgets/controls"
          }
        },
        "1e907de995e14cf084d9513da344169f": {
          "model_module": "@jupyter-widgets/base",
          "model_name": "LayoutModel",
          "state": {
            "_view_name": "LayoutView",
            "grid_template_rows": null,
            "right": null,
            "justify_content": null,
            "_view_module": "@jupyter-widgets/base",
            "overflow": null,
            "_model_module_version": "1.2.0",
            "_view_count": null,
            "flex_flow": null,
            "width": null,
            "min_width": null,
            "border": null,
            "align_items": null,
            "bottom": null,
            "_model_module": "@jupyter-widgets/base",
            "top": null,
            "grid_column": null,
            "overflow_y": null,
            "overflow_x": null,
            "grid_auto_flow": null,
            "grid_area": null,
            "grid_template_columns": null,
            "flex": null,
            "_model_name": "LayoutModel",
            "justify_items": null,
            "grid_row": null,
            "max_height": null,
            "align_content": null,
            "visibility": null,
            "align_self": null,
            "height": null,
            "min_height": null,
            "padding": null,
            "grid_auto_rows": null,
            "grid_gap": null,
            "max_width": null,
            "order": null,
            "_view_module_version": "1.2.0",
            "grid_template_areas": null,
            "object_position": null,
            "object_fit": null,
            "grid_auto_columns": null,
            "margin": null,
            "display": null,
            "left": null
          }
        },
        "5574f4cd94194d9abc0aca9db53e1f85": {
          "model_module": "@jupyter-widgets/controls",
          "model_name": "DescriptionStyleModel",
          "state": {
            "_view_name": "StyleView",
            "_model_name": "DescriptionStyleModel",
            "description_width": "",
            "_view_module": "@jupyter-widgets/base",
            "_model_module_version": "1.5.0",
            "_view_count": null,
            "_view_module_version": "1.2.0",
            "_model_module": "@jupyter-widgets/controls"
          }
        },
        "40c5010310b5435a8ee8c7680fda23c6": {
          "model_module": "@jupyter-widgets/base",
          "model_name": "LayoutModel",
          "state": {
            "_view_name": "LayoutView",
            "grid_template_rows": null,
            "right": null,
            "justify_content": null,
            "_view_module": "@jupyter-widgets/base",
            "overflow": null,
            "_model_module_version": "1.2.0",
            "_view_count": null,
            "flex_flow": null,
            "width": null,
            "min_width": null,
            "border": null,
            "align_items": null,
            "bottom": null,
            "_model_module": "@jupyter-widgets/base",
            "top": null,
            "grid_column": null,
            "overflow_y": null,
            "overflow_x": null,
            "grid_auto_flow": null,
            "grid_area": null,
            "grid_template_columns": null,
            "flex": null,
            "_model_name": "LayoutModel",
            "justify_items": null,
            "grid_row": null,
            "max_height": null,
            "align_content": null,
            "visibility": null,
            "align_self": null,
            "height": null,
            "min_height": null,
            "padding": null,
            "grid_auto_rows": null,
            "grid_gap": null,
            "max_width": null,
            "order": null,
            "_view_module_version": "1.2.0",
            "grid_template_areas": null,
            "object_position": null,
            "object_fit": null,
            "grid_auto_columns": null,
            "margin": null,
            "display": null,
            "left": null
          }
        },
        "cbc4a568d3a9448d88688ed2c34e1bce": {
          "model_module": "@jupyter-widgets/controls",
          "model_name": "DescriptionStyleModel",
          "state": {
            "_view_name": "StyleView",
            "_model_name": "DescriptionStyleModel",
            "description_width": "",
            "_view_module": "@jupyter-widgets/base",
            "_model_module_version": "1.5.0",
            "_view_count": null,
            "_view_module_version": "1.2.0",
            "_model_module": "@jupyter-widgets/controls"
          }
        },
        "63969f602dec4bbfbfb722fbe8ec5a1b": {
          "model_module": "@jupyter-widgets/base",
          "model_name": "LayoutModel",
          "state": {
            "_view_name": "LayoutView",
            "grid_template_rows": null,
            "right": null,
            "justify_content": null,
            "_view_module": "@jupyter-widgets/base",
            "overflow": null,
            "_model_module_version": "1.2.0",
            "_view_count": null,
            "flex_flow": null,
            "width": null,
            "min_width": null,
            "border": null,
            "align_items": null,
            "bottom": null,
            "_model_module": "@jupyter-widgets/base",
            "top": null,
            "grid_column": null,
            "overflow_y": null,
            "overflow_x": null,
            "grid_auto_flow": null,
            "grid_area": null,
            "grid_template_columns": null,
            "flex": null,
            "_model_name": "LayoutModel",
            "justify_items": null,
            "grid_row": null,
            "max_height": null,
            "align_content": null,
            "visibility": null,
            "align_self": null,
            "height": null,
            "min_height": null,
            "padding": null,
            "grid_auto_rows": null,
            "grid_gap": null,
            "max_width": null,
            "order": null,
            "_view_module_version": "1.2.0",
            "grid_template_areas": null,
            "object_position": null,
            "object_fit": null,
            "grid_auto_columns": null,
            "margin": null,
            "display": null,
            "left": null
          }
        },
        "12a5a1e5cbc0442ea05dcb5d172a536c": {
          "model_module": "@jupyter-widgets/controls",
          "model_name": "DescriptionStyleModel",
          "state": {
            "_view_name": "StyleView",
            "_model_name": "DescriptionStyleModel",
            "description_width": "",
            "_view_module": "@jupyter-widgets/base",
            "_model_module_version": "1.5.0",
            "_view_count": null,
            "_view_module_version": "1.2.0",
            "_model_module": "@jupyter-widgets/controls"
          }
        },
        "fad10831546247d3a0e9c357f6d70f3a": {
          "model_module": "@jupyter-widgets/base",
          "model_name": "LayoutModel",
          "state": {
            "_view_name": "LayoutView",
            "grid_template_rows": null,
            "right": null,
            "justify_content": null,
            "_view_module": "@jupyter-widgets/base",
            "overflow": null,
            "_model_module_version": "1.2.0",
            "_view_count": null,
            "flex_flow": null,
            "width": null,
            "min_width": null,
            "border": null,
            "align_items": null,
            "bottom": null,
            "_model_module": "@jupyter-widgets/base",
            "top": null,
            "grid_column": null,
            "overflow_y": null,
            "overflow_x": null,
            "grid_auto_flow": null,
            "grid_area": null,
            "grid_template_columns": null,
            "flex": null,
            "_model_name": "LayoutModel",
            "justify_items": null,
            "grid_row": null,
            "max_height": null,
            "align_content": null,
            "visibility": null,
            "align_self": null,
            "height": null,
            "min_height": null,
            "padding": null,
            "grid_auto_rows": null,
            "grid_gap": null,
            "max_width": null,
            "order": null,
            "_view_module_version": "1.2.0",
            "grid_template_areas": null,
            "object_position": null,
            "object_fit": null,
            "grid_auto_columns": null,
            "margin": null,
            "display": null,
            "left": null
          }
        },
        "2dfe072a22a240269a8b5f5d38e4e992": {
          "model_module": "@jupyter-widgets/controls",
          "model_name": "DescriptionStyleModel",
          "state": {
            "_view_name": "StyleView",
            "_model_name": "DescriptionStyleModel",
            "description_width": "",
            "_view_module": "@jupyter-widgets/base",
            "_model_module_version": "1.5.0",
            "_view_count": null,
            "_view_module_version": "1.2.0",
            "_model_module": "@jupyter-widgets/controls"
          }
        },
        "e04c0bb4a7d14101bc276a97a85f38ee": {
          "model_module": "@jupyter-widgets/base",
          "model_name": "LayoutModel",
          "state": {
            "_view_name": "LayoutView",
            "grid_template_rows": null,
            "right": null,
            "justify_content": null,
            "_view_module": "@jupyter-widgets/base",
            "overflow": null,
            "_model_module_version": "1.2.0",
            "_view_count": null,
            "flex_flow": null,
            "width": null,
            "min_width": null,
            "border": null,
            "align_items": null,
            "bottom": null,
            "_model_module": "@jupyter-widgets/base",
            "top": null,
            "grid_column": null,
            "overflow_y": null,
            "overflow_x": null,
            "grid_auto_flow": null,
            "grid_area": null,
            "grid_template_columns": null,
            "flex": null,
            "_model_name": "LayoutModel",
            "justify_items": null,
            "grid_row": null,
            "max_height": null,
            "align_content": null,
            "visibility": null,
            "align_self": null,
            "height": null,
            "min_height": null,
            "padding": null,
            "grid_auto_rows": null,
            "grid_gap": null,
            "max_width": null,
            "order": null,
            "_view_module_version": "1.2.0",
            "grid_template_areas": null,
            "object_position": null,
            "object_fit": null,
            "grid_auto_columns": null,
            "margin": null,
            "display": null,
            "left": null
          }
        },
        "caac4d0f8da844d387d73f6512868294": {
          "model_module": "@jupyter-widgets/controls",
          "model_name": "DescriptionStyleModel",
          "state": {
            "_view_name": "StyleView",
            "_model_name": "DescriptionStyleModel",
            "description_width": "",
            "_view_module": "@jupyter-widgets/base",
            "_model_module_version": "1.5.0",
            "_view_count": null,
            "_view_module_version": "1.2.0",
            "_model_module": "@jupyter-widgets/controls"
          }
        },
        "ec2e36c9a6a547ec9c9b0305a388ddb3": {
          "model_module": "@jupyter-widgets/base",
          "model_name": "LayoutModel",
          "state": {
            "_view_name": "LayoutView",
            "grid_template_rows": null,
            "right": null,
            "justify_content": null,
            "_view_module": "@jupyter-widgets/base",
            "overflow": null,
            "_model_module_version": "1.2.0",
            "_view_count": null,
            "flex_flow": null,
            "width": null,
            "min_width": null,
            "border": null,
            "align_items": null,
            "bottom": null,
            "_model_module": "@jupyter-widgets/base",
            "top": null,
            "grid_column": null,
            "overflow_y": null,
            "overflow_x": null,
            "grid_auto_flow": null,
            "grid_area": null,
            "grid_template_columns": null,
            "flex": null,
            "_model_name": "LayoutModel",
            "justify_items": null,
            "grid_row": null,
            "max_height": null,
            "align_content": null,
            "visibility": null,
            "align_self": null,
            "height": null,
            "min_height": null,
            "padding": null,
            "grid_auto_rows": null,
            "grid_gap": null,
            "max_width": null,
            "order": null,
            "_view_module_version": "1.2.0",
            "grid_template_areas": null,
            "object_position": null,
            "object_fit": null,
            "grid_auto_columns": null,
            "margin": null,
            "display": null,
            "left": null
          }
        },
        "4427aa1c163b49ceb42e20424a72edb0": {
          "model_module": "@jupyter-widgets/controls",
          "model_name": "DescriptionStyleModel",
          "state": {
            "_view_name": "StyleView",
            "_model_name": "DescriptionStyleModel",
            "description_width": "",
            "_view_module": "@jupyter-widgets/base",
            "_model_module_version": "1.5.0",
            "_view_count": null,
            "_view_module_version": "1.2.0",
            "_model_module": "@jupyter-widgets/controls"
          }
        },
        "93c9794a24d74dda9c1e3f8b96922fd0": {
          "model_module": "@jupyter-widgets/base",
          "model_name": "LayoutModel",
          "state": {
            "_view_name": "LayoutView",
            "grid_template_rows": null,
            "right": null,
            "justify_content": null,
            "_view_module": "@jupyter-widgets/base",
            "overflow": null,
            "_model_module_version": "1.2.0",
            "_view_count": null,
            "flex_flow": null,
            "width": null,
            "min_width": null,
            "border": null,
            "align_items": null,
            "bottom": null,
            "_model_module": "@jupyter-widgets/base",
            "top": null,
            "grid_column": null,
            "overflow_y": null,
            "overflow_x": null,
            "grid_auto_flow": null,
            "grid_area": null,
            "grid_template_columns": null,
            "flex": null,
            "_model_name": "LayoutModel",
            "justify_items": null,
            "grid_row": null,
            "max_height": null,
            "align_content": null,
            "visibility": null,
            "align_self": null,
            "height": null,
            "min_height": null,
            "padding": null,
            "grid_auto_rows": null,
            "grid_gap": null,
            "max_width": null,
            "order": null,
            "_view_module_version": "1.2.0",
            "grid_template_areas": null,
            "object_position": null,
            "object_fit": null,
            "grid_auto_columns": null,
            "margin": null,
            "display": null,
            "left": null
          }
        },
        "fd864a19c3714958b0aaa7c8b5b8b5bd": {
          "model_module": "@jupyter-widgets/controls",
          "model_name": "DescriptionStyleModel",
          "state": {
            "_view_name": "StyleView",
            "_model_name": "DescriptionStyleModel",
            "description_width": "",
            "_view_module": "@jupyter-widgets/base",
            "_model_module_version": "1.5.0",
            "_view_count": null,
            "_view_module_version": "1.2.0",
            "_model_module": "@jupyter-widgets/controls"
          }
        },
        "4f0c091b140e48d5a1c2cec8bf744cec": {
          "model_module": "@jupyter-widgets/base",
          "model_name": "LayoutModel",
          "state": {
            "_view_name": "LayoutView",
            "grid_template_rows": null,
            "right": null,
            "justify_content": null,
            "_view_module": "@jupyter-widgets/base",
            "overflow": null,
            "_model_module_version": "1.2.0",
            "_view_count": null,
            "flex_flow": null,
            "width": null,
            "min_width": null,
            "border": null,
            "align_items": null,
            "bottom": null,
            "_model_module": "@jupyter-widgets/base",
            "top": null,
            "grid_column": null,
            "overflow_y": null,
            "overflow_x": null,
            "grid_auto_flow": null,
            "grid_area": null,
            "grid_template_columns": null,
            "flex": null,
            "_model_name": "LayoutModel",
            "justify_items": null,
            "grid_row": null,
            "max_height": null,
            "align_content": null,
            "visibility": null,
            "align_self": null,
            "height": null,
            "min_height": null,
            "padding": null,
            "grid_auto_rows": null,
            "grid_gap": null,
            "max_width": null,
            "order": null,
            "_view_module_version": "1.2.0",
            "grid_template_areas": null,
            "object_position": null,
            "object_fit": null,
            "grid_auto_columns": null,
            "margin": null,
            "display": null,
            "left": null
          }
        },
        "6dfd048baf9c4394943a46c5b6905243": {
          "model_module": "@jupyter-widgets/controls",
          "model_name": "DescriptionStyleModel",
          "state": {
            "_view_name": "StyleView",
            "_model_name": "DescriptionStyleModel",
            "description_width": "",
            "_view_module": "@jupyter-widgets/base",
            "_model_module_version": "1.5.0",
            "_view_count": null,
            "_view_module_version": "1.2.0",
            "_model_module": "@jupyter-widgets/controls"
          }
        },
        "0f1d99cdc1274351b61fec7fbaa8beed": {
          "model_module": "@jupyter-widgets/base",
          "model_name": "LayoutModel",
          "state": {
            "_view_name": "LayoutView",
            "grid_template_rows": null,
            "right": null,
            "justify_content": null,
            "_view_module": "@jupyter-widgets/base",
            "overflow": null,
            "_model_module_version": "1.2.0",
            "_view_count": null,
            "flex_flow": null,
            "width": null,
            "min_width": null,
            "border": null,
            "align_items": null,
            "bottom": null,
            "_model_module": "@jupyter-widgets/base",
            "top": null,
            "grid_column": null,
            "overflow_y": null,
            "overflow_x": null,
            "grid_auto_flow": null,
            "grid_area": null,
            "grid_template_columns": null,
            "flex": null,
            "_model_name": "LayoutModel",
            "justify_items": null,
            "grid_row": null,
            "max_height": null,
            "align_content": null,
            "visibility": null,
            "align_self": null,
            "height": null,
            "min_height": null,
            "padding": null,
            "grid_auto_rows": null,
            "grid_gap": null,
            "max_width": null,
            "order": null,
            "_view_module_version": "1.2.0",
            "grid_template_areas": null,
            "object_position": null,
            "object_fit": null,
            "grid_auto_columns": null,
            "margin": null,
            "display": null,
            "left": null
          }
        },
        "fa4201fe77e140f8821f9592a01d1d12": {
          "model_module": "@jupyter-widgets/controls",
          "model_name": "DescriptionStyleModel",
          "state": {
            "_view_name": "StyleView",
            "_model_name": "DescriptionStyleModel",
            "description_width": "",
            "_view_module": "@jupyter-widgets/base",
            "_model_module_version": "1.5.0",
            "_view_count": null,
            "_view_module_version": "1.2.0",
            "_model_module": "@jupyter-widgets/controls"
          }
        },
        "d4179a849b604e07a1d880305a239d04": {
          "model_module": "@jupyter-widgets/base",
          "model_name": "LayoutModel",
          "state": {
            "_view_name": "LayoutView",
            "grid_template_rows": null,
            "right": null,
            "justify_content": null,
            "_view_module": "@jupyter-widgets/base",
            "overflow": null,
            "_model_module_version": "1.2.0",
            "_view_count": null,
            "flex_flow": null,
            "width": null,
            "min_width": null,
            "border": null,
            "align_items": null,
            "bottom": null,
            "_model_module": "@jupyter-widgets/base",
            "top": null,
            "grid_column": null,
            "overflow_y": null,
            "overflow_x": null,
            "grid_auto_flow": null,
            "grid_area": null,
            "grid_template_columns": null,
            "flex": null,
            "_model_name": "LayoutModel",
            "justify_items": null,
            "grid_row": null,
            "max_height": null,
            "align_content": null,
            "visibility": null,
            "align_self": null,
            "height": null,
            "min_height": null,
            "padding": null,
            "grid_auto_rows": null,
            "grid_gap": null,
            "max_width": null,
            "order": null,
            "_view_module_version": "1.2.0",
            "grid_template_areas": null,
            "object_position": null,
            "object_fit": null,
            "grid_auto_columns": null,
            "margin": null,
            "display": null,
            "left": null
          }
        },
        "b5430529d5344114bb456e469defac30": {
          "model_module": "@jupyter-widgets/controls",
          "model_name": "DescriptionStyleModel",
          "state": {
            "_view_name": "StyleView",
            "_model_name": "DescriptionStyleModel",
            "description_width": "",
            "_view_module": "@jupyter-widgets/base",
            "_model_module_version": "1.5.0",
            "_view_count": null,
            "_view_module_version": "1.2.0",
            "_model_module": "@jupyter-widgets/controls"
          }
        },
        "3bc4052d22844c3a99ffda1486756cf0": {
          "model_module": "@jupyter-widgets/base",
          "model_name": "LayoutModel",
          "state": {
            "_view_name": "LayoutView",
            "grid_template_rows": null,
            "right": null,
            "justify_content": null,
            "_view_module": "@jupyter-widgets/base",
            "overflow": null,
            "_model_module_version": "1.2.0",
            "_view_count": null,
            "flex_flow": null,
            "width": null,
            "min_width": null,
            "border": null,
            "align_items": null,
            "bottom": null,
            "_model_module": "@jupyter-widgets/base",
            "top": null,
            "grid_column": null,
            "overflow_y": null,
            "overflow_x": null,
            "grid_auto_flow": null,
            "grid_area": null,
            "grid_template_columns": null,
            "flex": null,
            "_model_name": "LayoutModel",
            "justify_items": null,
            "grid_row": null,
            "max_height": null,
            "align_content": null,
            "visibility": null,
            "align_self": null,
            "height": null,
            "min_height": null,
            "padding": null,
            "grid_auto_rows": null,
            "grid_gap": null,
            "max_width": null,
            "order": null,
            "_view_module_version": "1.2.0",
            "grid_template_areas": null,
            "object_position": null,
            "object_fit": null,
            "grid_auto_columns": null,
            "margin": null,
            "display": null,
            "left": null
          }
        },
        "e21282cc736946ae9ac8ef0e94fe3920": {
          "model_module": "@jupyter-widgets/controls",
          "model_name": "DescriptionStyleModel",
          "state": {
            "_view_name": "StyleView",
            "_model_name": "DescriptionStyleModel",
            "description_width": "",
            "_view_module": "@jupyter-widgets/base",
            "_model_module_version": "1.5.0",
            "_view_count": null,
            "_view_module_version": "1.2.0",
            "_model_module": "@jupyter-widgets/controls"
          }
        },
        "b64d7652c7474390b76c1c31f51fe5cf": {
          "model_module": "@jupyter-widgets/base",
          "model_name": "LayoutModel",
          "state": {
            "_view_name": "LayoutView",
            "grid_template_rows": null,
            "right": null,
            "justify_content": null,
            "_view_module": "@jupyter-widgets/base",
            "overflow": null,
            "_model_module_version": "1.2.0",
            "_view_count": null,
            "flex_flow": null,
            "width": null,
            "min_width": null,
            "border": null,
            "align_items": null,
            "bottom": null,
            "_model_module": "@jupyter-widgets/base",
            "top": null,
            "grid_column": null,
            "overflow_y": null,
            "overflow_x": null,
            "grid_auto_flow": null,
            "grid_area": null,
            "grid_template_columns": null,
            "flex": null,
            "_model_name": "LayoutModel",
            "justify_items": null,
            "grid_row": null,
            "max_height": null,
            "align_content": null,
            "visibility": null,
            "align_self": null,
            "height": null,
            "min_height": null,
            "padding": null,
            "grid_auto_rows": null,
            "grid_gap": null,
            "max_width": null,
            "order": null,
            "_view_module_version": "1.2.0",
            "grid_template_areas": null,
            "object_position": null,
            "object_fit": null,
            "grid_auto_columns": null,
            "margin": null,
            "display": null,
            "left": null
          }
        },
        "72cf6c4c70ed4cd4b459bda59442a5b0": {
          "model_module": "@jupyter-widgets/controls",
          "model_name": "DescriptionStyleModel",
          "state": {
            "_view_name": "StyleView",
            "_model_name": "DescriptionStyleModel",
            "description_width": "",
            "_view_module": "@jupyter-widgets/base",
            "_model_module_version": "1.5.0",
            "_view_count": null,
            "_view_module_version": "1.2.0",
            "_model_module": "@jupyter-widgets/controls"
          }
        },
        "1e45e6bb542347e78e61286017b0c866": {
          "model_module": "@jupyter-widgets/base",
          "model_name": "LayoutModel",
          "state": {
            "_view_name": "LayoutView",
            "grid_template_rows": null,
            "right": null,
            "justify_content": null,
            "_view_module": "@jupyter-widgets/base",
            "overflow": null,
            "_model_module_version": "1.2.0",
            "_view_count": null,
            "flex_flow": null,
            "width": null,
            "min_width": null,
            "border": null,
            "align_items": null,
            "bottom": null,
            "_model_module": "@jupyter-widgets/base",
            "top": null,
            "grid_column": null,
            "overflow_y": null,
            "overflow_x": null,
            "grid_auto_flow": null,
            "grid_area": null,
            "grid_template_columns": null,
            "flex": null,
            "_model_name": "LayoutModel",
            "justify_items": null,
            "grid_row": null,
            "max_height": null,
            "align_content": null,
            "visibility": null,
            "align_self": null,
            "height": null,
            "min_height": null,
            "padding": null,
            "grid_auto_rows": null,
            "grid_gap": null,
            "max_width": null,
            "order": null,
            "_view_module_version": "1.2.0",
            "grid_template_areas": null,
            "object_position": null,
            "object_fit": null,
            "grid_auto_columns": null,
            "margin": null,
            "display": null,
            "left": null
          }
        },
        "29fcfa90a9cc45d4a9d5e29103139533": {
          "model_module": "@jupyter-widgets/controls",
          "model_name": "DescriptionStyleModel",
          "state": {
            "_view_name": "StyleView",
            "_model_name": "DescriptionStyleModel",
            "description_width": "",
            "_view_module": "@jupyter-widgets/base",
            "_model_module_version": "1.5.0",
            "_view_count": null,
            "_view_module_version": "1.2.0",
            "_model_module": "@jupyter-widgets/controls"
          }
        },
        "dd816b1c08c948e2bb4ea7d31ecdb869": {
          "model_module": "@jupyter-widgets/base",
          "model_name": "LayoutModel",
          "state": {
            "_view_name": "LayoutView",
            "grid_template_rows": null,
            "right": null,
            "justify_content": null,
            "_view_module": "@jupyter-widgets/base",
            "overflow": null,
            "_model_module_version": "1.2.0",
            "_view_count": null,
            "flex_flow": null,
            "width": null,
            "min_width": null,
            "border": null,
            "align_items": null,
            "bottom": null,
            "_model_module": "@jupyter-widgets/base",
            "top": null,
            "grid_column": null,
            "overflow_y": null,
            "overflow_x": null,
            "grid_auto_flow": null,
            "grid_area": null,
            "grid_template_columns": null,
            "flex": null,
            "_model_name": "LayoutModel",
            "justify_items": null,
            "grid_row": null,
            "max_height": null,
            "align_content": null,
            "visibility": null,
            "align_self": null,
            "height": null,
            "min_height": null,
            "padding": null,
            "grid_auto_rows": null,
            "grid_gap": null,
            "max_width": null,
            "order": null,
            "_view_module_version": "1.2.0",
            "grid_template_areas": null,
            "object_position": null,
            "object_fit": null,
            "grid_auto_columns": null,
            "margin": null,
            "display": null,
            "left": null
          }
        },
        "b32c2d007dc749b0b093886596a78fe0": {
          "model_module": "@jupyter-widgets/controls",
          "model_name": "DescriptionStyleModel",
          "state": {
            "_view_name": "StyleView",
            "_model_name": "DescriptionStyleModel",
            "description_width": "",
            "_view_module": "@jupyter-widgets/base",
            "_model_module_version": "1.5.0",
            "_view_count": null,
            "_view_module_version": "1.2.0",
            "_model_module": "@jupyter-widgets/controls"
          }
        },
        "75765ffb7916403fb9a45d3edddbd10e": {
          "model_module": "@jupyter-widgets/base",
          "model_name": "LayoutModel",
          "state": {
            "_view_name": "LayoutView",
            "grid_template_rows": null,
            "right": null,
            "justify_content": null,
            "_view_module": "@jupyter-widgets/base",
            "overflow": null,
            "_model_module_version": "1.2.0",
            "_view_count": null,
            "flex_flow": null,
            "width": null,
            "min_width": null,
            "border": null,
            "align_items": null,
            "bottom": null,
            "_model_module": "@jupyter-widgets/base",
            "top": null,
            "grid_column": null,
            "overflow_y": null,
            "overflow_x": null,
            "grid_auto_flow": null,
            "grid_area": null,
            "grid_template_columns": null,
            "flex": null,
            "_model_name": "LayoutModel",
            "justify_items": null,
            "grid_row": null,
            "max_height": null,
            "align_content": null,
            "visibility": null,
            "align_self": null,
            "height": null,
            "min_height": null,
            "padding": null,
            "grid_auto_rows": null,
            "grid_gap": null,
            "max_width": null,
            "order": null,
            "_view_module_version": "1.2.0",
            "grid_template_areas": null,
            "object_position": null,
            "object_fit": null,
            "grid_auto_columns": null,
            "margin": null,
            "display": null,
            "left": null
          }
        },
        "d68f8a813da64e0394190941ebc84067": {
          "model_module": "@jupyter-widgets/controls",
          "model_name": "DescriptionStyleModel",
          "state": {
            "_view_name": "StyleView",
            "_model_name": "DescriptionStyleModel",
            "description_width": "",
            "_view_module": "@jupyter-widgets/base",
            "_model_module_version": "1.5.0",
            "_view_count": null,
            "_view_module_version": "1.2.0",
            "_model_module": "@jupyter-widgets/controls"
          }
        },
        "a8b341e371b345b5aaa06fd5aaffea36": {
          "model_module": "@jupyter-widgets/base",
          "model_name": "LayoutModel",
          "state": {
            "_view_name": "LayoutView",
            "grid_template_rows": null,
            "right": null,
            "justify_content": null,
            "_view_module": "@jupyter-widgets/base",
            "overflow": null,
            "_model_module_version": "1.2.0",
            "_view_count": null,
            "flex_flow": null,
            "width": null,
            "min_width": null,
            "border": null,
            "align_items": null,
            "bottom": null,
            "_model_module": "@jupyter-widgets/base",
            "top": null,
            "grid_column": null,
            "overflow_y": null,
            "overflow_x": null,
            "grid_auto_flow": null,
            "grid_area": null,
            "grid_template_columns": null,
            "flex": null,
            "_model_name": "LayoutModel",
            "justify_items": null,
            "grid_row": null,
            "max_height": null,
            "align_content": null,
            "visibility": null,
            "align_self": null,
            "height": null,
            "min_height": null,
            "padding": null,
            "grid_auto_rows": null,
            "grid_gap": null,
            "max_width": null,
            "order": null,
            "_view_module_version": "1.2.0",
            "grid_template_areas": null,
            "object_position": null,
            "object_fit": null,
            "grid_auto_columns": null,
            "margin": null,
            "display": null,
            "left": null
          }
        },
        "4dfdb1e23c53422e86d47d7766fd1755": {
          "model_module": "@jupyter-widgets/controls",
          "model_name": "DescriptionStyleModel",
          "state": {
            "_view_name": "StyleView",
            "_model_name": "DescriptionStyleModel",
            "description_width": "",
            "_view_module": "@jupyter-widgets/base",
            "_model_module_version": "1.5.0",
            "_view_count": null,
            "_view_module_version": "1.2.0",
            "_model_module": "@jupyter-widgets/controls"
          }
        },
        "bacb35098bb44536b43bc0bf9a2361f8": {
          "model_module": "@jupyter-widgets/base",
          "model_name": "LayoutModel",
          "state": {
            "_view_name": "LayoutView",
            "grid_template_rows": null,
            "right": null,
            "justify_content": null,
            "_view_module": "@jupyter-widgets/base",
            "overflow": null,
            "_model_module_version": "1.2.0",
            "_view_count": null,
            "flex_flow": null,
            "width": null,
            "min_width": null,
            "border": null,
            "align_items": null,
            "bottom": null,
            "_model_module": "@jupyter-widgets/base",
            "top": null,
            "grid_column": null,
            "overflow_y": null,
            "overflow_x": null,
            "grid_auto_flow": null,
            "grid_area": null,
            "grid_template_columns": null,
            "flex": null,
            "_model_name": "LayoutModel",
            "justify_items": null,
            "grid_row": null,
            "max_height": null,
            "align_content": null,
            "visibility": null,
            "align_self": null,
            "height": null,
            "min_height": null,
            "padding": null,
            "grid_auto_rows": null,
            "grid_gap": null,
            "max_width": null,
            "order": null,
            "_view_module_version": "1.2.0",
            "grid_template_areas": null,
            "object_position": null,
            "object_fit": null,
            "grid_auto_columns": null,
            "margin": null,
            "display": null,
            "left": null
          }
        },
        "415c7dbeacc8429ca901b758077b2ae3": {
          "model_module": "@jupyter-widgets/controls",
          "model_name": "DescriptionStyleModel",
          "state": {
            "_view_name": "StyleView",
            "_model_name": "DescriptionStyleModel",
            "description_width": "",
            "_view_module": "@jupyter-widgets/base",
            "_model_module_version": "1.5.0",
            "_view_count": null,
            "_view_module_version": "1.2.0",
            "_model_module": "@jupyter-widgets/controls"
          }
        },
        "f0f397b5b0c0482ebc23da6651e2e59b": {
          "model_module": "@jupyter-widgets/base",
          "model_name": "LayoutModel",
          "state": {
            "_view_name": "LayoutView",
            "grid_template_rows": null,
            "right": null,
            "justify_content": null,
            "_view_module": "@jupyter-widgets/base",
            "overflow": null,
            "_model_module_version": "1.2.0",
            "_view_count": null,
            "flex_flow": null,
            "width": null,
            "min_width": null,
            "border": null,
            "align_items": null,
            "bottom": null,
            "_model_module": "@jupyter-widgets/base",
            "top": null,
            "grid_column": null,
            "overflow_y": null,
            "overflow_x": null,
            "grid_auto_flow": null,
            "grid_area": null,
            "grid_template_columns": null,
            "flex": null,
            "_model_name": "LayoutModel",
            "justify_items": null,
            "grid_row": null,
            "max_height": null,
            "align_content": null,
            "visibility": null,
            "align_self": null,
            "height": null,
            "min_height": null,
            "padding": null,
            "grid_auto_rows": null,
            "grid_gap": null,
            "max_width": null,
            "order": null,
            "_view_module_version": "1.2.0",
            "grid_template_areas": null,
            "object_position": null,
            "object_fit": null,
            "grid_auto_columns": null,
            "margin": null,
            "display": null,
            "left": null
          }
        },
        "f68f8e0a160647f5b4ab3fb826f41936": {
          "model_module": "@jupyter-widgets/controls",
          "model_name": "DescriptionStyleModel",
          "state": {
            "_view_name": "StyleView",
            "_model_name": "DescriptionStyleModel",
            "description_width": "",
            "_view_module": "@jupyter-widgets/base",
            "_model_module_version": "1.5.0",
            "_view_count": null,
            "_view_module_version": "1.2.0",
            "_model_module": "@jupyter-widgets/controls"
          }
        },
        "2326703d262a4cc4ace19209ca2d91ac": {
          "model_module": "@jupyter-widgets/base",
          "model_name": "LayoutModel",
          "state": {
            "_view_name": "LayoutView",
            "grid_template_rows": null,
            "right": null,
            "justify_content": null,
            "_view_module": "@jupyter-widgets/base",
            "overflow": null,
            "_model_module_version": "1.2.0",
            "_view_count": null,
            "flex_flow": null,
            "width": null,
            "min_width": null,
            "border": null,
            "align_items": null,
            "bottom": null,
            "_model_module": "@jupyter-widgets/base",
            "top": null,
            "grid_column": null,
            "overflow_y": null,
            "overflow_x": null,
            "grid_auto_flow": null,
            "grid_area": null,
            "grid_template_columns": null,
            "flex": null,
            "_model_name": "LayoutModel",
            "justify_items": null,
            "grid_row": null,
            "max_height": null,
            "align_content": null,
            "visibility": null,
            "align_self": null,
            "height": null,
            "min_height": null,
            "padding": null,
            "grid_auto_rows": null,
            "grid_gap": null,
            "max_width": null,
            "order": null,
            "_view_module_version": "1.2.0",
            "grid_template_areas": null,
            "object_position": null,
            "object_fit": null,
            "grid_auto_columns": null,
            "margin": null,
            "display": null,
            "left": null
          }
        },
        "3c96dbfe7c524e5da80800ca4b1da1b4": {
          "model_module": "@jupyter-widgets/controls",
          "model_name": "DescriptionStyleModel",
          "state": {
            "_view_name": "StyleView",
            "_model_name": "DescriptionStyleModel",
            "description_width": "",
            "_view_module": "@jupyter-widgets/base",
            "_model_module_version": "1.5.0",
            "_view_count": null,
            "_view_module_version": "1.2.0",
            "_model_module": "@jupyter-widgets/controls"
          }
        },
        "0d2a478076c84817ac52a936be254fbe": {
          "model_module": "@jupyter-widgets/base",
          "model_name": "LayoutModel",
          "state": {
            "_view_name": "LayoutView",
            "grid_template_rows": null,
            "right": null,
            "justify_content": null,
            "_view_module": "@jupyter-widgets/base",
            "overflow": null,
            "_model_module_version": "1.2.0",
            "_view_count": null,
            "flex_flow": null,
            "width": null,
            "min_width": null,
            "border": null,
            "align_items": null,
            "bottom": null,
            "_model_module": "@jupyter-widgets/base",
            "top": null,
            "grid_column": null,
            "overflow_y": null,
            "overflow_x": null,
            "grid_auto_flow": null,
            "grid_area": null,
            "grid_template_columns": null,
            "flex": null,
            "_model_name": "LayoutModel",
            "justify_items": null,
            "grid_row": null,
            "max_height": null,
            "align_content": null,
            "visibility": null,
            "align_self": null,
            "height": null,
            "min_height": null,
            "padding": null,
            "grid_auto_rows": null,
            "grid_gap": null,
            "max_width": null,
            "order": null,
            "_view_module_version": "1.2.0",
            "grid_template_areas": null,
            "object_position": null,
            "object_fit": null,
            "grid_auto_columns": null,
            "margin": null,
            "display": null,
            "left": null
          }
        },
        "5919715dd485402f892d9dedb84ea762": {
          "model_module": "@jupyter-widgets/controls",
          "model_name": "DescriptionStyleModel",
          "state": {
            "_view_name": "StyleView",
            "_model_name": "DescriptionStyleModel",
            "description_width": "",
            "_view_module": "@jupyter-widgets/base",
            "_model_module_version": "1.5.0",
            "_view_count": null,
            "_view_module_version": "1.2.0",
            "_model_module": "@jupyter-widgets/controls"
          }
        },
        "08159ae4967746c19f4d5f0498cf634a": {
          "model_module": "@jupyter-widgets/base",
          "model_name": "LayoutModel",
          "state": {
            "_view_name": "LayoutView",
            "grid_template_rows": null,
            "right": null,
            "justify_content": null,
            "_view_module": "@jupyter-widgets/base",
            "overflow": null,
            "_model_module_version": "1.2.0",
            "_view_count": null,
            "flex_flow": null,
            "width": null,
            "min_width": null,
            "border": null,
            "align_items": null,
            "bottom": null,
            "_model_module": "@jupyter-widgets/base",
            "top": null,
            "grid_column": null,
            "overflow_y": null,
            "overflow_x": null,
            "grid_auto_flow": null,
            "grid_area": null,
            "grid_template_columns": null,
            "flex": null,
            "_model_name": "LayoutModel",
            "justify_items": null,
            "grid_row": null,
            "max_height": null,
            "align_content": null,
            "visibility": null,
            "align_self": null,
            "height": null,
            "min_height": null,
            "padding": null,
            "grid_auto_rows": null,
            "grid_gap": null,
            "max_width": null,
            "order": null,
            "_view_module_version": "1.2.0",
            "grid_template_areas": null,
            "object_position": null,
            "object_fit": null,
            "grid_auto_columns": null,
            "margin": null,
            "display": null,
            "left": null
          }
        },
        "076c28a24d9c4670a5caebdc3f0618af": {
          "model_module": "@jupyter-widgets/controls",
          "model_name": "DescriptionStyleModel",
          "state": {
            "_view_name": "StyleView",
            "_model_name": "DescriptionStyleModel",
            "description_width": "",
            "_view_module": "@jupyter-widgets/base",
            "_model_module_version": "1.5.0",
            "_view_count": null,
            "_view_module_version": "1.2.0",
            "_model_module": "@jupyter-widgets/controls"
          }
        },
        "9653e206cb464fa4b970783579bbd163": {
          "model_module": "@jupyter-widgets/base",
          "model_name": "LayoutModel",
          "state": {
            "_view_name": "LayoutView",
            "grid_template_rows": null,
            "right": null,
            "justify_content": null,
            "_view_module": "@jupyter-widgets/base",
            "overflow": null,
            "_model_module_version": "1.2.0",
            "_view_count": null,
            "flex_flow": null,
            "width": null,
            "min_width": null,
            "border": null,
            "align_items": null,
            "bottom": null,
            "_model_module": "@jupyter-widgets/base",
            "top": null,
            "grid_column": null,
            "overflow_y": null,
            "overflow_x": null,
            "grid_auto_flow": null,
            "grid_area": null,
            "grid_template_columns": null,
            "flex": null,
            "_model_name": "LayoutModel",
            "justify_items": null,
            "grid_row": null,
            "max_height": null,
            "align_content": null,
            "visibility": null,
            "align_self": null,
            "height": null,
            "min_height": null,
            "padding": null,
            "grid_auto_rows": null,
            "grid_gap": null,
            "max_width": null,
            "order": null,
            "_view_module_version": "1.2.0",
            "grid_template_areas": null,
            "object_position": null,
            "object_fit": null,
            "grid_auto_columns": null,
            "margin": null,
            "display": null,
            "left": null
          }
        },
        "6b5ea9aaee9d4128822c7b2205c41acf": {
          "model_module": "@jupyter-widgets/controls",
          "model_name": "DescriptionStyleModel",
          "state": {
            "_view_name": "StyleView",
            "_model_name": "DescriptionStyleModel",
            "description_width": "",
            "_view_module": "@jupyter-widgets/base",
            "_model_module_version": "1.5.0",
            "_view_count": null,
            "_view_module_version": "1.2.0",
            "_model_module": "@jupyter-widgets/controls"
          }
        },
        "ec39067b75a445a3a30da47642a2a2a1": {
          "model_module": "@jupyter-widgets/base",
          "model_name": "LayoutModel",
          "state": {
            "_view_name": "LayoutView",
            "grid_template_rows": null,
            "right": null,
            "justify_content": null,
            "_view_module": "@jupyter-widgets/base",
            "overflow": null,
            "_model_module_version": "1.2.0",
            "_view_count": null,
            "flex_flow": null,
            "width": null,
            "min_width": null,
            "border": null,
            "align_items": null,
            "bottom": null,
            "_model_module": "@jupyter-widgets/base",
            "top": null,
            "grid_column": null,
            "overflow_y": null,
            "overflow_x": null,
            "grid_auto_flow": null,
            "grid_area": null,
            "grid_template_columns": null,
            "flex": null,
            "_model_name": "LayoutModel",
            "justify_items": null,
            "grid_row": null,
            "max_height": null,
            "align_content": null,
            "visibility": null,
            "align_self": null,
            "height": null,
            "min_height": null,
            "padding": null,
            "grid_auto_rows": null,
            "grid_gap": null,
            "max_width": null,
            "order": null,
            "_view_module_version": "1.2.0",
            "grid_template_areas": null,
            "object_position": null,
            "object_fit": null,
            "grid_auto_columns": null,
            "margin": null,
            "display": null,
            "left": null
          }
        },
        "25a3db50ce5048dfa84f9b57ceaea492": {
          "model_module": "@jupyter-widgets/controls",
          "model_name": "DescriptionStyleModel",
          "state": {
            "_view_name": "StyleView",
            "_model_name": "DescriptionStyleModel",
            "description_width": "",
            "_view_module": "@jupyter-widgets/base",
            "_model_module_version": "1.5.0",
            "_view_count": null,
            "_view_module_version": "1.2.0",
            "_model_module": "@jupyter-widgets/controls"
          }
        },
        "fd0505cd9962422fbd2ee00a337c81ed": {
          "model_module": "@jupyter-widgets/base",
          "model_name": "LayoutModel",
          "state": {
            "_view_name": "LayoutView",
            "grid_template_rows": null,
            "right": null,
            "justify_content": null,
            "_view_module": "@jupyter-widgets/base",
            "overflow": null,
            "_model_module_version": "1.2.0",
            "_view_count": null,
            "flex_flow": null,
            "width": null,
            "min_width": null,
            "border": null,
            "align_items": null,
            "bottom": null,
            "_model_module": "@jupyter-widgets/base",
            "top": null,
            "grid_column": null,
            "overflow_y": null,
            "overflow_x": null,
            "grid_auto_flow": null,
            "grid_area": null,
            "grid_template_columns": null,
            "flex": null,
            "_model_name": "LayoutModel",
            "justify_items": null,
            "grid_row": null,
            "max_height": null,
            "align_content": null,
            "visibility": null,
            "align_self": null,
            "height": null,
            "min_height": null,
            "padding": null,
            "grid_auto_rows": null,
            "grid_gap": null,
            "max_width": null,
            "order": null,
            "_view_module_version": "1.2.0",
            "grid_template_areas": null,
            "object_position": null,
            "object_fit": null,
            "grid_auto_columns": null,
            "margin": null,
            "display": null,
            "left": null
          }
        },
        "bc93a401afdd433889c58c19e79e1130": {
          "model_module": "@jupyter-widgets/controls",
          "model_name": "DescriptionStyleModel",
          "state": {
            "_view_name": "StyleView",
            "_model_name": "DescriptionStyleModel",
            "description_width": "",
            "_view_module": "@jupyter-widgets/base",
            "_model_module_version": "1.5.0",
            "_view_count": null,
            "_view_module_version": "1.2.0",
            "_model_module": "@jupyter-widgets/controls"
          }
        },
        "50d24472464c49a6a8b8ced1c863ce4f": {
          "model_module": "@jupyter-widgets/base",
          "model_name": "LayoutModel",
          "state": {
            "_view_name": "LayoutView",
            "grid_template_rows": null,
            "right": null,
            "justify_content": null,
            "_view_module": "@jupyter-widgets/base",
            "overflow": null,
            "_model_module_version": "1.2.0",
            "_view_count": null,
            "flex_flow": null,
            "width": null,
            "min_width": null,
            "border": null,
            "align_items": null,
            "bottom": null,
            "_model_module": "@jupyter-widgets/base",
            "top": null,
            "grid_column": null,
            "overflow_y": null,
            "overflow_x": null,
            "grid_auto_flow": null,
            "grid_area": null,
            "grid_template_columns": null,
            "flex": null,
            "_model_name": "LayoutModel",
            "justify_items": null,
            "grid_row": null,
            "max_height": null,
            "align_content": null,
            "visibility": null,
            "align_self": null,
            "height": null,
            "min_height": null,
            "padding": null,
            "grid_auto_rows": null,
            "grid_gap": null,
            "max_width": null,
            "order": null,
            "_view_module_version": "1.2.0",
            "grid_template_areas": null,
            "object_position": null,
            "object_fit": null,
            "grid_auto_columns": null,
            "margin": null,
            "display": null,
            "left": null
          }
        },
        "82c395c4169a42ba8cb504f1ba59e278": {
          "model_module": "@jupyter-widgets/controls",
          "model_name": "DescriptionStyleModel",
          "state": {
            "_view_name": "StyleView",
            "_model_name": "DescriptionStyleModel",
            "description_width": "",
            "_view_module": "@jupyter-widgets/base",
            "_model_module_version": "1.5.0",
            "_view_count": null,
            "_view_module_version": "1.2.0",
            "_model_module": "@jupyter-widgets/controls"
          }
        },
        "a0d5e0c4a371417fa9e0d16e59d4d6a7": {
          "model_module": "@jupyter-widgets/base",
          "model_name": "LayoutModel",
          "state": {
            "_view_name": "LayoutView",
            "grid_template_rows": null,
            "right": null,
            "justify_content": null,
            "_view_module": "@jupyter-widgets/base",
            "overflow": null,
            "_model_module_version": "1.2.0",
            "_view_count": null,
            "flex_flow": null,
            "width": null,
            "min_width": null,
            "border": null,
            "align_items": null,
            "bottom": null,
            "_model_module": "@jupyter-widgets/base",
            "top": null,
            "grid_column": null,
            "overflow_y": null,
            "overflow_x": null,
            "grid_auto_flow": null,
            "grid_area": null,
            "grid_template_columns": null,
            "flex": null,
            "_model_name": "LayoutModel",
            "justify_items": null,
            "grid_row": null,
            "max_height": null,
            "align_content": null,
            "visibility": null,
            "align_self": null,
            "height": null,
            "min_height": null,
            "padding": null,
            "grid_auto_rows": null,
            "grid_gap": null,
            "max_width": null,
            "order": null,
            "_view_module_version": "1.2.0",
            "grid_template_areas": null,
            "object_position": null,
            "object_fit": null,
            "grid_auto_columns": null,
            "margin": null,
            "display": null,
            "left": null
          }
        },
        "73af1abf8d9941239db7c0518be07b7f": {
          "model_module": "@jupyter-widgets/controls",
          "model_name": "DescriptionStyleModel",
          "state": {
            "_view_name": "StyleView",
            "_model_name": "DescriptionStyleModel",
            "description_width": "",
            "_view_module": "@jupyter-widgets/base",
            "_model_module_version": "1.5.0",
            "_view_count": null,
            "_view_module_version": "1.2.0",
            "_model_module": "@jupyter-widgets/controls"
          }
        },
        "d317bd320ff740b78be663c994077565": {
          "model_module": "@jupyter-widgets/base",
          "model_name": "LayoutModel",
          "state": {
            "_view_name": "LayoutView",
            "grid_template_rows": null,
            "right": null,
            "justify_content": null,
            "_view_module": "@jupyter-widgets/base",
            "overflow": null,
            "_model_module_version": "1.2.0",
            "_view_count": null,
            "flex_flow": null,
            "width": null,
            "min_width": null,
            "border": null,
            "align_items": null,
            "bottom": null,
            "_model_module": "@jupyter-widgets/base",
            "top": null,
            "grid_column": null,
            "overflow_y": null,
            "overflow_x": null,
            "grid_auto_flow": null,
            "grid_area": null,
            "grid_template_columns": null,
            "flex": null,
            "_model_name": "LayoutModel",
            "justify_items": null,
            "grid_row": null,
            "max_height": null,
            "align_content": null,
            "visibility": null,
            "align_self": null,
            "height": null,
            "min_height": null,
            "padding": null,
            "grid_auto_rows": null,
            "grid_gap": null,
            "max_width": null,
            "order": null,
            "_view_module_version": "1.2.0",
            "grid_template_areas": null,
            "object_position": null,
            "object_fit": null,
            "grid_auto_columns": null,
            "margin": null,
            "display": null,
            "left": null
          }
        },
        "1b7a059cbe974c4cb70480b598366788": {
          "model_module": "@jupyter-widgets/controls",
          "model_name": "DescriptionStyleModel",
          "state": {
            "_view_name": "StyleView",
            "_model_name": "DescriptionStyleModel",
            "description_width": "",
            "_view_module": "@jupyter-widgets/base",
            "_model_module_version": "1.5.0",
            "_view_count": null,
            "_view_module_version": "1.2.0",
            "_model_module": "@jupyter-widgets/controls"
          }
        },
        "26822105e3dd456e85046967fcb779aa": {
          "model_module": "@jupyter-widgets/base",
          "model_name": "LayoutModel",
          "state": {
            "_view_name": "LayoutView",
            "grid_template_rows": null,
            "right": null,
            "justify_content": null,
            "_view_module": "@jupyter-widgets/base",
            "overflow": null,
            "_model_module_version": "1.2.0",
            "_view_count": null,
            "flex_flow": null,
            "width": null,
            "min_width": null,
            "border": null,
            "align_items": null,
            "bottom": null,
            "_model_module": "@jupyter-widgets/base",
            "top": null,
            "grid_column": null,
            "overflow_y": null,
            "overflow_x": null,
            "grid_auto_flow": null,
            "grid_area": null,
            "grid_template_columns": null,
            "flex": null,
            "_model_name": "LayoutModel",
            "justify_items": null,
            "grid_row": null,
            "max_height": null,
            "align_content": null,
            "visibility": null,
            "align_self": null,
            "height": null,
            "min_height": null,
            "padding": null,
            "grid_auto_rows": null,
            "grid_gap": null,
            "max_width": null,
            "order": null,
            "_view_module_version": "1.2.0",
            "grid_template_areas": null,
            "object_position": null,
            "object_fit": null,
            "grid_auto_columns": null,
            "margin": null,
            "display": null,
            "left": null
          }
        },
        "f207aae34cd440bf85de31ed936f70cd": {
          "model_module": "@jupyter-widgets/controls",
          "model_name": "DescriptionStyleModel",
          "state": {
            "_view_name": "StyleView",
            "_model_name": "DescriptionStyleModel",
            "description_width": "",
            "_view_module": "@jupyter-widgets/base",
            "_model_module_version": "1.5.0",
            "_view_count": null,
            "_view_module_version": "1.2.0",
            "_model_module": "@jupyter-widgets/controls"
          }
        },
        "5c9288c13b024e69b82dc1772137d041": {
          "model_module": "@jupyter-widgets/base",
          "model_name": "LayoutModel",
          "state": {
            "_view_name": "LayoutView",
            "grid_template_rows": null,
            "right": null,
            "justify_content": null,
            "_view_module": "@jupyter-widgets/base",
            "overflow": null,
            "_model_module_version": "1.2.0",
            "_view_count": null,
            "flex_flow": null,
            "width": null,
            "min_width": null,
            "border": null,
            "align_items": null,
            "bottom": null,
            "_model_module": "@jupyter-widgets/base",
            "top": null,
            "grid_column": null,
            "overflow_y": null,
            "overflow_x": null,
            "grid_auto_flow": null,
            "grid_area": null,
            "grid_template_columns": null,
            "flex": null,
            "_model_name": "LayoutModel",
            "justify_items": null,
            "grid_row": null,
            "max_height": null,
            "align_content": null,
            "visibility": null,
            "align_self": null,
            "height": null,
            "min_height": null,
            "padding": null,
            "grid_auto_rows": null,
            "grid_gap": null,
            "max_width": null,
            "order": null,
            "_view_module_version": "1.2.0",
            "grid_template_areas": null,
            "object_position": null,
            "object_fit": null,
            "grid_auto_columns": null,
            "margin": null,
            "display": null,
            "left": null
          }
        },
        "51ea4f390dc742f9adf875b06d7e5566": {
          "model_module": "@jupyter-widgets/controls",
          "model_name": "DescriptionStyleModel",
          "state": {
            "_view_name": "StyleView",
            "_model_name": "DescriptionStyleModel",
            "description_width": "",
            "_view_module": "@jupyter-widgets/base",
            "_model_module_version": "1.5.0",
            "_view_count": null,
            "_view_module_version": "1.2.0",
            "_model_module": "@jupyter-widgets/controls"
          }
        },
        "3f12837d470541c9b2761dbc0e7a53b4": {
          "model_module": "@jupyter-widgets/base",
          "model_name": "LayoutModel",
          "state": {
            "_view_name": "LayoutView",
            "grid_template_rows": null,
            "right": null,
            "justify_content": null,
            "_view_module": "@jupyter-widgets/base",
            "overflow": null,
            "_model_module_version": "1.2.0",
            "_view_count": null,
            "flex_flow": null,
            "width": null,
            "min_width": null,
            "border": null,
            "align_items": null,
            "bottom": null,
            "_model_module": "@jupyter-widgets/base",
            "top": null,
            "grid_column": null,
            "overflow_y": null,
            "overflow_x": null,
            "grid_auto_flow": null,
            "grid_area": null,
            "grid_template_columns": null,
            "flex": null,
            "_model_name": "LayoutModel",
            "justify_items": null,
            "grid_row": null,
            "max_height": null,
            "align_content": null,
            "visibility": null,
            "align_self": null,
            "height": null,
            "min_height": null,
            "padding": null,
            "grid_auto_rows": null,
            "grid_gap": null,
            "max_width": null,
            "order": null,
            "_view_module_version": "1.2.0",
            "grid_template_areas": null,
            "object_position": null,
            "object_fit": null,
            "grid_auto_columns": null,
            "margin": null,
            "display": null,
            "left": null
          }
        },
        "ccfb126c516a4a9090a9559d0f590128": {
          "model_module": "@jupyter-widgets/controls",
          "model_name": "DescriptionStyleModel",
          "state": {
            "_view_name": "StyleView",
            "_model_name": "DescriptionStyleModel",
            "description_width": "",
            "_view_module": "@jupyter-widgets/base",
            "_model_module_version": "1.5.0",
            "_view_count": null,
            "_view_module_version": "1.2.0",
            "_model_module": "@jupyter-widgets/controls"
          }
        },
        "310ed208564a4b20aa7b0934de83a1ea": {
          "model_module": "@jupyter-widgets/base",
          "model_name": "LayoutModel",
          "state": {
            "_view_name": "LayoutView",
            "grid_template_rows": null,
            "right": null,
            "justify_content": null,
            "_view_module": "@jupyter-widgets/base",
            "overflow": null,
            "_model_module_version": "1.2.0",
            "_view_count": null,
            "flex_flow": null,
            "width": null,
            "min_width": null,
            "border": null,
            "align_items": null,
            "bottom": null,
            "_model_module": "@jupyter-widgets/base",
            "top": null,
            "grid_column": null,
            "overflow_y": null,
            "overflow_x": null,
            "grid_auto_flow": null,
            "grid_area": null,
            "grid_template_columns": null,
            "flex": null,
            "_model_name": "LayoutModel",
            "justify_items": null,
            "grid_row": null,
            "max_height": null,
            "align_content": null,
            "visibility": null,
            "align_self": null,
            "height": null,
            "min_height": null,
            "padding": null,
            "grid_auto_rows": null,
            "grid_gap": null,
            "max_width": null,
            "order": null,
            "_view_module_version": "1.2.0",
            "grid_template_areas": null,
            "object_position": null,
            "object_fit": null,
            "grid_auto_columns": null,
            "margin": null,
            "display": null,
            "left": null
          }
        },
        "63ce6da9fce44392b433bf58f17fd6fd": {
          "model_module": "@jupyter-widgets/controls",
          "model_name": "DescriptionStyleModel",
          "state": {
            "_view_name": "StyleView",
            "_model_name": "DescriptionStyleModel",
            "description_width": "",
            "_view_module": "@jupyter-widgets/base",
            "_model_module_version": "1.5.0",
            "_view_count": null,
            "_view_module_version": "1.2.0",
            "_model_module": "@jupyter-widgets/controls"
          }
        },
        "c0bb6355acd34f25aa78fe17662d3c80": {
          "model_module": "@jupyter-widgets/base",
          "model_name": "LayoutModel",
          "state": {
            "_view_name": "LayoutView",
            "grid_template_rows": null,
            "right": null,
            "justify_content": null,
            "_view_module": "@jupyter-widgets/base",
            "overflow": null,
            "_model_module_version": "1.2.0",
            "_view_count": null,
            "flex_flow": null,
            "width": null,
            "min_width": null,
            "border": null,
            "align_items": null,
            "bottom": null,
            "_model_module": "@jupyter-widgets/base",
            "top": null,
            "grid_column": null,
            "overflow_y": null,
            "overflow_x": null,
            "grid_auto_flow": null,
            "grid_area": null,
            "grid_template_columns": null,
            "flex": null,
            "_model_name": "LayoutModel",
            "justify_items": null,
            "grid_row": null,
            "max_height": null,
            "align_content": null,
            "visibility": null,
            "align_self": null,
            "height": null,
            "min_height": null,
            "padding": null,
            "grid_auto_rows": null,
            "grid_gap": null,
            "max_width": null,
            "order": null,
            "_view_module_version": "1.2.0",
            "grid_template_areas": null,
            "object_position": null,
            "object_fit": null,
            "grid_auto_columns": null,
            "margin": null,
            "display": null,
            "left": null
          }
        },
        "5c2ff6319e6e4bfb950d0888f6c21f51": {
          "model_module": "@jupyter-widgets/controls",
          "model_name": "DescriptionStyleModel",
          "state": {
            "_view_name": "StyleView",
            "_model_name": "DescriptionStyleModel",
            "description_width": "",
            "_view_module": "@jupyter-widgets/base",
            "_model_module_version": "1.5.0",
            "_view_count": null,
            "_view_module_version": "1.2.0",
            "_model_module": "@jupyter-widgets/controls"
          }
        },
        "7957965f954b4da198942b8d689e1c3f": {
          "model_module": "@jupyter-widgets/base",
          "model_name": "LayoutModel",
          "state": {
            "_view_name": "LayoutView",
            "grid_template_rows": null,
            "right": null,
            "justify_content": null,
            "_view_module": "@jupyter-widgets/base",
            "overflow": null,
            "_model_module_version": "1.2.0",
            "_view_count": null,
            "flex_flow": null,
            "width": null,
            "min_width": null,
            "border": null,
            "align_items": null,
            "bottom": null,
            "_model_module": "@jupyter-widgets/base",
            "top": null,
            "grid_column": null,
            "overflow_y": null,
            "overflow_x": null,
            "grid_auto_flow": null,
            "grid_area": null,
            "grid_template_columns": null,
            "flex": null,
            "_model_name": "LayoutModel",
            "justify_items": null,
            "grid_row": null,
            "max_height": null,
            "align_content": null,
            "visibility": null,
            "align_self": null,
            "height": null,
            "min_height": null,
            "padding": null,
            "grid_auto_rows": null,
            "grid_gap": null,
            "max_width": null,
            "order": null,
            "_view_module_version": "1.2.0",
            "grid_template_areas": null,
            "object_position": null,
            "object_fit": null,
            "grid_auto_columns": null,
            "margin": null,
            "display": null,
            "left": null
          }
        },
        "0b597e17c16441f1aabd91d4ee7a4569": {
          "model_module": "@jupyter-widgets/controls",
          "model_name": "DescriptionStyleModel",
          "state": {
            "_view_name": "StyleView",
            "_model_name": "DescriptionStyleModel",
            "description_width": "",
            "_view_module": "@jupyter-widgets/base",
            "_model_module_version": "1.5.0",
            "_view_count": null,
            "_view_module_version": "1.2.0",
            "_model_module": "@jupyter-widgets/controls"
          }
        },
        "848b33d230744b3a882080556a749c5f": {
          "model_module": "@jupyter-widgets/base",
          "model_name": "LayoutModel",
          "state": {
            "_view_name": "LayoutView",
            "grid_template_rows": null,
            "right": null,
            "justify_content": null,
            "_view_module": "@jupyter-widgets/base",
            "overflow": null,
            "_model_module_version": "1.2.0",
            "_view_count": null,
            "flex_flow": null,
            "width": null,
            "min_width": null,
            "border": null,
            "align_items": null,
            "bottom": null,
            "_model_module": "@jupyter-widgets/base",
            "top": null,
            "grid_column": null,
            "overflow_y": null,
            "overflow_x": null,
            "grid_auto_flow": null,
            "grid_area": null,
            "grid_template_columns": null,
            "flex": null,
            "_model_name": "LayoutModel",
            "justify_items": null,
            "grid_row": null,
            "max_height": null,
            "align_content": null,
            "visibility": null,
            "align_self": null,
            "height": null,
            "min_height": null,
            "padding": null,
            "grid_auto_rows": null,
            "grid_gap": null,
            "max_width": null,
            "order": null,
            "_view_module_version": "1.2.0",
            "grid_template_areas": null,
            "object_position": null,
            "object_fit": null,
            "grid_auto_columns": null,
            "margin": null,
            "display": null,
            "left": null
          }
        },
        "3277aad9d70d4f8b8ca32e423a881124": {
          "model_module": "@jupyter-widgets/controls",
          "model_name": "DescriptionStyleModel",
          "state": {
            "_view_name": "StyleView",
            "_model_name": "DescriptionStyleModel",
            "description_width": "",
            "_view_module": "@jupyter-widgets/base",
            "_model_module_version": "1.5.0",
            "_view_count": null,
            "_view_module_version": "1.2.0",
            "_model_module": "@jupyter-widgets/controls"
          }
        },
        "60cdad8fb7164e848ee2c925e7f7d03e": {
          "model_module": "@jupyter-widgets/base",
          "model_name": "LayoutModel",
          "state": {
            "_view_name": "LayoutView",
            "grid_template_rows": null,
            "right": null,
            "justify_content": null,
            "_view_module": "@jupyter-widgets/base",
            "overflow": null,
            "_model_module_version": "1.2.0",
            "_view_count": null,
            "flex_flow": null,
            "width": null,
            "min_width": null,
            "border": null,
            "align_items": null,
            "bottom": null,
            "_model_module": "@jupyter-widgets/base",
            "top": null,
            "grid_column": null,
            "overflow_y": null,
            "overflow_x": null,
            "grid_auto_flow": null,
            "grid_area": null,
            "grid_template_columns": null,
            "flex": null,
            "_model_name": "LayoutModel",
            "justify_items": null,
            "grid_row": null,
            "max_height": null,
            "align_content": null,
            "visibility": null,
            "align_self": null,
            "height": null,
            "min_height": null,
            "padding": null,
            "grid_auto_rows": null,
            "grid_gap": null,
            "max_width": null,
            "order": null,
            "_view_module_version": "1.2.0",
            "grid_template_areas": null,
            "object_position": null,
            "object_fit": null,
            "grid_auto_columns": null,
            "margin": null,
            "display": null,
            "left": null
          }
        },
        "960676ae78764e46999d21d0d95a58d7": {
          "model_module": "@jupyter-widgets/controls",
          "model_name": "DescriptionStyleModel",
          "state": {
            "_view_name": "StyleView",
            "_model_name": "DescriptionStyleModel",
            "description_width": "",
            "_view_module": "@jupyter-widgets/base",
            "_model_module_version": "1.5.0",
            "_view_count": null,
            "_view_module_version": "1.2.0",
            "_model_module": "@jupyter-widgets/controls"
          }
        },
        "8a5c465663c643b3a0345cafd422fb90": {
          "model_module": "@jupyter-widgets/base",
          "model_name": "LayoutModel",
          "state": {
            "_view_name": "LayoutView",
            "grid_template_rows": null,
            "right": null,
            "justify_content": null,
            "_view_module": "@jupyter-widgets/base",
            "overflow": null,
            "_model_module_version": "1.2.0",
            "_view_count": null,
            "flex_flow": null,
            "width": null,
            "min_width": null,
            "border": null,
            "align_items": null,
            "bottom": null,
            "_model_module": "@jupyter-widgets/base",
            "top": null,
            "grid_column": null,
            "overflow_y": null,
            "overflow_x": null,
            "grid_auto_flow": null,
            "grid_area": null,
            "grid_template_columns": null,
            "flex": null,
            "_model_name": "LayoutModel",
            "justify_items": null,
            "grid_row": null,
            "max_height": null,
            "align_content": null,
            "visibility": null,
            "align_self": null,
            "height": null,
            "min_height": null,
            "padding": null,
            "grid_auto_rows": null,
            "grid_gap": null,
            "max_width": null,
            "order": null,
            "_view_module_version": "1.2.0",
            "grid_template_areas": null,
            "object_position": null,
            "object_fit": null,
            "grid_auto_columns": null,
            "margin": null,
            "display": null,
            "left": null
          }
        },
        "e0f954a19a5749169dd8313aaf8e8e81": {
          "model_module": "@jupyter-widgets/controls",
          "model_name": "DescriptionStyleModel",
          "state": {
            "_view_name": "StyleView",
            "_model_name": "DescriptionStyleModel",
            "description_width": "",
            "_view_module": "@jupyter-widgets/base",
            "_model_module_version": "1.5.0",
            "_view_count": null,
            "_view_module_version": "1.2.0",
            "_model_module": "@jupyter-widgets/controls"
          }
        },
        "261edee28b25492ca40883db51b0f993": {
          "model_module": "@jupyter-widgets/base",
          "model_name": "LayoutModel",
          "state": {
            "_view_name": "LayoutView",
            "grid_template_rows": null,
            "right": null,
            "justify_content": null,
            "_view_module": "@jupyter-widgets/base",
            "overflow": null,
            "_model_module_version": "1.2.0",
            "_view_count": null,
            "flex_flow": null,
            "width": null,
            "min_width": null,
            "border": null,
            "align_items": null,
            "bottom": null,
            "_model_module": "@jupyter-widgets/base",
            "top": null,
            "grid_column": null,
            "overflow_y": null,
            "overflow_x": null,
            "grid_auto_flow": null,
            "grid_area": null,
            "grid_template_columns": null,
            "flex": null,
            "_model_name": "LayoutModel",
            "justify_items": null,
            "grid_row": null,
            "max_height": null,
            "align_content": null,
            "visibility": null,
            "align_self": null,
            "height": null,
            "min_height": null,
            "padding": null,
            "grid_auto_rows": null,
            "grid_gap": null,
            "max_width": null,
            "order": null,
            "_view_module_version": "1.2.0",
            "grid_template_areas": null,
            "object_position": null,
            "object_fit": null,
            "grid_auto_columns": null,
            "margin": null,
            "display": null,
            "left": null
          }
        },
        "2c48cdfabcb44cebbb7099b1afef127b": {
          "model_module": "@jupyter-widgets/controls",
          "model_name": "DescriptionStyleModel",
          "state": {
            "_view_name": "StyleView",
            "_model_name": "DescriptionStyleModel",
            "description_width": "",
            "_view_module": "@jupyter-widgets/base",
            "_model_module_version": "1.5.0",
            "_view_count": null,
            "_view_module_version": "1.2.0",
            "_model_module": "@jupyter-widgets/controls"
          }
        },
        "493f9dbc36bb4e81ab5874508b0af5f9": {
          "model_module": "@jupyter-widgets/base",
          "model_name": "LayoutModel",
          "state": {
            "_view_name": "LayoutView",
            "grid_template_rows": null,
            "right": null,
            "justify_content": null,
            "_view_module": "@jupyter-widgets/base",
            "overflow": null,
            "_model_module_version": "1.2.0",
            "_view_count": null,
            "flex_flow": null,
            "width": null,
            "min_width": null,
            "border": null,
            "align_items": null,
            "bottom": null,
            "_model_module": "@jupyter-widgets/base",
            "top": null,
            "grid_column": null,
            "overflow_y": null,
            "overflow_x": null,
            "grid_auto_flow": null,
            "grid_area": null,
            "grid_template_columns": null,
            "flex": null,
            "_model_name": "LayoutModel",
            "justify_items": null,
            "grid_row": null,
            "max_height": null,
            "align_content": null,
            "visibility": null,
            "align_self": null,
            "height": null,
            "min_height": null,
            "padding": null,
            "grid_auto_rows": null,
            "grid_gap": null,
            "max_width": null,
            "order": null,
            "_view_module_version": "1.2.0",
            "grid_template_areas": null,
            "object_position": null,
            "object_fit": null,
            "grid_auto_columns": null,
            "margin": null,
            "display": null,
            "left": null
          }
        },
        "080ff85cb1b74c47be00a028dd8c808d": {
          "model_module": "@jupyter-widgets/controls",
          "model_name": "DescriptionStyleModel",
          "state": {
            "_view_name": "StyleView",
            "_model_name": "DescriptionStyleModel",
            "description_width": "",
            "_view_module": "@jupyter-widgets/base",
            "_model_module_version": "1.5.0",
            "_view_count": null,
            "_view_module_version": "1.2.0",
            "_model_module": "@jupyter-widgets/controls"
          }
        },
        "b982cb8b32464baca9de31ea812a7026": {
          "model_module": "@jupyter-widgets/base",
          "model_name": "LayoutModel",
          "state": {
            "_view_name": "LayoutView",
            "grid_template_rows": null,
            "right": null,
            "justify_content": null,
            "_view_module": "@jupyter-widgets/base",
            "overflow": null,
            "_model_module_version": "1.2.0",
            "_view_count": null,
            "flex_flow": null,
            "width": null,
            "min_width": null,
            "border": null,
            "align_items": null,
            "bottom": null,
            "_model_module": "@jupyter-widgets/base",
            "top": null,
            "grid_column": null,
            "overflow_y": null,
            "overflow_x": null,
            "grid_auto_flow": null,
            "grid_area": null,
            "grid_template_columns": null,
            "flex": null,
            "_model_name": "LayoutModel",
            "justify_items": null,
            "grid_row": null,
            "max_height": null,
            "align_content": null,
            "visibility": null,
            "align_self": null,
            "height": null,
            "min_height": null,
            "padding": null,
            "grid_auto_rows": null,
            "grid_gap": null,
            "max_width": null,
            "order": null,
            "_view_module_version": "1.2.0",
            "grid_template_areas": null,
            "object_position": null,
            "object_fit": null,
            "grid_auto_columns": null,
            "margin": null,
            "display": null,
            "left": null
          }
        },
        "3be97376cc0e476992650c773d2182c4": {
          "model_module": "@jupyter-widgets/controls",
          "model_name": "DescriptionStyleModel",
          "state": {
            "_view_name": "StyleView",
            "_model_name": "DescriptionStyleModel",
            "description_width": "",
            "_view_module": "@jupyter-widgets/base",
            "_model_module_version": "1.5.0",
            "_view_count": null,
            "_view_module_version": "1.2.0",
            "_model_module": "@jupyter-widgets/controls"
          }
        },
        "6a6271224dff466887a575a88039594b": {
          "model_module": "@jupyter-widgets/base",
          "model_name": "LayoutModel",
          "state": {
            "_view_name": "LayoutView",
            "grid_template_rows": null,
            "right": null,
            "justify_content": null,
            "_view_module": "@jupyter-widgets/base",
            "overflow": null,
            "_model_module_version": "1.2.0",
            "_view_count": null,
            "flex_flow": null,
            "width": null,
            "min_width": null,
            "border": null,
            "align_items": null,
            "bottom": null,
            "_model_module": "@jupyter-widgets/base",
            "top": null,
            "grid_column": null,
            "overflow_y": null,
            "overflow_x": null,
            "grid_auto_flow": null,
            "grid_area": null,
            "grid_template_columns": null,
            "flex": null,
            "_model_name": "LayoutModel",
            "justify_items": null,
            "grid_row": null,
            "max_height": null,
            "align_content": null,
            "visibility": null,
            "align_self": null,
            "height": null,
            "min_height": null,
            "padding": null,
            "grid_auto_rows": null,
            "grid_gap": null,
            "max_width": null,
            "order": null,
            "_view_module_version": "1.2.0",
            "grid_template_areas": null,
            "object_position": null,
            "object_fit": null,
            "grid_auto_columns": null,
            "margin": null,
            "display": null,
            "left": null
          }
        },
        "6dbce832063d4a53846189473464c68c": {
          "model_module": "@jupyter-widgets/controls",
          "model_name": "DescriptionStyleModel",
          "state": {
            "_view_name": "StyleView",
            "_model_name": "DescriptionStyleModel",
            "description_width": "",
            "_view_module": "@jupyter-widgets/base",
            "_model_module_version": "1.5.0",
            "_view_count": null,
            "_view_module_version": "1.2.0",
            "_model_module": "@jupyter-widgets/controls"
          }
        },
        "48bca0d618a2418abd73ae22f9b50e1a": {
          "model_module": "@jupyter-widgets/base",
          "model_name": "LayoutModel",
          "state": {
            "_view_name": "LayoutView",
            "grid_template_rows": null,
            "right": null,
            "justify_content": null,
            "_view_module": "@jupyter-widgets/base",
            "overflow": null,
            "_model_module_version": "1.2.0",
            "_view_count": null,
            "flex_flow": null,
            "width": null,
            "min_width": null,
            "border": null,
            "align_items": null,
            "bottom": null,
            "_model_module": "@jupyter-widgets/base",
            "top": null,
            "grid_column": null,
            "overflow_y": null,
            "overflow_x": null,
            "grid_auto_flow": null,
            "grid_area": null,
            "grid_template_columns": null,
            "flex": null,
            "_model_name": "LayoutModel",
            "justify_items": null,
            "grid_row": null,
            "max_height": null,
            "align_content": null,
            "visibility": null,
            "align_self": null,
            "height": null,
            "min_height": null,
            "padding": null,
            "grid_auto_rows": null,
            "grid_gap": null,
            "max_width": null,
            "order": null,
            "_view_module_version": "1.2.0",
            "grid_template_areas": null,
            "object_position": null,
            "object_fit": null,
            "grid_auto_columns": null,
            "margin": null,
            "display": null,
            "left": null
          }
        },
        "18eebd0772e2458bab79a81636ae471d": {
          "model_module": "@jupyter-widgets/controls",
          "model_name": "GridBoxModel",
          "state": {
            "_view_name": "GridBoxView",
            "_dom_classes": [],
            "_model_name": "GridBoxModel",
            "_view_module": "@jupyter-widgets/controls",
            "_model_module_version": "1.5.0",
            "_view_count": null,
            "_view_module_version": "1.5.0",
            "box_style": "",
            "layout": "IPY_MODEL_8d68dd3869fe4f0bbd9dced42db8919f",
            "_model_module": "@jupyter-widgets/controls",
            "children": [
              "IPY_MODEL_c0f115ce722847728ed45a1822081f9d",
              "IPY_MODEL_a63344d91ae94d8b8ea1ccaff4d69b13",
              "IPY_MODEL_86e58f4b8d5546aba6b6122863ce6101",
              "IPY_MODEL_2d0a147134734503a3780890fab765f5",
              "IPY_MODEL_ff117b67bd014b99b106c529fca3ad44",
              "IPY_MODEL_cdb92deb63ad472c9638f96c634f1fc3",
              "IPY_MODEL_cdcdf5f1e1ff4429ba50987887643bcf",
              "IPY_MODEL_c23734bcd838425ebed7f7070ceeed6a"
            ]
          }
        },
        "c0f115ce722847728ed45a1822081f9d": {
          "model_module": "@jupyter-widgets/controls",
          "model_name": "ToggleButtonModel",
          "state": {
            "_view_name": "ToggleButtonView",
            "style": "IPY_MODEL_1683ab2d218d4299a29ef1d9021c8d81",
            "_dom_classes": [],
            "description": "Canada",
            "_model_name": "ToggleButtonModel",
            "button_style": "",
            "_view_module": "@jupyter-widgets/controls",
            "_model_module_version": "1.5.0",
            "tooltip": "",
            "_view_count": null,
            "disabled": false,
            "_view_module_version": "1.5.0",
            "value": false,
            "description_tooltip": null,
            "_model_module": "@jupyter-widgets/controls",
            "layout": "IPY_MODEL_8a6a735ec4ef4710964cca0804240636",
            "icon": ""
          }
        },
        "a63344d91ae94d8b8ea1ccaff4d69b13": {
          "model_module": "@jupyter-widgets/controls",
          "model_name": "ToggleButtonModel",
          "state": {
            "_view_name": "ToggleButtonView",
            "style": "IPY_MODEL_81d8022a9511462281e3802ccd4b7a39",
            "_dom_classes": [],
            "description": "Honduras",
            "_model_name": "ToggleButtonModel",
            "button_style": "",
            "_view_module": "@jupyter-widgets/controls",
            "_model_module_version": "1.5.0",
            "tooltip": "",
            "_view_count": null,
            "disabled": false,
            "_view_module_version": "1.5.0",
            "value": false,
            "description_tooltip": null,
            "_model_module": "@jupyter-widgets/controls",
            "layout": "IPY_MODEL_20eec13a670941b09728021101b4a015",
            "icon": ""
          }
        },
        "86e58f4b8d5546aba6b6122863ce6101": {
          "model_module": "@jupyter-widgets/controls",
          "model_name": "ToggleButtonModel",
          "state": {
            "_view_name": "ToggleButtonView",
            "style": "IPY_MODEL_5f4dfee01b8d40cdb34703a19939b07f",
            "_dom_classes": [],
            "description": "Jamaica",
            "_model_name": "ToggleButtonModel",
            "button_style": "",
            "_view_module": "@jupyter-widgets/controls",
            "_model_module_version": "1.5.0",
            "tooltip": "",
            "_view_count": null,
            "disabled": false,
            "_view_module_version": "1.5.0",
            "value": false,
            "description_tooltip": null,
            "_model_module": "@jupyter-widgets/controls",
            "layout": "IPY_MODEL_3ef41f74288b497eb4076c3204b606a0",
            "icon": ""
          }
        },
        "2d0a147134734503a3780890fab765f5": {
          "model_module": "@jupyter-widgets/controls",
          "model_name": "ToggleButtonModel",
          "state": {
            "_view_name": "ToggleButtonView",
            "style": "IPY_MODEL_d12d94cf371d4c0c920bdcf72c257e58",
            "_dom_classes": [],
            "description": "Martinique",
            "_model_name": "ToggleButtonModel",
            "button_style": "",
            "_view_module": "@jupyter-widgets/controls",
            "_model_module_version": "1.5.0",
            "tooltip": "",
            "_view_count": null,
            "disabled": false,
            "_view_module_version": "1.5.0",
            "value": false,
            "description_tooltip": null,
            "_model_module": "@jupyter-widgets/controls",
            "layout": "IPY_MODEL_0157dbe8f7844e94baae262b2898680e",
            "icon": ""
          }
        },
        "ff117b67bd014b99b106c529fca3ad44": {
          "model_module": "@jupyter-widgets/controls",
          "model_name": "ToggleButtonModel",
          "state": {
            "_view_name": "ToggleButtonView",
            "style": "IPY_MODEL_3db108d4dec44c4faaab192d65fca7e3",
            "_dom_classes": [],
            "description": "Mexico",
            "_model_name": "ToggleButtonModel",
            "button_style": "",
            "_view_module": "@jupyter-widgets/controls",
            "_model_module_version": "1.5.0",
            "tooltip": "",
            "_view_count": null,
            "disabled": false,
            "_view_module_version": "1.5.0",
            "value": false,
            "description_tooltip": null,
            "_model_module": "@jupyter-widgets/controls",
            "layout": "IPY_MODEL_786601b4a53f4de9819ea6a48e57c6db",
            "icon": ""
          }
        },
        "cdb92deb63ad472c9638f96c634f1fc3": {
          "model_module": "@jupyter-widgets/controls",
          "model_name": "ToggleButtonModel",
          "state": {
            "_view_name": "ToggleButtonView",
            "style": "IPY_MODEL_fbeee01ab04a49e492c2af11825b94a3",
            "_dom_classes": [],
            "description": "Panama",
            "_model_name": "ToggleButtonModel",
            "button_style": "",
            "_view_module": "@jupyter-widgets/controls",
            "_model_module_version": "1.5.0",
            "tooltip": "",
            "_view_count": null,
            "disabled": false,
            "_view_module_version": "1.5.0",
            "value": false,
            "description_tooltip": null,
            "_model_module": "@jupyter-widgets/controls",
            "layout": "IPY_MODEL_51e7e810cc104276a21bfd3d25b9bbba",
            "icon": ""
          }
        },
        "cdcdf5f1e1ff4429ba50987887643bcf": {
          "model_module": "@jupyter-widgets/controls",
          "model_name": "ToggleButtonModel",
          "state": {
            "_view_name": "ToggleButtonView",
            "style": "IPY_MODEL_479b1ead4f8f4d88bd6304ef2c11c10e",
            "_dom_classes": [],
            "description": "Saint Martin",
            "_model_name": "ToggleButtonModel",
            "button_style": "",
            "_view_module": "@jupyter-widgets/controls",
            "_model_module_version": "1.5.0",
            "tooltip": "",
            "_view_count": null,
            "disabled": false,
            "_view_module_version": "1.5.0",
            "value": false,
            "description_tooltip": null,
            "_model_module": "@jupyter-widgets/controls",
            "layout": "IPY_MODEL_54cb48fb473142268acebe52d3376966",
            "icon": ""
          }
        },
        "c23734bcd838425ebed7f7070ceeed6a": {
          "model_module": "@jupyter-widgets/controls",
          "model_name": "ToggleButtonModel",
          "state": {
            "_view_name": "ToggleButtonView",
            "style": "IPY_MODEL_644b7bf44fc94444b69809055b61f13f",
            "_dom_classes": [],
            "description": "US",
            "_model_name": "ToggleButtonModel",
            "button_style": "",
            "_view_module": "@jupyter-widgets/controls",
            "_model_module_version": "1.5.0",
            "tooltip": "",
            "_view_count": null,
            "disabled": false,
            "_view_module_version": "1.5.0",
            "value": false,
            "description_tooltip": null,
            "_model_module": "@jupyter-widgets/controls",
            "layout": "IPY_MODEL_ffaf5337d43547a7a977af4f91385b34",
            "icon": ""
          }
        },
        "1683ab2d218d4299a29ef1d9021c8d81": {
          "model_module": "@jupyter-widgets/controls",
          "model_name": "DescriptionStyleModel",
          "state": {
            "_view_name": "StyleView",
            "_model_name": "DescriptionStyleModel",
            "description_width": "",
            "_view_module": "@jupyter-widgets/base",
            "_model_module_version": "1.5.0",
            "_view_count": null,
            "_view_module_version": "1.2.0",
            "_model_module": "@jupyter-widgets/controls"
          }
        },
        "8a6a735ec4ef4710964cca0804240636": {
          "model_module": "@jupyter-widgets/base",
          "model_name": "LayoutModel",
          "state": {
            "_view_name": "LayoutView",
            "grid_template_rows": null,
            "right": null,
            "justify_content": null,
            "_view_module": "@jupyter-widgets/base",
            "overflow": null,
            "_model_module_version": "1.2.0",
            "_view_count": null,
            "flex_flow": null,
            "width": null,
            "min_width": null,
            "border": null,
            "align_items": null,
            "bottom": null,
            "_model_module": "@jupyter-widgets/base",
            "top": null,
            "grid_column": null,
            "overflow_y": null,
            "overflow_x": null,
            "grid_auto_flow": null,
            "grid_area": null,
            "grid_template_columns": null,
            "flex": null,
            "_model_name": "LayoutModel",
            "justify_items": null,
            "grid_row": null,
            "max_height": null,
            "align_content": null,
            "visibility": null,
            "align_self": null,
            "height": null,
            "min_height": null,
            "padding": null,
            "grid_auto_rows": null,
            "grid_gap": null,
            "max_width": null,
            "order": null,
            "_view_module_version": "1.2.0",
            "grid_template_areas": null,
            "object_position": null,
            "object_fit": null,
            "grid_auto_columns": null,
            "margin": null,
            "display": null,
            "left": null
          }
        },
        "81d8022a9511462281e3802ccd4b7a39": {
          "model_module": "@jupyter-widgets/controls",
          "model_name": "DescriptionStyleModel",
          "state": {
            "_view_name": "StyleView",
            "_model_name": "DescriptionStyleModel",
            "description_width": "",
            "_view_module": "@jupyter-widgets/base",
            "_model_module_version": "1.5.0",
            "_view_count": null,
            "_view_module_version": "1.2.0",
            "_model_module": "@jupyter-widgets/controls"
          }
        },
        "20eec13a670941b09728021101b4a015": {
          "model_module": "@jupyter-widgets/base",
          "model_name": "LayoutModel",
          "state": {
            "_view_name": "LayoutView",
            "grid_template_rows": null,
            "right": null,
            "justify_content": null,
            "_view_module": "@jupyter-widgets/base",
            "overflow": null,
            "_model_module_version": "1.2.0",
            "_view_count": null,
            "flex_flow": null,
            "width": null,
            "min_width": null,
            "border": null,
            "align_items": null,
            "bottom": null,
            "_model_module": "@jupyter-widgets/base",
            "top": null,
            "grid_column": null,
            "overflow_y": null,
            "overflow_x": null,
            "grid_auto_flow": null,
            "grid_area": null,
            "grid_template_columns": null,
            "flex": null,
            "_model_name": "LayoutModel",
            "justify_items": null,
            "grid_row": null,
            "max_height": null,
            "align_content": null,
            "visibility": null,
            "align_self": null,
            "height": null,
            "min_height": null,
            "padding": null,
            "grid_auto_rows": null,
            "grid_gap": null,
            "max_width": null,
            "order": null,
            "_view_module_version": "1.2.0",
            "grid_template_areas": null,
            "object_position": null,
            "object_fit": null,
            "grid_auto_columns": null,
            "margin": null,
            "display": null,
            "left": null
          }
        },
        "5f4dfee01b8d40cdb34703a19939b07f": {
          "model_module": "@jupyter-widgets/controls",
          "model_name": "DescriptionStyleModel",
          "state": {
            "_view_name": "StyleView",
            "_model_name": "DescriptionStyleModel",
            "description_width": "",
            "_view_module": "@jupyter-widgets/base",
            "_model_module_version": "1.5.0",
            "_view_count": null,
            "_view_module_version": "1.2.0",
            "_model_module": "@jupyter-widgets/controls"
          }
        },
        "3ef41f74288b497eb4076c3204b606a0": {
          "model_module": "@jupyter-widgets/base",
          "model_name": "LayoutModel",
          "state": {
            "_view_name": "LayoutView",
            "grid_template_rows": null,
            "right": null,
            "justify_content": null,
            "_view_module": "@jupyter-widgets/base",
            "overflow": null,
            "_model_module_version": "1.2.0",
            "_view_count": null,
            "flex_flow": null,
            "width": null,
            "min_width": null,
            "border": null,
            "align_items": null,
            "bottom": null,
            "_model_module": "@jupyter-widgets/base",
            "top": null,
            "grid_column": null,
            "overflow_y": null,
            "overflow_x": null,
            "grid_auto_flow": null,
            "grid_area": null,
            "grid_template_columns": null,
            "flex": null,
            "_model_name": "LayoutModel",
            "justify_items": null,
            "grid_row": null,
            "max_height": null,
            "align_content": null,
            "visibility": null,
            "align_self": null,
            "height": null,
            "min_height": null,
            "padding": null,
            "grid_auto_rows": null,
            "grid_gap": null,
            "max_width": null,
            "order": null,
            "_view_module_version": "1.2.0",
            "grid_template_areas": null,
            "object_position": null,
            "object_fit": null,
            "grid_auto_columns": null,
            "margin": null,
            "display": null,
            "left": null
          }
        },
        "d12d94cf371d4c0c920bdcf72c257e58": {
          "model_module": "@jupyter-widgets/controls",
          "model_name": "DescriptionStyleModel",
          "state": {
            "_view_name": "StyleView",
            "_model_name": "DescriptionStyleModel",
            "description_width": "",
            "_view_module": "@jupyter-widgets/base",
            "_model_module_version": "1.5.0",
            "_view_count": null,
            "_view_module_version": "1.2.0",
            "_model_module": "@jupyter-widgets/controls"
          }
        },
        "0157dbe8f7844e94baae262b2898680e": {
          "model_module": "@jupyter-widgets/base",
          "model_name": "LayoutModel",
          "state": {
            "_view_name": "LayoutView",
            "grid_template_rows": null,
            "right": null,
            "justify_content": null,
            "_view_module": "@jupyter-widgets/base",
            "overflow": null,
            "_model_module_version": "1.2.0",
            "_view_count": null,
            "flex_flow": null,
            "width": null,
            "min_width": null,
            "border": null,
            "align_items": null,
            "bottom": null,
            "_model_module": "@jupyter-widgets/base",
            "top": null,
            "grid_column": null,
            "overflow_y": null,
            "overflow_x": null,
            "grid_auto_flow": null,
            "grid_area": null,
            "grid_template_columns": null,
            "flex": null,
            "_model_name": "LayoutModel",
            "justify_items": null,
            "grid_row": null,
            "max_height": null,
            "align_content": null,
            "visibility": null,
            "align_self": null,
            "height": null,
            "min_height": null,
            "padding": null,
            "grid_auto_rows": null,
            "grid_gap": null,
            "max_width": null,
            "order": null,
            "_view_module_version": "1.2.0",
            "grid_template_areas": null,
            "object_position": null,
            "object_fit": null,
            "grid_auto_columns": null,
            "margin": null,
            "display": null,
            "left": null
          }
        },
        "3db108d4dec44c4faaab192d65fca7e3": {
          "model_module": "@jupyter-widgets/controls",
          "model_name": "DescriptionStyleModel",
          "state": {
            "_view_name": "StyleView",
            "_model_name": "DescriptionStyleModel",
            "description_width": "",
            "_view_module": "@jupyter-widgets/base",
            "_model_module_version": "1.5.0",
            "_view_count": null,
            "_view_module_version": "1.2.0",
            "_model_module": "@jupyter-widgets/controls"
          }
        },
        "786601b4a53f4de9819ea6a48e57c6db": {
          "model_module": "@jupyter-widgets/base",
          "model_name": "LayoutModel",
          "state": {
            "_view_name": "LayoutView",
            "grid_template_rows": null,
            "right": null,
            "justify_content": null,
            "_view_module": "@jupyter-widgets/base",
            "overflow": null,
            "_model_module_version": "1.2.0",
            "_view_count": null,
            "flex_flow": null,
            "width": null,
            "min_width": null,
            "border": null,
            "align_items": null,
            "bottom": null,
            "_model_module": "@jupyter-widgets/base",
            "top": null,
            "grid_column": null,
            "overflow_y": null,
            "overflow_x": null,
            "grid_auto_flow": null,
            "grid_area": null,
            "grid_template_columns": null,
            "flex": null,
            "_model_name": "LayoutModel",
            "justify_items": null,
            "grid_row": null,
            "max_height": null,
            "align_content": null,
            "visibility": null,
            "align_self": null,
            "height": null,
            "min_height": null,
            "padding": null,
            "grid_auto_rows": null,
            "grid_gap": null,
            "max_width": null,
            "order": null,
            "_view_module_version": "1.2.0",
            "grid_template_areas": null,
            "object_position": null,
            "object_fit": null,
            "grid_auto_columns": null,
            "margin": null,
            "display": null,
            "left": null
          }
        },
        "fbeee01ab04a49e492c2af11825b94a3": {
          "model_module": "@jupyter-widgets/controls",
          "model_name": "DescriptionStyleModel",
          "state": {
            "_view_name": "StyleView",
            "_model_name": "DescriptionStyleModel",
            "description_width": "",
            "_view_module": "@jupyter-widgets/base",
            "_model_module_version": "1.5.0",
            "_view_count": null,
            "_view_module_version": "1.2.0",
            "_model_module": "@jupyter-widgets/controls"
          }
        },
        "51e7e810cc104276a21bfd3d25b9bbba": {
          "model_module": "@jupyter-widgets/base",
          "model_name": "LayoutModel",
          "state": {
            "_view_name": "LayoutView",
            "grid_template_rows": null,
            "right": null,
            "justify_content": null,
            "_view_module": "@jupyter-widgets/base",
            "overflow": null,
            "_model_module_version": "1.2.0",
            "_view_count": null,
            "flex_flow": null,
            "width": null,
            "min_width": null,
            "border": null,
            "align_items": null,
            "bottom": null,
            "_model_module": "@jupyter-widgets/base",
            "top": null,
            "grid_column": null,
            "overflow_y": null,
            "overflow_x": null,
            "grid_auto_flow": null,
            "grid_area": null,
            "grid_template_columns": null,
            "flex": null,
            "_model_name": "LayoutModel",
            "justify_items": null,
            "grid_row": null,
            "max_height": null,
            "align_content": null,
            "visibility": null,
            "align_self": null,
            "height": null,
            "min_height": null,
            "padding": null,
            "grid_auto_rows": null,
            "grid_gap": null,
            "max_width": null,
            "order": null,
            "_view_module_version": "1.2.0",
            "grid_template_areas": null,
            "object_position": null,
            "object_fit": null,
            "grid_auto_columns": null,
            "margin": null,
            "display": null,
            "left": null
          }
        },
        "479b1ead4f8f4d88bd6304ef2c11c10e": {
          "model_module": "@jupyter-widgets/controls",
          "model_name": "DescriptionStyleModel",
          "state": {
            "_view_name": "StyleView",
            "_model_name": "DescriptionStyleModel",
            "description_width": "",
            "_view_module": "@jupyter-widgets/base",
            "_model_module_version": "1.5.0",
            "_view_count": null,
            "_view_module_version": "1.2.0",
            "_model_module": "@jupyter-widgets/controls"
          }
        },
        "54cb48fb473142268acebe52d3376966": {
          "model_module": "@jupyter-widgets/base",
          "model_name": "LayoutModel",
          "state": {
            "_view_name": "LayoutView",
            "grid_template_rows": null,
            "right": null,
            "justify_content": null,
            "_view_module": "@jupyter-widgets/base",
            "overflow": null,
            "_model_module_version": "1.2.0",
            "_view_count": null,
            "flex_flow": null,
            "width": null,
            "min_width": null,
            "border": null,
            "align_items": null,
            "bottom": null,
            "_model_module": "@jupyter-widgets/base",
            "top": null,
            "grid_column": null,
            "overflow_y": null,
            "overflow_x": null,
            "grid_auto_flow": null,
            "grid_area": null,
            "grid_template_columns": null,
            "flex": null,
            "_model_name": "LayoutModel",
            "justify_items": null,
            "grid_row": null,
            "max_height": null,
            "align_content": null,
            "visibility": null,
            "align_self": null,
            "height": null,
            "min_height": null,
            "padding": null,
            "grid_auto_rows": null,
            "grid_gap": null,
            "max_width": null,
            "order": null,
            "_view_module_version": "1.2.0",
            "grid_template_areas": null,
            "object_position": null,
            "object_fit": null,
            "grid_auto_columns": null,
            "margin": null,
            "display": null,
            "left": null
          }
        },
        "644b7bf44fc94444b69809055b61f13f": {
          "model_module": "@jupyter-widgets/controls",
          "model_name": "DescriptionStyleModel",
          "state": {
            "_view_name": "StyleView",
            "_model_name": "DescriptionStyleModel",
            "description_width": "",
            "_view_module": "@jupyter-widgets/base",
            "_model_module_version": "1.5.0",
            "_view_count": null,
            "_view_module_version": "1.2.0",
            "_model_module": "@jupyter-widgets/controls"
          }
        },
        "ffaf5337d43547a7a977af4f91385b34": {
          "model_module": "@jupyter-widgets/base",
          "model_name": "LayoutModel",
          "state": {
            "_view_name": "LayoutView",
            "grid_template_rows": null,
            "right": null,
            "justify_content": null,
            "_view_module": "@jupyter-widgets/base",
            "overflow": null,
            "_model_module_version": "1.2.0",
            "_view_count": null,
            "flex_flow": null,
            "width": null,
            "min_width": null,
            "border": null,
            "align_items": null,
            "bottom": null,
            "_model_module": "@jupyter-widgets/base",
            "top": null,
            "grid_column": null,
            "overflow_y": null,
            "overflow_x": null,
            "grid_auto_flow": null,
            "grid_area": null,
            "grid_template_columns": null,
            "flex": null,
            "_model_name": "LayoutModel",
            "justify_items": null,
            "grid_row": null,
            "max_height": null,
            "align_content": null,
            "visibility": null,
            "align_self": null,
            "height": null,
            "min_height": null,
            "padding": null,
            "grid_auto_rows": null,
            "grid_gap": null,
            "max_width": null,
            "order": null,
            "_view_module_version": "1.2.0",
            "grid_template_areas": null,
            "object_position": null,
            "object_fit": null,
            "grid_auto_columns": null,
            "margin": null,
            "display": null,
            "left": null
          }
        },
        "aade1e88c7344fd1bf88a8469e51819a": {
          "model_module": "@jupyter-widgets/controls",
          "model_name": "GridBoxModel",
          "state": {
            "_view_name": "GridBoxView",
            "_dom_classes": [],
            "_model_name": "GridBoxModel",
            "_view_module": "@jupyter-widgets/controls",
            "_model_module_version": "1.5.0",
            "_view_count": null,
            "_view_module_version": "1.5.0",
            "box_style": "",
            "layout": "IPY_MODEL_8d68dd3869fe4f0bbd9dced42db8919f",
            "_model_module": "@jupyter-widgets/controls",
            "children": [
              "IPY_MODEL_4561cdf3e1f64cf1baaf2f4eb58a5a41",
              "IPY_MODEL_b0d1df3dcf804f93b7500b8ba597a6bc",
              "IPY_MODEL_f0145dbaa4a54716938d44e9c073b1e9",
              "IPY_MODEL_e723c86dad8444bfaa914059a221354d",
              "IPY_MODEL_ecde3bf194804bfb8f174d5e8ba2acf2",
              "IPY_MODEL_8967b3eae8fe46e793f5075a6e235c56",
              "IPY_MODEL_d510a5299d3e493e8fd99fa4ccecb66a",
              "IPY_MODEL_63f9d25b8f434796837e2323421962b1",
              "IPY_MODEL_6dc0929a90b347dbb3923ede1992f5f9",
              "IPY_MODEL_bfb1a3211d244475955f7e186d231e89",
              "IPY_MODEL_a7091b1b30374752aec9d49579cdf82c",
              "IPY_MODEL_3e74c357ed124d468459e30e59be3558",
              "IPY_MODEL_1a799454ee2c499f9c4687a6cb25e46f",
              "IPY_MODEL_447603350a804e65a772e73d4435cd61"
            ]
          }
        },
        "4561cdf3e1f64cf1baaf2f4eb58a5a41": {
          "model_module": "@jupyter-widgets/controls",
          "model_name": "ToggleButtonModel",
          "state": {
            "_view_name": "ToggleButtonView",
            "style": "IPY_MODEL_cfaade73c4d54a08ae2f0e2751809e11",
            "_dom_classes": [],
            "description": "Argentina",
            "_model_name": "ToggleButtonModel",
            "button_style": "",
            "_view_module": "@jupyter-widgets/controls",
            "_model_module_version": "1.5.0",
            "tooltip": "",
            "_view_count": null,
            "disabled": false,
            "_view_module_version": "1.5.0",
            "value": false,
            "description_tooltip": null,
            "_model_module": "@jupyter-widgets/controls",
            "layout": "IPY_MODEL_0b75ec183e3648d8b4892cd50b68117f",
            "icon": ""
          }
        },
        "b0d1df3dcf804f93b7500b8ba597a6bc": {
          "model_module": "@jupyter-widgets/controls",
          "model_name": "ToggleButtonModel",
          "state": {
            "_view_name": "ToggleButtonView",
            "style": "IPY_MODEL_adef25b834b94fb0b063b7393ac19aac",
            "_dom_classes": [],
            "description": "Bolivia",
            "_model_name": "ToggleButtonModel",
            "button_style": "",
            "_view_module": "@jupyter-widgets/controls",
            "_model_module_version": "1.5.0",
            "tooltip": "",
            "_view_count": null,
            "disabled": false,
            "_view_module_version": "1.5.0",
            "value": false,
            "description_tooltip": null,
            "_model_module": "@jupyter-widgets/controls",
            "layout": "IPY_MODEL_90744dc67b1c4e5c825fe51e8add1590",
            "icon": ""
          }
        },
        "f0145dbaa4a54716938d44e9c073b1e9": {
          "model_module": "@jupyter-widgets/controls",
          "model_name": "ToggleButtonModel",
          "state": {
            "_view_name": "ToggleButtonView",
            "style": "IPY_MODEL_299f27154c8044d89e8701174fa001c4",
            "_dom_classes": [],
            "description": "Brazil",
            "_model_name": "ToggleButtonModel",
            "button_style": "",
            "_view_module": "@jupyter-widgets/controls",
            "_model_module_version": "1.5.0",
            "tooltip": "",
            "_view_count": null,
            "disabled": false,
            "_view_module_version": "1.5.0",
            "value": false,
            "description_tooltip": null,
            "_model_module": "@jupyter-widgets/controls",
            "layout": "IPY_MODEL_5e73ec4b43074ced91de513c4353ac54",
            "icon": ""
          }
        },
        "e723c86dad8444bfaa914059a221354d": {
          "model_module": "@jupyter-widgets/controls",
          "model_name": "ToggleButtonModel",
          "state": {
            "_view_name": "ToggleButtonView",
            "style": "IPY_MODEL_09edc44066db46a387d9eb01c4f13d0d",
            "_dom_classes": [],
            "description": "Chile",
            "_model_name": "ToggleButtonModel",
            "button_style": "",
            "_view_module": "@jupyter-widgets/controls",
            "_model_module_version": "1.5.0",
            "tooltip": "",
            "_view_count": null,
            "disabled": false,
            "_view_module_version": "1.5.0",
            "value": false,
            "description_tooltip": null,
            "_model_module": "@jupyter-widgets/controls",
            "layout": "IPY_MODEL_0bbd0ec3359b44ed9a9d4d47c923ad20",
            "icon": ""
          }
        },
        "ecde3bf194804bfb8f174d5e8ba2acf2": {
          "model_module": "@jupyter-widgets/controls",
          "model_name": "ToggleButtonModel",
          "state": {
            "_view_name": "ToggleButtonView",
            "style": "IPY_MODEL_07c3874ddd05427d9cbff96d091d444c",
            "_dom_classes": [],
            "description": "Colombia",
            "_model_name": "ToggleButtonModel",
            "button_style": "",
            "_view_module": "@jupyter-widgets/controls",
            "_model_module_version": "1.5.0",
            "tooltip": "",
            "_view_count": null,
            "disabled": false,
            "_view_module_version": "1.5.0",
            "value": false,
            "description_tooltip": null,
            "_model_module": "@jupyter-widgets/controls",
            "layout": "IPY_MODEL_851956fad75e40519c53ca6dd38fd35b",
            "icon": ""
          }
        },
        "8967b3eae8fe46e793f5075a6e235c56": {
          "model_module": "@jupyter-widgets/controls",
          "model_name": "ToggleButtonModel",
          "state": {
            "_view_name": "ToggleButtonView",
            "style": "IPY_MODEL_fc858486012a49e49b52b57ca74ebd6d",
            "_dom_classes": [],
            "description": "Costa Rica",
            "_model_name": "ToggleButtonModel",
            "button_style": "",
            "_view_module": "@jupyter-widgets/controls",
            "_model_module_version": "1.5.0",
            "tooltip": "",
            "_view_count": null,
            "disabled": false,
            "_view_module_version": "1.5.0",
            "value": false,
            "description_tooltip": null,
            "_model_module": "@jupyter-widgets/controls",
            "layout": "IPY_MODEL_3dfc576bf70f419bb49347f27e1aad77",
            "icon": ""
          }
        },
        "d510a5299d3e493e8fd99fa4ccecb66a": {
          "model_module": "@jupyter-widgets/controls",
          "model_name": "ToggleButtonModel",
          "state": {
            "_view_name": "ToggleButtonView",
            "style": "IPY_MODEL_609f53370c8d4eedbd5b62f0838eb702",
            "_dom_classes": [],
            "description": "Dominican Republic",
            "_model_name": "ToggleButtonModel",
            "button_style": "",
            "_view_module": "@jupyter-widgets/controls",
            "_model_module_version": "1.5.0",
            "tooltip": "",
            "_view_count": null,
            "disabled": false,
            "_view_module_version": "1.5.0",
            "value": false,
            "description_tooltip": null,
            "_model_module": "@jupyter-widgets/controls",
            "layout": "IPY_MODEL_3220156ad536467ba1c5bd4f7e4427a5",
            "icon": ""
          }
        },
        "63f9d25b8f434796837e2323421962b1": {
          "model_module": "@jupyter-widgets/controls",
          "model_name": "ToggleButtonModel",
          "state": {
            "_view_name": "ToggleButtonView",
            "style": "IPY_MODEL_72d9e6eae6bb444d845124f55e8f8a78",
            "_dom_classes": [],
            "description": "Ecuador",
            "_model_name": "ToggleButtonModel",
            "button_style": "",
            "_view_module": "@jupyter-widgets/controls",
            "_model_module_version": "1.5.0",
            "tooltip": "",
            "_view_count": null,
            "disabled": false,
            "_view_module_version": "1.5.0",
            "value": false,
            "description_tooltip": null,
            "_model_module": "@jupyter-widgets/controls",
            "layout": "IPY_MODEL_f29e2dc6baef41a78692d8a40b3d18ca",
            "icon": ""
          }
        },
        "6dc0929a90b347dbb3923ede1992f5f9": {
          "model_module": "@jupyter-widgets/controls",
          "model_name": "ToggleButtonModel",
          "state": {
            "_view_name": "ToggleButtonView",
            "style": "IPY_MODEL_d684886149624da6b50dbf33d6782ba3",
            "_dom_classes": [],
            "description": "Faroe Islands",
            "_model_name": "ToggleButtonModel",
            "button_style": "",
            "_view_module": "@jupyter-widgets/controls",
            "_model_module_version": "1.5.0",
            "tooltip": "",
            "_view_count": null,
            "disabled": false,
            "_view_module_version": "1.5.0",
            "value": false,
            "description_tooltip": null,
            "_model_module": "@jupyter-widgets/controls",
            "layout": "IPY_MODEL_398d35762a2e4a5cbc63f749d0dcbb4b",
            "icon": ""
          }
        },
        "bfb1a3211d244475955f7e186d231e89": {
          "model_module": "@jupyter-widgets/controls",
          "model_name": "ToggleButtonModel",
          "state": {
            "_view_name": "ToggleButtonView",
            "style": "IPY_MODEL_4c9159cd75d3416b9e0d543ebb7d0865",
            "_dom_classes": [],
            "description": "French Guiana",
            "_model_name": "ToggleButtonModel",
            "button_style": "",
            "_view_module": "@jupyter-widgets/controls",
            "_model_module_version": "1.5.0",
            "tooltip": "",
            "_view_count": null,
            "disabled": false,
            "_view_module_version": "1.5.0",
            "value": false,
            "description_tooltip": null,
            "_model_module": "@jupyter-widgets/controls",
            "layout": "IPY_MODEL_1e268ce83e834873bf00a6e23e722b58",
            "icon": ""
          }
        },
        "a7091b1b30374752aec9d49579cdf82c": {
          "model_module": "@jupyter-widgets/controls",
          "model_name": "ToggleButtonModel",
          "state": {
            "_view_name": "ToggleButtonView",
            "style": "IPY_MODEL_53de8947853c4f95a1d7fa451bd14dd0",
            "_dom_classes": [],
            "description": "Paraguay",
            "_model_name": "ToggleButtonModel",
            "button_style": "",
            "_view_module": "@jupyter-widgets/controls",
            "_model_module_version": "1.5.0",
            "tooltip": "",
            "_view_count": null,
            "disabled": false,
            "_view_module_version": "1.5.0",
            "value": false,
            "description_tooltip": null,
            "_model_module": "@jupyter-widgets/controls",
            "layout": "IPY_MODEL_1a7f24a4e2f34881b1e4cbbd762a31c3",
            "icon": ""
          }
        },
        "3e74c357ed124d468459e30e59be3558": {
          "model_module": "@jupyter-widgets/controls",
          "model_name": "ToggleButtonModel",
          "state": {
            "_view_name": "ToggleButtonView",
            "style": "IPY_MODEL_1691cc475bba46819e42b5d8acbbe01b",
            "_dom_classes": [],
            "description": "Peru",
            "_model_name": "ToggleButtonModel",
            "button_style": "",
            "_view_module": "@jupyter-widgets/controls",
            "_model_module_version": "1.5.0",
            "tooltip": "",
            "_view_count": null,
            "disabled": false,
            "_view_module_version": "1.5.0",
            "value": false,
            "description_tooltip": null,
            "_model_module": "@jupyter-widgets/controls",
            "layout": "IPY_MODEL_a2fd1d04ed834d75b838153e4b8ab0e1",
            "icon": ""
          }
        },
        "1a799454ee2c499f9c4687a6cb25e46f": {
          "model_module": "@jupyter-widgets/controls",
          "model_name": "ToggleButtonModel",
          "state": {
            "_view_name": "ToggleButtonView",
            "style": "IPY_MODEL_b973b6e9a4c44433b4c49e430399b42d",
            "_dom_classes": [],
            "description": "Saint Barthelemy",
            "_model_name": "ToggleButtonModel",
            "button_style": "",
            "_view_module": "@jupyter-widgets/controls",
            "_model_module_version": "1.5.0",
            "tooltip": "",
            "_view_count": null,
            "disabled": false,
            "_view_module_version": "1.5.0",
            "value": false,
            "description_tooltip": null,
            "_model_module": "@jupyter-widgets/controls",
            "layout": "IPY_MODEL_a9e9071900b343b3855eac7cb5fb36dd",
            "icon": ""
          }
        },
        "447603350a804e65a772e73d4435cd61": {
          "model_module": "@jupyter-widgets/controls",
          "model_name": "ToggleButtonModel",
          "state": {
            "_view_name": "ToggleButtonView",
            "style": "IPY_MODEL_a6c38d84dfb14e51b9c000c17c3d0cb6",
            "_dom_classes": [],
            "description": "Togo",
            "_model_name": "ToggleButtonModel",
            "button_style": "",
            "_view_module": "@jupyter-widgets/controls",
            "_model_module_version": "1.5.0",
            "tooltip": "",
            "_view_count": null,
            "disabled": false,
            "_view_module_version": "1.5.0",
            "value": false,
            "description_tooltip": null,
            "_model_module": "@jupyter-widgets/controls",
            "layout": "IPY_MODEL_7b100861d43a469d9b8321e726c4d175",
            "icon": ""
          }
        },
        "cfaade73c4d54a08ae2f0e2751809e11": {
          "model_module": "@jupyter-widgets/controls",
          "model_name": "DescriptionStyleModel",
          "state": {
            "_view_name": "StyleView",
            "_model_name": "DescriptionStyleModel",
            "description_width": "",
            "_view_module": "@jupyter-widgets/base",
            "_model_module_version": "1.5.0",
            "_view_count": null,
            "_view_module_version": "1.2.0",
            "_model_module": "@jupyter-widgets/controls"
          }
        },
        "0b75ec183e3648d8b4892cd50b68117f": {
          "model_module": "@jupyter-widgets/base",
          "model_name": "LayoutModel",
          "state": {
            "_view_name": "LayoutView",
            "grid_template_rows": null,
            "right": null,
            "justify_content": null,
            "_view_module": "@jupyter-widgets/base",
            "overflow": null,
            "_model_module_version": "1.2.0",
            "_view_count": null,
            "flex_flow": null,
            "width": null,
            "min_width": null,
            "border": null,
            "align_items": null,
            "bottom": null,
            "_model_module": "@jupyter-widgets/base",
            "top": null,
            "grid_column": null,
            "overflow_y": null,
            "overflow_x": null,
            "grid_auto_flow": null,
            "grid_area": null,
            "grid_template_columns": null,
            "flex": null,
            "_model_name": "LayoutModel",
            "justify_items": null,
            "grid_row": null,
            "max_height": null,
            "align_content": null,
            "visibility": null,
            "align_self": null,
            "height": null,
            "min_height": null,
            "padding": null,
            "grid_auto_rows": null,
            "grid_gap": null,
            "max_width": null,
            "order": null,
            "_view_module_version": "1.2.0",
            "grid_template_areas": null,
            "object_position": null,
            "object_fit": null,
            "grid_auto_columns": null,
            "margin": null,
            "display": null,
            "left": null
          }
        },
        "adef25b834b94fb0b063b7393ac19aac": {
          "model_module": "@jupyter-widgets/controls",
          "model_name": "DescriptionStyleModel",
          "state": {
            "_view_name": "StyleView",
            "_model_name": "DescriptionStyleModel",
            "description_width": "",
            "_view_module": "@jupyter-widgets/base",
            "_model_module_version": "1.5.0",
            "_view_count": null,
            "_view_module_version": "1.2.0",
            "_model_module": "@jupyter-widgets/controls"
          }
        },
        "90744dc67b1c4e5c825fe51e8add1590": {
          "model_module": "@jupyter-widgets/base",
          "model_name": "LayoutModel",
          "state": {
            "_view_name": "LayoutView",
            "grid_template_rows": null,
            "right": null,
            "justify_content": null,
            "_view_module": "@jupyter-widgets/base",
            "overflow": null,
            "_model_module_version": "1.2.0",
            "_view_count": null,
            "flex_flow": null,
            "width": null,
            "min_width": null,
            "border": null,
            "align_items": null,
            "bottom": null,
            "_model_module": "@jupyter-widgets/base",
            "top": null,
            "grid_column": null,
            "overflow_y": null,
            "overflow_x": null,
            "grid_auto_flow": null,
            "grid_area": null,
            "grid_template_columns": null,
            "flex": null,
            "_model_name": "LayoutModel",
            "justify_items": null,
            "grid_row": null,
            "max_height": null,
            "align_content": null,
            "visibility": null,
            "align_self": null,
            "height": null,
            "min_height": null,
            "padding": null,
            "grid_auto_rows": null,
            "grid_gap": null,
            "max_width": null,
            "order": null,
            "_view_module_version": "1.2.0",
            "grid_template_areas": null,
            "object_position": null,
            "object_fit": null,
            "grid_auto_columns": null,
            "margin": null,
            "display": null,
            "left": null
          }
        },
        "299f27154c8044d89e8701174fa001c4": {
          "model_module": "@jupyter-widgets/controls",
          "model_name": "DescriptionStyleModel",
          "state": {
            "_view_name": "StyleView",
            "_model_name": "DescriptionStyleModel",
            "description_width": "",
            "_view_module": "@jupyter-widgets/base",
            "_model_module_version": "1.5.0",
            "_view_count": null,
            "_view_module_version": "1.2.0",
            "_model_module": "@jupyter-widgets/controls"
          }
        },
        "5e73ec4b43074ced91de513c4353ac54": {
          "model_module": "@jupyter-widgets/base",
          "model_name": "LayoutModel",
          "state": {
            "_view_name": "LayoutView",
            "grid_template_rows": null,
            "right": null,
            "justify_content": null,
            "_view_module": "@jupyter-widgets/base",
            "overflow": null,
            "_model_module_version": "1.2.0",
            "_view_count": null,
            "flex_flow": null,
            "width": null,
            "min_width": null,
            "border": null,
            "align_items": null,
            "bottom": null,
            "_model_module": "@jupyter-widgets/base",
            "top": null,
            "grid_column": null,
            "overflow_y": null,
            "overflow_x": null,
            "grid_auto_flow": null,
            "grid_area": null,
            "grid_template_columns": null,
            "flex": null,
            "_model_name": "LayoutModel",
            "justify_items": null,
            "grid_row": null,
            "max_height": null,
            "align_content": null,
            "visibility": null,
            "align_self": null,
            "height": null,
            "min_height": null,
            "padding": null,
            "grid_auto_rows": null,
            "grid_gap": null,
            "max_width": null,
            "order": null,
            "_view_module_version": "1.2.0",
            "grid_template_areas": null,
            "object_position": null,
            "object_fit": null,
            "grid_auto_columns": null,
            "margin": null,
            "display": null,
            "left": null
          }
        },
        "09edc44066db46a387d9eb01c4f13d0d": {
          "model_module": "@jupyter-widgets/controls",
          "model_name": "DescriptionStyleModel",
          "state": {
            "_view_name": "StyleView",
            "_model_name": "DescriptionStyleModel",
            "description_width": "",
            "_view_module": "@jupyter-widgets/base",
            "_model_module_version": "1.5.0",
            "_view_count": null,
            "_view_module_version": "1.2.0",
            "_model_module": "@jupyter-widgets/controls"
          }
        },
        "0bbd0ec3359b44ed9a9d4d47c923ad20": {
          "model_module": "@jupyter-widgets/base",
          "model_name": "LayoutModel",
          "state": {
            "_view_name": "LayoutView",
            "grid_template_rows": null,
            "right": null,
            "justify_content": null,
            "_view_module": "@jupyter-widgets/base",
            "overflow": null,
            "_model_module_version": "1.2.0",
            "_view_count": null,
            "flex_flow": null,
            "width": null,
            "min_width": null,
            "border": null,
            "align_items": null,
            "bottom": null,
            "_model_module": "@jupyter-widgets/base",
            "top": null,
            "grid_column": null,
            "overflow_y": null,
            "overflow_x": null,
            "grid_auto_flow": null,
            "grid_area": null,
            "grid_template_columns": null,
            "flex": null,
            "_model_name": "LayoutModel",
            "justify_items": null,
            "grid_row": null,
            "max_height": null,
            "align_content": null,
            "visibility": null,
            "align_self": null,
            "height": null,
            "min_height": null,
            "padding": null,
            "grid_auto_rows": null,
            "grid_gap": null,
            "max_width": null,
            "order": null,
            "_view_module_version": "1.2.0",
            "grid_template_areas": null,
            "object_position": null,
            "object_fit": null,
            "grid_auto_columns": null,
            "margin": null,
            "display": null,
            "left": null
          }
        },
        "07c3874ddd05427d9cbff96d091d444c": {
          "model_module": "@jupyter-widgets/controls",
          "model_name": "DescriptionStyleModel",
          "state": {
            "_view_name": "StyleView",
            "_model_name": "DescriptionStyleModel",
            "description_width": "",
            "_view_module": "@jupyter-widgets/base",
            "_model_module_version": "1.5.0",
            "_view_count": null,
            "_view_module_version": "1.2.0",
            "_model_module": "@jupyter-widgets/controls"
          }
        },
        "851956fad75e40519c53ca6dd38fd35b": {
          "model_module": "@jupyter-widgets/base",
          "model_name": "LayoutModel",
          "state": {
            "_view_name": "LayoutView",
            "grid_template_rows": null,
            "right": null,
            "justify_content": null,
            "_view_module": "@jupyter-widgets/base",
            "overflow": null,
            "_model_module_version": "1.2.0",
            "_view_count": null,
            "flex_flow": null,
            "width": null,
            "min_width": null,
            "border": null,
            "align_items": null,
            "bottom": null,
            "_model_module": "@jupyter-widgets/base",
            "top": null,
            "grid_column": null,
            "overflow_y": null,
            "overflow_x": null,
            "grid_auto_flow": null,
            "grid_area": null,
            "grid_template_columns": null,
            "flex": null,
            "_model_name": "LayoutModel",
            "justify_items": null,
            "grid_row": null,
            "max_height": null,
            "align_content": null,
            "visibility": null,
            "align_self": null,
            "height": null,
            "min_height": null,
            "padding": null,
            "grid_auto_rows": null,
            "grid_gap": null,
            "max_width": null,
            "order": null,
            "_view_module_version": "1.2.0",
            "grid_template_areas": null,
            "object_position": null,
            "object_fit": null,
            "grid_auto_columns": null,
            "margin": null,
            "display": null,
            "left": null
          }
        },
        "fc858486012a49e49b52b57ca74ebd6d": {
          "model_module": "@jupyter-widgets/controls",
          "model_name": "DescriptionStyleModel",
          "state": {
            "_view_name": "StyleView",
            "_model_name": "DescriptionStyleModel",
            "description_width": "",
            "_view_module": "@jupyter-widgets/base",
            "_model_module_version": "1.5.0",
            "_view_count": null,
            "_view_module_version": "1.2.0",
            "_model_module": "@jupyter-widgets/controls"
          }
        },
        "3dfc576bf70f419bb49347f27e1aad77": {
          "model_module": "@jupyter-widgets/base",
          "model_name": "LayoutModel",
          "state": {
            "_view_name": "LayoutView",
            "grid_template_rows": null,
            "right": null,
            "justify_content": null,
            "_view_module": "@jupyter-widgets/base",
            "overflow": null,
            "_model_module_version": "1.2.0",
            "_view_count": null,
            "flex_flow": null,
            "width": null,
            "min_width": null,
            "border": null,
            "align_items": null,
            "bottom": null,
            "_model_module": "@jupyter-widgets/base",
            "top": null,
            "grid_column": null,
            "overflow_y": null,
            "overflow_x": null,
            "grid_auto_flow": null,
            "grid_area": null,
            "grid_template_columns": null,
            "flex": null,
            "_model_name": "LayoutModel",
            "justify_items": null,
            "grid_row": null,
            "max_height": null,
            "align_content": null,
            "visibility": null,
            "align_self": null,
            "height": null,
            "min_height": null,
            "padding": null,
            "grid_auto_rows": null,
            "grid_gap": null,
            "max_width": null,
            "order": null,
            "_view_module_version": "1.2.0",
            "grid_template_areas": null,
            "object_position": null,
            "object_fit": null,
            "grid_auto_columns": null,
            "margin": null,
            "display": null,
            "left": null
          }
        },
        "609f53370c8d4eedbd5b62f0838eb702": {
          "model_module": "@jupyter-widgets/controls",
          "model_name": "DescriptionStyleModel",
          "state": {
            "_view_name": "StyleView",
            "_model_name": "DescriptionStyleModel",
            "description_width": "",
            "_view_module": "@jupyter-widgets/base",
            "_model_module_version": "1.5.0",
            "_view_count": null,
            "_view_module_version": "1.2.0",
            "_model_module": "@jupyter-widgets/controls"
          }
        },
        "3220156ad536467ba1c5bd4f7e4427a5": {
          "model_module": "@jupyter-widgets/base",
          "model_name": "LayoutModel",
          "state": {
            "_view_name": "LayoutView",
            "grid_template_rows": null,
            "right": null,
            "justify_content": null,
            "_view_module": "@jupyter-widgets/base",
            "overflow": null,
            "_model_module_version": "1.2.0",
            "_view_count": null,
            "flex_flow": null,
            "width": null,
            "min_width": null,
            "border": null,
            "align_items": null,
            "bottom": null,
            "_model_module": "@jupyter-widgets/base",
            "top": null,
            "grid_column": null,
            "overflow_y": null,
            "overflow_x": null,
            "grid_auto_flow": null,
            "grid_area": null,
            "grid_template_columns": null,
            "flex": null,
            "_model_name": "LayoutModel",
            "justify_items": null,
            "grid_row": null,
            "max_height": null,
            "align_content": null,
            "visibility": null,
            "align_self": null,
            "height": null,
            "min_height": null,
            "padding": null,
            "grid_auto_rows": null,
            "grid_gap": null,
            "max_width": null,
            "order": null,
            "_view_module_version": "1.2.0",
            "grid_template_areas": null,
            "object_position": null,
            "object_fit": null,
            "grid_auto_columns": null,
            "margin": null,
            "display": null,
            "left": null
          }
        },
        "72d9e6eae6bb444d845124f55e8f8a78": {
          "model_module": "@jupyter-widgets/controls",
          "model_name": "DescriptionStyleModel",
          "state": {
            "_view_name": "StyleView",
            "_model_name": "DescriptionStyleModel",
            "description_width": "",
            "_view_module": "@jupyter-widgets/base",
            "_model_module_version": "1.5.0",
            "_view_count": null,
            "_view_module_version": "1.2.0",
            "_model_module": "@jupyter-widgets/controls"
          }
        },
        "f29e2dc6baef41a78692d8a40b3d18ca": {
          "model_module": "@jupyter-widgets/base",
          "model_name": "LayoutModel",
          "state": {
            "_view_name": "LayoutView",
            "grid_template_rows": null,
            "right": null,
            "justify_content": null,
            "_view_module": "@jupyter-widgets/base",
            "overflow": null,
            "_model_module_version": "1.2.0",
            "_view_count": null,
            "flex_flow": null,
            "width": null,
            "min_width": null,
            "border": null,
            "align_items": null,
            "bottom": null,
            "_model_module": "@jupyter-widgets/base",
            "top": null,
            "grid_column": null,
            "overflow_y": null,
            "overflow_x": null,
            "grid_auto_flow": null,
            "grid_area": null,
            "grid_template_columns": null,
            "flex": null,
            "_model_name": "LayoutModel",
            "justify_items": null,
            "grid_row": null,
            "max_height": null,
            "align_content": null,
            "visibility": null,
            "align_self": null,
            "height": null,
            "min_height": null,
            "padding": null,
            "grid_auto_rows": null,
            "grid_gap": null,
            "max_width": null,
            "order": null,
            "_view_module_version": "1.2.0",
            "grid_template_areas": null,
            "object_position": null,
            "object_fit": null,
            "grid_auto_columns": null,
            "margin": null,
            "display": null,
            "left": null
          }
        },
        "d684886149624da6b50dbf33d6782ba3": {
          "model_module": "@jupyter-widgets/controls",
          "model_name": "DescriptionStyleModel",
          "state": {
            "_view_name": "StyleView",
            "_model_name": "DescriptionStyleModel",
            "description_width": "",
            "_view_module": "@jupyter-widgets/base",
            "_model_module_version": "1.5.0",
            "_view_count": null,
            "_view_module_version": "1.2.0",
            "_model_module": "@jupyter-widgets/controls"
          }
        },
        "398d35762a2e4a5cbc63f749d0dcbb4b": {
          "model_module": "@jupyter-widgets/base",
          "model_name": "LayoutModel",
          "state": {
            "_view_name": "LayoutView",
            "grid_template_rows": null,
            "right": null,
            "justify_content": null,
            "_view_module": "@jupyter-widgets/base",
            "overflow": null,
            "_model_module_version": "1.2.0",
            "_view_count": null,
            "flex_flow": null,
            "width": null,
            "min_width": null,
            "border": null,
            "align_items": null,
            "bottom": null,
            "_model_module": "@jupyter-widgets/base",
            "top": null,
            "grid_column": null,
            "overflow_y": null,
            "overflow_x": null,
            "grid_auto_flow": null,
            "grid_area": null,
            "grid_template_columns": null,
            "flex": null,
            "_model_name": "LayoutModel",
            "justify_items": null,
            "grid_row": null,
            "max_height": null,
            "align_content": null,
            "visibility": null,
            "align_self": null,
            "height": null,
            "min_height": null,
            "padding": null,
            "grid_auto_rows": null,
            "grid_gap": null,
            "max_width": null,
            "order": null,
            "_view_module_version": "1.2.0",
            "grid_template_areas": null,
            "object_position": null,
            "object_fit": null,
            "grid_auto_columns": null,
            "margin": null,
            "display": null,
            "left": null
          }
        },
        "4c9159cd75d3416b9e0d543ebb7d0865": {
          "model_module": "@jupyter-widgets/controls",
          "model_name": "DescriptionStyleModel",
          "state": {
            "_view_name": "StyleView",
            "_model_name": "DescriptionStyleModel",
            "description_width": "",
            "_view_module": "@jupyter-widgets/base",
            "_model_module_version": "1.5.0",
            "_view_count": null,
            "_view_module_version": "1.2.0",
            "_model_module": "@jupyter-widgets/controls"
          }
        },
        "1e268ce83e834873bf00a6e23e722b58": {
          "model_module": "@jupyter-widgets/base",
          "model_name": "LayoutModel",
          "state": {
            "_view_name": "LayoutView",
            "grid_template_rows": null,
            "right": null,
            "justify_content": null,
            "_view_module": "@jupyter-widgets/base",
            "overflow": null,
            "_model_module_version": "1.2.0",
            "_view_count": null,
            "flex_flow": null,
            "width": null,
            "min_width": null,
            "border": null,
            "align_items": null,
            "bottom": null,
            "_model_module": "@jupyter-widgets/base",
            "top": null,
            "grid_column": null,
            "overflow_y": null,
            "overflow_x": null,
            "grid_auto_flow": null,
            "grid_area": null,
            "grid_template_columns": null,
            "flex": null,
            "_model_name": "LayoutModel",
            "justify_items": null,
            "grid_row": null,
            "max_height": null,
            "align_content": null,
            "visibility": null,
            "align_self": null,
            "height": null,
            "min_height": null,
            "padding": null,
            "grid_auto_rows": null,
            "grid_gap": null,
            "max_width": null,
            "order": null,
            "_view_module_version": "1.2.0",
            "grid_template_areas": null,
            "object_position": null,
            "object_fit": null,
            "grid_auto_columns": null,
            "margin": null,
            "display": null,
            "left": null
          }
        },
        "53de8947853c4f95a1d7fa451bd14dd0": {
          "model_module": "@jupyter-widgets/controls",
          "model_name": "DescriptionStyleModel",
          "state": {
            "_view_name": "StyleView",
            "_model_name": "DescriptionStyleModel",
            "description_width": "",
            "_view_module": "@jupyter-widgets/base",
            "_model_module_version": "1.5.0",
            "_view_count": null,
            "_view_module_version": "1.2.0",
            "_model_module": "@jupyter-widgets/controls"
          }
        },
        "1a7f24a4e2f34881b1e4cbbd762a31c3": {
          "model_module": "@jupyter-widgets/base",
          "model_name": "LayoutModel",
          "state": {
            "_view_name": "LayoutView",
            "grid_template_rows": null,
            "right": null,
            "justify_content": null,
            "_view_module": "@jupyter-widgets/base",
            "overflow": null,
            "_model_module_version": "1.2.0",
            "_view_count": null,
            "flex_flow": null,
            "width": null,
            "min_width": null,
            "border": null,
            "align_items": null,
            "bottom": null,
            "_model_module": "@jupyter-widgets/base",
            "top": null,
            "grid_column": null,
            "overflow_y": null,
            "overflow_x": null,
            "grid_auto_flow": null,
            "grid_area": null,
            "grid_template_columns": null,
            "flex": null,
            "_model_name": "LayoutModel",
            "justify_items": null,
            "grid_row": null,
            "max_height": null,
            "align_content": null,
            "visibility": null,
            "align_self": null,
            "height": null,
            "min_height": null,
            "padding": null,
            "grid_auto_rows": null,
            "grid_gap": null,
            "max_width": null,
            "order": null,
            "_view_module_version": "1.2.0",
            "grid_template_areas": null,
            "object_position": null,
            "object_fit": null,
            "grid_auto_columns": null,
            "margin": null,
            "display": null,
            "left": null
          }
        },
        "1691cc475bba46819e42b5d8acbbe01b": {
          "model_module": "@jupyter-widgets/controls",
          "model_name": "DescriptionStyleModel",
          "state": {
            "_view_name": "StyleView",
            "_model_name": "DescriptionStyleModel",
            "description_width": "",
            "_view_module": "@jupyter-widgets/base",
            "_model_module_version": "1.5.0",
            "_view_count": null,
            "_view_module_version": "1.2.0",
            "_model_module": "@jupyter-widgets/controls"
          }
        },
        "a2fd1d04ed834d75b838153e4b8ab0e1": {
          "model_module": "@jupyter-widgets/base",
          "model_name": "LayoutModel",
          "state": {
            "_view_name": "LayoutView",
            "grid_template_rows": null,
            "right": null,
            "justify_content": null,
            "_view_module": "@jupyter-widgets/base",
            "overflow": null,
            "_model_module_version": "1.2.0",
            "_view_count": null,
            "flex_flow": null,
            "width": null,
            "min_width": null,
            "border": null,
            "align_items": null,
            "bottom": null,
            "_model_module": "@jupyter-widgets/base",
            "top": null,
            "grid_column": null,
            "overflow_y": null,
            "overflow_x": null,
            "grid_auto_flow": null,
            "grid_area": null,
            "grid_template_columns": null,
            "flex": null,
            "_model_name": "LayoutModel",
            "justify_items": null,
            "grid_row": null,
            "max_height": null,
            "align_content": null,
            "visibility": null,
            "align_self": null,
            "height": null,
            "min_height": null,
            "padding": null,
            "grid_auto_rows": null,
            "grid_gap": null,
            "max_width": null,
            "order": null,
            "_view_module_version": "1.2.0",
            "grid_template_areas": null,
            "object_position": null,
            "object_fit": null,
            "grid_auto_columns": null,
            "margin": null,
            "display": null,
            "left": null
          }
        },
        "b973b6e9a4c44433b4c49e430399b42d": {
          "model_module": "@jupyter-widgets/controls",
          "model_name": "DescriptionStyleModel",
          "state": {
            "_view_name": "StyleView",
            "_model_name": "DescriptionStyleModel",
            "description_width": "",
            "_view_module": "@jupyter-widgets/base",
            "_model_module_version": "1.5.0",
            "_view_count": null,
            "_view_module_version": "1.2.0",
            "_model_module": "@jupyter-widgets/controls"
          }
        },
        "a9e9071900b343b3855eac7cb5fb36dd": {
          "model_module": "@jupyter-widgets/base",
          "model_name": "LayoutModel",
          "state": {
            "_view_name": "LayoutView",
            "grid_template_rows": null,
            "right": null,
            "justify_content": null,
            "_view_module": "@jupyter-widgets/base",
            "overflow": null,
            "_model_module_version": "1.2.0",
            "_view_count": null,
            "flex_flow": null,
            "width": null,
            "min_width": null,
            "border": null,
            "align_items": null,
            "bottom": null,
            "_model_module": "@jupyter-widgets/base",
            "top": null,
            "grid_column": null,
            "overflow_y": null,
            "overflow_x": null,
            "grid_auto_flow": null,
            "grid_area": null,
            "grid_template_columns": null,
            "flex": null,
            "_model_name": "LayoutModel",
            "justify_items": null,
            "grid_row": null,
            "max_height": null,
            "align_content": null,
            "visibility": null,
            "align_self": null,
            "height": null,
            "min_height": null,
            "padding": null,
            "grid_auto_rows": null,
            "grid_gap": null,
            "max_width": null,
            "order": null,
            "_view_module_version": "1.2.0",
            "grid_template_areas": null,
            "object_position": null,
            "object_fit": null,
            "grid_auto_columns": null,
            "margin": null,
            "display": null,
            "left": null
          }
        },
        "a6c38d84dfb14e51b9c000c17c3d0cb6": {
          "model_module": "@jupyter-widgets/controls",
          "model_name": "DescriptionStyleModel",
          "state": {
            "_view_name": "StyleView",
            "_model_name": "DescriptionStyleModel",
            "description_width": "",
            "_view_module": "@jupyter-widgets/base",
            "_model_module_version": "1.5.0",
            "_view_count": null,
            "_view_module_version": "1.2.0",
            "_model_module": "@jupyter-widgets/controls"
          }
        },
        "7b100861d43a469d9b8321e726c4d175": {
          "model_module": "@jupyter-widgets/base",
          "model_name": "LayoutModel",
          "state": {
            "_view_name": "LayoutView",
            "grid_template_rows": null,
            "right": null,
            "justify_content": null,
            "_view_module": "@jupyter-widgets/base",
            "overflow": null,
            "_model_module_version": "1.2.0",
            "_view_count": null,
            "flex_flow": null,
            "width": null,
            "min_width": null,
            "border": null,
            "align_items": null,
            "bottom": null,
            "_model_module": "@jupyter-widgets/base",
            "top": null,
            "grid_column": null,
            "overflow_y": null,
            "overflow_x": null,
            "grid_auto_flow": null,
            "grid_area": null,
            "grid_template_columns": null,
            "flex": null,
            "_model_name": "LayoutModel",
            "justify_items": null,
            "grid_row": null,
            "max_height": null,
            "align_content": null,
            "visibility": null,
            "align_self": null,
            "height": null,
            "min_height": null,
            "padding": null,
            "grid_auto_rows": null,
            "grid_gap": null,
            "max_width": null,
            "order": null,
            "_view_module_version": "1.2.0",
            "grid_template_areas": null,
            "object_position": null,
            "object_fit": null,
            "grid_auto_columns": null,
            "margin": null,
            "display": null,
            "left": null
          }
        },
        "58ce6f0fca2c47d4af4562f08edeb232": {
          "model_module": "@jupyter-widgets/controls",
          "model_name": "GridBoxModel",
          "state": {
            "_view_name": "GridBoxView",
            "_dom_classes": [],
            "_model_name": "GridBoxModel",
            "_view_module": "@jupyter-widgets/controls",
            "_model_module_version": "1.5.0",
            "_view_count": null,
            "_view_module_version": "1.5.0",
            "box_style": "",
            "layout": "IPY_MODEL_8d68dd3869fe4f0bbd9dced42db8919f",
            "_model_module": "@jupyter-widgets/controls",
            "children": [
              "IPY_MODEL_73a43d60a2c44ccba710bf775e1d6212",
              "IPY_MODEL_86004bc196544fca82ec65b2b1a45627",
              "IPY_MODEL_54e8c820ff174f93897c75e07f8fa9ad",
              "IPY_MODEL_33103756fc9f4691a7a5c3a08e972fa1",
              "IPY_MODEL_5c98b8181b4545e29dd455d3a8783d94",
              "IPY_MODEL_5dfcea5cf63347499148636ab9a462d2",
              "IPY_MODEL_f2334eb234ce4f6eab8f40c0a65787fa",
              "IPY_MODEL_a886ea20b9c74639a7cbbc68ce4eb326",
              "IPY_MODEL_0e4f094ea7344bc9af191f167cdab748",
              "IPY_MODEL_7450c9cfd41e48f9a830d6907207eea5",
              "IPY_MODEL_302c48dca06f4f85a2cbceba0c86cae2",
              "IPY_MODEL_ba6cb7eaff51449cb217bd294bce390e"
            ]
          }
        },
        "73a43d60a2c44ccba710bf775e1d6212": {
          "model_module": "@jupyter-widgets/controls",
          "model_name": "ToggleButtonModel",
          "state": {
            "_view_name": "ToggleButtonView",
            "style": "IPY_MODEL_0038bf69ae07431586eee80fcdbe1950",
            "_dom_classes": [],
            "description": "Algeria",
            "_model_name": "ToggleButtonModel",
            "button_style": "",
            "_view_module": "@jupyter-widgets/controls",
            "_model_module_version": "1.5.0",
            "tooltip": "",
            "_view_count": null,
            "disabled": false,
            "_view_module_version": "1.5.0",
            "value": false,
            "description_tooltip": null,
            "_model_module": "@jupyter-widgets/controls",
            "layout": "IPY_MODEL_26fe5c83089d4f1489b293accf443341",
            "icon": ""
          }
        },
        "86004bc196544fca82ec65b2b1a45627": {
          "model_module": "@jupyter-widgets/controls",
          "model_name": "ToggleButtonModel",
          "state": {
            "_view_name": "ToggleButtonView",
            "style": "IPY_MODEL_3ec905d0c09d441ebdceeb8c52ac5df4",
            "_dom_classes": [],
            "description": "Burkina Faso",
            "_model_name": "ToggleButtonModel",
            "button_style": "",
            "_view_module": "@jupyter-widgets/controls",
            "_model_module_version": "1.5.0",
            "tooltip": "",
            "_view_count": null,
            "disabled": false,
            "_view_module_version": "1.5.0",
            "value": false,
            "description_tooltip": null,
            "_model_module": "@jupyter-widgets/controls",
            "layout": "IPY_MODEL_3040e75ab8244e99b8401234681a86b4",
            "icon": ""
          }
        },
        "54e8c820ff174f93897c75e07f8fa9ad": {
          "model_module": "@jupyter-widgets/controls",
          "model_name": "ToggleButtonModel",
          "state": {
            "_view_name": "ToggleButtonView",
            "style": "IPY_MODEL_7c5520977ba641bda0f7d0b8e41f80cb",
            "_dom_classes": [],
            "description": "Cameroon",
            "_model_name": "ToggleButtonModel",
            "button_style": "",
            "_view_module": "@jupyter-widgets/controls",
            "_model_module_version": "1.5.0",
            "tooltip": "",
            "_view_count": null,
            "disabled": false,
            "_view_module_version": "1.5.0",
            "value": false,
            "description_tooltip": null,
            "_model_module": "@jupyter-widgets/controls",
            "layout": "IPY_MODEL_61cb3c882e744836b17a606595524beb",
            "icon": ""
          }
        },
        "33103756fc9f4691a7a5c3a08e972fa1": {
          "model_module": "@jupyter-widgets/controls",
          "model_name": "ToggleButtonModel",
          "state": {
            "_view_name": "ToggleButtonView",
            "style": "IPY_MODEL_a6562b04072944708f8f0064ed8c08a8",
            "_dom_classes": [],
            "description": "Congo (Kinshasa)",
            "_model_name": "ToggleButtonModel",
            "button_style": "",
            "_view_module": "@jupyter-widgets/controls",
            "_model_module_version": "1.5.0",
            "tooltip": "",
            "_view_count": null,
            "disabled": false,
            "_view_module_version": "1.5.0",
            "value": false,
            "description_tooltip": null,
            "_model_module": "@jupyter-widgets/controls",
            "layout": "IPY_MODEL_034601c858294cf7b5d82a34ce3c75b2",
            "icon": ""
          }
        },
        "5c98b8181b4545e29dd455d3a8783d94": {
          "model_module": "@jupyter-widgets/controls",
          "model_name": "ToggleButtonModel",
          "state": {
            "_view_name": "ToggleButtonView",
            "style": "IPY_MODEL_30e79f3879ec4bd0b2bd0cb62fe10617",
            "_dom_classes": [],
            "description": "Cote d'Ivoire",
            "_model_name": "ToggleButtonModel",
            "button_style": "",
            "_view_module": "@jupyter-widgets/controls",
            "_model_module_version": "1.5.0",
            "tooltip": "",
            "_view_count": null,
            "disabled": false,
            "_view_module_version": "1.5.0",
            "value": false,
            "description_tooltip": null,
            "_model_module": "@jupyter-widgets/controls",
            "layout": "IPY_MODEL_976057a2d78241d18d50d4d7642a1294",
            "icon": ""
          }
        },
        "5dfcea5cf63347499148636ab9a462d2": {
          "model_module": "@jupyter-widgets/controls",
          "model_name": "ToggleButtonModel",
          "state": {
            "_view_name": "ToggleButtonView",
            "style": "IPY_MODEL_46ec8fff12c249ff91908447f13f92e1",
            "_dom_classes": [],
            "description": "Egypt",
            "_model_name": "ToggleButtonModel",
            "button_style": "",
            "_view_module": "@jupyter-widgets/controls",
            "_model_module_version": "1.5.0",
            "tooltip": "",
            "_view_count": null,
            "disabled": false,
            "_view_module_version": "1.5.0",
            "value": false,
            "description_tooltip": null,
            "_model_module": "@jupyter-widgets/controls",
            "layout": "IPY_MODEL_4cab7d07993e42feab510461dce210ac",
            "icon": ""
          }
        },
        "f2334eb234ce4f6eab8f40c0a65787fa": {
          "model_module": "@jupyter-widgets/controls",
          "model_name": "ToggleButtonModel",
          "state": {
            "_view_name": "ToggleButtonView",
            "style": "IPY_MODEL_ba83e5680d2a42f4aed6091bde7242ad",
            "_dom_classes": [],
            "description": "Morocco",
            "_model_name": "ToggleButtonModel",
            "button_style": "",
            "_view_module": "@jupyter-widgets/controls",
            "_model_module_version": "1.5.0",
            "tooltip": "",
            "_view_count": null,
            "disabled": false,
            "_view_module_version": "1.5.0",
            "value": false,
            "description_tooltip": null,
            "_model_module": "@jupyter-widgets/controls",
            "layout": "IPY_MODEL_85dbee42a5d74781b701b4c680d1c61f",
            "icon": ""
          }
        },
        "a886ea20b9c74639a7cbbc68ce4eb326": {
          "model_module": "@jupyter-widgets/controls",
          "model_name": "ToggleButtonModel",
          "state": {
            "_view_name": "ToggleButtonView",
            "style": "IPY_MODEL_7aea4dcfdde946dda2f177307d1924c1",
            "_dom_classes": [],
            "description": "Nigeria",
            "_model_name": "ToggleButtonModel",
            "button_style": "",
            "_view_module": "@jupyter-widgets/controls",
            "_model_module_version": "1.5.0",
            "tooltip": "",
            "_view_count": null,
            "disabled": false,
            "_view_module_version": "1.5.0",
            "value": false,
            "description_tooltip": null,
            "_model_module": "@jupyter-widgets/controls",
            "layout": "IPY_MODEL_a7b7ef709b8e4c1f8cfde08c2ce87cde",
            "icon": ""
          }
        },
        "0e4f094ea7344bc9af191f167cdab748": {
          "model_module": "@jupyter-widgets/controls",
          "model_name": "ToggleButtonModel",
          "state": {
            "_view_name": "ToggleButtonView",
            "style": "IPY_MODEL_a49ddc4333094c8e898eef86f55ff3ac",
            "_dom_classes": [],
            "description": "Reunion",
            "_model_name": "ToggleButtonModel",
            "button_style": "",
            "_view_module": "@jupyter-widgets/controls",
            "_model_module_version": "1.5.0",
            "tooltip": "",
            "_view_count": null,
            "disabled": false,
            "_view_module_version": "1.5.0",
            "value": false,
            "description_tooltip": null,
            "_model_module": "@jupyter-widgets/controls",
            "layout": "IPY_MODEL_36848c636c26487d9e3121683f3c53c9",
            "icon": ""
          }
        },
        "7450c9cfd41e48f9a830d6907207eea5": {
          "model_module": "@jupyter-widgets/controls",
          "model_name": "ToggleButtonModel",
          "state": {
            "_view_name": "ToggleButtonView",
            "style": "IPY_MODEL_d9476c9530bd422a900d1ab95c262ced",
            "_dom_classes": [],
            "description": "Senegal",
            "_model_name": "ToggleButtonModel",
            "button_style": "",
            "_view_module": "@jupyter-widgets/controls",
            "_model_module_version": "1.5.0",
            "tooltip": "",
            "_view_count": null,
            "disabled": false,
            "_view_module_version": "1.5.0",
            "value": false,
            "description_tooltip": null,
            "_model_module": "@jupyter-widgets/controls",
            "layout": "IPY_MODEL_487c50109a3f408ebc784f0b87132351",
            "icon": ""
          }
        },
        "302c48dca06f4f85a2cbceba0c86cae2": {
          "model_module": "@jupyter-widgets/controls",
          "model_name": "ToggleButtonModel",
          "state": {
            "_view_name": "ToggleButtonView",
            "style": "IPY_MODEL_70a1567b5eaf478ea75a980edc18bb9d",
            "_dom_classes": [],
            "description": "South Africa",
            "_model_name": "ToggleButtonModel",
            "button_style": "",
            "_view_module": "@jupyter-widgets/controls",
            "_model_module_version": "1.5.0",
            "tooltip": "",
            "_view_count": null,
            "disabled": false,
            "_view_module_version": "1.5.0",
            "value": false,
            "description_tooltip": null,
            "_model_module": "@jupyter-widgets/controls",
            "layout": "IPY_MODEL_e019a32dc6c044d1bce58548cd2a9591",
            "icon": ""
          }
        },
        "ba6cb7eaff51449cb217bd294bce390e": {
          "model_module": "@jupyter-widgets/controls",
          "model_name": "ToggleButtonModel",
          "state": {
            "_view_name": "ToggleButtonView",
            "style": "IPY_MODEL_7f830ff1a5fc456f9786870cd13c5429",
            "_dom_classes": [],
            "description": "Tunisia",
            "_model_name": "ToggleButtonModel",
            "button_style": "",
            "_view_module": "@jupyter-widgets/controls",
            "_model_module_version": "1.5.0",
            "tooltip": "",
            "_view_count": null,
            "disabled": false,
            "_view_module_version": "1.5.0",
            "value": false,
            "description_tooltip": null,
            "_model_module": "@jupyter-widgets/controls",
            "layout": "IPY_MODEL_6901201ff41e4c6aac24b188505cd68e",
            "icon": ""
          }
        },
        "0038bf69ae07431586eee80fcdbe1950": {
          "model_module": "@jupyter-widgets/controls",
          "model_name": "DescriptionStyleModel",
          "state": {
            "_view_name": "StyleView",
            "_model_name": "DescriptionStyleModel",
            "description_width": "",
            "_view_module": "@jupyter-widgets/base",
            "_model_module_version": "1.5.0",
            "_view_count": null,
            "_view_module_version": "1.2.0",
            "_model_module": "@jupyter-widgets/controls"
          }
        },
        "26fe5c83089d4f1489b293accf443341": {
          "model_module": "@jupyter-widgets/base",
          "model_name": "LayoutModel",
          "state": {
            "_view_name": "LayoutView",
            "grid_template_rows": null,
            "right": null,
            "justify_content": null,
            "_view_module": "@jupyter-widgets/base",
            "overflow": null,
            "_model_module_version": "1.2.0",
            "_view_count": null,
            "flex_flow": null,
            "width": null,
            "min_width": null,
            "border": null,
            "align_items": null,
            "bottom": null,
            "_model_module": "@jupyter-widgets/base",
            "top": null,
            "grid_column": null,
            "overflow_y": null,
            "overflow_x": null,
            "grid_auto_flow": null,
            "grid_area": null,
            "grid_template_columns": null,
            "flex": null,
            "_model_name": "LayoutModel",
            "justify_items": null,
            "grid_row": null,
            "max_height": null,
            "align_content": null,
            "visibility": null,
            "align_self": null,
            "height": null,
            "min_height": null,
            "padding": null,
            "grid_auto_rows": null,
            "grid_gap": null,
            "max_width": null,
            "order": null,
            "_view_module_version": "1.2.0",
            "grid_template_areas": null,
            "object_position": null,
            "object_fit": null,
            "grid_auto_columns": null,
            "margin": null,
            "display": null,
            "left": null
          }
        },
        "3ec905d0c09d441ebdceeb8c52ac5df4": {
          "model_module": "@jupyter-widgets/controls",
          "model_name": "DescriptionStyleModel",
          "state": {
            "_view_name": "StyleView",
            "_model_name": "DescriptionStyleModel",
            "description_width": "",
            "_view_module": "@jupyter-widgets/base",
            "_model_module_version": "1.5.0",
            "_view_count": null,
            "_view_module_version": "1.2.0",
            "_model_module": "@jupyter-widgets/controls"
          }
        },
        "3040e75ab8244e99b8401234681a86b4": {
          "model_module": "@jupyter-widgets/base",
          "model_name": "LayoutModel",
          "state": {
            "_view_name": "LayoutView",
            "grid_template_rows": null,
            "right": null,
            "justify_content": null,
            "_view_module": "@jupyter-widgets/base",
            "overflow": null,
            "_model_module_version": "1.2.0",
            "_view_count": null,
            "flex_flow": null,
            "width": null,
            "min_width": null,
            "border": null,
            "align_items": null,
            "bottom": null,
            "_model_module": "@jupyter-widgets/base",
            "top": null,
            "grid_column": null,
            "overflow_y": null,
            "overflow_x": null,
            "grid_auto_flow": null,
            "grid_area": null,
            "grid_template_columns": null,
            "flex": null,
            "_model_name": "LayoutModel",
            "justify_items": null,
            "grid_row": null,
            "max_height": null,
            "align_content": null,
            "visibility": null,
            "align_self": null,
            "height": null,
            "min_height": null,
            "padding": null,
            "grid_auto_rows": null,
            "grid_gap": null,
            "max_width": null,
            "order": null,
            "_view_module_version": "1.2.0",
            "grid_template_areas": null,
            "object_position": null,
            "object_fit": null,
            "grid_auto_columns": null,
            "margin": null,
            "display": null,
            "left": null
          }
        },
        "7c5520977ba641bda0f7d0b8e41f80cb": {
          "model_module": "@jupyter-widgets/controls",
          "model_name": "DescriptionStyleModel",
          "state": {
            "_view_name": "StyleView",
            "_model_name": "DescriptionStyleModel",
            "description_width": "",
            "_view_module": "@jupyter-widgets/base",
            "_model_module_version": "1.5.0",
            "_view_count": null,
            "_view_module_version": "1.2.0",
            "_model_module": "@jupyter-widgets/controls"
          }
        },
        "61cb3c882e744836b17a606595524beb": {
          "model_module": "@jupyter-widgets/base",
          "model_name": "LayoutModel",
          "state": {
            "_view_name": "LayoutView",
            "grid_template_rows": null,
            "right": null,
            "justify_content": null,
            "_view_module": "@jupyter-widgets/base",
            "overflow": null,
            "_model_module_version": "1.2.0",
            "_view_count": null,
            "flex_flow": null,
            "width": null,
            "min_width": null,
            "border": null,
            "align_items": null,
            "bottom": null,
            "_model_module": "@jupyter-widgets/base",
            "top": null,
            "grid_column": null,
            "overflow_y": null,
            "overflow_x": null,
            "grid_auto_flow": null,
            "grid_area": null,
            "grid_template_columns": null,
            "flex": null,
            "_model_name": "LayoutModel",
            "justify_items": null,
            "grid_row": null,
            "max_height": null,
            "align_content": null,
            "visibility": null,
            "align_self": null,
            "height": null,
            "min_height": null,
            "padding": null,
            "grid_auto_rows": null,
            "grid_gap": null,
            "max_width": null,
            "order": null,
            "_view_module_version": "1.2.0",
            "grid_template_areas": null,
            "object_position": null,
            "object_fit": null,
            "grid_auto_columns": null,
            "margin": null,
            "display": null,
            "left": null
          }
        },
        "a6562b04072944708f8f0064ed8c08a8": {
          "model_module": "@jupyter-widgets/controls",
          "model_name": "DescriptionStyleModel",
          "state": {
            "_view_name": "StyleView",
            "_model_name": "DescriptionStyleModel",
            "description_width": "",
            "_view_module": "@jupyter-widgets/base",
            "_model_module_version": "1.5.0",
            "_view_count": null,
            "_view_module_version": "1.2.0",
            "_model_module": "@jupyter-widgets/controls"
          }
        },
        "034601c858294cf7b5d82a34ce3c75b2": {
          "model_module": "@jupyter-widgets/base",
          "model_name": "LayoutModel",
          "state": {
            "_view_name": "LayoutView",
            "grid_template_rows": null,
            "right": null,
            "justify_content": null,
            "_view_module": "@jupyter-widgets/base",
            "overflow": null,
            "_model_module_version": "1.2.0",
            "_view_count": null,
            "flex_flow": null,
            "width": null,
            "min_width": null,
            "border": null,
            "align_items": null,
            "bottom": null,
            "_model_module": "@jupyter-widgets/base",
            "top": null,
            "grid_column": null,
            "overflow_y": null,
            "overflow_x": null,
            "grid_auto_flow": null,
            "grid_area": null,
            "grid_template_columns": null,
            "flex": null,
            "_model_name": "LayoutModel",
            "justify_items": null,
            "grid_row": null,
            "max_height": null,
            "align_content": null,
            "visibility": null,
            "align_self": null,
            "height": null,
            "min_height": null,
            "padding": null,
            "grid_auto_rows": null,
            "grid_gap": null,
            "max_width": null,
            "order": null,
            "_view_module_version": "1.2.0",
            "grid_template_areas": null,
            "object_position": null,
            "object_fit": null,
            "grid_auto_columns": null,
            "margin": null,
            "display": null,
            "left": null
          }
        },
        "30e79f3879ec4bd0b2bd0cb62fe10617": {
          "model_module": "@jupyter-widgets/controls",
          "model_name": "DescriptionStyleModel",
          "state": {
            "_view_name": "StyleView",
            "_model_name": "DescriptionStyleModel",
            "description_width": "",
            "_view_module": "@jupyter-widgets/base",
            "_model_module_version": "1.5.0",
            "_view_count": null,
            "_view_module_version": "1.2.0",
            "_model_module": "@jupyter-widgets/controls"
          }
        },
        "976057a2d78241d18d50d4d7642a1294": {
          "model_module": "@jupyter-widgets/base",
          "model_name": "LayoutModel",
          "state": {
            "_view_name": "LayoutView",
            "grid_template_rows": null,
            "right": null,
            "justify_content": null,
            "_view_module": "@jupyter-widgets/base",
            "overflow": null,
            "_model_module_version": "1.2.0",
            "_view_count": null,
            "flex_flow": null,
            "width": null,
            "min_width": null,
            "border": null,
            "align_items": null,
            "bottom": null,
            "_model_module": "@jupyter-widgets/base",
            "top": null,
            "grid_column": null,
            "overflow_y": null,
            "overflow_x": null,
            "grid_auto_flow": null,
            "grid_area": null,
            "grid_template_columns": null,
            "flex": null,
            "_model_name": "LayoutModel",
            "justify_items": null,
            "grid_row": null,
            "max_height": null,
            "align_content": null,
            "visibility": null,
            "align_self": null,
            "height": null,
            "min_height": null,
            "padding": null,
            "grid_auto_rows": null,
            "grid_gap": null,
            "max_width": null,
            "order": null,
            "_view_module_version": "1.2.0",
            "grid_template_areas": null,
            "object_position": null,
            "object_fit": null,
            "grid_auto_columns": null,
            "margin": null,
            "display": null,
            "left": null
          }
        },
        "46ec8fff12c249ff91908447f13f92e1": {
          "model_module": "@jupyter-widgets/controls",
          "model_name": "DescriptionStyleModel",
          "state": {
            "_view_name": "StyleView",
            "_model_name": "DescriptionStyleModel",
            "description_width": "",
            "_view_module": "@jupyter-widgets/base",
            "_model_module_version": "1.5.0",
            "_view_count": null,
            "_view_module_version": "1.2.0",
            "_model_module": "@jupyter-widgets/controls"
          }
        },
        "4cab7d07993e42feab510461dce210ac": {
          "model_module": "@jupyter-widgets/base",
          "model_name": "LayoutModel",
          "state": {
            "_view_name": "LayoutView",
            "grid_template_rows": null,
            "right": null,
            "justify_content": null,
            "_view_module": "@jupyter-widgets/base",
            "overflow": null,
            "_model_module_version": "1.2.0",
            "_view_count": null,
            "flex_flow": null,
            "width": null,
            "min_width": null,
            "border": null,
            "align_items": null,
            "bottom": null,
            "_model_module": "@jupyter-widgets/base",
            "top": null,
            "grid_column": null,
            "overflow_y": null,
            "overflow_x": null,
            "grid_auto_flow": null,
            "grid_area": null,
            "grid_template_columns": null,
            "flex": null,
            "_model_name": "LayoutModel",
            "justify_items": null,
            "grid_row": null,
            "max_height": null,
            "align_content": null,
            "visibility": null,
            "align_self": null,
            "height": null,
            "min_height": null,
            "padding": null,
            "grid_auto_rows": null,
            "grid_gap": null,
            "max_width": null,
            "order": null,
            "_view_module_version": "1.2.0",
            "grid_template_areas": null,
            "object_position": null,
            "object_fit": null,
            "grid_auto_columns": null,
            "margin": null,
            "display": null,
            "left": null
          }
        },
        "ba83e5680d2a42f4aed6091bde7242ad": {
          "model_module": "@jupyter-widgets/controls",
          "model_name": "DescriptionStyleModel",
          "state": {
            "_view_name": "StyleView",
            "_model_name": "DescriptionStyleModel",
            "description_width": "",
            "_view_module": "@jupyter-widgets/base",
            "_model_module_version": "1.5.0",
            "_view_count": null,
            "_view_module_version": "1.2.0",
            "_model_module": "@jupyter-widgets/controls"
          }
        },
        "85dbee42a5d74781b701b4c680d1c61f": {
          "model_module": "@jupyter-widgets/base",
          "model_name": "LayoutModel",
          "state": {
            "_view_name": "LayoutView",
            "grid_template_rows": null,
            "right": null,
            "justify_content": null,
            "_view_module": "@jupyter-widgets/base",
            "overflow": null,
            "_model_module_version": "1.2.0",
            "_view_count": null,
            "flex_flow": null,
            "width": null,
            "min_width": null,
            "border": null,
            "align_items": null,
            "bottom": null,
            "_model_module": "@jupyter-widgets/base",
            "top": null,
            "grid_column": null,
            "overflow_y": null,
            "overflow_x": null,
            "grid_auto_flow": null,
            "grid_area": null,
            "grid_template_columns": null,
            "flex": null,
            "_model_name": "LayoutModel",
            "justify_items": null,
            "grid_row": null,
            "max_height": null,
            "align_content": null,
            "visibility": null,
            "align_self": null,
            "height": null,
            "min_height": null,
            "padding": null,
            "grid_auto_rows": null,
            "grid_gap": null,
            "max_width": null,
            "order": null,
            "_view_module_version": "1.2.0",
            "grid_template_areas": null,
            "object_position": null,
            "object_fit": null,
            "grid_auto_columns": null,
            "margin": null,
            "display": null,
            "left": null
          }
        },
        "7aea4dcfdde946dda2f177307d1924c1": {
          "model_module": "@jupyter-widgets/controls",
          "model_name": "DescriptionStyleModel",
          "state": {
            "_view_name": "StyleView",
            "_model_name": "DescriptionStyleModel",
            "description_width": "",
            "_view_module": "@jupyter-widgets/base",
            "_model_module_version": "1.5.0",
            "_view_count": null,
            "_view_module_version": "1.2.0",
            "_model_module": "@jupyter-widgets/controls"
          }
        },
        "a7b7ef709b8e4c1f8cfde08c2ce87cde": {
          "model_module": "@jupyter-widgets/base",
          "model_name": "LayoutModel",
          "state": {
            "_view_name": "LayoutView",
            "grid_template_rows": null,
            "right": null,
            "justify_content": null,
            "_view_module": "@jupyter-widgets/base",
            "overflow": null,
            "_model_module_version": "1.2.0",
            "_view_count": null,
            "flex_flow": null,
            "width": null,
            "min_width": null,
            "border": null,
            "align_items": null,
            "bottom": null,
            "_model_module": "@jupyter-widgets/base",
            "top": null,
            "grid_column": null,
            "overflow_y": null,
            "overflow_x": null,
            "grid_auto_flow": null,
            "grid_area": null,
            "grid_template_columns": null,
            "flex": null,
            "_model_name": "LayoutModel",
            "justify_items": null,
            "grid_row": null,
            "max_height": null,
            "align_content": null,
            "visibility": null,
            "align_self": null,
            "height": null,
            "min_height": null,
            "padding": null,
            "grid_auto_rows": null,
            "grid_gap": null,
            "max_width": null,
            "order": null,
            "_view_module_version": "1.2.0",
            "grid_template_areas": null,
            "object_position": null,
            "object_fit": null,
            "grid_auto_columns": null,
            "margin": null,
            "display": null,
            "left": null
          }
        },
        "a49ddc4333094c8e898eef86f55ff3ac": {
          "model_module": "@jupyter-widgets/controls",
          "model_name": "DescriptionStyleModel",
          "state": {
            "_view_name": "StyleView",
            "_model_name": "DescriptionStyleModel",
            "description_width": "",
            "_view_module": "@jupyter-widgets/base",
            "_model_module_version": "1.5.0",
            "_view_count": null,
            "_view_module_version": "1.2.0",
            "_model_module": "@jupyter-widgets/controls"
          }
        },
        "36848c636c26487d9e3121683f3c53c9": {
          "model_module": "@jupyter-widgets/base",
          "model_name": "LayoutModel",
          "state": {
            "_view_name": "LayoutView",
            "grid_template_rows": null,
            "right": null,
            "justify_content": null,
            "_view_module": "@jupyter-widgets/base",
            "overflow": null,
            "_model_module_version": "1.2.0",
            "_view_count": null,
            "flex_flow": null,
            "width": null,
            "min_width": null,
            "border": null,
            "align_items": null,
            "bottom": null,
            "_model_module": "@jupyter-widgets/base",
            "top": null,
            "grid_column": null,
            "overflow_y": null,
            "overflow_x": null,
            "grid_auto_flow": null,
            "grid_area": null,
            "grid_template_columns": null,
            "flex": null,
            "_model_name": "LayoutModel",
            "justify_items": null,
            "grid_row": null,
            "max_height": null,
            "align_content": null,
            "visibility": null,
            "align_self": null,
            "height": null,
            "min_height": null,
            "padding": null,
            "grid_auto_rows": null,
            "grid_gap": null,
            "max_width": null,
            "order": null,
            "_view_module_version": "1.2.0",
            "grid_template_areas": null,
            "object_position": null,
            "object_fit": null,
            "grid_auto_columns": null,
            "margin": null,
            "display": null,
            "left": null
          }
        },
        "d9476c9530bd422a900d1ab95c262ced": {
          "model_module": "@jupyter-widgets/controls",
          "model_name": "DescriptionStyleModel",
          "state": {
            "_view_name": "StyleView",
            "_model_name": "DescriptionStyleModel",
            "description_width": "",
            "_view_module": "@jupyter-widgets/base",
            "_model_module_version": "1.5.0",
            "_view_count": null,
            "_view_module_version": "1.2.0",
            "_model_module": "@jupyter-widgets/controls"
          }
        },
        "487c50109a3f408ebc784f0b87132351": {
          "model_module": "@jupyter-widgets/base",
          "model_name": "LayoutModel",
          "state": {
            "_view_name": "LayoutView",
            "grid_template_rows": null,
            "right": null,
            "justify_content": null,
            "_view_module": "@jupyter-widgets/base",
            "overflow": null,
            "_model_module_version": "1.2.0",
            "_view_count": null,
            "flex_flow": null,
            "width": null,
            "min_width": null,
            "border": null,
            "align_items": null,
            "bottom": null,
            "_model_module": "@jupyter-widgets/base",
            "top": null,
            "grid_column": null,
            "overflow_y": null,
            "overflow_x": null,
            "grid_auto_flow": null,
            "grid_area": null,
            "grid_template_columns": null,
            "flex": null,
            "_model_name": "LayoutModel",
            "justify_items": null,
            "grid_row": null,
            "max_height": null,
            "align_content": null,
            "visibility": null,
            "align_self": null,
            "height": null,
            "min_height": null,
            "padding": null,
            "grid_auto_rows": null,
            "grid_gap": null,
            "max_width": null,
            "order": null,
            "_view_module_version": "1.2.0",
            "grid_template_areas": null,
            "object_position": null,
            "object_fit": null,
            "grid_auto_columns": null,
            "margin": null,
            "display": null,
            "left": null
          }
        },
        "70a1567b5eaf478ea75a980edc18bb9d": {
          "model_module": "@jupyter-widgets/controls",
          "model_name": "DescriptionStyleModel",
          "state": {
            "_view_name": "StyleView",
            "_model_name": "DescriptionStyleModel",
            "description_width": "",
            "_view_module": "@jupyter-widgets/base",
            "_model_module_version": "1.5.0",
            "_view_count": null,
            "_view_module_version": "1.2.0",
            "_model_module": "@jupyter-widgets/controls"
          }
        },
        "e019a32dc6c044d1bce58548cd2a9591": {
          "model_module": "@jupyter-widgets/base",
          "model_name": "LayoutModel",
          "state": {
            "_view_name": "LayoutView",
            "grid_template_rows": null,
            "right": null,
            "justify_content": null,
            "_view_module": "@jupyter-widgets/base",
            "overflow": null,
            "_model_module_version": "1.2.0",
            "_view_count": null,
            "flex_flow": null,
            "width": null,
            "min_width": null,
            "border": null,
            "align_items": null,
            "bottom": null,
            "_model_module": "@jupyter-widgets/base",
            "top": null,
            "grid_column": null,
            "overflow_y": null,
            "overflow_x": null,
            "grid_auto_flow": null,
            "grid_area": null,
            "grid_template_columns": null,
            "flex": null,
            "_model_name": "LayoutModel",
            "justify_items": null,
            "grid_row": null,
            "max_height": null,
            "align_content": null,
            "visibility": null,
            "align_self": null,
            "height": null,
            "min_height": null,
            "padding": null,
            "grid_auto_rows": null,
            "grid_gap": null,
            "max_width": null,
            "order": null,
            "_view_module_version": "1.2.0",
            "grid_template_areas": null,
            "object_position": null,
            "object_fit": null,
            "grid_auto_columns": null,
            "margin": null,
            "display": null,
            "left": null
          }
        },
        "7f830ff1a5fc456f9786870cd13c5429": {
          "model_module": "@jupyter-widgets/controls",
          "model_name": "DescriptionStyleModel",
          "state": {
            "_view_name": "StyleView",
            "_model_name": "DescriptionStyleModel",
            "description_width": "",
            "_view_module": "@jupyter-widgets/base",
            "_model_module_version": "1.5.0",
            "_view_count": null,
            "_view_module_version": "1.2.0",
            "_model_module": "@jupyter-widgets/controls"
          }
        },
        "6901201ff41e4c6aac24b188505cd68e": {
          "model_module": "@jupyter-widgets/base",
          "model_name": "LayoutModel",
          "state": {
            "_view_name": "LayoutView",
            "grid_template_rows": null,
            "right": null,
            "justify_content": null,
            "_view_module": "@jupyter-widgets/base",
            "overflow": null,
            "_model_module_version": "1.2.0",
            "_view_count": null,
            "flex_flow": null,
            "width": null,
            "min_width": null,
            "border": null,
            "align_items": null,
            "bottom": null,
            "_model_module": "@jupyter-widgets/base",
            "top": null,
            "grid_column": null,
            "overflow_y": null,
            "overflow_x": null,
            "grid_auto_flow": null,
            "grid_area": null,
            "grid_template_columns": null,
            "flex": null,
            "_model_name": "LayoutModel",
            "justify_items": null,
            "grid_row": null,
            "max_height": null,
            "align_content": null,
            "visibility": null,
            "align_self": null,
            "height": null,
            "min_height": null,
            "padding": null,
            "grid_auto_rows": null,
            "grid_gap": null,
            "max_width": null,
            "order": null,
            "_view_module_version": "1.2.0",
            "grid_template_areas": null,
            "object_position": null,
            "object_fit": null,
            "grid_auto_columns": null,
            "margin": null,
            "display": null,
            "left": null
          }
        },
        "8317dfec5b6c4f2683b6931b1f475c0c": {
          "model_module": "@jupyter-widgets/controls",
          "model_name": "GridBoxModel",
          "state": {
            "_view_name": "GridBoxView",
            "_dom_classes": [],
            "_model_name": "GridBoxModel",
            "_view_module": "@jupyter-widgets/controls",
            "_model_module_version": "1.5.0",
            "_view_count": null,
            "_view_module_version": "1.5.0",
            "box_style": "",
            "layout": "IPY_MODEL_8d68dd3869fe4f0bbd9dced42db8919f",
            "_model_module": "@jupyter-widgets/controls",
            "children": [
              "IPY_MODEL_3a3adc67489f4f3f88bfc9f0a2dae15e",
              "IPY_MODEL_7092b4c831724582936fa696c5786971"
            ]
          }
        },
        "3a3adc67489f4f3f88bfc9f0a2dae15e": {
          "model_module": "@jupyter-widgets/controls",
          "model_name": "ToggleButtonModel",
          "state": {
            "_view_name": "ToggleButtonView",
            "style": "IPY_MODEL_73628603916840afa790d98ddb8a030e",
            "_dom_classes": [],
            "description": "Australia",
            "_model_name": "ToggleButtonModel",
            "button_style": "",
            "_view_module": "@jupyter-widgets/controls",
            "_model_module_version": "1.5.0",
            "tooltip": "",
            "_view_count": null,
            "disabled": false,
            "_view_module_version": "1.5.0",
            "value": false,
            "description_tooltip": null,
            "_model_module": "@jupyter-widgets/controls",
            "layout": "IPY_MODEL_4986f3992bd4466f90e11511715f4cbb",
            "icon": ""
          }
        },
        "7092b4c831724582936fa696c5786971": {
          "model_module": "@jupyter-widgets/controls",
          "model_name": "ToggleButtonModel",
          "state": {
            "_view_name": "ToggleButtonView",
            "style": "IPY_MODEL_5bfe5dfb9d2b4747a9a990b7f883d1d8",
            "_dom_classes": [],
            "description": "New Zealand",
            "_model_name": "ToggleButtonModel",
            "button_style": "",
            "_view_module": "@jupyter-widgets/controls",
            "_model_module_version": "1.5.0",
            "tooltip": "",
            "_view_count": null,
            "disabled": false,
            "_view_module_version": "1.5.0",
            "value": false,
            "description_tooltip": null,
            "_model_module": "@jupyter-widgets/controls",
            "layout": "IPY_MODEL_4e5f97e365a44b6dba288fca2593cece",
            "icon": ""
          }
        },
        "73628603916840afa790d98ddb8a030e": {
          "model_module": "@jupyter-widgets/controls",
          "model_name": "DescriptionStyleModel",
          "state": {
            "_view_name": "StyleView",
            "_model_name": "DescriptionStyleModel",
            "description_width": "",
            "_view_module": "@jupyter-widgets/base",
            "_model_module_version": "1.5.0",
            "_view_count": null,
            "_view_module_version": "1.2.0",
            "_model_module": "@jupyter-widgets/controls"
          }
        },
        "4986f3992bd4466f90e11511715f4cbb": {
          "model_module": "@jupyter-widgets/base",
          "model_name": "LayoutModel",
          "state": {
            "_view_name": "LayoutView",
            "grid_template_rows": null,
            "right": null,
            "justify_content": null,
            "_view_module": "@jupyter-widgets/base",
            "overflow": null,
            "_model_module_version": "1.2.0",
            "_view_count": null,
            "flex_flow": null,
            "width": null,
            "min_width": null,
            "border": null,
            "align_items": null,
            "bottom": null,
            "_model_module": "@jupyter-widgets/base",
            "top": null,
            "grid_column": null,
            "overflow_y": null,
            "overflow_x": null,
            "grid_auto_flow": null,
            "grid_area": null,
            "grid_template_columns": null,
            "flex": null,
            "_model_name": "LayoutModel",
            "justify_items": null,
            "grid_row": null,
            "max_height": null,
            "align_content": null,
            "visibility": null,
            "align_self": null,
            "height": null,
            "min_height": null,
            "padding": null,
            "grid_auto_rows": null,
            "grid_gap": null,
            "max_width": null,
            "order": null,
            "_view_module_version": "1.2.0",
            "grid_template_areas": null,
            "object_position": null,
            "object_fit": null,
            "grid_auto_columns": null,
            "margin": null,
            "display": null,
            "left": null
          }
        },
        "5bfe5dfb9d2b4747a9a990b7f883d1d8": {
          "model_module": "@jupyter-widgets/controls",
          "model_name": "DescriptionStyleModel",
          "state": {
            "_view_name": "StyleView",
            "_model_name": "DescriptionStyleModel",
            "description_width": "",
            "_view_module": "@jupyter-widgets/base",
            "_model_module_version": "1.5.0",
            "_view_count": null,
            "_view_module_version": "1.2.0",
            "_model_module": "@jupyter-widgets/controls"
          }
        },
        "4e5f97e365a44b6dba288fca2593cece": {
          "model_module": "@jupyter-widgets/base",
          "model_name": "LayoutModel",
          "state": {
            "_view_name": "LayoutView",
            "grid_template_rows": null,
            "right": null,
            "justify_content": null,
            "_view_module": "@jupyter-widgets/base",
            "overflow": null,
            "_model_module_version": "1.2.0",
            "_view_count": null,
            "flex_flow": null,
            "width": null,
            "min_width": null,
            "border": null,
            "align_items": null,
            "bottom": null,
            "_model_module": "@jupyter-widgets/base",
            "top": null,
            "grid_column": null,
            "overflow_y": null,
            "overflow_x": null,
            "grid_auto_flow": null,
            "grid_area": null,
            "grid_template_columns": null,
            "flex": null,
            "_model_name": "LayoutModel",
            "justify_items": null,
            "grid_row": null,
            "max_height": null,
            "align_content": null,
            "visibility": null,
            "align_self": null,
            "height": null,
            "min_height": null,
            "padding": null,
            "grid_auto_rows": null,
            "grid_gap": null,
            "max_width": null,
            "order": null,
            "_view_module_version": "1.2.0",
            "grid_template_areas": null,
            "object_position": null,
            "object_fit": null,
            "grid_auto_columns": null,
            "margin": null,
            "display": null,
            "left": null
          }
        },
        "f46d74752bfc4b6b974c911d13095ee6": {
          "model_module": "@jupyter-widgets/controls",
          "model_name": "GridBoxModel",
          "state": {
            "_view_name": "GridBoxView",
            "_dom_classes": [],
            "_model_name": "GridBoxModel",
            "_view_module": "@jupyter-widgets/controls",
            "_model_module_version": "1.5.0",
            "_view_count": null,
            "_view_module_version": "1.5.0",
            "box_style": "",
            "layout": "IPY_MODEL_8d68dd3869fe4f0bbd9dced42db8919f",
            "_model_module": "@jupyter-widgets/controls",
            "children": [
              "IPY_MODEL_eac06272cddd4c339e8398e85a13b438",
              "IPY_MODEL_b6a79aa982d74a78a72af3ca0fe6dfd1"
            ]
          }
        },
        "eac06272cddd4c339e8398e85a13b438": {
          "model_module": "@jupyter-widgets/controls",
          "model_name": "ToggleButtonModel",
          "state": {
            "_view_name": "ToggleButtonView",
            "style": "IPY_MODEL_0dbe8c641d8c40719c25b149d53a9019",
            "_dom_classes": [],
            "description": "Cruise Ship",
            "_model_name": "ToggleButtonModel",
            "button_style": "",
            "_view_module": "@jupyter-widgets/controls",
            "_model_module_version": "1.5.0",
            "tooltip": "",
            "_view_count": null,
            "disabled": false,
            "_view_module_version": "1.5.0",
            "value": false,
            "description_tooltip": null,
            "_model_module": "@jupyter-widgets/controls",
            "layout": "IPY_MODEL_7ccb5c12be754dd18fa8b4eb8914701f",
            "icon": ""
          }
        },
        "b6a79aa982d74a78a72af3ca0fe6dfd1": {
          "model_module": "@jupyter-widgets/controls",
          "model_name": "ToggleButtonModel",
          "state": {
            "_view_name": "ToggleButtonView",
            "style": "IPY_MODEL_a7b881373c3943fab631fdbc6f7181d7",
            "_dom_classes": [],
            "description": "Others",
            "_model_name": "ToggleButtonModel",
            "button_style": "",
            "_view_module": "@jupyter-widgets/controls",
            "_model_module_version": "1.5.0",
            "tooltip": "",
            "_view_count": null,
            "disabled": false,
            "_view_module_version": "1.5.0",
            "value": false,
            "description_tooltip": null,
            "_model_module": "@jupyter-widgets/controls",
            "layout": "IPY_MODEL_dba197a0c5044fe29990ba7d8278484d",
            "icon": ""
          }
        },
        "0dbe8c641d8c40719c25b149d53a9019": {
          "model_module": "@jupyter-widgets/controls",
          "model_name": "DescriptionStyleModel",
          "state": {
            "_view_name": "StyleView",
            "_model_name": "DescriptionStyleModel",
            "description_width": "",
            "_view_module": "@jupyter-widgets/base",
            "_model_module_version": "1.5.0",
            "_view_count": null,
            "_view_module_version": "1.2.0",
            "_model_module": "@jupyter-widgets/controls"
          }
        },
        "7ccb5c12be754dd18fa8b4eb8914701f": {
          "model_module": "@jupyter-widgets/base",
          "model_name": "LayoutModel",
          "state": {
            "_view_name": "LayoutView",
            "grid_template_rows": null,
            "right": null,
            "justify_content": null,
            "_view_module": "@jupyter-widgets/base",
            "overflow": null,
            "_model_module_version": "1.2.0",
            "_view_count": null,
            "flex_flow": null,
            "width": null,
            "min_width": null,
            "border": null,
            "align_items": null,
            "bottom": null,
            "_model_module": "@jupyter-widgets/base",
            "top": null,
            "grid_column": null,
            "overflow_y": null,
            "overflow_x": null,
            "grid_auto_flow": null,
            "grid_area": null,
            "grid_template_columns": null,
            "flex": null,
            "_model_name": "LayoutModel",
            "justify_items": null,
            "grid_row": null,
            "max_height": null,
            "align_content": null,
            "visibility": null,
            "align_self": null,
            "height": null,
            "min_height": null,
            "padding": null,
            "grid_auto_rows": null,
            "grid_gap": null,
            "max_width": null,
            "order": null,
            "_view_module_version": "1.2.0",
            "grid_template_areas": null,
            "object_position": null,
            "object_fit": null,
            "grid_auto_columns": null,
            "margin": null,
            "display": null,
            "left": null
          }
        },
        "a7b881373c3943fab631fdbc6f7181d7": {
          "model_module": "@jupyter-widgets/controls",
          "model_name": "DescriptionStyleModel",
          "state": {
            "_view_name": "StyleView",
            "_model_name": "DescriptionStyleModel",
            "description_width": "",
            "_view_module": "@jupyter-widgets/base",
            "_model_module_version": "1.5.0",
            "_view_count": null,
            "_view_module_version": "1.2.0",
            "_model_module": "@jupyter-widgets/controls"
          }
        },
        "dba197a0c5044fe29990ba7d8278484d": {
          "model_module": "@jupyter-widgets/base",
          "model_name": "LayoutModel",
          "state": {
            "_view_name": "LayoutView",
            "grid_template_rows": null,
            "right": null,
            "justify_content": null,
            "_view_module": "@jupyter-widgets/base",
            "overflow": null,
            "_model_module_version": "1.2.0",
            "_view_count": null,
            "flex_flow": null,
            "width": null,
            "min_width": null,
            "border": null,
            "align_items": null,
            "bottom": null,
            "_model_module": "@jupyter-widgets/base",
            "top": null,
            "grid_column": null,
            "overflow_y": null,
            "overflow_x": null,
            "grid_auto_flow": null,
            "grid_area": null,
            "grid_template_columns": null,
            "flex": null,
            "_model_name": "LayoutModel",
            "justify_items": null,
            "grid_row": null,
            "max_height": null,
            "align_content": null,
            "visibility": null,
            "align_self": null,
            "height": null,
            "min_height": null,
            "padding": null,
            "grid_auto_rows": null,
            "grid_gap": null,
            "max_width": null,
            "order": null,
            "_view_module_version": "1.2.0",
            "grid_template_areas": null,
            "object_position": null,
            "object_fit": null,
            "grid_auto_columns": null,
            "margin": null,
            "display": null,
            "left": null
          }
        },
        "a845ea55bf3e4b5c9b18b818a7e49fb7": {
          "model_module": "@jupyter-widgets/controls",
          "model_name": "GridBoxModel",
          "state": {
            "_view_name": "GridBoxView",
            "_dom_classes": [],
            "_model_name": "GridBoxModel",
            "_view_module": "@jupyter-widgets/controls",
            "_model_module_version": "1.5.0",
            "_view_count": null,
            "_view_module_version": "1.5.0",
            "box_style": "",
            "layout": "IPY_MODEL_8d68dd3869fe4f0bbd9dced42db8919f",
            "_model_module": "@jupyter-widgets/controls",
            "children": [
              "IPY_MODEL_420b1203acea452881db2d1a409d3b76",
              "IPY_MODEL_42cd842769d4471cad10096a99dee441",
              "IPY_MODEL_84fda38197184b4fbef18244c6183d23",
              "IPY_MODEL_5aeb704500ec4e28a177bdc7166641cf",
              "IPY_MODEL_9c6aa4995fc548c0bba0b2f0c3f1839c",
              "IPY_MODEL_3e24480f4b114ece9bdd8fa6a338eca4",
              "IPY_MODEL_c6dd70463e0041e39cec83c024bbc755",
              "IPY_MODEL_5b5c760cee5b4e748236089171a1e530"
            ]
          }
        },
        "420b1203acea452881db2d1a409d3b76": {
          "model_module": "@jupyter-widgets/controls",
          "model_name": "ToggleButtonModel",
          "state": {
            "_view_name": "ToggleButtonView",
            "style": "IPY_MODEL_90b39deb355f4674aafaabc6d17db2d0",
            "_dom_classes": [],
            "description": "normal/log",
            "_model_name": "ToggleButtonModel",
            "button_style": "",
            "_view_module": "@jupyter-widgets/controls",
            "_model_module_version": "1.5.0",
            "tooltip": "",
            "_view_count": null,
            "disabled": false,
            "_view_module_version": "1.5.0",
            "value": false,
            "description_tooltip": null,
            "_model_module": "@jupyter-widgets/controls",
            "layout": "IPY_MODEL_278031cf97684d42b0ee15bfcfe49616",
            "icon": ""
          }
        },
        "42cd842769d4471cad10096a99dee441": {
          "model_module": "@jupyter-widgets/controls",
          "model_name": "ToggleButtonModel",
          "state": {
            "_view_name": "ToggleButtonView",
            "style": "IPY_MODEL_56adf328e3b54067ad05bd7f41046f74",
            "_dom_classes": [],
            "description": "toggle europe",
            "_model_name": "ToggleButtonModel",
            "button_style": "",
            "_view_module": "@jupyter-widgets/controls",
            "_model_module_version": "1.5.0",
            "tooltip": "",
            "_view_count": null,
            "disabled": false,
            "_view_module_version": "1.5.0",
            "value": false,
            "description_tooltip": null,
            "_model_module": "@jupyter-widgets/controls",
            "layout": "IPY_MODEL_b481c00c62cd42a683f6e5e2e0b32ff0",
            "icon": ""
          }
        },
        "84fda38197184b4fbef18244c6183d23": {
          "model_module": "@jupyter-widgets/controls",
          "model_name": "ToggleButtonModel",
          "state": {
            "_view_name": "ToggleButtonView",
            "style": "IPY_MODEL_15e5c3387c014ef19b819b1be766919c",
            "_dom_classes": [],
            "description": "toggle asia",
            "_model_name": "ToggleButtonModel",
            "button_style": "",
            "_view_module": "@jupyter-widgets/controls",
            "_model_module_version": "1.5.0",
            "tooltip": "",
            "_view_count": null,
            "disabled": false,
            "_view_module_version": "1.5.0",
            "value": false,
            "description_tooltip": null,
            "_model_module": "@jupyter-widgets/controls",
            "layout": "IPY_MODEL_ba50ae7ef0e74b4b907fc18f0b9ec2f8",
            "icon": ""
          }
        },
        "5aeb704500ec4e28a177bdc7166641cf": {
          "model_module": "@jupyter-widgets/controls",
          "model_name": "ToggleButtonModel",
          "state": {
            "_view_name": "ToggleButtonView",
            "style": "IPY_MODEL_b64076e447f54ab6953fd904ecd16783",
            "_dom_classes": [],
            "description": "toggle north_america",
            "_model_name": "ToggleButtonModel",
            "button_style": "",
            "_view_module": "@jupyter-widgets/controls",
            "_model_module_version": "1.5.0",
            "tooltip": "",
            "_view_count": null,
            "disabled": false,
            "_view_module_version": "1.5.0",
            "value": false,
            "description_tooltip": null,
            "_model_module": "@jupyter-widgets/controls",
            "layout": "IPY_MODEL_efc1d2c68d29417fb15a918c85d31e7d",
            "icon": ""
          }
        },
        "9c6aa4995fc548c0bba0b2f0c3f1839c": {
          "model_module": "@jupyter-widgets/controls",
          "model_name": "ToggleButtonModel",
          "state": {
            "_view_name": "ToggleButtonView",
            "style": "IPY_MODEL_471555bc581e4fdcad2d7c9f7c5726c5",
            "_dom_classes": [],
            "description": "toggle south_america",
            "_model_name": "ToggleButtonModel",
            "button_style": "",
            "_view_module": "@jupyter-widgets/controls",
            "_model_module_version": "1.5.0",
            "tooltip": "",
            "_view_count": null,
            "disabled": false,
            "_view_module_version": "1.5.0",
            "value": false,
            "description_tooltip": null,
            "_model_module": "@jupyter-widgets/controls",
            "layout": "IPY_MODEL_6db55c892f354ac2b3315afee5eac370",
            "icon": ""
          }
        },
        "3e24480f4b114ece9bdd8fa6a338eca4": {
          "model_module": "@jupyter-widgets/controls",
          "model_name": "ToggleButtonModel",
          "state": {
            "_view_name": "ToggleButtonView",
            "style": "IPY_MODEL_d0c9598111e9463582c1901fcbf76bc2",
            "_dom_classes": [],
            "description": "toggle africa",
            "_model_name": "ToggleButtonModel",
            "button_style": "",
            "_view_module": "@jupyter-widgets/controls",
            "_model_module_version": "1.5.0",
            "tooltip": "",
            "_view_count": null,
            "disabled": false,
            "_view_module_version": "1.5.0",
            "value": false,
            "description_tooltip": null,
            "_model_module": "@jupyter-widgets/controls",
            "layout": "IPY_MODEL_f4f24479301a445894ed4a3cfe2a91b2",
            "icon": ""
          }
        },
        "c6dd70463e0041e39cec83c024bbc755": {
          "model_module": "@jupyter-widgets/controls",
          "model_name": "ToggleButtonModel",
          "state": {
            "_view_name": "ToggleButtonView",
            "style": "IPY_MODEL_2e424b0b8b0a4d76a8c4ea42f7493868",
            "_dom_classes": [],
            "description": "toggle oceania",
            "_model_name": "ToggleButtonModel",
            "button_style": "",
            "_view_module": "@jupyter-widgets/controls",
            "_model_module_version": "1.5.0",
            "tooltip": "",
            "_view_count": null,
            "disabled": false,
            "_view_module_version": "1.5.0",
            "value": false,
            "description_tooltip": null,
            "_model_module": "@jupyter-widgets/controls",
            "layout": "IPY_MODEL_3fe7cdd0bc2d4a2cbc78e3b43aa0f1db",
            "icon": ""
          }
        },
        "5b5c760cee5b4e748236089171a1e530": {
          "model_module": "@jupyter-widgets/controls",
          "model_name": "ToggleButtonModel",
          "state": {
            "_view_name": "ToggleButtonView",
            "style": "IPY_MODEL_84da111e58934620ae357410a99d2cd1",
            "_dom_classes": [],
            "description": "toggle others",
            "_model_name": "ToggleButtonModel",
            "button_style": "",
            "_view_module": "@jupyter-widgets/controls",
            "_model_module_version": "1.5.0",
            "tooltip": "",
            "_view_count": null,
            "disabled": false,
            "_view_module_version": "1.5.0",
            "value": false,
            "description_tooltip": null,
            "_model_module": "@jupyter-widgets/controls",
            "layout": "IPY_MODEL_dcfc3a432a0645188e3be3d98cd28c0f",
            "icon": ""
          }
        },
        "90b39deb355f4674aafaabc6d17db2d0": {
          "model_module": "@jupyter-widgets/controls",
          "model_name": "DescriptionStyleModel",
          "state": {
            "_view_name": "StyleView",
            "_model_name": "DescriptionStyleModel",
            "description_width": "",
            "_view_module": "@jupyter-widgets/base",
            "_model_module_version": "1.5.0",
            "_view_count": null,
            "_view_module_version": "1.2.0",
            "_model_module": "@jupyter-widgets/controls"
          }
        },
        "278031cf97684d42b0ee15bfcfe49616": {
          "model_module": "@jupyter-widgets/base",
          "model_name": "LayoutModel",
          "state": {
            "_view_name": "LayoutView",
            "grid_template_rows": null,
            "right": null,
            "justify_content": null,
            "_view_module": "@jupyter-widgets/base",
            "overflow": null,
            "_model_module_version": "1.2.0",
            "_view_count": null,
            "flex_flow": null,
            "width": null,
            "min_width": null,
            "border": null,
            "align_items": null,
            "bottom": null,
            "_model_module": "@jupyter-widgets/base",
            "top": null,
            "grid_column": null,
            "overflow_y": null,
            "overflow_x": null,
            "grid_auto_flow": null,
            "grid_area": null,
            "grid_template_columns": null,
            "flex": null,
            "_model_name": "LayoutModel",
            "justify_items": null,
            "grid_row": null,
            "max_height": null,
            "align_content": null,
            "visibility": null,
            "align_self": null,
            "height": null,
            "min_height": null,
            "padding": null,
            "grid_auto_rows": null,
            "grid_gap": null,
            "max_width": null,
            "order": null,
            "_view_module_version": "1.2.0",
            "grid_template_areas": null,
            "object_position": null,
            "object_fit": null,
            "grid_auto_columns": null,
            "margin": null,
            "display": null,
            "left": null
          }
        },
        "56adf328e3b54067ad05bd7f41046f74": {
          "model_module": "@jupyter-widgets/controls",
          "model_name": "DescriptionStyleModel",
          "state": {
            "_view_name": "StyleView",
            "_model_name": "DescriptionStyleModel",
            "description_width": "",
            "_view_module": "@jupyter-widgets/base",
            "_model_module_version": "1.5.0",
            "_view_count": null,
            "_view_module_version": "1.2.0",
            "_model_module": "@jupyter-widgets/controls"
          }
        },
        "b481c00c62cd42a683f6e5e2e0b32ff0": {
          "model_module": "@jupyter-widgets/base",
          "model_name": "LayoutModel",
          "state": {
            "_view_name": "LayoutView",
            "grid_template_rows": null,
            "right": null,
            "justify_content": null,
            "_view_module": "@jupyter-widgets/base",
            "overflow": null,
            "_model_module_version": "1.2.0",
            "_view_count": null,
            "flex_flow": null,
            "width": null,
            "min_width": null,
            "border": null,
            "align_items": null,
            "bottom": null,
            "_model_module": "@jupyter-widgets/base",
            "top": null,
            "grid_column": null,
            "overflow_y": null,
            "overflow_x": null,
            "grid_auto_flow": null,
            "grid_area": null,
            "grid_template_columns": null,
            "flex": null,
            "_model_name": "LayoutModel",
            "justify_items": null,
            "grid_row": null,
            "max_height": null,
            "align_content": null,
            "visibility": null,
            "align_self": null,
            "height": null,
            "min_height": null,
            "padding": null,
            "grid_auto_rows": null,
            "grid_gap": null,
            "max_width": null,
            "order": null,
            "_view_module_version": "1.2.0",
            "grid_template_areas": null,
            "object_position": null,
            "object_fit": null,
            "grid_auto_columns": null,
            "margin": null,
            "display": null,
            "left": null
          }
        },
        "15e5c3387c014ef19b819b1be766919c": {
          "model_module": "@jupyter-widgets/controls",
          "model_name": "DescriptionStyleModel",
          "state": {
            "_view_name": "StyleView",
            "_model_name": "DescriptionStyleModel",
            "description_width": "",
            "_view_module": "@jupyter-widgets/base",
            "_model_module_version": "1.5.0",
            "_view_count": null,
            "_view_module_version": "1.2.0",
            "_model_module": "@jupyter-widgets/controls"
          }
        },
        "ba50ae7ef0e74b4b907fc18f0b9ec2f8": {
          "model_module": "@jupyter-widgets/base",
          "model_name": "LayoutModel",
          "state": {
            "_view_name": "LayoutView",
            "grid_template_rows": null,
            "right": null,
            "justify_content": null,
            "_view_module": "@jupyter-widgets/base",
            "overflow": null,
            "_model_module_version": "1.2.0",
            "_view_count": null,
            "flex_flow": null,
            "width": null,
            "min_width": null,
            "border": null,
            "align_items": null,
            "bottom": null,
            "_model_module": "@jupyter-widgets/base",
            "top": null,
            "grid_column": null,
            "overflow_y": null,
            "overflow_x": null,
            "grid_auto_flow": null,
            "grid_area": null,
            "grid_template_columns": null,
            "flex": null,
            "_model_name": "LayoutModel",
            "justify_items": null,
            "grid_row": null,
            "max_height": null,
            "align_content": null,
            "visibility": null,
            "align_self": null,
            "height": null,
            "min_height": null,
            "padding": null,
            "grid_auto_rows": null,
            "grid_gap": null,
            "max_width": null,
            "order": null,
            "_view_module_version": "1.2.0",
            "grid_template_areas": null,
            "object_position": null,
            "object_fit": null,
            "grid_auto_columns": null,
            "margin": null,
            "display": null,
            "left": null
          }
        },
        "b64076e447f54ab6953fd904ecd16783": {
          "model_module": "@jupyter-widgets/controls",
          "model_name": "DescriptionStyleModel",
          "state": {
            "_view_name": "StyleView",
            "_model_name": "DescriptionStyleModel",
            "description_width": "",
            "_view_module": "@jupyter-widgets/base",
            "_model_module_version": "1.5.0",
            "_view_count": null,
            "_view_module_version": "1.2.0",
            "_model_module": "@jupyter-widgets/controls"
          }
        },
        "efc1d2c68d29417fb15a918c85d31e7d": {
          "model_module": "@jupyter-widgets/base",
          "model_name": "LayoutModel",
          "state": {
            "_view_name": "LayoutView",
            "grid_template_rows": null,
            "right": null,
            "justify_content": null,
            "_view_module": "@jupyter-widgets/base",
            "overflow": null,
            "_model_module_version": "1.2.0",
            "_view_count": null,
            "flex_flow": null,
            "width": null,
            "min_width": null,
            "border": null,
            "align_items": null,
            "bottom": null,
            "_model_module": "@jupyter-widgets/base",
            "top": null,
            "grid_column": null,
            "overflow_y": null,
            "overflow_x": null,
            "grid_auto_flow": null,
            "grid_area": null,
            "grid_template_columns": null,
            "flex": null,
            "_model_name": "LayoutModel",
            "justify_items": null,
            "grid_row": null,
            "max_height": null,
            "align_content": null,
            "visibility": null,
            "align_self": null,
            "height": null,
            "min_height": null,
            "padding": null,
            "grid_auto_rows": null,
            "grid_gap": null,
            "max_width": null,
            "order": null,
            "_view_module_version": "1.2.0",
            "grid_template_areas": null,
            "object_position": null,
            "object_fit": null,
            "grid_auto_columns": null,
            "margin": null,
            "display": null,
            "left": null
          }
        },
        "471555bc581e4fdcad2d7c9f7c5726c5": {
          "model_module": "@jupyter-widgets/controls",
          "model_name": "DescriptionStyleModel",
          "state": {
            "_view_name": "StyleView",
            "_model_name": "DescriptionStyleModel",
            "description_width": "",
            "_view_module": "@jupyter-widgets/base",
            "_model_module_version": "1.5.0",
            "_view_count": null,
            "_view_module_version": "1.2.0",
            "_model_module": "@jupyter-widgets/controls"
          }
        },
        "6db55c892f354ac2b3315afee5eac370": {
          "model_module": "@jupyter-widgets/base",
          "model_name": "LayoutModel",
          "state": {
            "_view_name": "LayoutView",
            "grid_template_rows": null,
            "right": null,
            "justify_content": null,
            "_view_module": "@jupyter-widgets/base",
            "overflow": null,
            "_model_module_version": "1.2.0",
            "_view_count": null,
            "flex_flow": null,
            "width": null,
            "min_width": null,
            "border": null,
            "align_items": null,
            "bottom": null,
            "_model_module": "@jupyter-widgets/base",
            "top": null,
            "grid_column": null,
            "overflow_y": null,
            "overflow_x": null,
            "grid_auto_flow": null,
            "grid_area": null,
            "grid_template_columns": null,
            "flex": null,
            "_model_name": "LayoutModel",
            "justify_items": null,
            "grid_row": null,
            "max_height": null,
            "align_content": null,
            "visibility": null,
            "align_self": null,
            "height": null,
            "min_height": null,
            "padding": null,
            "grid_auto_rows": null,
            "grid_gap": null,
            "max_width": null,
            "order": null,
            "_view_module_version": "1.2.0",
            "grid_template_areas": null,
            "object_position": null,
            "object_fit": null,
            "grid_auto_columns": null,
            "margin": null,
            "display": null,
            "left": null
          }
        },
        "d0c9598111e9463582c1901fcbf76bc2": {
          "model_module": "@jupyter-widgets/controls",
          "model_name": "DescriptionStyleModel",
          "state": {
            "_view_name": "StyleView",
            "_model_name": "DescriptionStyleModel",
            "description_width": "",
            "_view_module": "@jupyter-widgets/base",
            "_model_module_version": "1.5.0",
            "_view_count": null,
            "_view_module_version": "1.2.0",
            "_model_module": "@jupyter-widgets/controls"
          }
        },
        "f4f24479301a445894ed4a3cfe2a91b2": {
          "model_module": "@jupyter-widgets/base",
          "model_name": "LayoutModel",
          "state": {
            "_view_name": "LayoutView",
            "grid_template_rows": null,
            "right": null,
            "justify_content": null,
            "_view_module": "@jupyter-widgets/base",
            "overflow": null,
            "_model_module_version": "1.2.0",
            "_view_count": null,
            "flex_flow": null,
            "width": null,
            "min_width": null,
            "border": null,
            "align_items": null,
            "bottom": null,
            "_model_module": "@jupyter-widgets/base",
            "top": null,
            "grid_column": null,
            "overflow_y": null,
            "overflow_x": null,
            "grid_auto_flow": null,
            "grid_area": null,
            "grid_template_columns": null,
            "flex": null,
            "_model_name": "LayoutModel",
            "justify_items": null,
            "grid_row": null,
            "max_height": null,
            "align_content": null,
            "visibility": null,
            "align_self": null,
            "height": null,
            "min_height": null,
            "padding": null,
            "grid_auto_rows": null,
            "grid_gap": null,
            "max_width": null,
            "order": null,
            "_view_module_version": "1.2.0",
            "grid_template_areas": null,
            "object_position": null,
            "object_fit": null,
            "grid_auto_columns": null,
            "margin": null,
            "display": null,
            "left": null
          }
        },
        "2e424b0b8b0a4d76a8c4ea42f7493868": {
          "model_module": "@jupyter-widgets/controls",
          "model_name": "DescriptionStyleModel",
          "state": {
            "_view_name": "StyleView",
            "_model_name": "DescriptionStyleModel",
            "description_width": "",
            "_view_module": "@jupyter-widgets/base",
            "_model_module_version": "1.5.0",
            "_view_count": null,
            "_view_module_version": "1.2.0",
            "_model_module": "@jupyter-widgets/controls"
          }
        },
        "3fe7cdd0bc2d4a2cbc78e3b43aa0f1db": {
          "model_module": "@jupyter-widgets/base",
          "model_name": "LayoutModel",
          "state": {
            "_view_name": "LayoutView",
            "grid_template_rows": null,
            "right": null,
            "justify_content": null,
            "_view_module": "@jupyter-widgets/base",
            "overflow": null,
            "_model_module_version": "1.2.0",
            "_view_count": null,
            "flex_flow": null,
            "width": null,
            "min_width": null,
            "border": null,
            "align_items": null,
            "bottom": null,
            "_model_module": "@jupyter-widgets/base",
            "top": null,
            "grid_column": null,
            "overflow_y": null,
            "overflow_x": null,
            "grid_auto_flow": null,
            "grid_area": null,
            "grid_template_columns": null,
            "flex": null,
            "_model_name": "LayoutModel",
            "justify_items": null,
            "grid_row": null,
            "max_height": null,
            "align_content": null,
            "visibility": null,
            "align_self": null,
            "height": null,
            "min_height": null,
            "padding": null,
            "grid_auto_rows": null,
            "grid_gap": null,
            "max_width": null,
            "order": null,
            "_view_module_version": "1.2.0",
            "grid_template_areas": null,
            "object_position": null,
            "object_fit": null,
            "grid_auto_columns": null,
            "margin": null,
            "display": null,
            "left": null
          }
        },
        "84da111e58934620ae357410a99d2cd1": {
          "model_module": "@jupyter-widgets/controls",
          "model_name": "DescriptionStyleModel",
          "state": {
            "_view_name": "StyleView",
            "_model_name": "DescriptionStyleModel",
            "description_width": "",
            "_view_module": "@jupyter-widgets/base",
            "_model_module_version": "1.5.0",
            "_view_count": null,
            "_view_module_version": "1.2.0",
            "_model_module": "@jupyter-widgets/controls"
          }
        },
        "dcfc3a432a0645188e3be3d98cd28c0f": {
          "model_module": "@jupyter-widgets/base",
          "model_name": "LayoutModel",
          "state": {
            "_view_name": "LayoutView",
            "grid_template_rows": null,
            "right": null,
            "justify_content": null,
            "_view_module": "@jupyter-widgets/base",
            "overflow": null,
            "_model_module_version": "1.2.0",
            "_view_count": null,
            "flex_flow": null,
            "width": null,
            "min_width": null,
            "border": null,
            "align_items": null,
            "bottom": null,
            "_model_module": "@jupyter-widgets/base",
            "top": null,
            "grid_column": null,
            "overflow_y": null,
            "overflow_x": null,
            "grid_auto_flow": null,
            "grid_area": null,
            "grid_template_columns": null,
            "flex": null,
            "_model_name": "LayoutModel",
            "justify_items": null,
            "grid_row": null,
            "max_height": null,
            "align_content": null,
            "visibility": null,
            "align_self": null,
            "height": null,
            "min_height": null,
            "padding": null,
            "grid_auto_rows": null,
            "grid_gap": null,
            "max_width": null,
            "order": null,
            "_view_module_version": "1.2.0",
            "grid_template_areas": null,
            "object_position": null,
            "object_fit": null,
            "grid_auto_columns": null,
            "margin": null,
            "display": null,
            "left": null
          }
        }
      }
    }
  },
  "cells": [
    {
      "cell_type": "markdown",
      "metadata": {
        "id": "view-in-github",
        "colab_type": "text"
      },
      "source": [
        "<a href=\"https://colab.research.google.com/github/flow4u/public/blob/master/Covid_19.ipynb\" target=\"_parent\"><img src=\"https://colab.research.google.com/assets/colab-badge.svg\" alt=\"Open In Colab\"/></a>"
      ]
    },
    {
      "cell_type": "markdown",
      "metadata": {
        "id": "a58Gjia9MDRw",
        "colab_type": "text"
      },
      "source": [
        "# Covid-19\n",
        "\n",
        "Data Source: https://github.com/CSSEGISandData/COVID-19\n",
        " \n",
        " \n",
        "\n",
        "To run this notebook log into your Google account and press **CTRL + F9**"
      ]
    },
    {
      "cell_type": "markdown",
      "metadata": {
        "id": "9qgrf6ZnK4k2",
        "colab_type": "text"
      },
      "source": [
        "## Import Modules & Data\n",
        "\n"
      ]
    },
    {
      "cell_type": "code",
      "metadata": {
        "id": "Ipw826YVw5ZE",
        "colab_type": "code",
        "cellView": "code",
        "colab": {}
      },
      "source": [
        "import pandas as pd\n",
        "import matplotlib.pyplot as plt\n",
        "import numpy as np\n",
        "from datetime import datetime\n",
        "import ipywidgets as widgets2\n",
        "from google.colab import widgets\n",
        "import plotly.express as px"
      ],
      "execution_count": 0,
      "outputs": []
    },
    {
      "cell_type": "code",
      "metadata": {
        "id": "5dQmk2GEgFZ3",
        "colab_type": "code",
        "cellView": "both",
        "colab": {}
      },
      "source": [
        "data_sets = ('Confirmed', 'Recovered', 'Deaths')\n",
        "base_url = \"https://raw.githubusercontent.com/CSSEGISandData/COVID-19/master/csse_covid_19_data/csse_covid_19_time_series/time_series_19-covid-\"\n",
        "\n",
        "df=[]\n",
        "for set in data_sets:\n",
        "  df_temp = pd.read_csv(base_url+set+'.csv')\n",
        "  df_temp = df_temp.drop(['Lat', 'Long'],axis=1)\n",
        "  del df_temp['Province/State']\n",
        "  # not all date columns have the same format, some are mm/d/yy, others mm/dd/yy\n",
        "  # this will convert first to date, then back to string\n",
        "  for col in df_temp.columns:\n",
        "    try:\n",
        "      col1 = col[:len(col)-2]+'20'+col[-2:]\n",
        "      col_new = datetime.strptime(col1,'%m/%d/%Y')\n",
        "      col_new = datetime.strftime(col_new, '%Y-%m-%d')\n",
        "      df_temp.rename(columns={col: col_new}, inplace=True)\n",
        "    except:\n",
        "      pass\n",
        "  df_temp = df_temp.groupby(['Country/Region']).sum()\n",
        "  df_temp['Status'] = set\n",
        "  try:\n",
        "    df = df.append(df_temp, sort=False)\n",
        "  except:\n",
        "    df=df_temp\n",
        "\n",
        "df2 = df \n",
        "df_status = df2.groupby(['Status']).sum()\n",
        "\n",
        "df = df.reindex(sorted(df.columns), axis=1)\n",
        "df_plot = df_status.T.reset_index()  "
      ],
      "execution_count": 0,
      "outputs": []
    },
    {
      "cell_type": "markdown",
      "metadata": {
        "id": "mNWCnM28LVM8",
        "colab_type": "text"
      },
      "source": [
        "## Filters\n",
        "\n",
        "When a change is made, use **CTRL + F10**"
      ]
    },
    {
      "cell_type": "code",
      "metadata": {
        "id": "LYd1iM5NPYeD",
        "colab_type": "code",
        "cellView": "code",
        "colab": {}
      },
      "source": [
        "europe = ['Austria', 'Belgium', 'Croatia', 'Finland', 'France',\n",
        "          'Germany','Italy', 'Norway', 'Romania','Greece', 'Spain', 'Sweden',\n",
        "          'Switzerland', 'North Macedonia', 'Denmark', 'UK', 'Netherlands',\n",
        "          'San Marino', 'Iceland', 'Luxembourg', 'Monaco',\n",
        "          'Czech Republic', 'Andorra', 'Portugal', 'Gibraltar', 'Hungary',\n",
        "          'Liechtenstein', 'Bosnia and Herzegovina', 'Slovenia','Poland',\n",
        "          'Lithuania','Georgia','Estonia', 'Latvia', 'Belarus',\n",
        "          'Armenia', 'Ukraine', 'Serbia', 'Slovakia',\n",
        "          'Bulgaria', 'Malta', 'Albania', 'Cyprus',\n",
        "          'Channel Islands', 'Holy See', 'Ireland', 'Republic of Moldova',\n",
        "          'Russian Federation', 'Czechia', 'Moldova', 'Russia',\n",
        "          'United Kingdom', 'Turkey']\n",
        "\n",
        "asia = ['Cambodia', 'Mainland China', 'India', 'Azerbaijan', \n",
        "        'Japan', 'Malaysia', 'Nepal', 'Philippines', \n",
        "        'Singapore', 'Sri Lanka', 'Thailand',\n",
        "        'Indonesia', 'Afghanistan', 'Bahrain','Kuwait','Oman',\n",
        "        'Iraq','Pakistan', 'Israel','Jordan', 'Lebanon', 'Qatar',\n",
        "        'Saudi Arabia', 'United Arab Emirates', 'Bhutan',\n",
        "        'Bangladesh', 'Maldives', 'Brunei','Taipei and environs', 'Viet Nam',\n",
        "        'Iran (Islamic Republic of)', 'Hong Kong SAR', 'Macao SAR', 'Mongolia',\n",
        "        'Republic of Korea', 'occupied Palestinian territory', 'China',\n",
        "        'Iran', 'Korea, South', 'Taiwan*', 'Turkey', 'Vietnam']\n",
        "\n",
        "north_america = ['US', 'Canada', 'Mexico', 'Martinique', \n",
        "                 'Panama', 'Saint Martin', 'Honduras', 'Jamaica']\n",
        "\n",
        "south_america = ['Brazil', 'Dominican Republic', 'Saint Barthelemy',\n",
        "                 'Argentina', 'Chile', 'Ecuador', 'Faroe Islands',\n",
        "                 'Colombia', 'Costa Rica', 'Peru', 'Togo', 'French Guiana',\n",
        "                 'Paraguay', 'Bolivia']\n",
        "\n",
        "africa = ['Nigeria', 'Morocco', 'Senegal', 'Algeria', 'Egypt', 'Tunisia',\n",
        "          'South Africa', 'Cameroon', 'Burkina Faso', 'Congo (Kinshasa)',\n",
        "          \"Cote d'Ivoire\", 'Reunion']\n",
        "\n",
        "oceania = ['Australia', 'New Zealand']\n",
        "\n",
        "others = ['Others', 'Cruise Ship']\n",
        "\n",
        "continents = {'europe': europe, 'asia': asia, 'north_america': north_america,\n",
        "              'south_america': south_america,'africa': africa,\n",
        "              'oceania': oceania, 'others':others}\n",
        "\n",
        "all_countries=[]\n",
        "all_countries.extend(others)\n",
        "all_countries.extend(europe)\n",
        "all_countries.extend(asia)\n",
        "all_countries.extend(africa)\n",
        "all_countries.extend(south_america)\n",
        "all_countries.extend(north_america)\n",
        "all_countries.extend(oceania)\n",
        "\n",
        "missing_countries = 'Missing: '\n",
        "for t in df.index.unique():\n",
        "  if all_countries.count(t) == 0:\n",
        "    missing_countries = missing_countries + \", '\" + t + \"'\"\n",
        "\n",
        "temp_countries = pd.Series([i for i in df.index])\n",
        "temp_countries = temp_countries.unique()\n",
        "obsolete_countries = 'Obsolete: '\n",
        "for t in all_countries:\n",
        "  if (t not in temp_countries):\n",
        "    obsolete_countries += ', ' + t"
      ],
      "execution_count": 0,
      "outputs": []
    },
    {
      "cell_type": "markdown",
      "metadata": {
        "id": "fEi06zhwOHgl",
        "colab_type": "text"
      },
      "source": [
        "# View Graphs\n",
        "Click on space next to SHOW CODE and press **CTRL+ALT+F** for full screen\n",
        "\n",
        "*Country names below are as is provided in the data"
      ]
    },
    {
      "cell_type": "code",
      "metadata": {
        "id": "DPMLIX-BcIK2",
        "colab_type": "code",
        "outputId": "568f4f23-d15a-4b98-a23e-1b9896151f35",
        "cellView": "form",
        "colab": {
          "resources": {
            "http://localhost:8080/nbextensions/google.colab/tabbar.css": {
              "data": "Lmdvb2ctdGFie3Bvc2l0aW9uOnJlbGF0aXZlO3BhZGRpbmc6NHB4IDhweDtjb2xvcjojMDBjO3RleHQtZGVjb3JhdGlvbjp1bmRlcmxpbmU7Y3Vyc29yOmRlZmF1bHR9Lmdvb2ctdGFiLWJhci10b3AgLmdvb2ctdGFie21hcmdpbjoxcHggNHB4IDAgMDtib3JkZXItYm90dG9tOjA7ZmxvYXQ6bGVmdH0uZ29vZy10YWItYmFyLXRvcDphZnRlciwuZ29vZy10YWItYmFyLWJvdHRvbTphZnRlcntjb250ZW50OiIgIjtkaXNwbGF5OmJsb2NrO2hlaWdodDowO2NsZWFyOmJvdGg7dmlzaWJpbGl0eTpoaWRkZW59Lmdvb2ctdGFiLWJhci1ib3R0b20gLmdvb2ctdGFie21hcmdpbjowIDRweCAxcHggMDtib3JkZXItdG9wOjA7ZmxvYXQ6bGVmdH0uZ29vZy10YWItYmFyLXN0YXJ0IC5nb29nLXRhYnttYXJnaW46MCAwIDRweCAxcHg7Ym9yZGVyLXJpZ2h0OjB9Lmdvb2ctdGFiLWJhci1lbmQgLmdvb2ctdGFie21hcmdpbjowIDFweCA0cHggMDtib3JkZXItbGVmdDowfS5nb29nLXRhYi1ob3ZlcntiYWNrZ3JvdW5kOiNlZWV9Lmdvb2ctdGFiLWRpc2FibGVke2NvbG9yOiM2NjZ9Lmdvb2ctdGFiLXNlbGVjdGVke2NvbG9yOiMwMDA7YmFja2dyb3VuZDojZmZmO3RleHQtZGVjb3JhdGlvbjpub25lO2ZvbnQtd2VpZ2h0OmJvbGQ7Ym9yZGVyOjFweCBzb2xpZCAjNmI5MGRhfS5nb29nLXRhYi1iYXItdG9we3BhZGRpbmctdG9wOjVweCFpbXBvcnRhbnQ7cGFkZGluZy1sZWZ0OjVweCFpbXBvcnRhbnQ7Ym9yZGVyLWJvdHRvbToxcHggc29saWQgIzZiOTBkYSFpbXBvcnRhbnR9Lmdvb2ctdGFiLWJhci10b3AgLmdvb2ctdGFiLXNlbGVjdGVke3RvcDoxcHg7bWFyZ2luLXRvcDowO3BhZGRpbmctYm90dG9tOjVweH0uZ29vZy10YWItYmFyLWJvdHRvbSAuZ29vZy10YWItc2VsZWN0ZWR7dG9wOi0xcHg7bWFyZ2luLWJvdHRvbTowO3BhZGRpbmctdG9wOjVweH0uZ29vZy10YWItYmFyLXN0YXJ0IC5nb29nLXRhYi1zZWxlY3RlZHtsZWZ0OjFweDttYXJnaW4tbGVmdDowO3BhZGRpbmctcmlnaHQ6OXB4fS5nb29nLXRhYi1iYXItZW5kIC5nb29nLXRhYi1zZWxlY3RlZHtsZWZ0Oi0xcHg7bWFyZ2luLXJpZ2h0OjA7cGFkZGluZy1sZWZ0OjlweH0uZ29vZy10YWItYmFye21hcmdpbjowO2JvcmRlcjowO3BhZGRpbmc6MDtsaXN0LXN0eWxlOm5vbmU7Y3Vyc29yOmRlZmF1bHQ7b3V0bGluZTpub25lO2JhY2tncm91bmQ6I2ViZWZmOX0uZ29vZy10YWItYmFyLWNsZWFye2NsZWFyOmJvdGg7aGVpZ2h0OjA7b3ZlcmZsb3c6aGlkZGVufS5nb29nLXRhYi1iYXItc3RhcnR7ZmxvYXQ6bGVmdH0uZ29vZy10YWItYmFyLWVuZHtmbG9hdDpyaWdodH0qIGh0bWwgLmdvb2ctdGFiLWJhci1zdGFydHttYXJnaW4tcmlnaHQ6LTNweH0qIGh0bWwgLmdvb2ctdGFiLWJhci1lbmR7bWFyZ2luLWxlZnQ6LTNweH0=",
              "ok": true,
              "headers": [
                [
                  "content-type",
                  "text/css"
                ]
              ],
              "status": 200,
              "status_text": ""
            },
            "http://localhost:8080/nbextensions/google.colab/tabbar_main.min.js": {
              "data": "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",
              "ok": true,
              "headers": [
                [
                  "content-type",
                  "application/javascript"
                ]
              ],
              "status": 200,
              "status_text": ""
            }
          },
          "base_uri": "https://localhost:8080/",
          "height": 863,
          "referenced_widgets": [
            "8bbf74b2652c4ab8920381323cf4a573",
            "8d68dd3869fe4f0bbd9dced42db8919f",
            "dbc85cf762ad40379bb9750f394953bb",
            "3ca1f0d60d1049ecb49f004981671ee0",
            "ebcf395de1a742a6868f361c927b76c8",
            "f305224872684ac099a108e06b8dce6d",
            "ea75f56cc2744eb586c06ba6a596d23f",
            "903b5ddd152a4dddbe85d5f8962e6469",
            "d16cd4c1cab3494ab429c3b2ef5f9ad4",
            "58c62e34c8dc4419bcff9abf7736072d",
            "c384a70a91524f3a84c5375456bb83d8",
            "ab84723540354b728c617da2febc1b2b",
            "e88c9392971643a981c697fb74d18e04",
            "27fe85834d0e49e4a46235f85620f034",
            "8d44afabc0354ce29f495388238cb1b8",
            "8b841fe7db494c7cb5e0530dc1d639c3",
            "f03a58212f3e4740a13eff97f817500f",
            "a890485963ce412a8750eebc234a1d97",
            "4b2982fc83e74646b8ca539d48dcd92a",
            "fe92c34044f444d4b9d338c32458b9b4",
            "19333d21025946d3b69e17972142d9e6",
            "680cd5b081464744a4c39ddfba9fc8c9",
            "9bdc9dc524e64ae9a2446d97a7ee1feb",
            "de30fde5dd5542d199698b8a41615def",
            "24d4585114614a9589b1e4424b768b0f",
            "d328faf1817643f0a416238b5f781676",
            "507d35239bac45358102a65b9030c57d",
            "fcc60d4eb9b34c20ac1cebe3b47e86e4",
            "70b9044485a04f63a29202c2b877c374",
            "00f3fb913ed746799a9bb37c06e68034",
            "f516a4c68b9040a3aa325b4517ecb4be",
            "5e4f8e5c54824b439a91be7be16a6543",
            "8c00f3e912a4437999565eefc09e5cac",
            "88f87dd3e7a74b578f4880c7ae64f040",
            "9e46344500fd4c5399e6783a0a8b4458",
            "8486e78cac5942ef99bbf51d9bb7d2d7",
            "b083204fb9904f33a7572e8efcd04b96",
            "cff1b34a30784d148bf5b5ef3851ca96",
            "0b44cc76497040798385cd2db9470d1f",
            "41756498528c4df98eb6942e4b074fbf",
            "950ebbb2b0b64e32a34bd74b35589531",
            "eb7b69c46df5413384d5d2976d9b8c37",
            "93d91669008147f0a4351c94a3bfeba4",
            "406f883674e44c3b9c175ece76a2f9dd",
            "747381842ceb43d18d046054a1d5bd89",
            "c036a7c9b18c40d1a2fe241154943b37",
            "18c8293c810a41cd9eba9c31093c9bef",
            "64e3c6cd8d334d96a7beaa7860010e83",
            "e9fb64b4f0564f4ba38bb68307430237",
            "b750f5f06d2e46f8955f5985f1503139",
            "01e9ef9d8c504b64b1cd8354e73351bf",
            "71289a9195184352bb762c678243c6c9",
            "32c0e5b2558a452c8760e189d89e56f7",
            "d9c79c8ec42e442388539387c3867afb",
            "6f62f1037cd542118c3e40bc296ac093",
            "4bef2ad6242b4e27b3f1622cdd5265ab",
            "2592a8fa23c34ce88fc0a00a892c84d2",
            "63527c363fce4d7ba2075df85d8cce40",
            "aa0a435a909e46d19018b4ffab2e8ab3",
            "57886f879d5f4030aaccd3d50f2f224b",
            "78f13c6f2f4b4889bd50ec41155e5746",
            "725574034bf5450099345bc5bfe0129d",
            "e857535ebecb46ee93e82ac8638fc49f",
            "7012165197ea46cba3ccfbdac20c2e27",
            "de90895860434757aa9d971847cf6a05",
            "427a1a79a34147a7ac9b31f78c9db135",
            "16519cb3804e43318ee6e93b18b5fa9e",
            "0b5ac283199a4e6ba0926c534d9b3984",
            "42307337c57c45dca11038b299c3cdfa",
            "052cf338244045709d41c03377858f01",
            "23196341e9364f549a564da5c8735aac",
            "1e34c641d5fd4facb07ddf242fefbd47",
            "f4e52a291afd47afa35913c0b52f41bd",
            "8688678d248e442fb2f00c5d538b22f4",
            "19d5af26873f44d5a11a836d15b14935",
            "58489a6289ab49f7a2e451d20e60c26e",
            "f8bcd32a7fa249e3aedae2a621139363",
            "b21c7cd8577a466ab5c0bcaa9811011e",
            "0411acf1c5ad4c21b3da50ba05449f54",
            "a7a2d5baba4241419d50a8010902fd44",
            "123df0e163aa48fa8fa950df0b855986",
            "117852ed2d314ae89e9e0eb047cba9f8",
            "4d8ca9559038444b94b2e44745bc9c00",
            "3016df000027449e9985c69e541ad34b",
            "8fff1e0d5d6f435097df0e75ecf4b288",
            "cfe3af30b351436ab3f1b64d552e7d9b",
            "992301d0723749c2bf6e2fc987c89dcf",
            "2b1854ffd0f24f838de1eb253cebad2a",
            "bb90a7cb25634ef5acc4706acd457bb5",
            "1caa54514f294924ad9938cf785fdcf0",
            "d504730a1c9a461d849d396d9e08a823",
            "e2062aad4ed045e5acbd2ef901103b30",
            "1deb284f58a24df8a8e75e3a88a01880",
            "5c1ab5919c524230b09325090d71efdf",
            "c93cd66ec0ec4e8c8a5dd8d6655f60ea",
            "a3190b5dff544a259bc1b6e62cefecfb",
            "10de42fa5d4b442cbb611182a7ba67a7",
            "5e1168d23d894b179d06140aa106c008",
            "0273ef6ffe864ac09cdaffd002ec0346",
            "357e1c933d06446d95ae747f7701540d",
            "bc32770f8dd044c99fef1bce00411f1b",
            "1b42fa052c38496b9781fe92b4aa3051",
            "8f637cdb8fee417eabc39af05a6a9bd3",
            "86fb5aa3c4124db4983c75271663646b",
            "4d0ba5a8142d4c32b04119df00ef463a",
            "8a39131967874b9b927480aabf8a4dba",
            "ca4923865828451ebceb2734f4dd31dd",
            "19d1cbce61dc4fcf85c3d19d6744db36",
            "98ef99063d944b64af7e4da09d797a26",
            "c56e085d3e894836b9b5d34cf8c524d1",
            "354eb17984864fdb80a359da29be8f5f",
            "5e51da69be1845ceb56b926a2540e801",
            "8111b7e36ce44642bee77d23e4514b19",
            "01c139a89a00413f85bf364820f4c0ab",
            "8fe7488940af486ca35fe2b6f9a5467c",
            "5f0d5e327949467ab45664453425a68f",
            "86c4165e696c4b6b80a1d4f31c9e03a0",
            "a731a497529f4791ad16a81d27ef272d",
            "fb09b8eab8374d3db558590a690b1021",
            "58ca7bb0e90e4b25ba53a9a614f5690e",
            "03f0a640fff744d5a6c9b728b7a7ac56",
            "cd64a16f378c4ab1a152a63667ba772b",
            "5173ec849b9f4c42aeb80949c916635a",
            "38285b2a19784cfca28d775df99a077e",
            "3a2539abd33e49158a7e80409634b9d1",
            "b4fb807bc36d4abd836d0fb6fd51341a",
            "cf7f0cc096a643eba9d039a3b46db129",
            "10e66ff5f8774533998c5cbb661941ed",
            "668a0969a5344a248feddd0b2b947d2e",
            "1d6944359b6a4de0bb821c1f4667a911",
            "90723a475a7547f8bd3e768375428347",
            "4a01a9b7ac974dcf87c2076ecc8cf01a",
            "cc7c4c23af54490981879bdbf819aeb3",
            "0617d4d665354cda9a468be28f8cec63",
            "0c1d286efe5046339e77cb712f906692",
            "78e178a28c324a719fb59ccff13f2054",
            "dcbb84b498274ddb854ade7f986f89a9",
            "8eb98cb332234ea785f2703788d63db4",
            "c72ecb79bbbe445d935e474a0db2b3da",
            "515e9ba7c4d44162a33b1999c46861d2",
            "91882977030643a78c7b828c06c1952e",
            "7af24cbb05fa4c8eb2a661606f82027f",
            "ad7a7812279444eea5cd22c15f0f42fb",
            "978f8219440c475fb5ae03b568c583b8",
            "5a02f3e681bb4271a31f3213d2c56f20",
            "a03d191efac0411395fe9b501dbf3379",
            "1a047864510c45a88f9ab6c8cb3c5182",
            "9bfeed6669524b798a08106c24302b8a",
            "3581b153183741db83836331fd8a7fa1",
            "87700ba7e6d94ac5b5940a09632efea2",
            "1b2e7a0ad7d64384bc785868f10c39b6",
            "dd52f81fec234346aec5fd5baa1e8190",
            "5f3e4545227f4359b731511a6afa28e8",
            "d43c78ae2d484119b75014f5eb0ba552",
            "84ca8f28661646f585957f57f97d11fd",
            "52401f7877bf4735ac69d1e746a4e15e",
            "96614eed352d401e98b8e09deea73d57",
            "23a740171d194b868cff542bd5c15df4",
            "cd8b213e2387403b922c6292a33dff0d",
            "9d373388b50c41f7915c9fc5e9c0258d",
            "e41c9b7cc04043a5ad8444419da72a61",
            "d7a08f7f8f5246a38082ca3a6247f2b7",
            "bf385a420ecb473790be547cb20a94a5",
            "d7bed6ff993c4053a74e52e1a2968a62",
            "df774d8599cb4f969d87094278561bf5",
            "f4bcedae162e4ca0bd741deabf5a3602",
            "e58fc2f6a4b4435cb5c9bd43b377593c",
            "786ad20c38834742b4aa7858da1edd7e",
            "caa126a732044e3eb1bd3d57dbde26a9",
            "d8b2427766a64ef3bc3cd605bf1d017a",
            "20568ad1c19a456fb6ca3465ecb0ac78",
            "35ba400e4f964af8b3e7d7ed70e3085c",
            "cb5aa6dbee4f4828a3a3e93d3ced44b6",
            "512edf54e63d446ea8865cd9e8847bb3",
            "0aaa4de9ce58469a883721935a097bdb",
            "3c03c47df18d456cb7f6333e3d61c4ef",
            "9dab1c8fadc547f888c0fd4f4120ee68",
            "71203d4af43c41708e63e22a106c4d5a",
            "693812b58707466ba4d9480837952a3f",
            "7cd1e89b0a4442e5a85ac14cd1cf7770",
            "d639ff3c53eb4297997fe4b11591a74e",
            "bcffe535fd4345ff8a2ef1e66638eef3",
            "bbb2cbe2b4fa4766bad78b977e0b2969",
            "3afaa1147ad04a03bac85d1b8d6c1953",
            "4f5915da60944a0d94db6fcbc654639a",
            "b94b39870a0545c486d0b7846a96f450",
            "0f0d099328c8420ca75b44e790447870",
            "4da382fd931248f5af99252aaa377802",
            "2f75f91add9b46e8a19e1ab6a640a252",
            "e11929d21d7e43299cd6f3c383874df8",
            "02f46b71f944488594364f52ef2f9ef7",
            "44599868bed741dbbe74a094780debc5",
            "a67633c1933c4cfeb6f2924320f9f1f6",
            "2825314132cb48f49584696dbef0a2a1",
            "df85b93049af45ab99d337236b4d2ee0",
            "f8165fed9bc64b5abfcbff253e91d8d0",
            "5a7abd0aaab54c46a1977d473089268e",
            "35c2fce617414046b485be3f13c53479",
            "6e3aad6a7f1f460aa7fa1556439cfbbc",
            "56868a1dee7b4ab5bbdbca7f16e87797",
            "e3794c05f3fe4b8bbe23a10a4fad0599",
            "044b7b677e17440cba400fe3ed5a7680",
            "11f0b43da1484076b037fdfb568bed63",
            "db108750ba4d42e8a70aac15168202f0",
            "72eee7d29f7e451e96d4d4b0aceac52a",
            "f347364df98b4aa2b6fc3f05507d082f",
            "e0ef279a25944a23b6ddae73ef4ded1f",
            "1e907de995e14cf084d9513da344169f",
            "5574f4cd94194d9abc0aca9db53e1f85",
            "40c5010310b5435a8ee8c7680fda23c6",
            "cbc4a568d3a9448d88688ed2c34e1bce",
            "63969f602dec4bbfbfb722fbe8ec5a1b",
            "12a5a1e5cbc0442ea05dcb5d172a536c",
            "fad10831546247d3a0e9c357f6d70f3a",
            "2dfe072a22a240269a8b5f5d38e4e992",
            "e04c0bb4a7d14101bc276a97a85f38ee",
            "caac4d0f8da844d387d73f6512868294",
            "ec2e36c9a6a547ec9c9b0305a388ddb3",
            "4427aa1c163b49ceb42e20424a72edb0",
            "93c9794a24d74dda9c1e3f8b96922fd0",
            "fd864a19c3714958b0aaa7c8b5b8b5bd",
            "4f0c091b140e48d5a1c2cec8bf744cec",
            "6dfd048baf9c4394943a46c5b6905243",
            "0f1d99cdc1274351b61fec7fbaa8beed",
            "fa4201fe77e140f8821f9592a01d1d12",
            "d4179a849b604e07a1d880305a239d04",
            "b5430529d5344114bb456e469defac30",
            "3bc4052d22844c3a99ffda1486756cf0",
            "e21282cc736946ae9ac8ef0e94fe3920",
            "b64d7652c7474390b76c1c31f51fe5cf",
            "72cf6c4c70ed4cd4b459bda59442a5b0",
            "1e45e6bb542347e78e61286017b0c866",
            "29fcfa90a9cc45d4a9d5e29103139533",
            "dd816b1c08c948e2bb4ea7d31ecdb869",
            "b32c2d007dc749b0b093886596a78fe0",
            "75765ffb7916403fb9a45d3edddbd10e",
            "d68f8a813da64e0394190941ebc84067",
            "a8b341e371b345b5aaa06fd5aaffea36",
            "4dfdb1e23c53422e86d47d7766fd1755",
            "bacb35098bb44536b43bc0bf9a2361f8",
            "415c7dbeacc8429ca901b758077b2ae3",
            "f0f397b5b0c0482ebc23da6651e2e59b",
            "f68f8e0a160647f5b4ab3fb826f41936",
            "2326703d262a4cc4ace19209ca2d91ac",
            "3c96dbfe7c524e5da80800ca4b1da1b4",
            "0d2a478076c84817ac52a936be254fbe",
            "5919715dd485402f892d9dedb84ea762",
            "08159ae4967746c19f4d5f0498cf634a",
            "076c28a24d9c4670a5caebdc3f0618af",
            "9653e206cb464fa4b970783579bbd163",
            "6b5ea9aaee9d4128822c7b2205c41acf",
            "ec39067b75a445a3a30da47642a2a2a1",
            "25a3db50ce5048dfa84f9b57ceaea492",
            "fd0505cd9962422fbd2ee00a337c81ed",
            "bc93a401afdd433889c58c19e79e1130",
            "50d24472464c49a6a8b8ced1c863ce4f",
            "82c395c4169a42ba8cb504f1ba59e278",
            "a0d5e0c4a371417fa9e0d16e59d4d6a7",
            "73af1abf8d9941239db7c0518be07b7f",
            "d317bd320ff740b78be663c994077565",
            "1b7a059cbe974c4cb70480b598366788",
            "26822105e3dd456e85046967fcb779aa",
            "f207aae34cd440bf85de31ed936f70cd",
            "5c9288c13b024e69b82dc1772137d041",
            "51ea4f390dc742f9adf875b06d7e5566",
            "3f12837d470541c9b2761dbc0e7a53b4",
            "ccfb126c516a4a9090a9559d0f590128",
            "310ed208564a4b20aa7b0934de83a1ea",
            "63ce6da9fce44392b433bf58f17fd6fd",
            "c0bb6355acd34f25aa78fe17662d3c80",
            "5c2ff6319e6e4bfb950d0888f6c21f51",
            "7957965f954b4da198942b8d689e1c3f",
            "0b597e17c16441f1aabd91d4ee7a4569",
            "848b33d230744b3a882080556a749c5f",
            "3277aad9d70d4f8b8ca32e423a881124",
            "60cdad8fb7164e848ee2c925e7f7d03e",
            "960676ae78764e46999d21d0d95a58d7",
            "8a5c465663c643b3a0345cafd422fb90",
            "e0f954a19a5749169dd8313aaf8e8e81",
            "261edee28b25492ca40883db51b0f993",
            "2c48cdfabcb44cebbb7099b1afef127b",
            "493f9dbc36bb4e81ab5874508b0af5f9",
            "080ff85cb1b74c47be00a028dd8c808d",
            "b982cb8b32464baca9de31ea812a7026",
            "3be97376cc0e476992650c773d2182c4",
            "6a6271224dff466887a575a88039594b",
            "6dbce832063d4a53846189473464c68c",
            "48bca0d618a2418abd73ae22f9b50e1a",
            "18eebd0772e2458bab79a81636ae471d",
            "c0f115ce722847728ed45a1822081f9d",
            "a63344d91ae94d8b8ea1ccaff4d69b13",
            "86e58f4b8d5546aba6b6122863ce6101",
            "2d0a147134734503a3780890fab765f5",
            "ff117b67bd014b99b106c529fca3ad44",
            "cdb92deb63ad472c9638f96c634f1fc3",
            "cdcdf5f1e1ff4429ba50987887643bcf",
            "c23734bcd838425ebed7f7070ceeed6a",
            "1683ab2d218d4299a29ef1d9021c8d81",
            "8a6a735ec4ef4710964cca0804240636",
            "81d8022a9511462281e3802ccd4b7a39",
            "20eec13a670941b09728021101b4a015",
            "5f4dfee01b8d40cdb34703a19939b07f",
            "3ef41f74288b497eb4076c3204b606a0",
            "d12d94cf371d4c0c920bdcf72c257e58",
            "0157dbe8f7844e94baae262b2898680e",
            "3db108d4dec44c4faaab192d65fca7e3",
            "786601b4a53f4de9819ea6a48e57c6db",
            "fbeee01ab04a49e492c2af11825b94a3",
            "51e7e810cc104276a21bfd3d25b9bbba",
            "479b1ead4f8f4d88bd6304ef2c11c10e",
            "54cb48fb473142268acebe52d3376966",
            "644b7bf44fc94444b69809055b61f13f",
            "ffaf5337d43547a7a977af4f91385b34",
            "aade1e88c7344fd1bf88a8469e51819a",
            "4561cdf3e1f64cf1baaf2f4eb58a5a41",
            "b0d1df3dcf804f93b7500b8ba597a6bc",
            "f0145dbaa4a54716938d44e9c073b1e9",
            "e723c86dad8444bfaa914059a221354d",
            "ecde3bf194804bfb8f174d5e8ba2acf2",
            "8967b3eae8fe46e793f5075a6e235c56",
            "d510a5299d3e493e8fd99fa4ccecb66a",
            "63f9d25b8f434796837e2323421962b1",
            "6dc0929a90b347dbb3923ede1992f5f9",
            "bfb1a3211d244475955f7e186d231e89",
            "a7091b1b30374752aec9d49579cdf82c",
            "3e74c357ed124d468459e30e59be3558",
            "1a799454ee2c499f9c4687a6cb25e46f",
            "447603350a804e65a772e73d4435cd61",
            "cfaade73c4d54a08ae2f0e2751809e11",
            "0b75ec183e3648d8b4892cd50b68117f",
            "adef25b834b94fb0b063b7393ac19aac",
            "90744dc67b1c4e5c825fe51e8add1590",
            "299f27154c8044d89e8701174fa001c4",
            "5e73ec4b43074ced91de513c4353ac54",
            "09edc44066db46a387d9eb01c4f13d0d",
            "0bbd0ec3359b44ed9a9d4d47c923ad20",
            "07c3874ddd05427d9cbff96d091d444c",
            "851956fad75e40519c53ca6dd38fd35b",
            "fc858486012a49e49b52b57ca74ebd6d",
            "3dfc576bf70f419bb49347f27e1aad77",
            "609f53370c8d4eedbd5b62f0838eb702",
            "3220156ad536467ba1c5bd4f7e4427a5",
            "72d9e6eae6bb444d845124f55e8f8a78",
            "f29e2dc6baef41a78692d8a40b3d18ca",
            "d684886149624da6b50dbf33d6782ba3",
            "398d35762a2e4a5cbc63f749d0dcbb4b",
            "4c9159cd75d3416b9e0d543ebb7d0865",
            "1e268ce83e834873bf00a6e23e722b58",
            "53de8947853c4f95a1d7fa451bd14dd0",
            "1a7f24a4e2f34881b1e4cbbd762a31c3",
            "1691cc475bba46819e42b5d8acbbe01b",
            "a2fd1d04ed834d75b838153e4b8ab0e1",
            "b973b6e9a4c44433b4c49e430399b42d",
            "a9e9071900b343b3855eac7cb5fb36dd",
            "a6c38d84dfb14e51b9c000c17c3d0cb6",
            "7b100861d43a469d9b8321e726c4d175",
            "58ce6f0fca2c47d4af4562f08edeb232",
            "73a43d60a2c44ccba710bf775e1d6212",
            "86004bc196544fca82ec65b2b1a45627",
            "54e8c820ff174f93897c75e07f8fa9ad",
            "33103756fc9f4691a7a5c3a08e972fa1",
            "5c98b8181b4545e29dd455d3a8783d94",
            "5dfcea5cf63347499148636ab9a462d2",
            "f2334eb234ce4f6eab8f40c0a65787fa",
            "a886ea20b9c74639a7cbbc68ce4eb326",
            "0e4f094ea7344bc9af191f167cdab748",
            "7450c9cfd41e48f9a830d6907207eea5",
            "302c48dca06f4f85a2cbceba0c86cae2",
            "ba6cb7eaff51449cb217bd294bce390e",
            "0038bf69ae07431586eee80fcdbe1950",
            "26fe5c83089d4f1489b293accf443341",
            "3ec905d0c09d441ebdceeb8c52ac5df4",
            "3040e75ab8244e99b8401234681a86b4",
            "7c5520977ba641bda0f7d0b8e41f80cb",
            "61cb3c882e744836b17a606595524beb",
            "a6562b04072944708f8f0064ed8c08a8",
            "034601c858294cf7b5d82a34ce3c75b2",
            "30e79f3879ec4bd0b2bd0cb62fe10617",
            "976057a2d78241d18d50d4d7642a1294",
            "46ec8fff12c249ff91908447f13f92e1",
            "4cab7d07993e42feab510461dce210ac",
            "ba83e5680d2a42f4aed6091bde7242ad",
            "85dbee42a5d74781b701b4c680d1c61f",
            "7aea4dcfdde946dda2f177307d1924c1",
            "a7b7ef709b8e4c1f8cfde08c2ce87cde",
            "a49ddc4333094c8e898eef86f55ff3ac",
            "36848c636c26487d9e3121683f3c53c9",
            "d9476c9530bd422a900d1ab95c262ced",
            "487c50109a3f408ebc784f0b87132351",
            "70a1567b5eaf478ea75a980edc18bb9d",
            "e019a32dc6c044d1bce58548cd2a9591",
            "7f830ff1a5fc456f9786870cd13c5429",
            "6901201ff41e4c6aac24b188505cd68e",
            "8317dfec5b6c4f2683b6931b1f475c0c",
            "3a3adc67489f4f3f88bfc9f0a2dae15e",
            "7092b4c831724582936fa696c5786971",
            "73628603916840afa790d98ddb8a030e",
            "4986f3992bd4466f90e11511715f4cbb",
            "5bfe5dfb9d2b4747a9a990b7f883d1d8",
            "4e5f97e365a44b6dba288fca2593cece",
            "f46d74752bfc4b6b974c911d13095ee6",
            "eac06272cddd4c339e8398e85a13b438",
            "b6a79aa982d74a78a72af3ca0fe6dfd1",
            "0dbe8c641d8c40719c25b149d53a9019",
            "7ccb5c12be754dd18fa8b4eb8914701f",
            "a7b881373c3943fab631fdbc6f7181d7",
            "dba197a0c5044fe29990ba7d8278484d",
            "a845ea55bf3e4b5c9b18b818a7e49fb7",
            "420b1203acea452881db2d1a409d3b76",
            "42cd842769d4471cad10096a99dee441",
            "84fda38197184b4fbef18244c6183d23",
            "5aeb704500ec4e28a177bdc7166641cf",
            "9c6aa4995fc548c0bba0b2f0c3f1839c",
            "3e24480f4b114ece9bdd8fa6a338eca4",
            "c6dd70463e0041e39cec83c024bbc755",
            "5b5c760cee5b4e748236089171a1e530",
            "90b39deb355f4674aafaabc6d17db2d0",
            "278031cf97684d42b0ee15bfcfe49616",
            "56adf328e3b54067ad05bd7f41046f74",
            "b481c00c62cd42a683f6e5e2e0b32ff0",
            "15e5c3387c014ef19b819b1be766919c",
            "ba50ae7ef0e74b4b907fc18f0b9ec2f8",
            "b64076e447f54ab6953fd904ecd16783",
            "efc1d2c68d29417fb15a918c85d31e7d",
            "471555bc581e4fdcad2d7c9f7c5726c5",
            "6db55c892f354ac2b3315afee5eac370",
            "d0c9598111e9463582c1901fcbf76bc2",
            "f4f24479301a445894ed4a3cfe2a91b2",
            "2e424b0b8b0a4d76a8c4ea42f7493868",
            "3fe7cdd0bc2d4a2cbc78e3b43aa0f1db",
            "84da111e58934620ae357410a99d2cd1",
            "dcfc3a432a0645188e3be3d98cd28c0f"
          ]
        }
      },
      "source": [
        "#@title\n",
        "if missing_countries != 'Missing: ':\n",
        "  print(missing_countries)\n",
        "  print('')\n",
        "  print('The above countries must be added to the appropiate filters in the code')\n",
        "  print('The code for the filters can be found above this output')\n",
        "\n",
        "if obsolete_countries != 'Obsolete: ':\n",
        "  print('')\n",
        "  print(obsolete_countries)\n",
        "  print('')\n",
        "  print('The above countries must be removed to the appropiate filters in the code')\n",
        "  print('The code for the filters can be found above this output')\n",
        "\n",
        "updating = True\n",
        "country_function_list={}\n",
        "items=[] # continent, countries, buttons\n",
        "items_all=[] # countries, buttons\n",
        "countries_list = []\n",
        "tb_continents = list(continents.keys())\n",
        "tb_continent_tabs = widgets.TabBar(tb_continents)\n",
        "tb_special_buttons = widgets.TabBar(['special buttons'])\n",
        "tb_graph_tabs = ['Deaths, Existing, Confirmed, and Recovered + Deaths', 'Daily Changes', 'Estimated Recovery Days', 'Estimated Mortality Rate']\n",
        "tb_graph = widgets.TabBar(tb_graph_tabs)\n",
        "use_log=False\n",
        "\n",
        "layout=widgets2.Layout(#max_width='100%',\n",
        "                          grid_template_columns='repeat(auto-fill,130px',\n",
        "                       )\n",
        "\n",
        "def replace_char(a):\n",
        "  variable_name = a.replace(' ', '')\n",
        "  variable_name = variable_name.replace('.', '')\n",
        "  variable_name = variable_name.replace('/', '')\n",
        "  variable_name = variable_name.replace('(', '')\n",
        "  variable_name = variable_name.replace(')', '')\n",
        "  variable_name = variable_name.replace(',', '')\n",
        "  variable_name = variable_name.replace(\"'\", '')\n",
        "  variable_name = variable_name.replace('*', '')\n",
        "  return variable_name\n",
        "\n",
        "def button_toggled(value):\n",
        "  global updating\n",
        "  if(value.owner.description=='normal/log'):\n",
        "    global use_log\n",
        "    use_log = value.new\n",
        "  if(value.owner.description[0:6]=='toggle'):\n",
        "    updating=False\n",
        "    update_continent = value.owner.description[7:]\n",
        "    for i, continent in enumerate(continents):\n",
        "      if (continent == update_continent):\n",
        "        for subitem in items[i]:\n",
        "          exec(replace_char(subitem.description)+'.value='+str(value.owner.value))\n",
        "    updating=True\n",
        "  if (updating): update_graphs()\n",
        "\n",
        "\n",
        "def button_creation(name):\n",
        "  button_created = widgets2.ToggleButton(value=False, description=name, button_style='')\n",
        "  variable_name = replace_char(name)\n",
        "  globals()[variable_name] = button_created\n",
        "  code_i = variable_name + '.observe(button_toggled, \"value\")'\n",
        "  exec(code_i)\n",
        "  return button_created\n",
        "\n",
        "def create_selection():\n",
        "  for i, tab_content in enumerate(tb_continents):\n",
        "    with tb_continent_tabs.output_to(i, select=False):\n",
        "      items.append([])\n",
        "      countries = sorted(continents[tab_content])\n",
        "      items[i] = [button_creation(country) for country in countries]\n",
        "      ui = widgets2.GridBox(items[i], layout=layout)\n",
        "      make_countries_list()\n",
        "      display(ui)\n",
        "  \n",
        "  with tb_special_buttons.output_to(0,0):\n",
        "    special_buttons=[]\n",
        "    special_buttons.append([])\n",
        "    special_buttons[0] = button_creation('normal/log')\n",
        "    for i, continent in enumerate(continents):\n",
        "      special_buttons.append([])\n",
        "      special_buttons[i+1] = button_creation('toggle '+continent)\n",
        "    ui = widgets2.GridBox(special_buttons, layout=layout)\n",
        "    display(ui)\n",
        "\n",
        "\n",
        "def create_graphs():\n",
        "  countries_list = make_countries_list()\n",
        "  process(countries_list)\n",
        "  if (countries_list):\n",
        "    global country_selection\n",
        "    with tb_graph.output_to(0, select=False):\n",
        "      title = 'COVID-19: Showing' + country_selection\n",
        "      labels_axis = {'Status':'', 'value':'# of people', 'index':'date'}\n",
        "      category_color = {'Confirmed':'grey',\n",
        "                        'Deaths':'red',\n",
        "                        'Existing':'orange',\n",
        "                        'Recovered':'green',\n",
        "                        'Recovered + Deaths':'blue',\n",
        "                        # 'Est.Conf.Lower': 'purple',\n",
        "                        # 'Est.Conf.Upper': 'black'\n",
        "                        }\n",
        "      global use_log\n",
        "      df_enhanced=df_plot\n",
        "      # df_enhanced['Estimated Infected1'] = df_enhanced['Deaths']**1.044\n",
        "      # df_enhanced['Estimated INfected2'] = df_enhanced['Deaths']**2.093\n",
        "      df_simple = df_enhanced.melt(id_vars='index')\n",
        "\n",
        "      fig = px.line(df_simple, x='index', y='value',\n",
        "                    color='Status',\n",
        "                    color_discrete_map=category_color,\n",
        "                    labels=labels_axis,\n",
        "                    log_y=use_log, \n",
        "                    title=title)\n",
        "      fig.show()\n",
        "\n",
        "    with tb_graph.output_to(1, select=False):\n",
        "      title = 'COVID-19: Daily Mutations in' + country_selection\n",
        "      labels_axis = {'variable':'', 'value':'# of people', 'index':'date'}\n",
        "      category_color = {'Confirmed':'red', 'Recovered + Deaths':'blue'}\n",
        "\n",
        "      fig = px.bar(df_delta, x='index', y='value',\n",
        "                  color='Status',\n",
        "                  color_discrete_map=category_color,\n",
        "                  labels=labels_axis,\n",
        "                  barmode='group', \n",
        "                  title=title\n",
        "                  )\n",
        "      fig.show()\n",
        "\n",
        "    with tb_graph.output_to(2, select=False):\n",
        "      title = 'COVID-19: Showing' + country_selection\n",
        "      labels_axis = {'RecoveryDays':'# of recovery days', 'index':'date'}\n",
        "      df_simple = df_recovery_time\n",
        "      fig = px.line(df_simple, x='index', y='RecoveryDays',\n",
        "                    labels=labels_axis, \n",
        "                    title=title)\n",
        "      fig.show()\n",
        "\n",
        "    with tb_graph.output_to(3, select=False):\n",
        "      title = 'COVID-19: Estimated Mortality Rate of' + country_selection\n",
        "      labels_axis = {'variable':'', 'value':'%', 'index':'date'}\n",
        "      category_color = {'Upper estimate':'red', 'Lower estimate':'orange'}\n",
        "\n",
        "      fig = px.line(df_mortality_rate, x='index', y='value',\n",
        "                    color='variable',\n",
        "                    color_discrete_map=category_color,\n",
        "                    labels=labels_axis, \n",
        "                    title=title)\n",
        "      fig.show()\n",
        "\n",
        "\n",
        "def update_graphs():\n",
        "  countries_list = make_countries_list()\n",
        "  for i, _ in enumerate(tb_graph_tabs):\n",
        "    with tb_graph.output_to(i, select=False):\n",
        "      tb_graph.clear_tab()\n",
        "  create_graphs()\n",
        "\n",
        "def sub_item_processing(a):\n",
        "  b = replace_char(a.description)\n",
        "  global country_function_list\n",
        "  country_function_list[b] = a\n",
        "  return b\n",
        "\n",
        "def process(countries_list):\n",
        "  if (countries_list):\n",
        "    global country_selection\n",
        "    country_selection = ''\n",
        "    for t, c in enumerate(countries_list):\n",
        "      if (t%8==0):\n",
        "        country_selection += '<br>' + c\n",
        "      elif (t<15):\n",
        "        country_selection += ', ' + c\n",
        "      else:\n",
        "        country_selection += ' .....'\n",
        "        break\n",
        "\n",
        "      # creating the different dataframes\n",
        "    df2 = df[df.index.isin(countries_list)]\n",
        "    df_status = df2.groupby(['Status']).sum()\n",
        "    global df_plot\n",
        "    df_plot = df_status.T.reset_index()\n",
        "    df_plot['Existing'] = df_plot['Confirmed'] - df_plot['Deaths'] - df_plot['Recovered']\n",
        "    df_plot['Recovered + Deaths'] = df_plot['Recovered'] +df_plot['Deaths']\n",
        "    df_temp2 = df_status.T.reset_index()\n",
        "\n",
        "    # daily changes: additional confirmed, delta recovered + deaths\n",
        "    global df_delta\n",
        "    df_delta = df_plot\n",
        "    df_delta = df_delta.set_index('index')\n",
        "    df_delta = df_delta.diff()\n",
        "    df_delta = df_delta.reset_index()\n",
        "    df_delta.drop(['Existing', 'Deaths', 'Recovered'], axis=1, inplace=True)\n",
        "    df_delta = df_delta.melt(id_vars='index')\n",
        "\n",
        "    date_list=[]\n",
        "    days_list=[]\n",
        "    mortality_rate_list1=[]\n",
        "    mortality_rate_list2=[]\n",
        "    mortality_rate=[]\n",
        "    value1_temp = -1\n",
        "    value2_temp = -1\n",
        "    value3_temp = -1\n",
        "    for index, row in df_plot.iterrows():\n",
        "      if row['Recovered'] or row['Deaths']> 0:\n",
        "        value1_lookup = row['Recovered']\n",
        "        value2_lookup = row['Confirmed']\n",
        "        value3_lookup = row['Deaths']\n",
        "        mortality_rate1 = round(value3_lookup / (value1_lookup+value3_lookup) * 100,2)\n",
        "        mortality_rate2 = round(value3_lookup / (value2_lookup) * 100,2)\n",
        "        if(value1_temp != value1_lookup or value2_temp != value2_lookup or value3_temp != value3_lookup):\n",
        "          date1 = datetime.strptime(row['index'], '%Y-%m-%d')\n",
        "          for index2, row2 in df_temp2.iterrows():\n",
        "            if row2['Confirmed'] >= (value1_lookup+value3_lookup):          \n",
        "              date2 = datetime.strptime(row2['index'], '%Y-%m-%d')\n",
        "              recovery_time = date1-date2\n",
        "              recovery_time_date = datetime.strftime(date1, '%Y-%m-%d')\n",
        "              recovery_days = recovery_time.days\n",
        "              date_list.append(recovery_time_date)\n",
        "              days_list.append(recovery_days)\n",
        "              mortality_rate_list1.append(mortality_rate1)\n",
        "              mortality_rate_list2.append(mortality_rate2)\n",
        "              mortality_rate.append([mortality_rate1, mortality_rate2])\n",
        "              break\n",
        "          value1_temp = value1_lookup\n",
        "          value2_temp = value2_lookup\n",
        "          value3_temp = value3_lookup\n",
        "\n",
        "    global df_recovery_time, df_mortality_rate\n",
        "    df_recovery_time = pd.DataFrame(days_list, index=date_list, columns=['RecoveryDays'])\n",
        "    df_mortality_rate = pd.DataFrame(mortality_rate, index=date_list, columns=['Upper estimate','Lower estimate'])\n",
        "    df_recovery_time = df_recovery_time.reset_index()\n",
        "    df_mortality_rate = df_mortality_rate.reset_index()\n",
        "    df_mortality_rate = df_mortality_rate.melt(id_vars='index')\n",
        "\n",
        "\n",
        "\n",
        "def make_countries_list():\n",
        "  countries_list = []\n",
        "  for item in items:\n",
        "    for sub_item in item:\n",
        "      if (sub_item.value == True):\n",
        "        countries_list.append(sub_item.description)\n",
        "  return countries_list\n",
        "\n",
        "create_selection()\n",
        "create_graphs()"
      ],
      "execution_count": 4,
      "outputs": [
        {
          "output_type": "display_data",
          "data": {
            "text/html": [
              "<link rel=stylesheet type=text/css href='/nbextensions/google.colab/tabbar.css'></link>"
            ],
            "text/plain": [
              "<IPython.core.display.HTML object>"
            ]
          },
          "metadata": {
            "tags": [
              "outputarea_id1"
            ]
          }
        },
        {
          "output_type": "display_data",
          "data": {
            "text/html": [
              "<script src='/nbextensions/google.colab/tabbar_main.min.js'></script>"
            ],
            "text/plain": [
              "<IPython.core.display.HTML object>"
            ]
          },
          "metadata": {
            "tags": [
              "outputarea_id1"
            ]
          }
        },
        {
          "output_type": "display_data",
          "data": {
            "text/html": [
              "<div id=\"id1\"></div>"
            ],
            "text/plain": [
              "<IPython.core.display.HTML object>"
            ]
          },
          "metadata": {
            "tags": [
              "outputarea_id1"
            ]
          }
        },
        {
          "output_type": "display_data",
          "data": {
            "application/javascript": [
              "window[\"20dcddd0-641d-11ea-acba-0242ac1c0002\"] = colab_lib.createTabBar({\"location\": \"top\", \"elementId\": \"id1\", \"tabNames\": [\"europe\", \"asia\", \"north_america\", \"south_america\", \"africa\", \"oceania\", \"others\"], \"initialSelection\": 0, \"contentBorder\": [\"0px\"], \"contentHeight\": [\"initial\"], \"borderColor\": [\"#a7a7a7\"]});\n",
              "//# sourceURL=js_4982a543a2"
            ],
            "text/plain": [
              "<IPython.core.display.Javascript object>"
            ]
          },
          "metadata": {
            "tags": [
              "outputarea_id1"
            ]
          }
        },
        {
          "output_type": "display_data",
          "data": {
            "application/javascript": [
              "window[\"20dd1eb2-641d-11ea-acba-0242ac1c0002\"] = window[\"id1\"].setSelectedTabIndex(0);\n",
              "//# sourceURL=js_4442b8b396"
            ],
            "text/plain": [
              "<IPython.core.display.Javascript object>"
            ]
          },
          "metadata": {
            "tags": [
              "outputarea_id1"
            ]
          }
        },
        {
          "output_type": "display_data",
          "data": {
            "text/html": [
              "<link rel=stylesheet type=text/css href='/nbextensions/google.colab/tabbar.css'></link>"
            ],
            "text/plain": [
              "<IPython.core.display.HTML object>"
            ]
          },
          "metadata": {
            "tags": [
              "outputarea_id2"
            ]
          }
        },
        {
          "output_type": "display_data",
          "data": {
            "text/html": [
              "<script src='/nbextensions/google.colab/tabbar_main.min.js'></script>"
            ],
            "text/plain": [
              "<IPython.core.display.HTML object>"
            ]
          },
          "metadata": {
            "tags": [
              "outputarea_id2"
            ]
          }
        },
        {
          "output_type": "display_data",
          "data": {
            "text/html": [
              "<div id=\"id2\"></div>"
            ],
            "text/plain": [
              "<IPython.core.display.HTML object>"
            ]
          },
          "metadata": {
            "tags": [
              "outputarea_id2"
            ]
          }
        },
        {
          "output_type": "display_data",
          "data": {
            "application/javascript": [
              "window[\"20dec032-641d-11ea-acba-0242ac1c0002\"] = colab_lib.createTabBar({\"location\": \"top\", \"elementId\": \"id2\", \"tabNames\": [\"special buttons\"], \"initialSelection\": 0, \"contentBorder\": [\"0px\"], \"contentHeight\": [\"initial\"], \"borderColor\": [\"#a7a7a7\"]});\n",
              "//# sourceURL=js_c7cd25b497"
            ],
            "text/plain": [
              "<IPython.core.display.Javascript object>"
            ]
          },
          "metadata": {
            "tags": [
              "outputarea_id2"
            ]
          }
        },
        {
          "output_type": "display_data",
          "data": {
            "application/javascript": [
              "window[\"20df01b4-641d-11ea-acba-0242ac1c0002\"] = window[\"id2\"].setSelectedTabIndex(0);\n",
              "//# sourceURL=js_5211b5bfac"
            ],
            "text/plain": [
              "<IPython.core.display.Javascript object>"
            ]
          },
          "metadata": {
            "tags": [
              "outputarea_id2"
            ]
          }
        },
        {
          "output_type": "display_data",
          "data": {
            "text/html": [
              "<link rel=stylesheet type=text/css href='/nbextensions/google.colab/tabbar.css'></link>"
            ],
            "text/plain": [
              "<IPython.core.display.HTML object>"
            ]
          },
          "metadata": {
            "tags": [
              "outputarea_id3"
            ]
          }
        },
        {
          "output_type": "display_data",
          "data": {
            "text/html": [
              "<script src='/nbextensions/google.colab/tabbar_main.min.js'></script>"
            ],
            "text/plain": [
              "<IPython.core.display.HTML object>"
            ]
          },
          "metadata": {
            "tags": [
              "outputarea_id3"
            ]
          }
        },
        {
          "output_type": "display_data",
          "data": {
            "text/html": [
              "<div id=\"id3\"></div>"
            ],
            "text/plain": [
              "<IPython.core.display.HTML object>"
            ]
          },
          "metadata": {
            "tags": [
              "outputarea_id3"
            ]
          }
        },
        {
          "output_type": "display_data",
          "data": {
            "application/javascript": [
              "window[\"20e078f0-641d-11ea-acba-0242ac1c0002\"] = colab_lib.createTabBar({\"location\": \"top\", \"elementId\": \"id3\", \"tabNames\": [\"Deaths, Existing, Confirmed, and Recovered + Deaths\", \"Daily Changes\", \"Estimated Recovery Days\", \"Estimated Mortality Rate\"], \"initialSelection\": 0, \"contentBorder\": [\"0px\"], \"contentHeight\": [\"initial\"], \"borderColor\": [\"#a7a7a7\"]});\n",
              "//# sourceURL=js_924f737257"
            ],
            "text/plain": [
              "<IPython.core.display.Javascript object>"
            ]
          },
          "metadata": {
            "tags": [
              "outputarea_id3"
            ]
          }
        },
        {
          "output_type": "display_data",
          "data": {
            "application/javascript": [
              "window[\"20e0b950-641d-11ea-acba-0242ac1c0002\"] = window[\"id3\"].setSelectedTabIndex(0);\n",
              "//# sourceURL=js_f26de24ad6"
            ],
            "text/plain": [
              "<IPython.core.display.Javascript object>"
            ]
          },
          "metadata": {
            "tags": [
              "outputarea_id3"
            ]
          }
        },
        {
          "output_type": "display_data",
          "data": {
            "application/javascript": [
              "window[\"20e32d8e-641d-11ea-acba-0242ac1c0002\"] = google.colab.output.getActiveOutputArea();\n",
              "//# sourceURL=js_152326a770"
            ],
            "text/plain": [
              "<IPython.core.display.Javascript object>"
            ]
          },
          "metadata": {
            "tags": [
              "id1_content_0",
              "outputarea_id1"
            ]
          }
        },
        {
          "output_type": "display_data",
          "data": {
            "application/javascript": [
              "window[\"20e376fe-641d-11ea-acba-0242ac1c0002\"] = document.querySelector(\"#id1_content_0\");\n",
              "//# sourceURL=js_cf5102094e"
            ],
            "text/plain": [
              "<IPython.core.display.Javascript object>"
            ]
          },
          "metadata": {
            "tags": [
              "id1_content_0",
              "outputarea_id1"
            ]
          }
        },
        {
          "output_type": "display_data",
          "data": {
            "application/javascript": [
              "window[\"20e3dc16-641d-11ea-acba-0242ac1c0002\"] = google.colab.output.setActiveOutputArea(window[\"20e376fe-641d-11ea-acba-0242ac1c0002\"]);\n",
              "//# sourceURL=js_db8dd3b221"
            ],
            "text/plain": [
              "<IPython.core.display.Javascript object>"
            ]
          },
          "metadata": {
            "tags": [
              "id1_content_0",
              "outputarea_id1"
            ]
          }
        },
        {
          "output_type": "display_data",
          "data": {
            "application/vnd.jupyter.widget-view+json": {
              "model_id": "8bbf74b2652c4ab8920381323cf4a573",
              "version_minor": 0,
              "version_major": 2
            },
            "text/plain": [
              "GridBox(children=(ToggleButton(value=False, description='Albania'), ToggleButton(value=False, description='And…"
            ]
          },
          "metadata": {
            "tags": [
              "id1_content_0",
              "outputarea_id1",
              "user_output"
            ]
          }
        },
        {
          "output_type": "display_data",
          "data": {
            "application/javascript": [
              "window[\"213cfe7c-641d-11ea-acba-0242ac1c0002\"] = google.colab.output.setActiveOutputArea(window[\"20e32d8e-641d-11ea-acba-0242ac1c0002\"]);\n",
              "//# sourceURL=js_20b0740fea"
            ],
            "text/plain": [
              "<IPython.core.display.Javascript object>"
            ]
          },
          "metadata": {
            "tags": [
              "id1_content_0",
              "outputarea_id1"
            ]
          }
        },
        {
          "output_type": "display_data",
          "data": {
            "application/javascript": [
              "window[\"213e76d0-641d-11ea-acba-0242ac1c0002\"] = google.colab.output.getActiveOutputArea();\n",
              "//# sourceURL=js_7ef677478c"
            ],
            "text/plain": [
              "<IPython.core.display.Javascript object>"
            ]
          },
          "metadata": {
            "tags": [
              "id1_content_1",
              "outputarea_id1"
            ]
          }
        },
        {
          "output_type": "display_data",
          "data": {
            "application/javascript": [
              "window[\"213ec068-641d-11ea-acba-0242ac1c0002\"] = document.querySelector(\"#id1_content_1\");\n",
              "//# sourceURL=js_d878f6f32c"
            ],
            "text/plain": [
              "<IPython.core.display.Javascript object>"
            ]
          },
          "metadata": {
            "tags": [
              "id1_content_1",
              "outputarea_id1"
            ]
          }
        },
        {
          "output_type": "display_data",
          "data": {
            "application/javascript": [
              "window[\"213f1478-641d-11ea-acba-0242ac1c0002\"] = google.colab.output.setActiveOutputArea(window[\"213ec068-641d-11ea-acba-0242ac1c0002\"]);\n",
              "//# sourceURL=js_a2048020bc"
            ],
            "text/plain": [
              "<IPython.core.display.Javascript object>"
            ]
          },
          "metadata": {
            "tags": [
              "id1_content_1",
              "outputarea_id1"
            ]
          }
        },
        {
          "output_type": "display_data",
          "data": {
            "application/vnd.jupyter.widget-view+json": {
              "model_id": "d7a08f7f8f5246a38082ca3a6247f2b7",
              "version_minor": 0,
              "version_major": 2
            },
            "text/plain": [
              "GridBox(children=(ToggleButton(value=False, description='Afghanistan'), ToggleButton(value=False, description=…"
            ]
          },
          "metadata": {
            "tags": [
              "id1_content_1",
              "outputarea_id1",
              "user_output"
            ]
          }
        },
        {
          "output_type": "display_data",
          "data": {
            "application/javascript": [
              "window[\"218a819c-641d-11ea-acba-0242ac1c0002\"] = google.colab.output.setActiveOutputArea(window[\"213e76d0-641d-11ea-acba-0242ac1c0002\"]);\n",
              "//# sourceURL=js_07e3252cdb"
            ],
            "text/plain": [
              "<IPython.core.display.Javascript object>"
            ]
          },
          "metadata": {
            "tags": [
              "id1_content_1",
              "outputarea_id1"
            ]
          }
        },
        {
          "output_type": "display_data",
          "data": {
            "application/javascript": [
              "window[\"218bbe5e-641d-11ea-acba-0242ac1c0002\"] = google.colab.output.getActiveOutputArea();\n",
              "//# sourceURL=js_7b22bd210d"
            ],
            "text/plain": [
              "<IPython.core.display.Javascript object>"
            ]
          },
          "metadata": {
            "tags": [
              "id1_content_2",
              "outputarea_id1"
            ]
          }
        },
        {
          "output_type": "display_data",
          "data": {
            "application/javascript": [
              "window[\"218bfaea-641d-11ea-acba-0242ac1c0002\"] = document.querySelector(\"#id1_content_2\");\n",
              "//# sourceURL=js_fb1430cfba"
            ],
            "text/plain": [
              "<IPython.core.display.Javascript object>"
            ]
          },
          "metadata": {
            "tags": [
              "id1_content_2",
              "outputarea_id1"
            ]
          }
        },
        {
          "output_type": "display_data",
          "data": {
            "application/javascript": [
              "window[\"218c351e-641d-11ea-acba-0242ac1c0002\"] = google.colab.output.setActiveOutputArea(window[\"218bfaea-641d-11ea-acba-0242ac1c0002\"]);\n",
              "//# sourceURL=js_e6b1977798"
            ],
            "text/plain": [
              "<IPython.core.display.Javascript object>"
            ]
          },
          "metadata": {
            "tags": [
              "id1_content_2",
              "outputarea_id1"
            ]
          }
        },
        {
          "output_type": "display_data",
          "data": {
            "application/vnd.jupyter.widget-view+json": {
              "model_id": "18eebd0772e2458bab79a81636ae471d",
              "version_minor": 0,
              "version_major": 2
            },
            "text/plain": [
              "GridBox(children=(ToggleButton(value=False, description='Canada'), ToggleButton(value=False, description='Hond…"
            ]
          },
          "metadata": {
            "tags": [
              "id1_content_2",
              "outputarea_id1",
              "user_output"
            ]
          }
        },
        {
          "output_type": "display_data",
          "data": {
            "application/javascript": [
              "window[\"219aab58-641d-11ea-acba-0242ac1c0002\"] = google.colab.output.setActiveOutputArea(window[\"218bbe5e-641d-11ea-acba-0242ac1c0002\"]);\n",
              "//# sourceURL=js_a7535f11eb"
            ],
            "text/plain": [
              "<IPython.core.display.Javascript object>"
            ]
          },
          "metadata": {
            "tags": [
              "id1_content_2",
              "outputarea_id1"
            ]
          }
        },
        {
          "output_type": "display_data",
          "data": {
            "application/javascript": [
              "window[\"219bd2b2-641d-11ea-acba-0242ac1c0002\"] = google.colab.output.getActiveOutputArea();\n",
              "//# sourceURL=js_6edba040db"
            ],
            "text/plain": [
              "<IPython.core.display.Javascript object>"
            ]
          },
          "metadata": {
            "tags": [
              "id1_content_3",
              "outputarea_id1"
            ]
          }
        },
        {
          "output_type": "display_data",
          "data": {
            "application/javascript": [
              "window[\"219c1f38-641d-11ea-acba-0242ac1c0002\"] = document.querySelector(\"#id1_content_3\");\n",
              "//# sourceURL=js_b9b42d4180"
            ],
            "text/plain": [
              "<IPython.core.display.Javascript object>"
            ]
          },
          "metadata": {
            "tags": [
              "id1_content_3",
              "outputarea_id1"
            ]
          }
        },
        {
          "output_type": "display_data",
          "data": {
            "application/javascript": [
              "window[\"219c59da-641d-11ea-acba-0242ac1c0002\"] = google.colab.output.setActiveOutputArea(window[\"219c1f38-641d-11ea-acba-0242ac1c0002\"]);\n",
              "//# sourceURL=js_7029d5ad94"
            ],
            "text/plain": [
              "<IPython.core.display.Javascript object>"
            ]
          },
          "metadata": {
            "tags": [
              "id1_content_3",
              "outputarea_id1"
            ]
          }
        },
        {
          "output_type": "display_data",
          "data": {
            "application/vnd.jupyter.widget-view+json": {
              "model_id": "aade1e88c7344fd1bf88a8469e51819a",
              "version_minor": 0,
              "version_major": 2
            },
            "text/plain": [
              "GridBox(children=(ToggleButton(value=False, description='Argentina'), ToggleButton(value=False, description='B…"
            ]
          },
          "metadata": {
            "tags": [
              "id1_content_3",
              "outputarea_id1",
              "user_output"
            ]
          }
        },
        {
          "output_type": "display_data",
          "data": {
            "application/javascript": [
              "window[\"21b436fe-641d-11ea-acba-0242ac1c0002\"] = google.colab.output.setActiveOutputArea(window[\"219bd2b2-641d-11ea-acba-0242ac1c0002\"]);\n",
              "//# sourceURL=js_0ad25305cd"
            ],
            "text/plain": [
              "<IPython.core.display.Javascript object>"
            ]
          },
          "metadata": {
            "tags": [
              "id1_content_3",
              "outputarea_id1"
            ]
          }
        },
        {
          "output_type": "display_data",
          "data": {
            "application/javascript": [
              "window[\"21b5719a-641d-11ea-acba-0242ac1c0002\"] = google.colab.output.getActiveOutputArea();\n",
              "//# sourceURL=js_c2e3bfa8d7"
            ],
            "text/plain": [
              "<IPython.core.display.Javascript object>"
            ]
          },
          "metadata": {
            "tags": [
              "id1_content_4",
              "outputarea_id1"
            ]
          }
        },
        {
          "output_type": "display_data",
          "data": {
            "application/javascript": [
              "window[\"21b5ac78-641d-11ea-acba-0242ac1c0002\"] = document.querySelector(\"#id1_content_4\");\n",
              "//# sourceURL=js_6f01173201"
            ],
            "text/plain": [
              "<IPython.core.display.Javascript object>"
            ]
          },
          "metadata": {
            "tags": [
              "id1_content_4",
              "outputarea_id1"
            ]
          }
        },
        {
          "output_type": "display_data",
          "data": {
            "application/javascript": [
              "window[\"21b5e6ac-641d-11ea-acba-0242ac1c0002\"] = google.colab.output.setActiveOutputArea(window[\"21b5ac78-641d-11ea-acba-0242ac1c0002\"]);\n",
              "//# sourceURL=js_25ae3a1cf0"
            ],
            "text/plain": [
              "<IPython.core.display.Javascript object>"
            ]
          },
          "metadata": {
            "tags": [
              "id1_content_4",
              "outputarea_id1"
            ]
          }
        },
        {
          "output_type": "display_data",
          "data": {
            "application/vnd.jupyter.widget-view+json": {
              "model_id": "58ce6f0fca2c47d4af4562f08edeb232",
              "version_minor": 0,
              "version_major": 2
            },
            "text/plain": [
              "GridBox(children=(ToggleButton(value=False, description='Algeria'), ToggleButton(value=False, description='Bur…"
            ]
          },
          "metadata": {
            "tags": [
              "id1_content_4",
              "outputarea_id1",
              "user_output"
            ]
          }
        },
        {
          "output_type": "display_data",
          "data": {
            "application/javascript": [
              "window[\"21ce0e6c-641d-11ea-acba-0242ac1c0002\"] = google.colab.output.setActiveOutputArea(window[\"21b5719a-641d-11ea-acba-0242ac1c0002\"]);\n",
              "//# sourceURL=js_187383727e"
            ],
            "text/plain": [
              "<IPython.core.display.Javascript object>"
            ]
          },
          "metadata": {
            "tags": [
              "id1_content_4",
              "outputarea_id1"
            ]
          }
        },
        {
          "output_type": "display_data",
          "data": {
            "application/javascript": [
              "window[\"21cf8a80-641d-11ea-acba-0242ac1c0002\"] = google.colab.output.getActiveOutputArea();\n",
              "//# sourceURL=js_ea19cc443a"
            ],
            "text/plain": [
              "<IPython.core.display.Javascript object>"
            ]
          },
          "metadata": {
            "tags": [
              "id1_content_5",
              "outputarea_id1"
            ]
          }
        },
        {
          "output_type": "display_data",
          "data": {
            "application/javascript": [
              "window[\"21cfc806-641d-11ea-acba-0242ac1c0002\"] = document.querySelector(\"#id1_content_5\");\n",
              "//# sourceURL=js_53f857dc03"
            ],
            "text/plain": [
              "<IPython.core.display.Javascript object>"
            ]
          },
          "metadata": {
            "tags": [
              "id1_content_5",
              "outputarea_id1"
            ]
          }
        },
        {
          "output_type": "display_data",
          "data": {
            "application/javascript": [
              "window[\"21d00852-641d-11ea-acba-0242ac1c0002\"] = google.colab.output.setActiveOutputArea(window[\"21cfc806-641d-11ea-acba-0242ac1c0002\"]);\n",
              "//# sourceURL=js_c0750fa9fb"
            ],
            "text/plain": [
              "<IPython.core.display.Javascript object>"
            ]
          },
          "metadata": {
            "tags": [
              "id1_content_5",
              "outputarea_id1"
            ]
          }
        },
        {
          "output_type": "display_data",
          "data": {
            "application/vnd.jupyter.widget-view+json": {
              "model_id": "8317dfec5b6c4f2683b6931b1f475c0c",
              "version_minor": 0,
              "version_major": 2
            },
            "text/plain": [
              "GridBox(children=(ToggleButton(value=False, description='Australia'), ToggleButton(value=False, description='N…"
            ]
          },
          "metadata": {
            "tags": [
              "id1_content_5",
              "outputarea_id1",
              "user_output"
            ]
          }
        },
        {
          "output_type": "display_data",
          "data": {
            "application/javascript": [
              "window[\"21d5b32e-641d-11ea-acba-0242ac1c0002\"] = google.colab.output.setActiveOutputArea(window[\"21cf8a80-641d-11ea-acba-0242ac1c0002\"]);\n",
              "//# sourceURL=js_9cbe7bd1f2"
            ],
            "text/plain": [
              "<IPython.core.display.Javascript object>"
            ]
          },
          "metadata": {
            "tags": [
              "id1_content_5",
              "outputarea_id1"
            ]
          }
        },
        {
          "output_type": "display_data",
          "data": {
            "application/javascript": [
              "window[\"21d70076-641d-11ea-acba-0242ac1c0002\"] = google.colab.output.getActiveOutputArea();\n",
              "//# sourceURL=js_382cd2a830"
            ],
            "text/plain": [
              "<IPython.core.display.Javascript object>"
            ]
          },
          "metadata": {
            "tags": [
              "id1_content_6",
              "outputarea_id1"
            ]
          }
        },
        {
          "output_type": "display_data",
          "data": {
            "application/javascript": [
              "window[\"21d757e2-641d-11ea-acba-0242ac1c0002\"] = document.querySelector(\"#id1_content_6\");\n",
              "//# sourceURL=js_1c3e5b4f1d"
            ],
            "text/plain": [
              "<IPython.core.display.Javascript object>"
            ]
          },
          "metadata": {
            "tags": [
              "id1_content_6",
              "outputarea_id1"
            ]
          }
        },
        {
          "output_type": "display_data",
          "data": {
            "application/javascript": [
              "window[\"21d798e2-641d-11ea-acba-0242ac1c0002\"] = google.colab.output.setActiveOutputArea(window[\"21d757e2-641d-11ea-acba-0242ac1c0002\"]);\n",
              "//# sourceURL=js_cb4a461a18"
            ],
            "text/plain": [
              "<IPython.core.display.Javascript object>"
            ]
          },
          "metadata": {
            "tags": [
              "id1_content_6",
              "outputarea_id1"
            ]
          }
        },
        {
          "output_type": "display_data",
          "data": {
            "application/vnd.jupyter.widget-view+json": {
              "model_id": "f46d74752bfc4b6b974c911d13095ee6",
              "version_minor": 0,
              "version_major": 2
            },
            "text/plain": [
              "GridBox(children=(ToggleButton(value=False, description='Cruise Ship'), ToggleButton(value=False, description=…"
            ]
          },
          "metadata": {
            "tags": [
              "id1_content_6",
              "outputarea_id1",
              "user_output"
            ]
          }
        },
        {
          "output_type": "display_data",
          "data": {
            "application/javascript": [
              "window[\"21dd5322-641d-11ea-acba-0242ac1c0002\"] = google.colab.output.setActiveOutputArea(window[\"21d70076-641d-11ea-acba-0242ac1c0002\"]);\n",
              "//# sourceURL=js_5fa0b44368"
            ],
            "text/plain": [
              "<IPython.core.display.Javascript object>"
            ]
          },
          "metadata": {
            "tags": [
              "id1_content_6",
              "outputarea_id1"
            ]
          }
        },
        {
          "output_type": "display_data",
          "data": {
            "application/javascript": [
              "window[\"21dec5fe-641d-11ea-acba-0242ac1c0002\"] = google.colab.output.getActiveOutputArea();\n",
              "//# sourceURL=js_4d845feae6"
            ],
            "text/plain": [
              "<IPython.core.display.Javascript object>"
            ]
          },
          "metadata": {
            "tags": [
              "id2_content_0",
              "outputarea_id2"
            ]
          }
        },
        {
          "output_type": "display_data",
          "data": {
            "application/javascript": [
              "window[\"21df0b0e-641d-11ea-acba-0242ac1c0002\"] = document.querySelector(\"#id2_content_0\");\n",
              "//# sourceURL=js_57fc9301df"
            ],
            "text/plain": [
              "<IPython.core.display.Javascript object>"
            ]
          },
          "metadata": {
            "tags": [
              "id2_content_0",
              "outputarea_id2"
            ]
          }
        },
        {
          "output_type": "display_data",
          "data": {
            "application/javascript": [
              "window[\"21df6838-641d-11ea-acba-0242ac1c0002\"] = google.colab.output.setActiveOutputArea(window[\"21df0b0e-641d-11ea-acba-0242ac1c0002\"]);\n",
              "//# sourceURL=js_0a420c0bfc"
            ],
            "text/plain": [
              "<IPython.core.display.Javascript object>"
            ]
          },
          "metadata": {
            "tags": [
              "id2_content_0",
              "outputarea_id2"
            ]
          }
        },
        {
          "output_type": "display_data",
          "data": {
            "application/vnd.jupyter.widget-view+json": {
              "model_id": "a845ea55bf3e4b5c9b18b818a7e49fb7",
              "version_minor": 0,
              "version_major": 2
            },
            "text/plain": [
              "GridBox(children=(ToggleButton(value=False, description='normal/log'), ToggleButton(value=False, description='…"
            ]
          },
          "metadata": {
            "tags": [
              "id2_content_0",
              "outputarea_id2",
              "user_output"
            ]
          }
        },
        {
          "output_type": "display_data",
          "data": {
            "application/javascript": [
              "window[\"21ef7c00-641d-11ea-acba-0242ac1c0002\"] = google.colab.output.setActiveOutputArea(window[\"21dec5fe-641d-11ea-acba-0242ac1c0002\"]);\n",
              "//# sourceURL=js_7cb896c5ed"
            ],
            "text/plain": [
              "<IPython.core.display.Javascript object>"
            ]
          },
          "metadata": {
            "tags": [
              "id2_content_0",
              "outputarea_id2"
            ]
          }
        },
        {
          "output_type": "display_data",
          "data": {
            "application/javascript": [
              "window[\"45fa8824-641d-11ea-acba-0242ac1c0002\"] = google.colab.output.getActiveOutputArea();\n",
              "//# sourceURL=js_8591d3b30d"
            ],
            "text/plain": [
              "<IPython.core.display.Javascript object>"
            ]
          },
          "metadata": {
            "tags": [
              "id3_content_0",
              "outputarea_id3"
            ]
          }
        },
        {
          "output_type": "display_data",
          "data": {
            "application/javascript": [
              "window[\"45faf200-641d-11ea-acba-0242ac1c0002\"] = document.querySelector(\"#id3_content_0\");\n",
              "//# sourceURL=js_b7df26055f"
            ],
            "text/plain": [
              "<IPython.core.display.Javascript object>"
            ]
          },
          "metadata": {
            "tags": [
              "id3_content_0",
              "outputarea_id3"
            ]
          }
        },
        {
          "output_type": "display_data",
          "data": {
            "application/javascript": [
              "window[\"45fb5948-641d-11ea-acba-0242ac1c0002\"] = google.colab.output.setActiveOutputArea(window[\"45faf200-641d-11ea-acba-0242ac1c0002\"]);\n",
              "//# sourceURL=js_ba2386eb5f"
            ],
            "text/plain": [
              "<IPython.core.display.Javascript object>"
            ]
          },
          "metadata": {
            "tags": [
              "id3_content_0",
              "outputarea_id3"
            ]
          }
        },
        {
          "output_type": "display_data",
          "data": {
            "application/javascript": [
              "window[\"45fce510-641d-11ea-acba-0242ac1c0002\"] = google.colab.output.setActiveOutputArea(window[\"45fa8824-641d-11ea-acba-0242ac1c0002\"]);\n",
              "//# sourceURL=js_6f3e8d3fc2"
            ],
            "text/plain": [
              "<IPython.core.display.Javascript object>"
            ]
          },
          "metadata": {
            "tags": [
              "id3_content_0",
              "outputarea_id3"
            ]
          }
        },
        {
          "output_type": "display_data",
          "data": {
            "application/javascript": [
              "window[\"45ff2546-641d-11ea-acba-0242ac1c0002\"] = google.colab.output.getActiveOutputArea();\n",
              "//# sourceURL=js_112ee2799f"
            ],
            "text/plain": [
              "<IPython.core.display.Javascript object>"
            ]
          },
          "metadata": {
            "tags": [
              "id3_content_1",
              "outputarea_id3"
            ]
          }
        },
        {
          "output_type": "display_data",
          "data": {
            "application/javascript": [
              "window[\"45ff6af6-641d-11ea-acba-0242ac1c0002\"] = document.querySelector(\"#id3_content_1\");\n",
              "//# sourceURL=js_3ac0e0d2d9"
            ],
            "text/plain": [
              "<IPython.core.display.Javascript object>"
            ]
          },
          "metadata": {
            "tags": [
              "id3_content_1",
              "outputarea_id3"
            ]
          }
        },
        {
          "output_type": "display_data",
          "data": {
            "application/javascript": [
              "window[\"45ff9e72-641d-11ea-acba-0242ac1c0002\"] = google.colab.output.setActiveOutputArea(window[\"45ff6af6-641d-11ea-acba-0242ac1c0002\"]);\n",
              "//# sourceURL=js_4b518ab59f"
            ],
            "text/plain": [
              "<IPython.core.display.Javascript object>"
            ]
          },
          "metadata": {
            "tags": [
              "id3_content_1",
              "outputarea_id3"
            ]
          }
        },
        {
          "output_type": "display_data",
          "data": {
            "application/javascript": [
              "window[\"4600e2a0-641d-11ea-acba-0242ac1c0002\"] = google.colab.output.setActiveOutputArea(window[\"45ff2546-641d-11ea-acba-0242ac1c0002\"]);\n",
              "//# sourceURL=js_248af1ca37"
            ],
            "text/plain": [
              "<IPython.core.display.Javascript object>"
            ]
          },
          "metadata": {
            "tags": [
              "id3_content_1",
              "outputarea_id3"
            ]
          }
        },
        {
          "output_type": "display_data",
          "data": {
            "application/javascript": [
              "window[\"46024fc8-641d-11ea-acba-0242ac1c0002\"] = google.colab.output.getActiveOutputArea();\n",
              "//# sourceURL=js_0a2d3256a2"
            ],
            "text/plain": [
              "<IPython.core.display.Javascript object>"
            ]
          },
          "metadata": {
            "tags": [
              "id3_content_2",
              "outputarea_id3"
            ]
          }
        },
        {
          "output_type": "display_data",
          "data": {
            "application/javascript": [
              "window[\"4602bba2-641d-11ea-acba-0242ac1c0002\"] = document.querySelector(\"#id3_content_2\");\n",
              "//# sourceURL=js_c0f4288a90"
            ],
            "text/plain": [
              "<IPython.core.display.Javascript object>"
            ]
          },
          "metadata": {
            "tags": [
              "id3_content_2",
              "outputarea_id3"
            ]
          }
        },
        {
          "output_type": "display_data",
          "data": {
            "application/javascript": [
              "window[\"4602fd92-641d-11ea-acba-0242ac1c0002\"] = google.colab.output.setActiveOutputArea(window[\"4602bba2-641d-11ea-acba-0242ac1c0002\"]);\n",
              "//# sourceURL=js_75a32deb39"
            ],
            "text/plain": [
              "<IPython.core.display.Javascript object>"
            ]
          },
          "metadata": {
            "tags": [
              "id3_content_2",
              "outputarea_id3"
            ]
          }
        },
        {
          "output_type": "display_data",
          "data": {
            "application/javascript": [
              "window[\"460411aa-641d-11ea-acba-0242ac1c0002\"] = google.colab.output.setActiveOutputArea(window[\"46024fc8-641d-11ea-acba-0242ac1c0002\"]);\n",
              "//# sourceURL=js_67d3e06973"
            ],
            "text/plain": [
              "<IPython.core.display.Javascript object>"
            ]
          },
          "metadata": {
            "tags": [
              "id3_content_2",
              "outputarea_id3"
            ]
          }
        },
        {
          "output_type": "display_data",
          "data": {
            "application/javascript": [
              "window[\"460585b2-641d-11ea-acba-0242ac1c0002\"] = google.colab.output.getActiveOutputArea();\n",
              "//# sourceURL=js_1c065117a2"
            ],
            "text/plain": [
              "<IPython.core.display.Javascript object>"
            ]
          },
          "metadata": {
            "tags": [
              "id3_content_3",
              "outputarea_id3"
            ]
          }
        },
        {
          "output_type": "display_data",
          "data": {
            "application/javascript": [
              "window[\"460604d8-641d-11ea-acba-0242ac1c0002\"] = document.querySelector(\"#id3_content_3\");\n",
              "//# sourceURL=js_2c68ef733a"
            ],
            "text/plain": [
              "<IPython.core.display.Javascript object>"
            ]
          },
          "metadata": {
            "tags": [
              "id3_content_3",
              "outputarea_id3"
            ]
          }
        },
        {
          "output_type": "display_data",
          "data": {
            "application/javascript": [
              "window[\"460689bc-641d-11ea-acba-0242ac1c0002\"] = google.colab.output.setActiveOutputArea(window[\"460604d8-641d-11ea-acba-0242ac1c0002\"]);\n",
              "//# sourceURL=js_96b68faf59"
            ],
            "text/plain": [
              "<IPython.core.display.Javascript object>"
            ]
          },
          "metadata": {
            "tags": [
              "id3_content_3",
              "outputarea_id3"
            ]
          }
        },
        {
          "output_type": "display_data",
          "data": {
            "application/javascript": [
              "window[\"46077016-641d-11ea-acba-0242ac1c0002\"] = google.colab.output.setActiveOutputArea(window[\"460585b2-641d-11ea-acba-0242ac1c0002\"]);\n",
              "//# sourceURL=js_c3178d2875"
            ],
            "text/plain": [
              "<IPython.core.display.Javascript object>"
            ]
          },
          "metadata": {
            "tags": [
              "id3_content_3",
              "outputarea_id3"
            ]
          }
        },
        {
          "output_type": "display_data",
          "data": {
            "application/javascript": [
              "window[\"4615adca-641d-11ea-acba-0242ac1c0002\"] = google.colab.output.getActiveOutputArea();\n",
              "//# sourceURL=js_d187043b1d"
            ],
            "text/plain": [
              "<IPython.core.display.Javascript object>"
            ]
          },
          "metadata": {
            "tags": [
              "id3_content_0",
              "outputarea_id3"
            ]
          }
        },
        {
          "output_type": "display_data",
          "data": {
            "application/javascript": [
              "window[\"461605d6-641d-11ea-acba-0242ac1c0002\"] = document.querySelector(\"#id3_content_0\");\n",
              "//# sourceURL=js_6565eff251"
            ],
            "text/plain": [
              "<IPython.core.display.Javascript object>"
            ]
          },
          "metadata": {
            "tags": [
              "id3_content_0",
              "outputarea_id3"
            ]
          }
        },
        {
          "output_type": "display_data",
          "data": {
            "application/javascript": [
              "window[\"46163cd6-641d-11ea-acba-0242ac1c0002\"] = google.colab.output.setActiveOutputArea(window[\"461605d6-641d-11ea-acba-0242ac1c0002\"]);\n",
              "//# sourceURL=js_54b0d09626"
            ],
            "text/plain": [
              "<IPython.core.display.Javascript object>"
            ]
          },
          "metadata": {
            "tags": [
              "id3_content_0",
              "outputarea_id3"
            ]
          }
        },
        {
          "output_type": "display_data",
          "data": {
            "application/javascript": [
              "window[\"46cb91da-641d-11ea-acba-0242ac1c0002\"] = google.colab.output.setActiveOutputArea(window[\"4615adca-641d-11ea-acba-0242ac1c0002\"]);\n",
              "//# sourceURL=js_02a23ce329"
            ],
            "text/plain": [
              "<IPython.core.display.Javascript object>"
            ]
          },
          "metadata": {
            "tags": [
              "id3_content_0",
              "outputarea_id3"
            ]
          }
        },
        {
          "output_type": "display_data",
          "data": {
            "application/javascript": [
              "window[\"46cd822e-641d-11ea-acba-0242ac1c0002\"] = google.colab.output.getActiveOutputArea();\n",
              "//# sourceURL=js_b646720475"
            ],
            "text/plain": [
              "<IPython.core.display.Javascript object>"
            ]
          },
          "metadata": {
            "tags": [
              "id3_content_1",
              "outputarea_id3"
            ]
          }
        },
        {
          "output_type": "display_data",
          "data": {
            "application/javascript": [
              "window[\"46cdd058-641d-11ea-acba-0242ac1c0002\"] = document.querySelector(\"#id3_content_1\");\n",
              "//# sourceURL=js_1e2f7a9e1d"
            ],
            "text/plain": [
              "<IPython.core.display.Javascript object>"
            ]
          },
          "metadata": {
            "tags": [
              "id3_content_1",
              "outputarea_id3"
            ]
          }
        },
        {
          "output_type": "display_data",
          "data": {
            "application/javascript": [
              "window[\"46ce1d92-641d-11ea-acba-0242ac1c0002\"] = google.colab.output.setActiveOutputArea(window[\"46cdd058-641d-11ea-acba-0242ac1c0002\"]);\n",
              "//# sourceURL=js_132688268c"
            ],
            "text/plain": [
              "<IPython.core.display.Javascript object>"
            ]
          },
          "metadata": {
            "tags": [
              "id3_content_1",
              "outputarea_id3"
            ]
          }
        },
        {
          "output_type": "display_data",
          "data": {
            "application/javascript": [
              "window[\"46fc630a-641d-11ea-acba-0242ac1c0002\"] = google.colab.output.setActiveOutputArea(window[\"46cd822e-641d-11ea-acba-0242ac1c0002\"]);\n",
              "//# sourceURL=js_725615b21a"
            ],
            "text/plain": [
              "<IPython.core.display.Javascript object>"
            ]
          },
          "metadata": {
            "tags": [
              "id3_content_1",
              "outputarea_id3"
            ]
          }
        },
        {
          "output_type": "display_data",
          "data": {
            "application/javascript": [
              "window[\"46fe758c-641d-11ea-acba-0242ac1c0002\"] = google.colab.output.getActiveOutputArea();\n",
              "//# sourceURL=js_77fe029474"
            ],
            "text/plain": [
              "<IPython.core.display.Javascript object>"
            ]
          },
          "metadata": {
            "tags": [
              "id3_content_2",
              "outputarea_id3"
            ]
          }
        },
        {
          "output_type": "display_data",
          "data": {
            "application/javascript": [
              "window[\"46feb09c-641d-11ea-acba-0242ac1c0002\"] = document.querySelector(\"#id3_content_2\");\n",
              "//# sourceURL=js_feb67420c6"
            ],
            "text/plain": [
              "<IPython.core.display.Javascript object>"
            ]
          },
          "metadata": {
            "tags": [
              "id3_content_2",
              "outputarea_id3"
            ]
          }
        },
        {
          "output_type": "display_data",
          "data": {
            "application/javascript": [
              "window[\"46fef82c-641d-11ea-acba-0242ac1c0002\"] = google.colab.output.setActiveOutputArea(window[\"46feb09c-641d-11ea-acba-0242ac1c0002\"]);\n",
              "//# sourceURL=js_a59eebe9dc"
            ],
            "text/plain": [
              "<IPython.core.display.Javascript object>"
            ]
          },
          "metadata": {
            "tags": [
              "id3_content_2",
              "outputarea_id3"
            ]
          }
        },
        {
          "output_type": "display_data",
          "data": {
            "application/javascript": [
              "window[\"473f3f9a-641d-11ea-acba-0242ac1c0002\"] = google.colab.output.setActiveOutputArea(window[\"46fe758c-641d-11ea-acba-0242ac1c0002\"]);\n",
              "//# sourceURL=js_2633645dbc"
            ],
            "text/plain": [
              "<IPython.core.display.Javascript object>"
            ]
          },
          "metadata": {
            "tags": [
              "id3_content_2",
              "outputarea_id3"
            ]
          }
        },
        {
          "output_type": "display_data",
          "data": {
            "application/javascript": [
              "window[\"47410ac8-641d-11ea-acba-0242ac1c0002\"] = google.colab.output.getActiveOutputArea();\n",
              "//# sourceURL=js_15ce843117"
            ],
            "text/plain": [
              "<IPython.core.display.Javascript object>"
            ]
          },
          "metadata": {
            "tags": [
              "id3_content_3",
              "outputarea_id3"
            ]
          }
        },
        {
          "output_type": "display_data",
          "data": {
            "application/javascript": [
              "window[\"47415af0-641d-11ea-acba-0242ac1c0002\"] = document.querySelector(\"#id3_content_3\");\n",
              "//# sourceURL=js_9016311951"
            ],
            "text/plain": [
              "<IPython.core.display.Javascript object>"
            ]
          },
          "metadata": {
            "tags": [
              "id3_content_3",
              "outputarea_id3"
            ]
          }
        },
        {
          "output_type": "display_data",
          "data": {
            "application/javascript": [
              "window[\"4741b4d2-641d-11ea-acba-0242ac1c0002\"] = google.colab.output.setActiveOutputArea(window[\"47415af0-641d-11ea-acba-0242ac1c0002\"]);\n",
              "//# sourceURL=js_7dbcdbf60a"
            ],
            "text/plain": [
              "<IPython.core.display.Javascript object>"
            ]
          },
          "metadata": {
            "tags": [
              "id3_content_3",
              "outputarea_id3"
            ]
          }
        },
        {
          "output_type": "display_data",
          "data": {
            "application/javascript": [
              "window[\"476f46b8-641d-11ea-acba-0242ac1c0002\"] = google.colab.output.setActiveOutputArea(window[\"47410ac8-641d-11ea-acba-0242ac1c0002\"]);\n",
              "//# sourceURL=js_8f0ca6ca15"
            ],
            "text/plain": [
              "<IPython.core.display.Javascript object>"
            ]
          },
          "metadata": {
            "tags": [
              "id3_content_3",
              "outputarea_id3"
            ]
          }
        },
        {
          "output_type": "display_data",
          "data": {
            "application/javascript": [
              "window[\"521241c4-641d-11ea-acba-0242ac1c0002\"] = google.colab.output.getActiveOutputArea();\n",
              "//# sourceURL=js_e8e8453efb"
            ],
            "text/plain": [
              "<IPython.core.display.Javascript object>"
            ]
          },
          "metadata": {
            "tags": [
              "id3_content_0",
              "outputarea_id3"
            ]
          }
        },
        {
          "output_type": "display_data",
          "data": {
            "application/javascript": [
              "window[\"52128026-641d-11ea-acba-0242ac1c0002\"] = document.querySelector(\"#id3_content_0\");\n",
              "//# sourceURL=js_a5f0b439f8"
            ],
            "text/plain": [
              "<IPython.core.display.Javascript object>"
            ]
          },
          "metadata": {
            "tags": [
              "id3_content_0",
              "outputarea_id3"
            ]
          }
        },
        {
          "output_type": "display_data",
          "data": {
            "application/javascript": [
              "window[\"52131f0e-641d-11ea-acba-0242ac1c0002\"] = google.colab.output.setActiveOutputArea(window[\"52128026-641d-11ea-acba-0242ac1c0002\"]);\n",
              "//# sourceURL=js_faf8a83ce8"
            ],
            "text/plain": [
              "<IPython.core.display.Javascript object>"
            ]
          },
          "metadata": {
            "tags": [
              "id3_content_0",
              "outputarea_id3"
            ]
          }
        },
        {
          "output_type": "display_data",
          "data": {
            "application/javascript": [
              "window[\"52152bfa-641d-11ea-acba-0242ac1c0002\"] = google.colab.output.setActiveOutputArea(window[\"521241c4-641d-11ea-acba-0242ac1c0002\"]);\n",
              "//# sourceURL=js_ba5afb3652"
            ],
            "text/plain": [
              "<IPython.core.display.Javascript object>"
            ]
          },
          "metadata": {
            "tags": [
              "id3_content_0",
              "outputarea_id3"
            ]
          }
        },
        {
          "output_type": "display_data",
          "data": {
            "application/javascript": [
              "window[\"5217afe2-641d-11ea-acba-0242ac1c0002\"] = google.colab.output.getActiveOutputArea();\n",
              "//# sourceURL=js_6d39464e30"
            ],
            "text/plain": [
              "<IPython.core.display.Javascript object>"
            ]
          },
          "metadata": {
            "tags": [
              "id3_content_1",
              "outputarea_id3"
            ]
          }
        },
        {
          "output_type": "display_data",
          "data": {
            "application/javascript": [
              "window[\"5217e264-641d-11ea-acba-0242ac1c0002\"] = document.querySelector(\"#id3_content_1\");\n",
              "//# sourceURL=js_8e7f552558"
            ],
            "text/plain": [
              "<IPython.core.display.Javascript object>"
            ]
          },
          "metadata": {
            "tags": [
              "id3_content_1",
              "outputarea_id3"
            ]
          }
        },
        {
          "output_type": "display_data",
          "data": {
            "application/javascript": [
              "window[\"5218145a-641d-11ea-acba-0242ac1c0002\"] = google.colab.output.setActiveOutputArea(window[\"5217e264-641d-11ea-acba-0242ac1c0002\"]);\n",
              "//# sourceURL=js_309d3ada6a"
            ],
            "text/plain": [
              "<IPython.core.display.Javascript object>"
            ]
          },
          "metadata": {
            "tags": [
              "id3_content_1",
              "outputarea_id3"
            ]
          }
        },
        {
          "output_type": "display_data",
          "data": {
            "application/javascript": [
              "window[\"52196f8a-641d-11ea-acba-0242ac1c0002\"] = google.colab.output.setActiveOutputArea(window[\"5217afe2-641d-11ea-acba-0242ac1c0002\"]);\n",
              "//# sourceURL=js_076b1e3019"
            ],
            "text/plain": [
              "<IPython.core.display.Javascript object>"
            ]
          },
          "metadata": {
            "tags": [
              "id3_content_1",
              "outputarea_id3"
            ]
          }
        },
        {
          "output_type": "display_data",
          "data": {
            "application/javascript": [
              "window[\"521af26a-641d-11ea-acba-0242ac1c0002\"] = google.colab.output.getActiveOutputArea();\n",
              "//# sourceURL=js_2246f15f1a"
            ],
            "text/plain": [
              "<IPython.core.display.Javascript object>"
            ]
          },
          "metadata": {
            "tags": [
              "id3_content_2",
              "outputarea_id3"
            ]
          }
        },
        {
          "output_type": "display_data",
          "data": {
            "application/javascript": [
              "window[\"521b2a00-641d-11ea-acba-0242ac1c0002\"] = document.querySelector(\"#id3_content_2\");\n",
              "//# sourceURL=js_248c8fcd8e"
            ],
            "text/plain": [
              "<IPython.core.display.Javascript object>"
            ]
          },
          "metadata": {
            "tags": [
              "id3_content_2",
              "outputarea_id3"
            ]
          }
        },
        {
          "output_type": "display_data",
          "data": {
            "application/javascript": [
              "window[\"521b67b8-641d-11ea-acba-0242ac1c0002\"] = google.colab.output.setActiveOutputArea(window[\"521b2a00-641d-11ea-acba-0242ac1c0002\"]);\n",
              "//# sourceURL=js_605636b837"
            ],
            "text/plain": [
              "<IPython.core.display.Javascript object>"
            ]
          },
          "metadata": {
            "tags": [
              "id3_content_2",
              "outputarea_id3"
            ]
          }
        },
        {
          "output_type": "display_data",
          "data": {
            "application/javascript": [
              "window[\"521c8a9e-641d-11ea-acba-0242ac1c0002\"] = google.colab.output.setActiveOutputArea(window[\"521af26a-641d-11ea-acba-0242ac1c0002\"]);\n",
              "//# sourceURL=js_f4ff94096c"
            ],
            "text/plain": [
              "<IPython.core.display.Javascript object>"
            ]
          },
          "metadata": {
            "tags": [
              "id3_content_2",
              "outputarea_id3"
            ]
          }
        },
        {
          "output_type": "display_data",
          "data": {
            "application/javascript": [
              "window[\"521f7b96-641d-11ea-acba-0242ac1c0002\"] = google.colab.output.getActiveOutputArea();\n",
              "//# sourceURL=js_758d15623e"
            ],
            "text/plain": [
              "<IPython.core.display.Javascript object>"
            ]
          },
          "metadata": {
            "tags": [
              "id3_content_3",
              "outputarea_id3"
            ]
          }
        },
        {
          "output_type": "display_data",
          "data": {
            "application/javascript": [
              "window[\"52201ed4-641d-11ea-acba-0242ac1c0002\"] = document.querySelector(\"#id3_content_3\");\n",
              "//# sourceURL=js_7b3bf87f07"
            ],
            "text/plain": [
              "<IPython.core.display.Javascript object>"
            ]
          },
          "metadata": {
            "tags": [
              "id3_content_3",
              "outputarea_id3"
            ]
          }
        },
        {
          "output_type": "display_data",
          "data": {
            "application/javascript": [
              "window[\"5220aeb2-641d-11ea-acba-0242ac1c0002\"] = google.colab.output.setActiveOutputArea(window[\"52201ed4-641d-11ea-acba-0242ac1c0002\"]);\n",
              "//# sourceURL=js_9edf89287a"
            ],
            "text/plain": [
              "<IPython.core.display.Javascript object>"
            ]
          },
          "metadata": {
            "tags": [
              "id3_content_3",
              "outputarea_id3"
            ]
          }
        },
        {
          "output_type": "display_data",
          "data": {
            "application/javascript": [
              "window[\"52231184-641d-11ea-acba-0242ac1c0002\"] = google.colab.output.setActiveOutputArea(window[\"521f7b96-641d-11ea-acba-0242ac1c0002\"]);\n",
              "//# sourceURL=js_7bedab8c78"
            ],
            "text/plain": [
              "<IPython.core.display.Javascript object>"
            ]
          },
          "metadata": {
            "tags": [
              "id3_content_3",
              "outputarea_id3"
            ]
          }
        },
        {
          "output_type": "display_data",
          "data": {
            "application/javascript": [
              "window[\"557b37f8-641d-11ea-acba-0242ac1c0002\"] = google.colab.output.getActiveOutputArea();\n",
              "//# sourceURL=js_d4bde62cad"
            ],
            "text/plain": [
              "<IPython.core.display.Javascript object>"
            ]
          },
          "metadata": {
            "tags": [
              "id3_content_0",
              "outputarea_id3"
            ]
          }
        },
        {
          "output_type": "display_data",
          "data": {
            "application/javascript": [
              "window[\"557b8dc0-641d-11ea-acba-0242ac1c0002\"] = document.querySelector(\"#id3_content_0\");\n",
              "//# sourceURL=js_ebbd466160"
            ],
            "text/plain": [
              "<IPython.core.display.Javascript object>"
            ]
          },
          "metadata": {
            "tags": [
              "id3_content_0",
              "outputarea_id3"
            ]
          }
        },
        {
          "output_type": "display_data",
          "data": {
            "application/javascript": [
              "window[\"557bebc6-641d-11ea-acba-0242ac1c0002\"] = google.colab.output.setActiveOutputArea(window[\"557b8dc0-641d-11ea-acba-0242ac1c0002\"]);\n",
              "//# sourceURL=js_3cbcaa2a9c"
            ],
            "text/plain": [
              "<IPython.core.display.Javascript object>"
            ]
          },
          "metadata": {
            "tags": [
              "id3_content_0",
              "outputarea_id3"
            ]
          }
        },
        {
          "output_type": "display_data",
          "data": {
            "application/javascript": [
              "window[\"557e634c-641d-11ea-acba-0242ac1c0002\"] = google.colab.output.setActiveOutputArea(window[\"557b37f8-641d-11ea-acba-0242ac1c0002\"]);\n",
              "//# sourceURL=js_96dd5fa129"
            ],
            "text/plain": [
              "<IPython.core.display.Javascript object>"
            ]
          },
          "metadata": {
            "tags": [
              "id3_content_0",
              "outputarea_id3"
            ]
          }
        },
        {
          "output_type": "display_data",
          "data": {
            "application/javascript": [
              "window[\"55800e2c-641d-11ea-acba-0242ac1c0002\"] = google.colab.output.getActiveOutputArea();\n",
              "//# sourceURL=js_6e0b2e762f"
            ],
            "text/plain": [
              "<IPython.core.display.Javascript object>"
            ]
          },
          "metadata": {
            "tags": [
              "id3_content_1",
              "outputarea_id3"
            ]
          }
        },
        {
          "output_type": "display_data",
          "data": {
            "application/javascript": [
              "window[\"5580657a-641d-11ea-acba-0242ac1c0002\"] = document.querySelector(\"#id3_content_1\");\n",
              "//# sourceURL=js_82138b5df1"
            ],
            "text/plain": [
              "<IPython.core.display.Javascript object>"
            ]
          },
          "metadata": {
            "tags": [
              "id3_content_1",
              "outputarea_id3"
            ]
          }
        },
        {
          "output_type": "display_data",
          "data": {
            "application/javascript": [
              "window[\"5580ae54-641d-11ea-acba-0242ac1c0002\"] = google.colab.output.setActiveOutputArea(window[\"5580657a-641d-11ea-acba-0242ac1c0002\"]);\n",
              "//# sourceURL=js_e37f1c3ef4"
            ],
            "text/plain": [
              "<IPython.core.display.Javascript object>"
            ]
          },
          "metadata": {
            "tags": [
              "id3_content_1",
              "outputarea_id3"
            ]
          }
        },
        {
          "output_type": "display_data",
          "data": {
            "application/javascript": [
              "window[\"55823cc4-641d-11ea-acba-0242ac1c0002\"] = google.colab.output.setActiveOutputArea(window[\"55800e2c-641d-11ea-acba-0242ac1c0002\"]);\n",
              "//# sourceURL=js_a581b372da"
            ],
            "text/plain": [
              "<IPython.core.display.Javascript object>"
            ]
          },
          "metadata": {
            "tags": [
              "id3_content_1",
              "outputarea_id3"
            ]
          }
        },
        {
          "output_type": "display_data",
          "data": {
            "application/javascript": [
              "window[\"558431fa-641d-11ea-acba-0242ac1c0002\"] = google.colab.output.getActiveOutputArea();\n",
              "//# sourceURL=js_6c778032d6"
            ],
            "text/plain": [
              "<IPython.core.display.Javascript object>"
            ]
          },
          "metadata": {
            "tags": [
              "id3_content_2",
              "outputarea_id3"
            ]
          }
        },
        {
          "output_type": "display_data",
          "data": {
            "application/javascript": [
              "window[\"5584794e-641d-11ea-acba-0242ac1c0002\"] = document.querySelector(\"#id3_content_2\");\n",
              "//# sourceURL=js_cb094be597"
            ],
            "text/plain": [
              "<IPython.core.display.Javascript object>"
            ]
          },
          "metadata": {
            "tags": [
              "id3_content_2",
              "outputarea_id3"
            ]
          }
        },
        {
          "output_type": "display_data",
          "data": {
            "application/javascript": [
              "window[\"5584aa0e-641d-11ea-acba-0242ac1c0002\"] = google.colab.output.setActiveOutputArea(window[\"5584794e-641d-11ea-acba-0242ac1c0002\"]);\n",
              "//# sourceURL=js_9f8e69585d"
            ],
            "text/plain": [
              "<IPython.core.display.Javascript object>"
            ]
          },
          "metadata": {
            "tags": [
              "id3_content_2",
              "outputarea_id3"
            ]
          }
        },
        {
          "output_type": "display_data",
          "data": {
            "application/javascript": [
              "window[\"5585c0c4-641d-11ea-acba-0242ac1c0002\"] = google.colab.output.setActiveOutputArea(window[\"558431fa-641d-11ea-acba-0242ac1c0002\"]);\n",
              "//# sourceURL=js_7f4bff7257"
            ],
            "text/plain": [
              "<IPython.core.display.Javascript object>"
            ]
          },
          "metadata": {
            "tags": [
              "id3_content_2",
              "outputarea_id3"
            ]
          }
        },
        {
          "output_type": "display_data",
          "data": {
            "application/javascript": [
              "window[\"55878030-641d-11ea-acba-0242ac1c0002\"] = google.colab.output.getActiveOutputArea();\n",
              "//# sourceURL=js_ff73a42956"
            ],
            "text/plain": [
              "<IPython.core.display.Javascript object>"
            ]
          },
          "metadata": {
            "tags": [
              "id3_content_3",
              "outputarea_id3"
            ]
          }
        },
        {
          "output_type": "display_data",
          "data": {
            "application/javascript": [
              "window[\"5587c022-641d-11ea-acba-0242ac1c0002\"] = document.querySelector(\"#id3_content_3\");\n",
              "//# sourceURL=js_eebdce04cb"
            ],
            "text/plain": [
              "<IPython.core.display.Javascript object>"
            ]
          },
          "metadata": {
            "tags": [
              "id3_content_3",
              "outputarea_id3"
            ]
          }
        },
        {
          "output_type": "display_data",
          "data": {
            "application/javascript": [
              "window[\"5587fd30-641d-11ea-acba-0242ac1c0002\"] = google.colab.output.setActiveOutputArea(window[\"5587c022-641d-11ea-acba-0242ac1c0002\"]);\n",
              "//# sourceURL=js_52220e9572"
            ],
            "text/plain": [
              "<IPython.core.display.Javascript object>"
            ]
          },
          "metadata": {
            "tags": [
              "id3_content_3",
              "outputarea_id3"
            ]
          }
        },
        {
          "output_type": "display_data",
          "data": {
            "application/javascript": [
              "window[\"5588de6c-641d-11ea-acba-0242ac1c0002\"] = google.colab.output.setActiveOutputArea(window[\"55878030-641d-11ea-acba-0242ac1c0002\"]);\n",
              "//# sourceURL=js_0a22be0e72"
            ],
            "text/plain": [
              "<IPython.core.display.Javascript object>"
            ]
          },
          "metadata": {
            "tags": [
              "id3_content_3",
              "outputarea_id3"
            ]
          }
        },
        {
          "output_type": "display_data",
          "data": {
            "application/javascript": [
              "window[\"559a04b2-641d-11ea-acba-0242ac1c0002\"] = google.colab.output.getActiveOutputArea();\n",
              "//# sourceURL=js_b9bfe0fbff"
            ],
            "text/plain": [
              "<IPython.core.display.Javascript object>"
            ]
          },
          "metadata": {
            "tags": [
              "id3_content_0",
              "outputarea_id3"
            ]
          }
        },
        {
          "output_type": "display_data",
          "data": {
            "application/javascript": [
              "window[\"559a4a8a-641d-11ea-acba-0242ac1c0002\"] = document.querySelector(\"#id3_content_0\");\n",
              "//# sourceURL=js_c40d833cf1"
            ],
            "text/plain": [
              "<IPython.core.display.Javascript object>"
            ]
          },
          "metadata": {
            "tags": [
              "id3_content_0",
              "outputarea_id3"
            ]
          }
        },
        {
          "output_type": "display_data",
          "data": {
            "application/javascript": [
              "window[\"559a85ea-641d-11ea-acba-0242ac1c0002\"] = google.colab.output.setActiveOutputArea(window[\"559a4a8a-641d-11ea-acba-0242ac1c0002\"]);\n",
              "//# sourceURL=js_4a78fccbbe"
            ],
            "text/plain": [
              "<IPython.core.display.Javascript object>"
            ]
          },
          "metadata": {
            "tags": [
              "id3_content_0",
              "outputarea_id3"
            ]
          }
        },
        {
          "output_type": "display_data",
          "data": {
            "application/javascript": [
              "window[\"55de2ff2-641d-11ea-acba-0242ac1c0002\"] = google.colab.output.setActiveOutputArea(window[\"559a04b2-641d-11ea-acba-0242ac1c0002\"]);\n",
              "//# sourceURL=js_303737eb0f"
            ],
            "text/plain": [
              "<IPython.core.display.Javascript object>"
            ]
          },
          "metadata": {
            "tags": [
              "id3_content_0",
              "outputarea_id3"
            ]
          }
        },
        {
          "output_type": "display_data",
          "data": {
            "application/javascript": [
              "window[\"55df1b42-641d-11ea-acba-0242ac1c0002\"] = google.colab.output.getActiveOutputArea();\n",
              "//# sourceURL=js_d94780709b"
            ],
            "text/plain": [
              "<IPython.core.display.Javascript object>"
            ]
          },
          "metadata": {
            "tags": [
              "id3_content_1",
              "outputarea_id3"
            ]
          }
        },
        {
          "output_type": "display_data",
          "data": {
            "application/javascript": [
              "window[\"55df4ef0-641d-11ea-acba-0242ac1c0002\"] = document.querySelector(\"#id3_content_1\");\n",
              "//# sourceURL=js_2638c88beb"
            ],
            "text/plain": [
              "<IPython.core.display.Javascript object>"
            ]
          },
          "metadata": {
            "tags": [
              "id3_content_1",
              "outputarea_id3"
            ]
          }
        },
        {
          "output_type": "display_data",
          "data": {
            "application/javascript": [
              "window[\"55df80b4-641d-11ea-acba-0242ac1c0002\"] = google.colab.output.setActiveOutputArea(window[\"55df4ef0-641d-11ea-acba-0242ac1c0002\"]);\n",
              "//# sourceURL=js_b2c435c49a"
            ],
            "text/plain": [
              "<IPython.core.display.Javascript object>"
            ]
          },
          "metadata": {
            "tags": [
              "id3_content_1",
              "outputarea_id3"
            ]
          }
        },
        {
          "output_type": "display_data",
          "data": {
            "application/javascript": [
              "window[\"560c498c-641d-11ea-acba-0242ac1c0002\"] = google.colab.output.setActiveOutputArea(window[\"55df1b42-641d-11ea-acba-0242ac1c0002\"]);\n",
              "//# sourceURL=js_a15666de12"
            ],
            "text/plain": [
              "<IPython.core.display.Javascript object>"
            ]
          },
          "metadata": {
            "tags": [
              "id3_content_1",
              "outputarea_id3"
            ]
          }
        },
        {
          "output_type": "display_data",
          "data": {
            "application/javascript": [
              "window[\"560d38ba-641d-11ea-acba-0242ac1c0002\"] = google.colab.output.getActiveOutputArea();\n",
              "//# sourceURL=js_313e2a89fd"
            ],
            "text/plain": [
              "<IPython.core.display.Javascript object>"
            ]
          },
          "metadata": {
            "tags": [
              "id3_content_2",
              "outputarea_id3"
            ]
          }
        },
        {
          "output_type": "display_data",
          "data": {
            "application/javascript": [
              "window[\"560d6ac4-641d-11ea-acba-0242ac1c0002\"] = document.querySelector(\"#id3_content_2\");\n",
              "//# sourceURL=js_05e1b50d21"
            ],
            "text/plain": [
              "<IPython.core.display.Javascript object>"
            ]
          },
          "metadata": {
            "tags": [
              "id3_content_2",
              "outputarea_id3"
            ]
          }
        },
        {
          "output_type": "display_data",
          "data": {
            "application/javascript": [
              "window[\"560da16a-641d-11ea-acba-0242ac1c0002\"] = google.colab.output.setActiveOutputArea(window[\"560d6ac4-641d-11ea-acba-0242ac1c0002\"]);\n",
              "//# sourceURL=js_7bf1032cda"
            ],
            "text/plain": [
              "<IPython.core.display.Javascript object>"
            ]
          },
          "metadata": {
            "tags": [
              "id3_content_2",
              "outputarea_id3"
            ]
          }
        },
        {
          "output_type": "display_data",
          "data": {
            "application/javascript": [
              "window[\"564bf8de-641d-11ea-acba-0242ac1c0002\"] = google.colab.output.setActiveOutputArea(window[\"560d38ba-641d-11ea-acba-0242ac1c0002\"]);\n",
              "//# sourceURL=js_dab5bad6b4"
            ],
            "text/plain": [
              "<IPython.core.display.Javascript object>"
            ]
          },
          "metadata": {
            "tags": [
              "id3_content_2",
              "outputarea_id3"
            ]
          }
        },
        {
          "output_type": "display_data",
          "data": {
            "application/javascript": [
              "window[\"564ce208-641d-11ea-acba-0242ac1c0002\"] = google.colab.output.getActiveOutputArea();\n",
              "//# sourceURL=js_dc0e81b4d1"
            ],
            "text/plain": [
              "<IPython.core.display.Javascript object>"
            ]
          },
          "metadata": {
            "tags": [
              "id3_content_3",
              "outputarea_id3"
            ]
          }
        },
        {
          "output_type": "display_data",
          "data": {
            "application/javascript": [
              "window[\"564d1778-641d-11ea-acba-0242ac1c0002\"] = document.querySelector(\"#id3_content_3\");\n",
              "//# sourceURL=js_f11923c05a"
            ],
            "text/plain": [
              "<IPython.core.display.Javascript object>"
            ]
          },
          "metadata": {
            "tags": [
              "id3_content_3",
              "outputarea_id3"
            ]
          }
        },
        {
          "output_type": "display_data",
          "data": {
            "application/javascript": [
              "window[\"564d4afe-641d-11ea-acba-0242ac1c0002\"] = google.colab.output.setActiveOutputArea(window[\"564d1778-641d-11ea-acba-0242ac1c0002\"]);\n",
              "//# sourceURL=js_9f32e04445"
            ],
            "text/plain": [
              "<IPython.core.display.Javascript object>"
            ]
          },
          "metadata": {
            "tags": [
              "id3_content_3",
              "outputarea_id3"
            ]
          }
        },
        {
          "output_type": "display_data",
          "data": {
            "application/javascript": [
              "window[\"5679b65c-641d-11ea-acba-0242ac1c0002\"] = google.colab.output.setActiveOutputArea(window[\"564ce208-641d-11ea-acba-0242ac1c0002\"]);\n",
              "//# sourceURL=js_8c9d45edba"
            ],
            "text/plain": [
              "<IPython.core.display.Javascript object>"
            ]
          },
          "metadata": {
            "tags": [
              "id3_content_3",
              "outputarea_id3"
            ]
          }
        },
        {
          "output_type": "display_data",
          "data": {
            "application/javascript": [
              "window[\"59ab2d10-641d-11ea-acba-0242ac1c0002\"] = google.colab.output.getActiveOutputArea();\n",
              "//# sourceURL=js_bb9c73ef6e"
            ],
            "text/plain": [
              "<IPython.core.display.Javascript object>"
            ]
          },
          "metadata": {
            "tags": [
              "id3_content_0",
              "outputarea_id3"
            ]
          }
        },
        {
          "output_type": "display_data",
          "data": {
            "application/javascript": [
              "window[\"59ac2986-641d-11ea-acba-0242ac1c0002\"] = document.querySelector(\"#id3_content_0\");\n",
              "//# sourceURL=js_ad639db352"
            ],
            "text/plain": [
              "<IPython.core.display.Javascript object>"
            ]
          },
          "metadata": {
            "tags": [
              "id3_content_0",
              "outputarea_id3"
            ]
          }
        },
        {
          "output_type": "display_data",
          "data": {
            "application/javascript": [
              "window[\"59ac828c-641d-11ea-acba-0242ac1c0002\"] = google.colab.output.setActiveOutputArea(window[\"59ac2986-641d-11ea-acba-0242ac1c0002\"]);\n",
              "//# sourceURL=js_b4f5d911e3"
            ],
            "text/plain": [
              "<IPython.core.display.Javascript object>"
            ]
          },
          "metadata": {
            "tags": [
              "id3_content_0",
              "outputarea_id3"
            ]
          }
        },
        {
          "output_type": "display_data",
          "data": {
            "application/javascript": [
              "window[\"59ad601c-641d-11ea-acba-0242ac1c0002\"] = google.colab.output.setActiveOutputArea(window[\"59ab2d10-641d-11ea-acba-0242ac1c0002\"]);\n",
              "//# sourceURL=js_71053d6703"
            ],
            "text/plain": [
              "<IPython.core.display.Javascript object>"
            ]
          },
          "metadata": {
            "tags": [
              "id3_content_0",
              "outputarea_id3"
            ]
          }
        },
        {
          "output_type": "display_data",
          "data": {
            "application/javascript": [
              "window[\"59af7e7e-641d-11ea-acba-0242ac1c0002\"] = google.colab.output.getActiveOutputArea();\n",
              "//# sourceURL=js_e469eb7887"
            ],
            "text/plain": [
              "<IPython.core.display.Javascript object>"
            ]
          },
          "metadata": {
            "tags": [
              "id3_content_1",
              "outputarea_id3"
            ]
          }
        },
        {
          "output_type": "display_data",
          "data": {
            "application/javascript": [
              "window[\"59afdf40-641d-11ea-acba-0242ac1c0002\"] = document.querySelector(\"#id3_content_1\");\n",
              "//# sourceURL=js_bc11b7c95f"
            ],
            "text/plain": [
              "<IPython.core.display.Javascript object>"
            ]
          },
          "metadata": {
            "tags": [
              "id3_content_1",
              "outputarea_id3"
            ]
          }
        },
        {
          "output_type": "display_data",
          "data": {
            "application/javascript": [
              "window[\"59b043ea-641d-11ea-acba-0242ac1c0002\"] = google.colab.output.setActiveOutputArea(window[\"59afdf40-641d-11ea-acba-0242ac1c0002\"]);\n",
              "//# sourceURL=js_1b8ac01f20"
            ],
            "text/plain": [
              "<IPython.core.display.Javascript object>"
            ]
          },
          "metadata": {
            "tags": [
              "id3_content_1",
              "outputarea_id3"
            ]
          }
        },
        {
          "output_type": "display_data",
          "data": {
            "application/javascript": [
              "window[\"59b1bda6-641d-11ea-acba-0242ac1c0002\"] = google.colab.output.setActiveOutputArea(window[\"59af7e7e-641d-11ea-acba-0242ac1c0002\"]);\n",
              "//# sourceURL=js_02e7e0058d"
            ],
            "text/plain": [
              "<IPython.core.display.Javascript object>"
            ]
          },
          "metadata": {
            "tags": [
              "id3_content_1",
              "outputarea_id3"
            ]
          }
        },
        {
          "output_type": "display_data",
          "data": {
            "application/javascript": [
              "window[\"59b371be-641d-11ea-acba-0242ac1c0002\"] = google.colab.output.getActiveOutputArea();\n",
              "//# sourceURL=js_1729ce40bb"
            ],
            "text/plain": [
              "<IPython.core.display.Javascript object>"
            ]
          },
          "metadata": {
            "tags": [
              "id3_content_2",
              "outputarea_id3"
            ]
          }
        },
        {
          "output_type": "display_data",
          "data": {
            "application/javascript": [
              "window[\"59b3c89e-641d-11ea-acba-0242ac1c0002\"] = document.querySelector(\"#id3_content_2\");\n",
              "//# sourceURL=js_05e6fc5465"
            ],
            "text/plain": [
              "<IPython.core.display.Javascript object>"
            ]
          },
          "metadata": {
            "tags": [
              "id3_content_2",
              "outputarea_id3"
            ]
          }
        },
        {
          "output_type": "display_data",
          "data": {
            "application/javascript": [
              "window[\"59b411fa-641d-11ea-acba-0242ac1c0002\"] = google.colab.output.setActiveOutputArea(window[\"59b3c89e-641d-11ea-acba-0242ac1c0002\"]);\n",
              "//# sourceURL=js_f4a89c9122"
            ],
            "text/plain": [
              "<IPython.core.display.Javascript object>"
            ]
          },
          "metadata": {
            "tags": [
              "id3_content_2",
              "outputarea_id3"
            ]
          }
        },
        {
          "output_type": "display_data",
          "data": {
            "application/javascript": [
              "window[\"59b50eac-641d-11ea-acba-0242ac1c0002\"] = google.colab.output.setActiveOutputArea(window[\"59b371be-641d-11ea-acba-0242ac1c0002\"]);\n",
              "//# sourceURL=js_48c66a9c74"
            ],
            "text/plain": [
              "<IPython.core.display.Javascript object>"
            ]
          },
          "metadata": {
            "tags": [
              "id3_content_2",
              "outputarea_id3"
            ]
          }
        },
        {
          "output_type": "display_data",
          "data": {
            "application/javascript": [
              "window[\"59b677c4-641d-11ea-acba-0242ac1c0002\"] = google.colab.output.getActiveOutputArea();\n",
              "//# sourceURL=js_d13691f8ec"
            ],
            "text/plain": [
              "<IPython.core.display.Javascript object>"
            ]
          },
          "metadata": {
            "tags": [
              "id3_content_3",
              "outputarea_id3"
            ]
          }
        },
        {
          "output_type": "display_data",
          "data": {
            "application/javascript": [
              "window[\"59b6cf76-641d-11ea-acba-0242ac1c0002\"] = document.querySelector(\"#id3_content_3\");\n",
              "//# sourceURL=js_7642b71187"
            ],
            "text/plain": [
              "<IPython.core.display.Javascript object>"
            ]
          },
          "metadata": {
            "tags": [
              "id3_content_3",
              "outputarea_id3"
            ]
          }
        },
        {
          "output_type": "display_data",
          "data": {
            "application/javascript": [
              "window[\"59b71710-641d-11ea-acba-0242ac1c0002\"] = google.colab.output.setActiveOutputArea(window[\"59b6cf76-641d-11ea-acba-0242ac1c0002\"]);\n",
              "//# sourceURL=js_0ec36e4e43"
            ],
            "text/plain": [
              "<IPython.core.display.Javascript object>"
            ]
          },
          "metadata": {
            "tags": [
              "id3_content_3",
              "outputarea_id3"
            ]
          }
        },
        {
          "output_type": "display_data",
          "data": {
            "application/javascript": [
              "window[\"59b810e8-641d-11ea-acba-0242ac1c0002\"] = google.colab.output.setActiveOutputArea(window[\"59b677c4-641d-11ea-acba-0242ac1c0002\"]);\n",
              "//# sourceURL=js_c6f7964aa9"
            ],
            "text/plain": [
              "<IPython.core.display.Javascript object>"
            ]
          },
          "metadata": {
            "tags": [
              "id3_content_3",
              "outputarea_id3"
            ]
          }
        },
        {
          "output_type": "display_data",
          "data": {
            "application/javascript": [
              "window[\"59c6451e-641d-11ea-acba-0242ac1c0002\"] = google.colab.output.getActiveOutputArea();\n",
              "//# sourceURL=js_a2c88b4ff0"
            ],
            "text/plain": [
              "<IPython.core.display.Javascript object>"
            ]
          },
          "metadata": {
            "tags": [
              "id3_content_0",
              "outputarea_id3"
            ]
          }
        },
        {
          "output_type": "display_data",
          "data": {
            "application/javascript": [
              "window[\"59c69334-641d-11ea-acba-0242ac1c0002\"] = document.querySelector(\"#id3_content_0\");\n",
              "//# sourceURL=js_3276cd2fba"
            ],
            "text/plain": [
              "<IPython.core.display.Javascript object>"
            ]
          },
          "metadata": {
            "tags": [
              "id3_content_0",
              "outputarea_id3"
            ]
          }
        },
        {
          "output_type": "display_data",
          "data": {
            "application/javascript": [
              "window[\"59c6dcae-641d-11ea-acba-0242ac1c0002\"] = google.colab.output.setActiveOutputArea(window[\"59c69334-641d-11ea-acba-0242ac1c0002\"]);\n",
              "//# sourceURL=js_fc955e89c3"
            ],
            "text/plain": [
              "<IPython.core.display.Javascript object>"
            ]
          },
          "metadata": {
            "tags": [
              "id3_content_0",
              "outputarea_id3"
            ]
          }
        },
        {
          "output_type": "display_data",
          "data": {
            "application/javascript": [
              "window[\"5a0b939e-641d-11ea-acba-0242ac1c0002\"] = google.colab.output.setActiveOutputArea(window[\"59c6451e-641d-11ea-acba-0242ac1c0002\"]);\n",
              "//# sourceURL=js_7992698602"
            ],
            "text/plain": [
              "<IPython.core.display.Javascript object>"
            ]
          },
          "metadata": {
            "tags": [
              "id3_content_0",
              "outputarea_id3"
            ]
          }
        },
        {
          "output_type": "display_data",
          "data": {
            "application/javascript": [
              "window[\"5a0d2e34-641d-11ea-acba-0242ac1c0002\"] = google.colab.output.getActiveOutputArea();\n",
              "//# sourceURL=js_ea2ad3ac54"
            ],
            "text/plain": [
              "<IPython.core.display.Javascript object>"
            ]
          },
          "metadata": {
            "tags": [
              "id3_content_1",
              "outputarea_id3"
            ]
          }
        },
        {
          "output_type": "display_data",
          "data": {
            "application/javascript": [
              "window[\"5a0d8262-641d-11ea-acba-0242ac1c0002\"] = document.querySelector(\"#id3_content_1\");\n",
              "//# sourceURL=js_77aa62d713"
            ],
            "text/plain": [
              "<IPython.core.display.Javascript object>"
            ]
          },
          "metadata": {
            "tags": [
              "id3_content_1",
              "outputarea_id3"
            ]
          }
        },
        {
          "output_type": "display_data",
          "data": {
            "application/javascript": [
              "window[\"5a0dcd1c-641d-11ea-acba-0242ac1c0002\"] = google.colab.output.setActiveOutputArea(window[\"5a0d8262-641d-11ea-acba-0242ac1c0002\"]);\n",
              "//# sourceURL=js_e28905d66f"
            ],
            "text/plain": [
              "<IPython.core.display.Javascript object>"
            ]
          },
          "metadata": {
            "tags": [
              "id3_content_1",
              "outputarea_id3"
            ]
          }
        },
        {
          "output_type": "display_data",
          "data": {
            "application/javascript": [
              "window[\"5a39eb36-641d-11ea-acba-0242ac1c0002\"] = google.colab.output.setActiveOutputArea(window[\"5a0d2e34-641d-11ea-acba-0242ac1c0002\"]);\n",
              "//# sourceURL=js_8f3cb178d6"
            ],
            "text/plain": [
              "<IPython.core.display.Javascript object>"
            ]
          },
          "metadata": {
            "tags": [
              "id3_content_1",
              "outputarea_id3"
            ]
          }
        },
        {
          "output_type": "display_data",
          "data": {
            "application/javascript": [
              "window[\"5a3b9904-641d-11ea-acba-0242ac1c0002\"] = google.colab.output.getActiveOutputArea();\n",
              "//# sourceURL=js_ae5623286a"
            ],
            "text/plain": [
              "<IPython.core.display.Javascript object>"
            ]
          },
          "metadata": {
            "tags": [
              "id3_content_2",
              "outputarea_id3"
            ]
          }
        },
        {
          "output_type": "display_data",
          "data": {
            "application/javascript": [
              "window[\"5a3be33c-641d-11ea-acba-0242ac1c0002\"] = document.querySelector(\"#id3_content_2\");\n",
              "//# sourceURL=js_895b162d91"
            ],
            "text/plain": [
              "<IPython.core.display.Javascript object>"
            ]
          },
          "metadata": {
            "tags": [
              "id3_content_2",
              "outputarea_id3"
            ]
          }
        },
        {
          "output_type": "display_data",
          "data": {
            "application/javascript": [
              "window[\"5a3c2cf2-641d-11ea-acba-0242ac1c0002\"] = google.colab.output.setActiveOutputArea(window[\"5a3be33c-641d-11ea-acba-0242ac1c0002\"]);\n",
              "//# sourceURL=js_d9b6e0f579"
            ],
            "text/plain": [
              "<IPython.core.display.Javascript object>"
            ]
          },
          "metadata": {
            "tags": [
              "id3_content_2",
              "outputarea_id3"
            ]
          }
        },
        {
          "output_type": "display_data",
          "data": {
            "application/javascript": [
              "window[\"5a7b382a-641d-11ea-acba-0242ac1c0002\"] = google.colab.output.setActiveOutputArea(window[\"5a3b9904-641d-11ea-acba-0242ac1c0002\"]);\n",
              "//# sourceURL=js_e261cfb3ec"
            ],
            "text/plain": [
              "<IPython.core.display.Javascript object>"
            ]
          },
          "metadata": {
            "tags": [
              "id3_content_2",
              "outputarea_id3"
            ]
          }
        },
        {
          "output_type": "display_data",
          "data": {
            "application/javascript": [
              "window[\"5a7c57c8-641d-11ea-acba-0242ac1c0002\"] = google.colab.output.getActiveOutputArea();\n",
              "//# sourceURL=js_099bf7584f"
            ],
            "text/plain": [
              "<IPython.core.display.Javascript object>"
            ]
          },
          "metadata": {
            "tags": [
              "id3_content_3",
              "outputarea_id3"
            ]
          }
        },
        {
          "output_type": "display_data",
          "data": {
            "application/javascript": [
              "window[\"5a7c97e2-641d-11ea-acba-0242ac1c0002\"] = document.querySelector(\"#id3_content_3\");\n",
              "//# sourceURL=js_ea0b941c04"
            ],
            "text/plain": [
              "<IPython.core.display.Javascript object>"
            ]
          },
          "metadata": {
            "tags": [
              "id3_content_3",
              "outputarea_id3"
            ]
          }
        },
        {
          "output_type": "display_data",
          "data": {
            "application/javascript": [
              "window[\"5a7cc848-641d-11ea-acba-0242ac1c0002\"] = google.colab.output.setActiveOutputArea(window[\"5a7c97e2-641d-11ea-acba-0242ac1c0002\"]);\n",
              "//# sourceURL=js_da2c2fd4a5"
            ],
            "text/plain": [
              "<IPython.core.display.Javascript object>"
            ]
          },
          "metadata": {
            "tags": [
              "id3_content_3",
              "outputarea_id3"
            ]
          }
        },
        {
          "output_type": "display_data",
          "data": {
            "application/javascript": [
              "window[\"5aaa7022-641d-11ea-acba-0242ac1c0002\"] = google.colab.output.setActiveOutputArea(window[\"5a7c57c8-641d-11ea-acba-0242ac1c0002\"]);\n",
              "//# sourceURL=js_f7e6a7ed1f"
            ],
            "text/plain": [
              "<IPython.core.display.Javascript object>"
            ]
          },
          "metadata": {
            "tags": [
              "id3_content_3",
              "outputarea_id3"
            ]
          }
        },
        {
          "output_type": "display_data",
          "data": {
            "application/javascript": [
              "window[\"5cd4483c-641d-11ea-acba-0242ac1c0002\"] = google.colab.output.getActiveOutputArea();\n",
              "//# sourceURL=js_ac5ecd7ac4"
            ],
            "text/plain": [
              "<IPython.core.display.Javascript object>"
            ]
          },
          "metadata": {
            "tags": [
              "id3_content_0",
              "outputarea_id3"
            ]
          }
        },
        {
          "output_type": "display_data",
          "data": {
            "application/javascript": [
              "window[\"5cd49292-641d-11ea-acba-0242ac1c0002\"] = document.querySelector(\"#id3_content_0\");\n",
              "//# sourceURL=js_bac615ecd4"
            ],
            "text/plain": [
              "<IPython.core.display.Javascript object>"
            ]
          },
          "metadata": {
            "tags": [
              "id3_content_0",
              "outputarea_id3"
            ]
          }
        },
        {
          "output_type": "display_data",
          "data": {
            "application/javascript": [
              "window[\"5cd4e4c2-641d-11ea-acba-0242ac1c0002\"] = google.colab.output.setActiveOutputArea(window[\"5cd49292-641d-11ea-acba-0242ac1c0002\"]);\n",
              "//# sourceURL=js_54c0206441"
            ],
            "text/plain": [
              "<IPython.core.display.Javascript object>"
            ]
          },
          "metadata": {
            "tags": [
              "id3_content_0",
              "outputarea_id3"
            ]
          }
        },
        {
          "output_type": "display_data",
          "data": {
            "application/javascript": [
              "window[\"5cd5c284-641d-11ea-acba-0242ac1c0002\"] = google.colab.output.setActiveOutputArea(window[\"5cd4483c-641d-11ea-acba-0242ac1c0002\"]);\n",
              "//# sourceURL=js_6098d56175"
            ],
            "text/plain": [
              "<IPython.core.display.Javascript object>"
            ]
          },
          "metadata": {
            "tags": [
              "id3_content_0",
              "outputarea_id3"
            ]
          }
        },
        {
          "output_type": "display_data",
          "data": {
            "application/javascript": [
              "window[\"5cd6a7f8-641d-11ea-acba-0242ac1c0002\"] = google.colab.output.getActiveOutputArea();\n",
              "//# sourceURL=js_cea9eb8dba"
            ],
            "text/plain": [
              "<IPython.core.display.Javascript object>"
            ]
          },
          "metadata": {
            "tags": [
              "id3_content_1",
              "outputarea_id3"
            ]
          }
        },
        {
          "output_type": "display_data",
          "data": {
            "application/javascript": [
              "window[\"5cd6dcc8-641d-11ea-acba-0242ac1c0002\"] = document.querySelector(\"#id3_content_1\");\n",
              "//# sourceURL=js_9650f229ae"
            ],
            "text/plain": [
              "<IPython.core.display.Javascript object>"
            ]
          },
          "metadata": {
            "tags": [
              "id3_content_1",
              "outputarea_id3"
            ]
          }
        },
        {
          "output_type": "display_data",
          "data": {
            "application/javascript": [
              "window[\"5cd722f0-641d-11ea-acba-0242ac1c0002\"] = google.colab.output.setActiveOutputArea(window[\"5cd6dcc8-641d-11ea-acba-0242ac1c0002\"]);\n",
              "//# sourceURL=js_793b57b088"
            ],
            "text/plain": [
              "<IPython.core.display.Javascript object>"
            ]
          },
          "metadata": {
            "tags": [
              "id3_content_1",
              "outputarea_id3"
            ]
          }
        },
        {
          "output_type": "display_data",
          "data": {
            "application/javascript": [
              "window[\"5cd83320-641d-11ea-acba-0242ac1c0002\"] = google.colab.output.setActiveOutputArea(window[\"5cd6a7f8-641d-11ea-acba-0242ac1c0002\"]);\n",
              "//# sourceURL=js_2b24c01c47"
            ],
            "text/plain": [
              "<IPython.core.display.Javascript object>"
            ]
          },
          "metadata": {
            "tags": [
              "id3_content_1",
              "outputarea_id3"
            ]
          }
        },
        {
          "output_type": "display_data",
          "data": {
            "application/javascript": [
              "window[\"5cd99706-641d-11ea-acba-0242ac1c0002\"] = google.colab.output.getActiveOutputArea();\n",
              "//# sourceURL=js_d70d4ef708"
            ],
            "text/plain": [
              "<IPython.core.display.Javascript object>"
            ]
          },
          "metadata": {
            "tags": [
              "id3_content_2",
              "outputarea_id3"
            ]
          }
        },
        {
          "output_type": "display_data",
          "data": {
            "application/javascript": [
              "window[\"5cd9e832-641d-11ea-acba-0242ac1c0002\"] = document.querySelector(\"#id3_content_2\");\n",
              "//# sourceURL=js_8e98b5da0f"
            ],
            "text/plain": [
              "<IPython.core.display.Javascript object>"
            ]
          },
          "metadata": {
            "tags": [
              "id3_content_2",
              "outputarea_id3"
            ]
          }
        },
        {
          "output_type": "display_data",
          "data": {
            "application/javascript": [
              "window[\"5cda2f5e-641d-11ea-acba-0242ac1c0002\"] = google.colab.output.setActiveOutputArea(window[\"5cd9e832-641d-11ea-acba-0242ac1c0002\"]);\n",
              "//# sourceURL=js_f568385d89"
            ],
            "text/plain": [
              "<IPython.core.display.Javascript object>"
            ]
          },
          "metadata": {
            "tags": [
              "id3_content_2",
              "outputarea_id3"
            ]
          }
        },
        {
          "output_type": "display_data",
          "data": {
            "application/javascript": [
              "window[\"5cdb364c-641d-11ea-acba-0242ac1c0002\"] = google.colab.output.setActiveOutputArea(window[\"5cd99706-641d-11ea-acba-0242ac1c0002\"]);\n",
              "//# sourceURL=js_0bfffcae11"
            ],
            "text/plain": [
              "<IPython.core.display.Javascript object>"
            ]
          },
          "metadata": {
            "tags": [
              "id3_content_2",
              "outputarea_id3"
            ]
          }
        },
        {
          "output_type": "display_data",
          "data": {
            "application/javascript": [
              "window[\"5cdc9d34-641d-11ea-acba-0242ac1c0002\"] = google.colab.output.getActiveOutputArea();\n",
              "//# sourceURL=js_1b35a2c9d6"
            ],
            "text/plain": [
              "<IPython.core.display.Javascript object>"
            ]
          },
          "metadata": {
            "tags": [
              "id3_content_3",
              "outputarea_id3"
            ]
          }
        },
        {
          "output_type": "display_data",
          "data": {
            "application/javascript": [
              "window[\"5cdce0be-641d-11ea-acba-0242ac1c0002\"] = document.querySelector(\"#id3_content_3\");\n",
              "//# sourceURL=js_2efcf64bde"
            ],
            "text/plain": [
              "<IPython.core.display.Javascript object>"
            ]
          },
          "metadata": {
            "tags": [
              "id3_content_3",
              "outputarea_id3"
            ]
          }
        },
        {
          "output_type": "display_data",
          "data": {
            "application/javascript": [
              "window[\"5cdd2ae2-641d-11ea-acba-0242ac1c0002\"] = google.colab.output.setActiveOutputArea(window[\"5cdce0be-641d-11ea-acba-0242ac1c0002\"]);\n",
              "//# sourceURL=js_e959f48310"
            ],
            "text/plain": [
              "<IPython.core.display.Javascript object>"
            ]
          },
          "metadata": {
            "tags": [
              "id3_content_3",
              "outputarea_id3"
            ]
          }
        },
        {
          "output_type": "display_data",
          "data": {
            "application/javascript": [
              "window[\"5cde3900-641d-11ea-acba-0242ac1c0002\"] = google.colab.output.setActiveOutputArea(window[\"5cdc9d34-641d-11ea-acba-0242ac1c0002\"]);\n",
              "//# sourceURL=js_d735fe5461"
            ],
            "text/plain": [
              "<IPython.core.display.Javascript object>"
            ]
          },
          "metadata": {
            "tags": [
              "id3_content_3",
              "outputarea_id3"
            ]
          }
        },
        {
          "output_type": "display_data",
          "data": {
            "application/javascript": [
              "window[\"5ce9c676-641d-11ea-acba-0242ac1c0002\"] = google.colab.output.getActiveOutputArea();\n",
              "//# sourceURL=js_d00ccf95dc"
            ],
            "text/plain": [
              "<IPython.core.display.Javascript object>"
            ]
          },
          "metadata": {
            "tags": [
              "id3_content_0",
              "outputarea_id3"
            ]
          }
        },
        {
          "output_type": "display_data",
          "data": {
            "application/javascript": [
              "window[\"5cea1bee-641d-11ea-acba-0242ac1c0002\"] = document.querySelector(\"#id3_content_0\");\n",
              "//# sourceURL=js_cd1d84bf6e"
            ],
            "text/plain": [
              "<IPython.core.display.Javascript object>"
            ]
          },
          "metadata": {
            "tags": [
              "id3_content_0",
              "outputarea_id3"
            ]
          }
        },
        {
          "output_type": "display_data",
          "data": {
            "application/javascript": [
              "window[\"5cea50c8-641d-11ea-acba-0242ac1c0002\"] = google.colab.output.setActiveOutputArea(window[\"5cea1bee-641d-11ea-acba-0242ac1c0002\"]);\n",
              "//# sourceURL=js_e13d40dc0c"
            ],
            "text/plain": [
              "<IPython.core.display.Javascript object>"
            ]
          },
          "metadata": {
            "tags": [
              "id3_content_0",
              "outputarea_id3"
            ]
          }
        },
        {
          "output_type": "display_data",
          "data": {
            "application/javascript": [
              "window[\"5d1add92-641d-11ea-acba-0242ac1c0002\"] = google.colab.output.setActiveOutputArea(window[\"5ce9c676-641d-11ea-acba-0242ac1c0002\"]);\n",
              "//# sourceURL=js_0e4703b41a"
            ],
            "text/plain": [
              "<IPython.core.display.Javascript object>"
            ]
          },
          "metadata": {
            "tags": [
              "id3_content_0",
              "outputarea_id3"
            ]
          }
        },
        {
          "output_type": "display_data",
          "data": {
            "application/javascript": [
              "window[\"5d1c8e80-641d-11ea-acba-0242ac1c0002\"] = google.colab.output.getActiveOutputArea();\n",
              "//# sourceURL=js_a3c1dd248e"
            ],
            "text/plain": [
              "<IPython.core.display.Javascript object>"
            ]
          },
          "metadata": {
            "tags": [
              "id3_content_1",
              "outputarea_id3"
            ]
          }
        },
        {
          "output_type": "display_data",
          "data": {
            "application/javascript": [
              "window[\"5d1cd4d0-641d-11ea-acba-0242ac1c0002\"] = document.querySelector(\"#id3_content_1\");\n",
              "//# sourceURL=js_96e346dad8"
            ],
            "text/plain": [
              "<IPython.core.display.Javascript object>"
            ]
          },
          "metadata": {
            "tags": [
              "id3_content_1",
              "outputarea_id3"
            ]
          }
        },
        {
          "output_type": "display_data",
          "data": {
            "application/javascript": [
              "window[\"5d1d26b0-641d-11ea-acba-0242ac1c0002\"] = google.colab.output.setActiveOutputArea(window[\"5d1cd4d0-641d-11ea-acba-0242ac1c0002\"]);\n",
              "//# sourceURL=js_2c819bdb2c"
            ],
            "text/plain": [
              "<IPython.core.display.Javascript object>"
            ]
          },
          "metadata": {
            "tags": [
              "id3_content_1",
              "outputarea_id3"
            ]
          }
        },
        {
          "output_type": "display_data",
          "data": {
            "application/javascript": [
              "window[\"5d5ee2f8-641d-11ea-acba-0242ac1c0002\"] = google.colab.output.setActiveOutputArea(window[\"5d1c8e80-641d-11ea-acba-0242ac1c0002\"]);\n",
              "//# sourceURL=js_f99703b232"
            ],
            "text/plain": [
              "<IPython.core.display.Javascript object>"
            ]
          },
          "metadata": {
            "tags": [
              "id3_content_1",
              "outputarea_id3"
            ]
          }
        },
        {
          "output_type": "display_data",
          "data": {
            "application/javascript": [
              "window[\"5d6045b2-641d-11ea-acba-0242ac1c0002\"] = google.colab.output.getActiveOutputArea();\n",
              "//# sourceURL=js_4eb356965c"
            ],
            "text/plain": [
              "<IPython.core.display.Javascript object>"
            ]
          },
          "metadata": {
            "tags": [
              "id3_content_2",
              "outputarea_id3"
            ]
          }
        },
        {
          "output_type": "display_data",
          "data": {
            "application/javascript": [
              "window[\"5d608036-641d-11ea-acba-0242ac1c0002\"] = document.querySelector(\"#id3_content_2\");\n",
              "//# sourceURL=js_d384ab522a"
            ],
            "text/plain": [
              "<IPython.core.display.Javascript object>"
            ]
          },
          "metadata": {
            "tags": [
              "id3_content_2",
              "outputarea_id3"
            ]
          }
        },
        {
          "output_type": "display_data",
          "data": {
            "application/javascript": [
              "window[\"5d60cdde-641d-11ea-acba-0242ac1c0002\"] = google.colab.output.setActiveOutputArea(window[\"5d608036-641d-11ea-acba-0242ac1c0002\"]);\n",
              "//# sourceURL=js_8f59b566d9"
            ],
            "text/plain": [
              "<IPython.core.display.Javascript object>"
            ]
          },
          "metadata": {
            "tags": [
              "id3_content_2",
              "outputarea_id3"
            ]
          }
        },
        {
          "output_type": "display_data",
          "data": {
            "application/javascript": [
              "window[\"5d8cdb7c-641d-11ea-acba-0242ac1c0002\"] = google.colab.output.setActiveOutputArea(window[\"5d6045b2-641d-11ea-acba-0242ac1c0002\"]);\n",
              "//# sourceURL=js_ee7947f9b5"
            ],
            "text/plain": [
              "<IPython.core.display.Javascript object>"
            ]
          },
          "metadata": {
            "tags": [
              "id3_content_2",
              "outputarea_id3"
            ]
          }
        },
        {
          "output_type": "display_data",
          "data": {
            "application/javascript": [
              "window[\"5d8e691a-641d-11ea-acba-0242ac1c0002\"] = google.colab.output.getActiveOutputArea();\n",
              "//# sourceURL=js_c8dc335c77"
            ],
            "text/plain": [
              "<IPython.core.display.Javascript object>"
            ]
          },
          "metadata": {
            "tags": [
              "id3_content_3",
              "outputarea_id3"
            ]
          }
        },
        {
          "output_type": "display_data",
          "data": {
            "application/javascript": [
              "window[\"5d8eacc2-641d-11ea-acba-0242ac1c0002\"] = document.querySelector(\"#id3_content_3\");\n",
              "//# sourceURL=js_d540e94c28"
            ],
            "text/plain": [
              "<IPython.core.display.Javascript object>"
            ]
          },
          "metadata": {
            "tags": [
              "id3_content_3",
              "outputarea_id3"
            ]
          }
        },
        {
          "output_type": "display_data",
          "data": {
            "application/javascript": [
              "window[\"5d8efdee-641d-11ea-acba-0242ac1c0002\"] = google.colab.output.setActiveOutputArea(window[\"5d8eacc2-641d-11ea-acba-0242ac1c0002\"]);\n",
              "//# sourceURL=js_c48b71b72a"
            ],
            "text/plain": [
              "<IPython.core.display.Javascript object>"
            ]
          },
          "metadata": {
            "tags": [
              "id3_content_3",
              "outputarea_id3"
            ]
          }
        },
        {
          "output_type": "display_data",
          "data": {
            "application/javascript": [
              "window[\"5dce8144-641d-11ea-acba-0242ac1c0002\"] = google.colab.output.setActiveOutputArea(window[\"5d8e691a-641d-11ea-acba-0242ac1c0002\"]);\n",
              "//# sourceURL=js_cbb281d2b8"
            ],
            "text/plain": [
              "<IPython.core.display.Javascript object>"
            ]
          },
          "metadata": {
            "tags": [
              "id3_content_3",
              "outputarea_id3"
            ]
          }
        },
        {
          "output_type": "display_data",
          "data": {
            "application/javascript": [
              "window[\"5ef301b2-641d-11ea-acba-0242ac1c0002\"] = google.colab.output.getActiveOutputArea();\n",
              "//# sourceURL=js_08a38ca649"
            ],
            "text/plain": [
              "<IPython.core.display.Javascript object>"
            ]
          },
          "metadata": {
            "tags": [
              "id3_content_0",
              "outputarea_id3"
            ]
          }
        },
        {
          "output_type": "display_data",
          "data": {
            "application/javascript": [
              "window[\"5ef36cb0-641d-11ea-acba-0242ac1c0002\"] = document.querySelector(\"#id3_content_0\");\n",
              "//# sourceURL=js_083b4834f4"
            ],
            "text/plain": [
              "<IPython.core.display.Javascript object>"
            ]
          },
          "metadata": {
            "tags": [
              "id3_content_0",
              "outputarea_id3"
            ]
          }
        },
        {
          "output_type": "display_data",
          "data": {
            "application/javascript": [
              "window[\"5ef3d484-641d-11ea-acba-0242ac1c0002\"] = google.colab.output.setActiveOutputArea(window[\"5ef36cb0-641d-11ea-acba-0242ac1c0002\"]);\n",
              "//# sourceURL=js_9b67120d17"
            ],
            "text/plain": [
              "<IPython.core.display.Javascript object>"
            ]
          },
          "metadata": {
            "tags": [
              "id3_content_0",
              "outputarea_id3"
            ]
          }
        },
        {
          "output_type": "display_data",
          "data": {
            "application/javascript": [
              "window[\"5ef4ed10-641d-11ea-acba-0242ac1c0002\"] = google.colab.output.setActiveOutputArea(window[\"5ef301b2-641d-11ea-acba-0242ac1c0002\"]);\n",
              "//# sourceURL=js_97cf8165f6"
            ],
            "text/plain": [
              "<IPython.core.display.Javascript object>"
            ]
          },
          "metadata": {
            "tags": [
              "id3_content_0",
              "outputarea_id3"
            ]
          }
        },
        {
          "output_type": "display_data",
          "data": {
            "application/javascript": [
              "window[\"5ef65c36-641d-11ea-acba-0242ac1c0002\"] = google.colab.output.getActiveOutputArea();\n",
              "//# sourceURL=js_bbe3e9f298"
            ],
            "text/plain": [
              "<IPython.core.display.Javascript object>"
            ]
          },
          "metadata": {
            "tags": [
              "id3_content_1",
              "outputarea_id3"
            ]
          }
        },
        {
          "output_type": "display_data",
          "data": {
            "application/javascript": [
              "window[\"5ef71964-641d-11ea-acba-0242ac1c0002\"] = document.querySelector(\"#id3_content_1\");\n",
              "//# sourceURL=js_c286f2757a"
            ],
            "text/plain": [
              "<IPython.core.display.Javascript object>"
            ]
          },
          "metadata": {
            "tags": [
              "id3_content_1",
              "outputarea_id3"
            ]
          }
        },
        {
          "output_type": "display_data",
          "data": {
            "application/javascript": [
              "window[\"5ef759e2-641d-11ea-acba-0242ac1c0002\"] = google.colab.output.setActiveOutputArea(window[\"5ef71964-641d-11ea-acba-0242ac1c0002\"]);\n",
              "//# sourceURL=js_b61b56de1f"
            ],
            "text/plain": [
              "<IPython.core.display.Javascript object>"
            ]
          },
          "metadata": {
            "tags": [
              "id3_content_1",
              "outputarea_id3"
            ]
          }
        },
        {
          "output_type": "display_data",
          "data": {
            "application/javascript": [
              "window[\"5ef8ae64-641d-11ea-acba-0242ac1c0002\"] = google.colab.output.setActiveOutputArea(window[\"5ef65c36-641d-11ea-acba-0242ac1c0002\"]);\n",
              "//# sourceURL=js_9231bb2ae2"
            ],
            "text/plain": [
              "<IPython.core.display.Javascript object>"
            ]
          },
          "metadata": {
            "tags": [
              "id3_content_1",
              "outputarea_id3"
            ]
          }
        },
        {
          "output_type": "display_data",
          "data": {
            "application/javascript": [
              "window[\"5efaa066-641d-11ea-acba-0242ac1c0002\"] = google.colab.output.getActiveOutputArea();\n",
              "//# sourceURL=js_624dfef5cc"
            ],
            "text/plain": [
              "<IPython.core.display.Javascript object>"
            ]
          },
          "metadata": {
            "tags": [
              "id3_content_2",
              "outputarea_id3"
            ]
          }
        },
        {
          "output_type": "display_data",
          "data": {
            "application/javascript": [
              "window[\"5efb2f4a-641d-11ea-acba-0242ac1c0002\"] = document.querySelector(\"#id3_content_2\");\n",
              "//# sourceURL=js_3536d13ee4"
            ],
            "text/plain": [
              "<IPython.core.display.Javascript object>"
            ]
          },
          "metadata": {
            "tags": [
              "id3_content_2",
              "outputarea_id3"
            ]
          }
        },
        {
          "output_type": "display_data",
          "data": {
            "application/javascript": [
              "window[\"5efb7bc6-641d-11ea-acba-0242ac1c0002\"] = google.colab.output.setActiveOutputArea(window[\"5efb2f4a-641d-11ea-acba-0242ac1c0002\"]);\n",
              "//# sourceURL=js_f3017c1ef2"
            ],
            "text/plain": [
              "<IPython.core.display.Javascript object>"
            ]
          },
          "metadata": {
            "tags": [
              "id3_content_2",
              "outputarea_id3"
            ]
          }
        },
        {
          "output_type": "display_data",
          "data": {
            "application/javascript": [
              "window[\"5efcc58a-641d-11ea-acba-0242ac1c0002\"] = google.colab.output.setActiveOutputArea(window[\"5efaa066-641d-11ea-acba-0242ac1c0002\"]);\n",
              "//# sourceURL=js_d88ec25acc"
            ],
            "text/plain": [
              "<IPython.core.display.Javascript object>"
            ]
          },
          "metadata": {
            "tags": [
              "id3_content_2",
              "outputarea_id3"
            ]
          }
        },
        {
          "output_type": "display_data",
          "data": {
            "application/javascript": [
              "window[\"5efe6f2a-641d-11ea-acba-0242ac1c0002\"] = google.colab.output.getActiveOutputArea();\n",
              "//# sourceURL=js_53cffe591f"
            ],
            "text/plain": [
              "<IPython.core.display.Javascript object>"
            ]
          },
          "metadata": {
            "tags": [
              "id3_content_3",
              "outputarea_id3"
            ]
          }
        },
        {
          "output_type": "display_data",
          "data": {
            "application/javascript": [
              "window[\"5efeabf2-641d-11ea-acba-0242ac1c0002\"] = document.querySelector(\"#id3_content_3\");\n",
              "//# sourceURL=js_6edfc902da"
            ],
            "text/plain": [
              "<IPython.core.display.Javascript object>"
            ]
          },
          "metadata": {
            "tags": [
              "id3_content_3",
              "outputarea_id3"
            ]
          }
        },
        {
          "output_type": "display_data",
          "data": {
            "application/javascript": [
              "window[\"5efeeef0-641d-11ea-acba-0242ac1c0002\"] = google.colab.output.setActiveOutputArea(window[\"5efeabf2-641d-11ea-acba-0242ac1c0002\"]);\n",
              "//# sourceURL=js_aa83988b86"
            ],
            "text/plain": [
              "<IPython.core.display.Javascript object>"
            ]
          },
          "metadata": {
            "tags": [
              "id3_content_3",
              "outputarea_id3"
            ]
          }
        },
        {
          "output_type": "display_data",
          "data": {
            "application/javascript": [
              "window[\"5effe29c-641d-11ea-acba-0242ac1c0002\"] = google.colab.output.setActiveOutputArea(window[\"5efe6f2a-641d-11ea-acba-0242ac1c0002\"]);\n",
              "//# sourceURL=js_da833dbfda"
            ],
            "text/plain": [
              "<IPython.core.display.Javascript object>"
            ]
          },
          "metadata": {
            "tags": [
              "id3_content_3",
              "outputarea_id3"
            ]
          }
        },
        {
          "output_type": "display_data",
          "data": {
            "application/javascript": [
              "window[\"7c63338e-641d-11ea-acba-0242ac1c0002\"] = google.colab.output.getActiveOutputArea();\n",
              "//# sourceURL=js_298f7189cd"
            ],
            "text/plain": [
              "<IPython.core.display.Javascript object>"
            ]
          },
          "metadata": {
            "tags": [
              "id3_content_0",
              "outputarea_id3"
            ]
          }
        },
        {
          "output_type": "display_data",
          "data": {
            "application/javascript": [
              "window[\"7c638578-641d-11ea-acba-0242ac1c0002\"] = document.querySelector(\"#id3_content_0\");\n",
              "//# sourceURL=js_43ed1b316f"
            ],
            "text/plain": [
              "<IPython.core.display.Javascript object>"
            ]
          },
          "metadata": {
            "tags": [
              "id3_content_0",
              "outputarea_id3"
            ]
          }
        },
        {
          "output_type": "display_data",
          "data": {
            "application/javascript": [
              "window[\"7c63ce84-641d-11ea-acba-0242ac1c0002\"] = google.colab.output.setActiveOutputArea(window[\"7c638578-641d-11ea-acba-0242ac1c0002\"]);\n",
              "//# sourceURL=js_4b7d396862"
            ],
            "text/plain": [
              "<IPython.core.display.Javascript object>"
            ]
          },
          "metadata": {
            "tags": [
              "id3_content_0",
              "outputarea_id3"
            ]
          }
        },
        {
          "output_type": "display_data",
          "data": {
            "application/javascript": [
              "window[\"7c64ace6-641d-11ea-acba-0242ac1c0002\"] = google.colab.output.setActiveOutputArea(window[\"7c63338e-641d-11ea-acba-0242ac1c0002\"]);\n",
              "//# sourceURL=js_81cac86764"
            ],
            "text/plain": [
              "<IPython.core.display.Javascript object>"
            ]
          },
          "metadata": {
            "tags": [
              "id3_content_0",
              "outputarea_id3"
            ]
          }
        },
        {
          "output_type": "display_data",
          "data": {
            "application/javascript": [
              "window[\"7c66b806-641d-11ea-acba-0242ac1c0002\"] = google.colab.output.getActiveOutputArea();\n",
              "//# sourceURL=js_29cbde2372"
            ],
            "text/plain": [
              "<IPython.core.display.Javascript object>"
            ]
          },
          "metadata": {
            "tags": [
              "id3_content_1",
              "outputarea_id3"
            ]
          }
        },
        {
          "output_type": "display_data",
          "data": {
            "application/javascript": [
              "window[\"7c66f794-641d-11ea-acba-0242ac1c0002\"] = document.querySelector(\"#id3_content_1\");\n",
              "//# sourceURL=js_ea60c5b707"
            ],
            "text/plain": [
              "<IPython.core.display.Javascript object>"
            ]
          },
          "metadata": {
            "tags": [
              "id3_content_1",
              "outputarea_id3"
            ]
          }
        },
        {
          "output_type": "display_data",
          "data": {
            "application/javascript": [
              "window[\"7c67347a-641d-11ea-acba-0242ac1c0002\"] = google.colab.output.setActiveOutputArea(window[\"7c66f794-641d-11ea-acba-0242ac1c0002\"]);\n",
              "//# sourceURL=js_038b02f77f"
            ],
            "text/plain": [
              "<IPython.core.display.Javascript object>"
            ]
          },
          "metadata": {
            "tags": [
              "id3_content_1",
              "outputarea_id3"
            ]
          }
        },
        {
          "output_type": "display_data",
          "data": {
            "application/javascript": [
              "window[\"7c68201a-641d-11ea-acba-0242ac1c0002\"] = google.colab.output.setActiveOutputArea(window[\"7c66b806-641d-11ea-acba-0242ac1c0002\"]);\n",
              "//# sourceURL=js_f507b0ef18"
            ],
            "text/plain": [
              "<IPython.core.display.Javascript object>"
            ]
          },
          "metadata": {
            "tags": [
              "id3_content_1",
              "outputarea_id3"
            ]
          }
        },
        {
          "output_type": "display_data",
          "data": {
            "application/javascript": [
              "window[\"7c6a8f6c-641d-11ea-acba-0242ac1c0002\"] = google.colab.output.getActiveOutputArea();\n",
              "//# sourceURL=js_a4fb1fcb9d"
            ],
            "text/plain": [
              "<IPython.core.display.Javascript object>"
            ]
          },
          "metadata": {
            "tags": [
              "id3_content_2",
              "outputarea_id3"
            ]
          }
        },
        {
          "output_type": "display_data",
          "data": {
            "application/javascript": [
              "window[\"7c6adba2-641d-11ea-acba-0242ac1c0002\"] = document.querySelector(\"#id3_content_2\");\n",
              "//# sourceURL=js_3c836626fe"
            ],
            "text/plain": [
              "<IPython.core.display.Javascript object>"
            ]
          },
          "metadata": {
            "tags": [
              "id3_content_2",
              "outputarea_id3"
            ]
          }
        },
        {
          "output_type": "display_data",
          "data": {
            "application/javascript": [
              "window[\"7c6b235a-641d-11ea-acba-0242ac1c0002\"] = google.colab.output.setActiveOutputArea(window[\"7c6adba2-641d-11ea-acba-0242ac1c0002\"]);\n",
              "//# sourceURL=js_3a181d81d1"
            ],
            "text/plain": [
              "<IPython.core.display.Javascript object>"
            ]
          },
          "metadata": {
            "tags": [
              "id3_content_2",
              "outputarea_id3"
            ]
          }
        },
        {
          "output_type": "display_data",
          "data": {
            "application/javascript": [
              "window[\"7c6c25ac-641d-11ea-acba-0242ac1c0002\"] = google.colab.output.setActiveOutputArea(window[\"7c6a8f6c-641d-11ea-acba-0242ac1c0002\"]);\n",
              "//# sourceURL=js_2da10f1ab1"
            ],
            "text/plain": [
              "<IPython.core.display.Javascript object>"
            ]
          },
          "metadata": {
            "tags": [
              "id3_content_2",
              "outputarea_id3"
            ]
          }
        },
        {
          "output_type": "display_data",
          "data": {
            "application/javascript": [
              "window[\"7c6da4b8-641d-11ea-acba-0242ac1c0002\"] = google.colab.output.getActiveOutputArea();\n",
              "//# sourceURL=js_7f15c80def"
            ],
            "text/plain": [
              "<IPython.core.display.Javascript object>"
            ]
          },
          "metadata": {
            "tags": [
              "id3_content_3",
              "outputarea_id3"
            ]
          }
        },
        {
          "output_type": "display_data",
          "data": {
            "application/javascript": [
              "window[\"7c6df2ec-641d-11ea-acba-0242ac1c0002\"] = document.querySelector(\"#id3_content_3\");\n",
              "//# sourceURL=js_bd2c9ccbd4"
            ],
            "text/plain": [
              "<IPython.core.display.Javascript object>"
            ]
          },
          "metadata": {
            "tags": [
              "id3_content_3",
              "outputarea_id3"
            ]
          }
        },
        {
          "output_type": "display_data",
          "data": {
            "application/javascript": [
              "window[\"7c6e3eaa-641d-11ea-acba-0242ac1c0002\"] = google.colab.output.setActiveOutputArea(window[\"7c6df2ec-641d-11ea-acba-0242ac1c0002\"]);\n",
              "//# sourceURL=js_65080fddfb"
            ],
            "text/plain": [
              "<IPython.core.display.Javascript object>"
            ]
          },
          "metadata": {
            "tags": [
              "id3_content_3",
              "outputarea_id3"
            ]
          }
        },
        {
          "output_type": "display_data",
          "data": {
            "application/javascript": [
              "window[\"7c6f4d5e-641d-11ea-acba-0242ac1c0002\"] = google.colab.output.setActiveOutputArea(window[\"7c6da4b8-641d-11ea-acba-0242ac1c0002\"]);\n",
              "//# sourceURL=js_14ebb8c2e3"
            ],
            "text/plain": [
              "<IPython.core.display.Javascript object>"
            ]
          },
          "metadata": {
            "tags": [
              "id3_content_3",
              "outputarea_id3"
            ]
          }
        },
        {
          "output_type": "display_data",
          "data": {
            "application/javascript": [
              "window[\"7c7f70e4-641d-11ea-acba-0242ac1c0002\"] = google.colab.output.getActiveOutputArea();\n",
              "//# sourceURL=js_674461c630"
            ],
            "text/plain": [
              "<IPython.core.display.Javascript object>"
            ]
          },
          "metadata": {
            "tags": [
              "id3_content_0",
              "outputarea_id3"
            ]
          }
        },
        {
          "output_type": "display_data",
          "data": {
            "application/javascript": [
              "window[\"7c7fb0ea-641d-11ea-acba-0242ac1c0002\"] = document.querySelector(\"#id3_content_0\");\n",
              "//# sourceURL=js_9c6d0f8e84"
            ],
            "text/plain": [
              "<IPython.core.display.Javascript object>"
            ]
          },
          "metadata": {
            "tags": [
              "id3_content_0",
              "outputarea_id3"
            ]
          }
        },
        {
          "output_type": "display_data",
          "data": {
            "application/javascript": [
              "window[\"7c7fed30-641d-11ea-acba-0242ac1c0002\"] = google.colab.output.setActiveOutputArea(window[\"7c7fb0ea-641d-11ea-acba-0242ac1c0002\"]);\n",
              "//# sourceURL=js_38b41f0606"
            ],
            "text/plain": [
              "<IPython.core.display.Javascript object>"
            ]
          },
          "metadata": {
            "tags": [
              "id3_content_0",
              "outputarea_id3"
            ]
          }
        },
        {
          "output_type": "display_data",
          "data": {
            "application/javascript": [
              "window[\"7caf9f26-641d-11ea-acba-0242ac1c0002\"] = google.colab.output.setActiveOutputArea(window[\"7c7f70e4-641d-11ea-acba-0242ac1c0002\"]);\n",
              "//# sourceURL=js_9ca078de49"
            ],
            "text/plain": [
              "<IPython.core.display.Javascript object>"
            ]
          },
          "metadata": {
            "tags": [
              "id3_content_0",
              "outputarea_id3"
            ]
          }
        },
        {
          "output_type": "display_data",
          "data": {
            "application/javascript": [
              "window[\"7cb09408-641d-11ea-acba-0242ac1c0002\"] = google.colab.output.getActiveOutputArea();\n",
              "//# sourceURL=js_84ba8ffe28"
            ],
            "text/plain": [
              "<IPython.core.display.Javascript object>"
            ]
          },
          "metadata": {
            "tags": [
              "id3_content_1",
              "outputarea_id3"
            ]
          }
        },
        {
          "output_type": "display_data",
          "data": {
            "application/javascript": [
              "window[\"7cb0c9f0-641d-11ea-acba-0242ac1c0002\"] = document.querySelector(\"#id3_content_1\");\n",
              "//# sourceURL=js_2ab9d0c4de"
            ],
            "text/plain": [
              "<IPython.core.display.Javascript object>"
            ]
          },
          "metadata": {
            "tags": [
              "id3_content_1",
              "outputarea_id3"
            ]
          }
        },
        {
          "output_type": "display_data",
          "data": {
            "application/javascript": [
              "window[\"7cb0ff74-641d-11ea-acba-0242ac1c0002\"] = google.colab.output.setActiveOutputArea(window[\"7cb0c9f0-641d-11ea-acba-0242ac1c0002\"]);\n",
              "//# sourceURL=js_1560a16b54"
            ],
            "text/plain": [
              "<IPython.core.display.Javascript object>"
            ]
          },
          "metadata": {
            "tags": [
              "id3_content_1",
              "outputarea_id3"
            ]
          }
        },
        {
          "output_type": "display_data",
          "data": {
            "application/javascript": [
              "window[\"7cef1142-641d-11ea-acba-0242ac1c0002\"] = google.colab.output.setActiveOutputArea(window[\"7cb09408-641d-11ea-acba-0242ac1c0002\"]);\n",
              "//# sourceURL=js_4bcd1d5e77"
            ],
            "text/plain": [
              "<IPython.core.display.Javascript object>"
            ]
          },
          "metadata": {
            "tags": [
              "id3_content_1",
              "outputarea_id3"
            ]
          }
        },
        {
          "output_type": "display_data",
          "data": {
            "application/javascript": [
              "window[\"7ceffeea-641d-11ea-acba-0242ac1c0002\"] = google.colab.output.getActiveOutputArea();\n",
              "//# sourceURL=js_1197858719"
            ],
            "text/plain": [
              "<IPython.core.display.Javascript object>"
            ]
          },
          "metadata": {
            "tags": [
              "id3_content_2",
              "outputarea_id3"
            ]
          }
        },
        {
          "output_type": "display_data",
          "data": {
            "application/javascript": [
              "window[\"7cf0325c-641d-11ea-acba-0242ac1c0002\"] = document.querySelector(\"#id3_content_2\");\n",
              "//# sourceURL=js_bb89a0d60c"
            ],
            "text/plain": [
              "<IPython.core.display.Javascript object>"
            ]
          },
          "metadata": {
            "tags": [
              "id3_content_2",
              "outputarea_id3"
            ]
          }
        },
        {
          "output_type": "display_data",
          "data": {
            "application/javascript": [
              "window[\"7cf062cc-641d-11ea-acba-0242ac1c0002\"] = google.colab.output.setActiveOutputArea(window[\"7cf0325c-641d-11ea-acba-0242ac1c0002\"]);\n",
              "//# sourceURL=js_f13968702c"
            ],
            "text/plain": [
              "<IPython.core.display.Javascript object>"
            ]
          },
          "metadata": {
            "tags": [
              "id3_content_2",
              "outputarea_id3"
            ]
          }
        },
        {
          "output_type": "display_data",
          "data": {
            "application/javascript": [
              "window[\"7d1dfb4c-641d-11ea-acba-0242ac1c0002\"] = google.colab.output.setActiveOutputArea(window[\"7ceffeea-641d-11ea-acba-0242ac1c0002\"]);\n",
              "//# sourceURL=js_f1aff76509"
            ],
            "text/plain": [
              "<IPython.core.display.Javascript object>"
            ]
          },
          "metadata": {
            "tags": [
              "id3_content_2",
              "outputarea_id3"
            ]
          }
        },
        {
          "output_type": "display_data",
          "data": {
            "application/javascript": [
              "window[\"7d1ee728-641d-11ea-acba-0242ac1c0002\"] = google.colab.output.getActiveOutputArea();\n",
              "//# sourceURL=js_c8c3e88a7d"
            ],
            "text/plain": [
              "<IPython.core.display.Javascript object>"
            ]
          },
          "metadata": {
            "tags": [
              "id3_content_3",
              "outputarea_id3"
            ]
          }
        },
        {
          "output_type": "display_data",
          "data": {
            "application/javascript": [
              "window[\"7d1f1996-641d-11ea-acba-0242ac1c0002\"] = document.querySelector(\"#id3_content_3\");\n",
              "//# sourceURL=js_4423f3d0a3"
            ],
            "text/plain": [
              "<IPython.core.display.Javascript object>"
            ]
          },
          "metadata": {
            "tags": [
              "id3_content_3",
              "outputarea_id3"
            ]
          }
        },
        {
          "output_type": "display_data",
          "data": {
            "application/javascript": [
              "window[\"7d1f50c8-641d-11ea-acba-0242ac1c0002\"] = google.colab.output.setActiveOutputArea(window[\"7d1f1996-641d-11ea-acba-0242ac1c0002\"]);\n",
              "//# sourceURL=js_5bd4d50a86"
            ],
            "text/plain": [
              "<IPython.core.display.Javascript object>"
            ]
          },
          "metadata": {
            "tags": [
              "id3_content_3",
              "outputarea_id3"
            ]
          }
        },
        {
          "output_type": "display_data",
          "data": {
            "application/javascript": [
              "window[\"7d5f0f7e-641d-11ea-acba-0242ac1c0002\"] = google.colab.output.setActiveOutputArea(window[\"7d1ee728-641d-11ea-acba-0242ac1c0002\"]);\n",
              "//# sourceURL=js_67eae254c4"
            ],
            "text/plain": [
              "<IPython.core.display.Javascript object>"
            ]
          },
          "metadata": {
            "tags": [
              "id3_content_3",
              "outputarea_id3"
            ]
          }
        },
        {
          "output_type": "display_data",
          "data": {
            "application/javascript": [
              "window[\"7d606202-641d-11ea-acba-0242ac1c0002\"] = google.colab.output.getActiveOutputArea();\n",
              "//# sourceURL=js_2c3b767844"
            ],
            "text/plain": [
              "<IPython.core.display.Javascript object>"
            ]
          },
          "metadata": {
            "tags": [
              "id3_content_0",
              "outputarea_id3"
            ]
          }
        },
        {
          "output_type": "display_data",
          "data": {
            "application/javascript": [
              "window[\"7d609808-641d-11ea-acba-0242ac1c0002\"] = document.querySelector(\"#id3_content_0\");\n",
              "//# sourceURL=js_129ebf1ade"
            ],
            "text/plain": [
              "<IPython.core.display.Javascript object>"
            ]
          },
          "metadata": {
            "tags": [
              "id3_content_0",
              "outputarea_id3"
            ]
          }
        },
        {
          "output_type": "display_data",
          "data": {
            "application/javascript": [
              "window[\"7d60cbde-641d-11ea-acba-0242ac1c0002\"] = google.colab.output.setActiveOutputArea(window[\"7d609808-641d-11ea-acba-0242ac1c0002\"]);\n",
              "//# sourceURL=js_db3784fee4"
            ],
            "text/plain": [
              "<IPython.core.display.Javascript object>"
            ]
          },
          "metadata": {
            "tags": [
              "id3_content_0",
              "outputarea_id3"
            ]
          }
        },
        {
          "output_type": "display_data",
          "data": {
            "application/javascript": [
              "window[\"7d618600-641d-11ea-acba-0242ac1c0002\"] = google.colab.output.setActiveOutputArea(window[\"7d606202-641d-11ea-acba-0242ac1c0002\"]);\n",
              "//# sourceURL=js_bc844fb0e2"
            ],
            "text/plain": [
              "<IPython.core.display.Javascript object>"
            ]
          },
          "metadata": {
            "tags": [
              "id3_content_0",
              "outputarea_id3"
            ]
          }
        },
        {
          "output_type": "display_data",
          "data": {
            "application/javascript": [
              "window[\"7d62774a-641d-11ea-acba-0242ac1c0002\"] = google.colab.output.getActiveOutputArea();\n",
              "//# sourceURL=js_d6c7658b42"
            ],
            "text/plain": [
              "<IPython.core.display.Javascript object>"
            ]
          },
          "metadata": {
            "tags": [
              "id3_content_1",
              "outputarea_id3"
            ]
          }
        },
        {
          "output_type": "display_data",
          "data": {
            "application/javascript": [
              "window[\"7d62aa80-641d-11ea-acba-0242ac1c0002\"] = document.querySelector(\"#id3_content_1\");\n",
              "//# sourceURL=js_d86ba92064"
            ],
            "text/plain": [
              "<IPython.core.display.Javascript object>"
            ]
          },
          "metadata": {
            "tags": [
              "id3_content_1",
              "outputarea_id3"
            ]
          }
        },
        {
          "output_type": "display_data",
          "data": {
            "application/javascript": [
              "window[\"7d62deba-641d-11ea-acba-0242ac1c0002\"] = google.colab.output.setActiveOutputArea(window[\"7d62aa80-641d-11ea-acba-0242ac1c0002\"]);\n",
              "//# sourceURL=js_8bb6aa5b60"
            ],
            "text/plain": [
              "<IPython.core.display.Javascript object>"
            ]
          },
          "metadata": {
            "tags": [
              "id3_content_1",
              "outputarea_id3"
            ]
          }
        },
        {
          "output_type": "display_data",
          "data": {
            "application/javascript": [
              "window[\"7d6390c6-641d-11ea-acba-0242ac1c0002\"] = google.colab.output.setActiveOutputArea(window[\"7d62774a-641d-11ea-acba-0242ac1c0002\"]);\n",
              "//# sourceURL=js_f8fadc1c6e"
            ],
            "text/plain": [
              "<IPython.core.display.Javascript object>"
            ]
          },
          "metadata": {
            "tags": [
              "id3_content_1",
              "outputarea_id3"
            ]
          }
        },
        {
          "output_type": "display_data",
          "data": {
            "application/javascript": [
              "window[\"7d64815c-641d-11ea-acba-0242ac1c0002\"] = google.colab.output.getActiveOutputArea();\n",
              "//# sourceURL=js_d4a7083c78"
            ],
            "text/plain": [
              "<IPython.core.display.Javascript object>"
            ]
          },
          "metadata": {
            "tags": [
              "id3_content_2",
              "outputarea_id3"
            ]
          }
        },
        {
          "output_type": "display_data",
          "data": {
            "application/javascript": [
              "window[\"7d64b622-641d-11ea-acba-0242ac1c0002\"] = document.querySelector(\"#id3_content_2\");\n",
              "//# sourceURL=js_cde8e2eee9"
            ],
            "text/plain": [
              "<IPython.core.display.Javascript object>"
            ]
          },
          "metadata": {
            "tags": [
              "id3_content_2",
              "outputarea_id3"
            ]
          }
        },
        {
          "output_type": "display_data",
          "data": {
            "application/javascript": [
              "window[\"7d64e98a-641d-11ea-acba-0242ac1c0002\"] = google.colab.output.setActiveOutputArea(window[\"7d64b622-641d-11ea-acba-0242ac1c0002\"]);\n",
              "//# sourceURL=js_47f0afeb4d"
            ],
            "text/plain": [
              "<IPython.core.display.Javascript object>"
            ]
          },
          "metadata": {
            "tags": [
              "id3_content_2",
              "outputarea_id3"
            ]
          }
        },
        {
          "output_type": "display_data",
          "data": {
            "application/javascript": [
              "window[\"7d65a3c0-641d-11ea-acba-0242ac1c0002\"] = google.colab.output.setActiveOutputArea(window[\"7d64815c-641d-11ea-acba-0242ac1c0002\"]);\n",
              "//# sourceURL=js_234af10f4a"
            ],
            "text/plain": [
              "<IPython.core.display.Javascript object>"
            ]
          },
          "metadata": {
            "tags": [
              "id3_content_2",
              "outputarea_id3"
            ]
          }
        },
        {
          "output_type": "display_data",
          "data": {
            "application/javascript": [
              "window[\"7d6696ea-641d-11ea-acba-0242ac1c0002\"] = google.colab.output.getActiveOutputArea();\n",
              "//# sourceURL=js_134af77d94"
            ],
            "text/plain": [
              "<IPython.core.display.Javascript object>"
            ]
          },
          "metadata": {
            "tags": [
              "id3_content_3",
              "outputarea_id3"
            ]
          }
        },
        {
          "output_type": "display_data",
          "data": {
            "application/javascript": [
              "window[\"7d66ca52-641d-11ea-acba-0242ac1c0002\"] = document.querySelector(\"#id3_content_3\");\n",
              "//# sourceURL=js_33c9261a33"
            ],
            "text/plain": [
              "<IPython.core.display.Javascript object>"
            ]
          },
          "metadata": {
            "tags": [
              "id3_content_3",
              "outputarea_id3"
            ]
          }
        },
        {
          "output_type": "display_data",
          "data": {
            "application/javascript": [
              "window[\"7d66ff5e-641d-11ea-acba-0242ac1c0002\"] = google.colab.output.setActiveOutputArea(window[\"7d66ca52-641d-11ea-acba-0242ac1c0002\"]);\n",
              "//# sourceURL=js_ba98575620"
            ],
            "text/plain": [
              "<IPython.core.display.Javascript object>"
            ]
          },
          "metadata": {
            "tags": [
              "id3_content_3",
              "outputarea_id3"
            ]
          }
        },
        {
          "output_type": "display_data",
          "data": {
            "application/javascript": [
              "window[\"7d67b746-641d-11ea-acba-0242ac1c0002\"] = google.colab.output.setActiveOutputArea(window[\"7d6696ea-641d-11ea-acba-0242ac1c0002\"]);\n",
              "//# sourceURL=js_dcc5785c0d"
            ],
            "text/plain": [
              "<IPython.core.display.Javascript object>"
            ]
          },
          "metadata": {
            "tags": [
              "id3_content_3",
              "outputarea_id3"
            ]
          }
        },
        {
          "output_type": "display_data",
          "data": {
            "application/javascript": [
              "window[\"7d7d1096-641d-11ea-acba-0242ac1c0002\"] = google.colab.output.getActiveOutputArea();\n",
              "//# sourceURL=js_ee00487f27"
            ],
            "text/plain": [
              "<IPython.core.display.Javascript object>"
            ]
          },
          "metadata": {
            "tags": [
              "id3_content_0",
              "outputarea_id3"
            ]
          }
        },
        {
          "output_type": "display_data",
          "data": {
            "application/javascript": [
              "window[\"7d7d5952-641d-11ea-acba-0242ac1c0002\"] = document.querySelector(\"#id3_content_0\");\n",
              "//# sourceURL=js_54ff8ca88b"
            ],
            "text/plain": [
              "<IPython.core.display.Javascript object>"
            ]
          },
          "metadata": {
            "tags": [
              "id3_content_0",
              "outputarea_id3"
            ]
          }
        },
        {
          "output_type": "display_data",
          "data": {
            "application/javascript": [
              "window[\"7d7d99b2-641d-11ea-acba-0242ac1c0002\"] = google.colab.output.setActiveOutputArea(window[\"7d7d5952-641d-11ea-acba-0242ac1c0002\"]);\n",
              "//# sourceURL=js_e0161fc0ab"
            ],
            "text/plain": [
              "<IPython.core.display.Javascript object>"
            ]
          },
          "metadata": {
            "tags": [
              "id3_content_0",
              "outputarea_id3"
            ]
          }
        },
        {
          "output_type": "display_data",
          "data": {
            "application/javascript": [
              "window[\"7dae668c-641d-11ea-acba-0242ac1c0002\"] = google.colab.output.setActiveOutputArea(window[\"7d7d1096-641d-11ea-acba-0242ac1c0002\"]);\n",
              "//# sourceURL=js_dfbdb99a45"
            ],
            "text/plain": [
              "<IPython.core.display.Javascript object>"
            ]
          },
          "metadata": {
            "tags": [
              "id3_content_0",
              "outputarea_id3"
            ]
          }
        },
        {
          "output_type": "display_data",
          "data": {
            "application/javascript": [
              "window[\"7daf53b2-641d-11ea-acba-0242ac1c0002\"] = google.colab.output.getActiveOutputArea();\n",
              "//# sourceURL=js_5a1380d684"
            ],
            "text/plain": [
              "<IPython.core.display.Javascript object>"
            ]
          },
          "metadata": {
            "tags": [
              "id3_content_1",
              "outputarea_id3"
            ]
          }
        },
        {
          "output_type": "display_data",
          "data": {
            "application/javascript": [
              "window[\"7daf8846-641d-11ea-acba-0242ac1c0002\"] = document.querySelector(\"#id3_content_1\");\n",
              "//# sourceURL=js_25a53f7ba8"
            ],
            "text/plain": [
              "<IPython.core.display.Javascript object>"
            ]
          },
          "metadata": {
            "tags": [
              "id3_content_1",
              "outputarea_id3"
            ]
          }
        },
        {
          "output_type": "display_data",
          "data": {
            "application/javascript": [
              "window[\"7dafbd2a-641d-11ea-acba-0242ac1c0002\"] = google.colab.output.setActiveOutputArea(window[\"7daf8846-641d-11ea-acba-0242ac1c0002\"]);\n",
              "//# sourceURL=js_9ca6a7d151"
            ],
            "text/plain": [
              "<IPython.core.display.Javascript object>"
            ]
          },
          "metadata": {
            "tags": [
              "id3_content_1",
              "outputarea_id3"
            ]
          }
        },
        {
          "output_type": "display_data",
          "data": {
            "application/javascript": [
              "window[\"7def57c8-641d-11ea-acba-0242ac1c0002\"] = google.colab.output.setActiveOutputArea(window[\"7daf53b2-641d-11ea-acba-0242ac1c0002\"]);\n",
              "//# sourceURL=js_a704f198b9"
            ],
            "text/plain": [
              "<IPython.core.display.Javascript object>"
            ]
          },
          "metadata": {
            "tags": [
              "id3_content_1",
              "outputarea_id3"
            ]
          }
        },
        {
          "output_type": "display_data",
          "data": {
            "application/javascript": [
              "window[\"7df03ed6-641d-11ea-acba-0242ac1c0002\"] = google.colab.output.getActiveOutputArea();\n",
              "//# sourceURL=js_042d5fde76"
            ],
            "text/plain": [
              "<IPython.core.display.Javascript object>"
            ]
          },
          "metadata": {
            "tags": [
              "id3_content_2",
              "outputarea_id3"
            ]
          }
        },
        {
          "output_type": "display_data",
          "data": {
            "application/javascript": [
              "window[\"7df075ae-641d-11ea-acba-0242ac1c0002\"] = document.querySelector(\"#id3_content_2\");\n",
              "//# sourceURL=js_d4066ea6a3"
            ],
            "text/plain": [
              "<IPython.core.display.Javascript object>"
            ]
          },
          "metadata": {
            "tags": [
              "id3_content_2",
              "outputarea_id3"
            ]
          }
        },
        {
          "output_type": "display_data",
          "data": {
            "application/javascript": [
              "window[\"7df0a754-641d-11ea-acba-0242ac1c0002\"] = google.colab.output.setActiveOutputArea(window[\"7df075ae-641d-11ea-acba-0242ac1c0002\"]);\n",
              "//# sourceURL=js_c2726691a9"
            ],
            "text/plain": [
              "<IPython.core.display.Javascript object>"
            ]
          },
          "metadata": {
            "tags": [
              "id3_content_2",
              "outputarea_id3"
            ]
          }
        },
        {
          "output_type": "display_data",
          "data": {
            "application/javascript": [
              "window[\"7e1c1862-641d-11ea-acba-0242ac1c0002\"] = google.colab.output.setActiveOutputArea(window[\"7df03ed6-641d-11ea-acba-0242ac1c0002\"]);\n",
              "//# sourceURL=js_f24166e8dd"
            ],
            "text/plain": [
              "<IPython.core.display.Javascript object>"
            ]
          },
          "metadata": {
            "tags": [
              "id3_content_2",
              "outputarea_id3"
            ]
          }
        },
        {
          "output_type": "display_data",
          "data": {
            "application/javascript": [
              "window[\"7e1d0042-641d-11ea-acba-0242ac1c0002\"] = google.colab.output.getActiveOutputArea();\n",
              "//# sourceURL=js_eac3053472"
            ],
            "text/plain": [
              "<IPython.core.display.Javascript object>"
            ]
          },
          "metadata": {
            "tags": [
              "id3_content_3",
              "outputarea_id3"
            ]
          }
        },
        {
          "output_type": "display_data",
          "data": {
            "application/javascript": [
              "window[\"7e1d35a8-641d-11ea-acba-0242ac1c0002\"] = document.querySelector(\"#id3_content_3\");\n",
              "//# sourceURL=js_4b7b55a30d"
            ],
            "text/plain": [
              "<IPython.core.display.Javascript object>"
            ]
          },
          "metadata": {
            "tags": [
              "id3_content_3",
              "outputarea_id3"
            ]
          }
        },
        {
          "output_type": "display_data",
          "data": {
            "application/javascript": [
              "window[\"7e1d6af0-641d-11ea-acba-0242ac1c0002\"] = google.colab.output.setActiveOutputArea(window[\"7e1d35a8-641d-11ea-acba-0242ac1c0002\"]);\n",
              "//# sourceURL=js_e5fa8cc3af"
            ],
            "text/plain": [
              "<IPython.core.display.Javascript object>"
            ]
          },
          "metadata": {
            "tags": [
              "id3_content_3",
              "outputarea_id3"
            ]
          }
        },
        {
          "output_type": "display_data",
          "data": {
            "application/javascript": [
              "window[\"7e5e3918-641d-11ea-acba-0242ac1c0002\"] = google.colab.output.setActiveOutputArea(window[\"7e1d0042-641d-11ea-acba-0242ac1c0002\"]);\n",
              "//# sourceURL=js_b5f62debf3"
            ],
            "text/plain": [
              "<IPython.core.display.Javascript object>"
            ]
          },
          "metadata": {
            "tags": [
              "id3_content_3",
              "outputarea_id3"
            ]
          }
        },
        {
          "output_type": "display_data",
          "data": {
            "application/javascript": [
              "window[\"8e0d2c98-641d-11ea-acba-0242ac1c0002\"] = google.colab.output.getActiveOutputArea();\n",
              "//# sourceURL=js_6418e38066"
            ],
            "text/plain": [
              "<IPython.core.display.Javascript object>"
            ]
          },
          "metadata": {
            "tags": [
              "id3_content_0",
              "outputarea_id3"
            ]
          }
        },
        {
          "output_type": "display_data",
          "data": {
            "application/javascript": [
              "window[\"8e0db1ea-641d-11ea-acba-0242ac1c0002\"] = document.querySelector(\"#id3_content_0\");\n",
              "//# sourceURL=js_a32b85bef7"
            ],
            "text/plain": [
              "<IPython.core.display.Javascript object>"
            ]
          },
          "metadata": {
            "tags": [
              "id3_content_0",
              "outputarea_id3"
            ]
          }
        },
        {
          "output_type": "display_data",
          "data": {
            "application/javascript": [
              "window[\"8e0e02b2-641d-11ea-acba-0242ac1c0002\"] = google.colab.output.setActiveOutputArea(window[\"8e0db1ea-641d-11ea-acba-0242ac1c0002\"]);\n",
              "//# sourceURL=js_908000ac3e"
            ],
            "text/plain": [
              "<IPython.core.display.Javascript object>"
            ]
          },
          "metadata": {
            "tags": [
              "id3_content_0",
              "outputarea_id3"
            ]
          }
        },
        {
          "output_type": "display_data",
          "data": {
            "application/javascript": [
              "window[\"8e105d8c-641d-11ea-acba-0242ac1c0002\"] = google.colab.output.setActiveOutputArea(window[\"8e0d2c98-641d-11ea-acba-0242ac1c0002\"]);\n",
              "//# sourceURL=js_aa0381e16f"
            ],
            "text/plain": [
              "<IPython.core.display.Javascript object>"
            ]
          },
          "metadata": {
            "tags": [
              "id3_content_0",
              "outputarea_id3"
            ]
          }
        },
        {
          "output_type": "display_data",
          "data": {
            "application/javascript": [
              "window[\"8e12e836-641d-11ea-acba-0242ac1c0002\"] = google.colab.output.getActiveOutputArea();\n",
              "//# sourceURL=js_f7a243f21a"
            ],
            "text/plain": [
              "<IPython.core.display.Javascript object>"
            ]
          },
          "metadata": {
            "tags": [
              "id3_content_1",
              "outputarea_id3"
            ]
          }
        },
        {
          "output_type": "display_data",
          "data": {
            "application/javascript": [
              "window[\"8e13a050-641d-11ea-acba-0242ac1c0002\"] = document.querySelector(\"#id3_content_1\");\n",
              "//# sourceURL=js_002183ccb7"
            ],
            "text/plain": [
              "<IPython.core.display.Javascript object>"
            ]
          },
          "metadata": {
            "tags": [
              "id3_content_1",
              "outputarea_id3"
            ]
          }
        },
        {
          "output_type": "display_data",
          "data": {
            "application/javascript": [
              "window[\"8e13d926-641d-11ea-acba-0242ac1c0002\"] = google.colab.output.setActiveOutputArea(window[\"8e13a050-641d-11ea-acba-0242ac1c0002\"]);\n",
              "//# sourceURL=js_39bf6c0bf3"
            ],
            "text/plain": [
              "<IPython.core.display.Javascript object>"
            ]
          },
          "metadata": {
            "tags": [
              "id3_content_1",
              "outputarea_id3"
            ]
          }
        },
        {
          "output_type": "display_data",
          "data": {
            "application/javascript": [
              "window[\"8e155198-641d-11ea-acba-0242ac1c0002\"] = google.colab.output.setActiveOutputArea(window[\"8e12e836-641d-11ea-acba-0242ac1c0002\"]);\n",
              "//# sourceURL=js_b2a49a2101"
            ],
            "text/plain": [
              "<IPython.core.display.Javascript object>"
            ]
          },
          "metadata": {
            "tags": [
              "id3_content_1",
              "outputarea_id3"
            ]
          }
        },
        {
          "output_type": "display_data",
          "data": {
            "application/javascript": [
              "window[\"8e16e9e0-641d-11ea-acba-0242ac1c0002\"] = google.colab.output.getActiveOutputArea();\n",
              "//# sourceURL=js_1ffcff848a"
            ],
            "text/plain": [
              "<IPython.core.display.Javascript object>"
            ]
          },
          "metadata": {
            "tags": [
              "id3_content_2",
              "outputarea_id3"
            ]
          }
        },
        {
          "output_type": "display_data",
          "data": {
            "application/javascript": [
              "window[\"8e1736a2-641d-11ea-acba-0242ac1c0002\"] = document.querySelector(\"#id3_content_2\");\n",
              "//# sourceURL=js_9a339a2382"
            ],
            "text/plain": [
              "<IPython.core.display.Javascript object>"
            ]
          },
          "metadata": {
            "tags": [
              "id3_content_2",
              "outputarea_id3"
            ]
          }
        },
        {
          "output_type": "display_data",
          "data": {
            "application/javascript": [
              "window[\"8e17c540-641d-11ea-acba-0242ac1c0002\"] = google.colab.output.setActiveOutputArea(window[\"8e1736a2-641d-11ea-acba-0242ac1c0002\"]);\n",
              "//# sourceURL=js_de390facea"
            ],
            "text/plain": [
              "<IPython.core.display.Javascript object>"
            ]
          },
          "metadata": {
            "tags": [
              "id3_content_2",
              "outputarea_id3"
            ]
          }
        },
        {
          "output_type": "display_data",
          "data": {
            "application/javascript": [
              "window[\"8e193b00-641d-11ea-acba-0242ac1c0002\"] = google.colab.output.setActiveOutputArea(window[\"8e16e9e0-641d-11ea-acba-0242ac1c0002\"]);\n",
              "//# sourceURL=js_497e073f0d"
            ],
            "text/plain": [
              "<IPython.core.display.Javascript object>"
            ]
          },
          "metadata": {
            "tags": [
              "id3_content_2",
              "outputarea_id3"
            ]
          }
        },
        {
          "output_type": "display_data",
          "data": {
            "application/javascript": [
              "window[\"8e1b1678-641d-11ea-acba-0242ac1c0002\"] = google.colab.output.getActiveOutputArea();\n",
              "//# sourceURL=js_277435fc9f"
            ],
            "text/plain": [
              "<IPython.core.display.Javascript object>"
            ]
          },
          "metadata": {
            "tags": [
              "id3_content_3",
              "outputarea_id3"
            ]
          }
        },
        {
          "output_type": "display_data",
          "data": {
            "application/javascript": [
              "window[\"8e1b6204-641d-11ea-acba-0242ac1c0002\"] = document.querySelector(\"#id3_content_3\");\n",
              "//# sourceURL=js_2ab65aa37b"
            ],
            "text/plain": [
              "<IPython.core.display.Javascript object>"
            ]
          },
          "metadata": {
            "tags": [
              "id3_content_3",
              "outputarea_id3"
            ]
          }
        },
        {
          "output_type": "display_data",
          "data": {
            "application/javascript": [
              "window[\"8e1c682a-641d-11ea-acba-0242ac1c0002\"] = google.colab.output.setActiveOutputArea(window[\"8e1b6204-641d-11ea-acba-0242ac1c0002\"]);\n",
              "//# sourceURL=js_10c93dc59a"
            ],
            "text/plain": [
              "<IPython.core.display.Javascript object>"
            ]
          },
          "metadata": {
            "tags": [
              "id3_content_3",
              "outputarea_id3"
            ]
          }
        },
        {
          "output_type": "display_data",
          "data": {
            "application/javascript": [
              "window[\"8e1d0a14-641d-11ea-acba-0242ac1c0002\"] = google.colab.output.setActiveOutputArea(window[\"8e1b1678-641d-11ea-acba-0242ac1c0002\"]);\n",
              "//# sourceURL=js_4a9647ac16"
            ],
            "text/plain": [
              "<IPython.core.display.Javascript object>"
            ]
          },
          "metadata": {
            "tags": [
              "id3_content_3",
              "outputarea_id3"
            ]
          }
        },
        {
          "output_type": "display_data",
          "data": {
            "application/javascript": [
              "window[\"8e25e1ac-641d-11ea-acba-0242ac1c0002\"] = google.colab.output.getActiveOutputArea();\n",
              "//# sourceURL=js_8f7d049f23"
            ],
            "text/plain": [
              "<IPython.core.display.Javascript object>"
            ]
          },
          "metadata": {
            "tags": [
              "id3_content_0",
              "outputarea_id3"
            ]
          }
        },
        {
          "output_type": "display_data",
          "data": {
            "application/javascript": [
              "window[\"8e26202c-641d-11ea-acba-0242ac1c0002\"] = document.querySelector(\"#id3_content_0\");\n",
              "//# sourceURL=js_7db8ac0e93"
            ],
            "text/plain": [
              "<IPython.core.display.Javascript object>"
            ]
          },
          "metadata": {
            "tags": [
              "id3_content_0",
              "outputarea_id3"
            ]
          }
        },
        {
          "output_type": "display_data",
          "data": {
            "application/javascript": [
              "window[\"8e26624e-641d-11ea-acba-0242ac1c0002\"] = google.colab.output.setActiveOutputArea(window[\"8e26202c-641d-11ea-acba-0242ac1c0002\"]);\n",
              "//# sourceURL=js_726ad13066"
            ],
            "text/plain": [
              "<IPython.core.display.Javascript object>"
            ]
          },
          "metadata": {
            "tags": [
              "id3_content_0",
              "outputarea_id3"
            ]
          }
        },
        {
          "output_type": "display_data",
          "data": {
            "application/javascript": [
              "window[\"8e581bf4-641d-11ea-acba-0242ac1c0002\"] = google.colab.output.setActiveOutputArea(window[\"8e25e1ac-641d-11ea-acba-0242ac1c0002\"]);\n",
              "//# sourceURL=js_ed93dd67af"
            ],
            "text/plain": [
              "<IPython.core.display.Javascript object>"
            ]
          },
          "metadata": {
            "tags": [
              "id3_content_0",
              "outputarea_id3"
            ]
          }
        },
        {
          "output_type": "display_data",
          "data": {
            "application/javascript": [
              "window[\"8e593fca-641d-11ea-acba-0242ac1c0002\"] = google.colab.output.getActiveOutputArea();\n",
              "//# sourceURL=js_c431dd4dab"
            ],
            "text/plain": [
              "<IPython.core.display.Javascript object>"
            ]
          },
          "metadata": {
            "tags": [
              "id3_content_1",
              "outputarea_id3"
            ]
          }
        },
        {
          "output_type": "display_data",
          "data": {
            "application/javascript": [
              "window[\"8e597684-641d-11ea-acba-0242ac1c0002\"] = document.querySelector(\"#id3_content_1\");\n",
              "//# sourceURL=js_fa1f4dd2ce"
            ],
            "text/plain": [
              "<IPython.core.display.Javascript object>"
            ]
          },
          "metadata": {
            "tags": [
              "id3_content_1",
              "outputarea_id3"
            ]
          }
        },
        {
          "output_type": "display_data",
          "data": {
            "application/javascript": [
              "window[\"8e59ac4e-641d-11ea-acba-0242ac1c0002\"] = google.colab.output.setActiveOutputArea(window[\"8e597684-641d-11ea-acba-0242ac1c0002\"]);\n",
              "//# sourceURL=js_147261b266"
            ],
            "text/plain": [
              "<IPython.core.display.Javascript object>"
            ]
          },
          "metadata": {
            "tags": [
              "id3_content_1",
              "outputarea_id3"
            ]
          }
        },
        {
          "output_type": "display_data",
          "data": {
            "application/javascript": [
              "window[\"8e9bb044-641d-11ea-acba-0242ac1c0002\"] = google.colab.output.setActiveOutputArea(window[\"8e593fca-641d-11ea-acba-0242ac1c0002\"]);\n",
              "//# sourceURL=js_7145355e3b"
            ],
            "text/plain": [
              "<IPython.core.display.Javascript object>"
            ]
          },
          "metadata": {
            "tags": [
              "id3_content_1",
              "outputarea_id3"
            ]
          }
        },
        {
          "output_type": "display_data",
          "data": {
            "application/javascript": [
              "window[\"8e9ca15c-641d-11ea-acba-0242ac1c0002\"] = google.colab.output.getActiveOutputArea();\n",
              "//# sourceURL=js_87385b84d8"
            ],
            "text/plain": [
              "<IPython.core.display.Javascript object>"
            ]
          },
          "metadata": {
            "tags": [
              "id3_content_2",
              "outputarea_id3"
            ]
          }
        },
        {
          "output_type": "display_data",
          "data": {
            "application/javascript": [
              "window[\"8e9cd9c4-641d-11ea-acba-0242ac1c0002\"] = document.querySelector(\"#id3_content_2\");\n",
              "//# sourceURL=js_78f782bcca"
            ],
            "text/plain": [
              "<IPython.core.display.Javascript object>"
            ]
          },
          "metadata": {
            "tags": [
              "id3_content_2",
              "outputarea_id3"
            ]
          }
        },
        {
          "output_type": "display_data",
          "data": {
            "application/javascript": [
              "window[\"8e9d0bce-641d-11ea-acba-0242ac1c0002\"] = google.colab.output.setActiveOutputArea(window[\"8e9cd9c4-641d-11ea-acba-0242ac1c0002\"]);\n",
              "//# sourceURL=js_d47f59cafe"
            ],
            "text/plain": [
              "<IPython.core.display.Javascript object>"
            ]
          },
          "metadata": {
            "tags": [
              "id3_content_2",
              "outputarea_id3"
            ]
          }
        },
        {
          "output_type": "display_data",
          "data": {
            "application/javascript": [
              "window[\"8ec8f856-641d-11ea-acba-0242ac1c0002\"] = google.colab.output.setActiveOutputArea(window[\"8e9ca15c-641d-11ea-acba-0242ac1c0002\"]);\n",
              "//# sourceURL=js_3dc6348852"
            ],
            "text/plain": [
              "<IPython.core.display.Javascript object>"
            ]
          },
          "metadata": {
            "tags": [
              "id3_content_2",
              "outputarea_id3"
            ]
          }
        },
        {
          "output_type": "display_data",
          "data": {
            "application/javascript": [
              "window[\"8ec9e1ee-641d-11ea-acba-0242ac1c0002\"] = google.colab.output.getActiveOutputArea();\n",
              "//# sourceURL=js_c0637a1acf"
            ],
            "text/plain": [
              "<IPython.core.display.Javascript object>"
            ]
          },
          "metadata": {
            "tags": [
              "id3_content_3",
              "outputarea_id3"
            ]
          }
        },
        {
          "output_type": "display_data",
          "data": {
            "application/javascript": [
              "window[\"8eca1efc-641d-11ea-acba-0242ac1c0002\"] = document.querySelector(\"#id3_content_3\");\n",
              "//# sourceURL=js_2e7f19cde8"
            ],
            "text/plain": [
              "<IPython.core.display.Javascript object>"
            ]
          },
          "metadata": {
            "tags": [
              "id3_content_3",
              "outputarea_id3"
            ]
          }
        },
        {
          "output_type": "display_data",
          "data": {
            "application/javascript": [
              "window[\"8eca5638-641d-11ea-acba-0242ac1c0002\"] = google.colab.output.setActiveOutputArea(window[\"8eca1efc-641d-11ea-acba-0242ac1c0002\"]);\n",
              "//# sourceURL=js_bff73243cc"
            ],
            "text/plain": [
              "<IPython.core.display.Javascript object>"
            ]
          },
          "metadata": {
            "tags": [
              "id3_content_3",
              "outputarea_id3"
            ]
          }
        },
        {
          "output_type": "display_data",
          "data": {
            "application/javascript": [
              "window[\"8f0af4c2-641d-11ea-acba-0242ac1c0002\"] = google.colab.output.setActiveOutputArea(window[\"8ec9e1ee-641d-11ea-acba-0242ac1c0002\"]);\n",
              "//# sourceURL=js_ea03cc66e5"
            ],
            "text/plain": [
              "<IPython.core.display.Javascript object>"
            ]
          },
          "metadata": {
            "tags": [
              "id3_content_3",
              "outputarea_id3"
            ]
          }
        },
        {
          "output_type": "display_data",
          "data": {
            "application/javascript": [
              "window[\"8f0c3e36-641d-11ea-acba-0242ac1c0002\"] = google.colab.output.getActiveOutputArea();\n",
              "//# sourceURL=js_d06c36c9e1"
            ],
            "text/plain": [
              "<IPython.core.display.Javascript object>"
            ]
          },
          "metadata": {
            "tags": [
              "id3_content_0",
              "outputarea_id3"
            ]
          }
        },
        {
          "output_type": "display_data",
          "data": {
            "application/javascript": [
              "window[\"8f0c75e0-641d-11ea-acba-0242ac1c0002\"] = document.querySelector(\"#id3_content_0\");\n",
              "//# sourceURL=js_b355e4fe9d"
            ],
            "text/plain": [
              "<IPython.core.display.Javascript object>"
            ]
          },
          "metadata": {
            "tags": [
              "id3_content_0",
              "outputarea_id3"
            ]
          }
        },
        {
          "output_type": "display_data",
          "data": {
            "application/javascript": [
              "window[\"8f0cab5a-641d-11ea-acba-0242ac1c0002\"] = google.colab.output.setActiveOutputArea(window[\"8f0c75e0-641d-11ea-acba-0242ac1c0002\"]);\n",
              "//# sourceURL=js_718cb0d4e8"
            ],
            "text/plain": [
              "<IPython.core.display.Javascript object>"
            ]
          },
          "metadata": {
            "tags": [
              "id3_content_0",
              "outputarea_id3"
            ]
          }
        },
        {
          "output_type": "display_data",
          "data": {
            "application/javascript": [
              "window[\"8f0d5eb0-641d-11ea-acba-0242ac1c0002\"] = google.colab.output.setActiveOutputArea(window[\"8f0c3e36-641d-11ea-acba-0242ac1c0002\"]);\n",
              "//# sourceURL=js_6a158407f1"
            ],
            "text/plain": [
              "<IPython.core.display.Javascript object>"
            ]
          },
          "metadata": {
            "tags": [
              "id3_content_0",
              "outputarea_id3"
            ]
          }
        },
        {
          "output_type": "display_data",
          "data": {
            "application/javascript": [
              "window[\"8f0e6814-641d-11ea-acba-0242ac1c0002\"] = google.colab.output.getActiveOutputArea();\n",
              "//# sourceURL=js_a8f16727a3"
            ],
            "text/plain": [
              "<IPython.core.display.Javascript object>"
            ]
          },
          "metadata": {
            "tags": [
              "id3_content_1",
              "outputarea_id3"
            ]
          }
        },
        {
          "output_type": "display_data",
          "data": {
            "application/javascript": [
              "window[\"8f0e9da2-641d-11ea-acba-0242ac1c0002\"] = document.querySelector(\"#id3_content_1\");\n",
              "//# sourceURL=js_d14a2a967b"
            ],
            "text/plain": [
              "<IPython.core.display.Javascript object>"
            ]
          },
          "metadata": {
            "tags": [
              "id3_content_1",
              "outputarea_id3"
            ]
          }
        },
        {
          "output_type": "display_data",
          "data": {
            "application/javascript": [
              "window[\"8f0ed3e4-641d-11ea-acba-0242ac1c0002\"] = google.colab.output.setActiveOutputArea(window[\"8f0e9da2-641d-11ea-acba-0242ac1c0002\"]);\n",
              "//# sourceURL=js_abeb8c09f1"
            ],
            "text/plain": [
              "<IPython.core.display.Javascript object>"
            ]
          },
          "metadata": {
            "tags": [
              "id3_content_1",
              "outputarea_id3"
            ]
          }
        },
        {
          "output_type": "display_data",
          "data": {
            "application/javascript": [
              "window[\"8f0f9e8c-641d-11ea-acba-0242ac1c0002\"] = google.colab.output.setActiveOutputArea(window[\"8f0e6814-641d-11ea-acba-0242ac1c0002\"]);\n",
              "//# sourceURL=js_4dcd73774a"
            ],
            "text/plain": [
              "<IPython.core.display.Javascript object>"
            ]
          },
          "metadata": {
            "tags": [
              "id3_content_1",
              "outputarea_id3"
            ]
          }
        },
        {
          "output_type": "display_data",
          "data": {
            "application/javascript": [
              "window[\"8f109c10-641d-11ea-acba-0242ac1c0002\"] = google.colab.output.getActiveOutputArea();\n",
              "//# sourceURL=js_d078535a19"
            ],
            "text/plain": [
              "<IPython.core.display.Javascript object>"
            ]
          },
          "metadata": {
            "tags": [
              "id3_content_2",
              "outputarea_id3"
            ]
          }
        },
        {
          "output_type": "display_data",
          "data": {
            "application/javascript": [
              "window[\"8f10d5a4-641d-11ea-acba-0242ac1c0002\"] = document.querySelector(\"#id3_content_2\");\n",
              "//# sourceURL=js_d570cb83a3"
            ],
            "text/plain": [
              "<IPython.core.display.Javascript object>"
            ]
          },
          "metadata": {
            "tags": [
              "id3_content_2",
              "outputarea_id3"
            ]
          }
        },
        {
          "output_type": "display_data",
          "data": {
            "application/javascript": [
              "window[\"8f110bc8-641d-11ea-acba-0242ac1c0002\"] = google.colab.output.setActiveOutputArea(window[\"8f10d5a4-641d-11ea-acba-0242ac1c0002\"]);\n",
              "//# sourceURL=js_133447f71f"
            ],
            "text/plain": [
              "<IPython.core.display.Javascript object>"
            ]
          },
          "metadata": {
            "tags": [
              "id3_content_2",
              "outputarea_id3"
            ]
          }
        },
        {
          "output_type": "display_data",
          "data": {
            "application/javascript": [
              "window[\"8f11b91a-641d-11ea-acba-0242ac1c0002\"] = google.colab.output.setActiveOutputArea(window[\"8f109c10-641d-11ea-acba-0242ac1c0002\"]);\n",
              "//# sourceURL=js_7d6eb8a516"
            ],
            "text/plain": [
              "<IPython.core.display.Javascript object>"
            ]
          },
          "metadata": {
            "tags": [
              "id3_content_2",
              "outputarea_id3"
            ]
          }
        },
        {
          "output_type": "display_data",
          "data": {
            "application/javascript": [
              "window[\"8f12b18a-641d-11ea-acba-0242ac1c0002\"] = google.colab.output.getActiveOutputArea();\n",
              "//# sourceURL=js_56ec64fe02"
            ],
            "text/plain": [
              "<IPython.core.display.Javascript object>"
            ]
          },
          "metadata": {
            "tags": [
              "id3_content_3",
              "outputarea_id3"
            ]
          }
        },
        {
          "output_type": "display_data",
          "data": {
            "application/javascript": [
              "window[\"8f12e79a-641d-11ea-acba-0242ac1c0002\"] = document.querySelector(\"#id3_content_3\");\n",
              "//# sourceURL=js_94029cd02e"
            ],
            "text/plain": [
              "<IPython.core.display.Javascript object>"
            ]
          },
          "metadata": {
            "tags": [
              "id3_content_3",
              "outputarea_id3"
            ]
          }
        },
        {
          "output_type": "display_data",
          "data": {
            "application/javascript": [
              "window[\"8f131ba2-641d-11ea-acba-0242ac1c0002\"] = google.colab.output.setActiveOutputArea(window[\"8f12e79a-641d-11ea-acba-0242ac1c0002\"]);\n",
              "//# sourceURL=js_938efd26ec"
            ],
            "text/plain": [
              "<IPython.core.display.Javascript object>"
            ]
          },
          "metadata": {
            "tags": [
              "id3_content_3",
              "outputarea_id3"
            ]
          }
        },
        {
          "output_type": "display_data",
          "data": {
            "application/javascript": [
              "window[\"8f13dc9a-641d-11ea-acba-0242ac1c0002\"] = google.colab.output.setActiveOutputArea(window[\"8f12b18a-641d-11ea-acba-0242ac1c0002\"]);\n",
              "//# sourceURL=js_5622c00ae6"
            ],
            "text/plain": [
              "<IPython.core.display.Javascript object>"
            ]
          },
          "metadata": {
            "tags": [
              "id3_content_3",
              "outputarea_id3"
            ]
          }
        },
        {
          "output_type": "display_data",
          "data": {
            "application/javascript": [
              "window[\"923cb39c-641d-11ea-acba-0242ac1c0002\"] = google.colab.output.getActiveOutputArea();\n",
              "//# sourceURL=js_7c168d2168"
            ],
            "text/plain": [
              "<IPython.core.display.Javascript object>"
            ]
          },
          "metadata": {
            "tags": [
              "id3_content_0",
              "outputarea_id3"
            ]
          }
        },
        {
          "output_type": "display_data",
          "data": {
            "application/javascript": [
              "window[\"923cf424-641d-11ea-acba-0242ac1c0002\"] = document.querySelector(\"#id3_content_0\");\n",
              "//# sourceURL=js_1c149492ae"
            ],
            "text/plain": [
              "<IPython.core.display.Javascript object>"
            ]
          },
          "metadata": {
            "tags": [
              "id3_content_0",
              "outputarea_id3"
            ]
          }
        },
        {
          "output_type": "display_data",
          "data": {
            "application/javascript": [
              "window[\"923d3678-641d-11ea-acba-0242ac1c0002\"] = google.colab.output.setActiveOutputArea(window[\"923cf424-641d-11ea-acba-0242ac1c0002\"]);\n",
              "//# sourceURL=js_68fd70606e"
            ],
            "text/plain": [
              "<IPython.core.display.Javascript object>"
            ]
          },
          "metadata": {
            "tags": [
              "id3_content_0",
              "outputarea_id3"
            ]
          }
        },
        {
          "output_type": "display_data",
          "data": {
            "application/javascript": [
              "window[\"923e0594-641d-11ea-acba-0242ac1c0002\"] = google.colab.output.setActiveOutputArea(window[\"923cb39c-641d-11ea-acba-0242ac1c0002\"]);\n",
              "//# sourceURL=js_817cd91617"
            ],
            "text/plain": [
              "<IPython.core.display.Javascript object>"
            ]
          },
          "metadata": {
            "tags": [
              "id3_content_0",
              "outputarea_id3"
            ]
          }
        },
        {
          "output_type": "display_data",
          "data": {
            "application/javascript": [
              "window[\"923f550c-641d-11ea-acba-0242ac1c0002\"] = google.colab.output.getActiveOutputArea();\n",
              "//# sourceURL=js_fbd17bcbd0"
            ],
            "text/plain": [
              "<IPython.core.display.Javascript object>"
            ]
          },
          "metadata": {
            "tags": [
              "id3_content_1",
              "outputarea_id3"
            ]
          }
        },
        {
          "output_type": "display_data",
          "data": {
            "application/javascript": [
              "window[\"923fa250-641d-11ea-acba-0242ac1c0002\"] = document.querySelector(\"#id3_content_1\");\n",
              "//# sourceURL=js_4b4a4fcba1"
            ],
            "text/plain": [
              "<IPython.core.display.Javascript object>"
            ]
          },
          "metadata": {
            "tags": [
              "id3_content_1",
              "outputarea_id3"
            ]
          }
        },
        {
          "output_type": "display_data",
          "data": {
            "application/javascript": [
              "window[\"923fe95e-641d-11ea-acba-0242ac1c0002\"] = google.colab.output.setActiveOutputArea(window[\"923fa250-641d-11ea-acba-0242ac1c0002\"]);\n",
              "//# sourceURL=js_d10055eceb"
            ],
            "text/plain": [
              "<IPython.core.display.Javascript object>"
            ]
          },
          "metadata": {
            "tags": [
              "id3_content_1",
              "outputarea_id3"
            ]
          }
        },
        {
          "output_type": "display_data",
          "data": {
            "application/javascript": [
              "window[\"9240ef48-641d-11ea-acba-0242ac1c0002\"] = google.colab.output.setActiveOutputArea(window[\"923f550c-641d-11ea-acba-0242ac1c0002\"]);\n",
              "//# sourceURL=js_d5c181780e"
            ],
            "text/plain": [
              "<IPython.core.display.Javascript object>"
            ]
          },
          "metadata": {
            "tags": [
              "id3_content_1",
              "outputarea_id3"
            ]
          }
        },
        {
          "output_type": "display_data",
          "data": {
            "application/javascript": [
              "window[\"92424294-641d-11ea-acba-0242ac1c0002\"] = google.colab.output.getActiveOutputArea();\n",
              "//# sourceURL=js_4af34c6742"
            ],
            "text/plain": [
              "<IPython.core.display.Javascript object>"
            ]
          },
          "metadata": {
            "tags": [
              "id3_content_2",
              "outputarea_id3"
            ]
          }
        },
        {
          "output_type": "display_data",
          "data": {
            "application/javascript": [
              "window[\"92428ba0-641d-11ea-acba-0242ac1c0002\"] = document.querySelector(\"#id3_content_2\");\n",
              "//# sourceURL=js_a921159d76"
            ],
            "text/plain": [
              "<IPython.core.display.Javascript object>"
            ]
          },
          "metadata": {
            "tags": [
              "id3_content_2",
              "outputarea_id3"
            ]
          }
        },
        {
          "output_type": "display_data",
          "data": {
            "application/javascript": [
              "window[\"9242ca70-641d-11ea-acba-0242ac1c0002\"] = google.colab.output.setActiveOutputArea(window[\"92428ba0-641d-11ea-acba-0242ac1c0002\"]);\n",
              "//# sourceURL=js_55194703b2"
            ],
            "text/plain": [
              "<IPython.core.display.Javascript object>"
            ]
          },
          "metadata": {
            "tags": [
              "id3_content_2",
              "outputarea_id3"
            ]
          }
        },
        {
          "output_type": "display_data",
          "data": {
            "application/javascript": [
              "window[\"9243d83e-641d-11ea-acba-0242ac1c0002\"] = google.colab.output.setActiveOutputArea(window[\"92424294-641d-11ea-acba-0242ac1c0002\"]);\n",
              "//# sourceURL=js_a64fd7496a"
            ],
            "text/plain": [
              "<IPython.core.display.Javascript object>"
            ]
          },
          "metadata": {
            "tags": [
              "id3_content_2",
              "outputarea_id3"
            ]
          }
        },
        {
          "output_type": "display_data",
          "data": {
            "application/javascript": [
              "window[\"924521c6-641d-11ea-acba-0242ac1c0002\"] = google.colab.output.getActiveOutputArea();\n",
              "//# sourceURL=js_e9da0bae38"
            ],
            "text/plain": [
              "<IPython.core.display.Javascript object>"
            ]
          },
          "metadata": {
            "tags": [
              "id3_content_3",
              "outputarea_id3"
            ]
          }
        },
        {
          "output_type": "display_data",
          "data": {
            "application/javascript": [
              "window[\"92456488-641d-11ea-acba-0242ac1c0002\"] = document.querySelector(\"#id3_content_3\");\n",
              "//# sourceURL=js_d5ba7856b9"
            ],
            "text/plain": [
              "<IPython.core.display.Javascript object>"
            ]
          },
          "metadata": {
            "tags": [
              "id3_content_3",
              "outputarea_id3"
            ]
          }
        },
        {
          "output_type": "display_data",
          "data": {
            "application/javascript": [
              "window[\"92459e76-641d-11ea-acba-0242ac1c0002\"] = google.colab.output.setActiveOutputArea(window[\"92456488-641d-11ea-acba-0242ac1c0002\"]);\n",
              "//# sourceURL=js_c0b14a86c7"
            ],
            "text/plain": [
              "<IPython.core.display.Javascript object>"
            ]
          },
          "metadata": {
            "tags": [
              "id3_content_3",
              "outputarea_id3"
            ]
          }
        },
        {
          "output_type": "display_data",
          "data": {
            "application/javascript": [
              "window[\"9246b950-641d-11ea-acba-0242ac1c0002\"] = google.colab.output.setActiveOutputArea(window[\"924521c6-641d-11ea-acba-0242ac1c0002\"]);\n",
              "//# sourceURL=js_5240369e3a"
            ],
            "text/plain": [
              "<IPython.core.display.Javascript object>"
            ]
          },
          "metadata": {
            "tags": [
              "id3_content_3",
              "outputarea_id3"
            ]
          }
        },
        {
          "output_type": "display_data",
          "data": {
            "application/javascript": [
              "window[\"92522984-641d-11ea-acba-0242ac1c0002\"] = google.colab.output.getActiveOutputArea();\n",
              "//# sourceURL=js_a464960316"
            ],
            "text/plain": [
              "<IPython.core.display.Javascript object>"
            ]
          },
          "metadata": {
            "tags": [
              "id3_content_0",
              "outputarea_id3"
            ]
          }
        },
        {
          "output_type": "display_data",
          "data": {
            "application/javascript": [
              "window[\"92526ef8-641d-11ea-acba-0242ac1c0002\"] = document.querySelector(\"#id3_content_0\");\n",
              "//# sourceURL=js_8a3e549955"
            ],
            "text/plain": [
              "<IPython.core.display.Javascript object>"
            ]
          },
          "metadata": {
            "tags": [
              "id3_content_0",
              "outputarea_id3"
            ]
          }
        },
        {
          "output_type": "display_data",
          "data": {
            "application/javascript": [
              "window[\"9252b124-641d-11ea-acba-0242ac1c0002\"] = google.colab.output.setActiveOutputArea(window[\"92526ef8-641d-11ea-acba-0242ac1c0002\"]);\n",
              "//# sourceURL=js_7fc6f70405"
            ],
            "text/plain": [
              "<IPython.core.display.Javascript object>"
            ]
          },
          "metadata": {
            "tags": [
              "id3_content_0",
              "outputarea_id3"
            ]
          }
        },
        {
          "output_type": "display_data",
          "data": {
            "application/javascript": [
              "window[\"928309fa-641d-11ea-acba-0242ac1c0002\"] = google.colab.output.setActiveOutputArea(window[\"92522984-641d-11ea-acba-0242ac1c0002\"]);\n",
              "//# sourceURL=js_682be3c268"
            ],
            "text/plain": [
              "<IPython.core.display.Javascript object>"
            ]
          },
          "metadata": {
            "tags": [
              "id3_content_0",
              "outputarea_id3"
            ]
          }
        },
        {
          "output_type": "display_data",
          "data": {
            "application/javascript": [
              "window[\"92843ee2-641d-11ea-acba-0242ac1c0002\"] = google.colab.output.getActiveOutputArea();\n",
              "//# sourceURL=js_10c0bcb69f"
            ],
            "text/plain": [
              "<IPython.core.display.Javascript object>"
            ]
          },
          "metadata": {
            "tags": [
              "id3_content_1",
              "outputarea_id3"
            ]
          }
        },
        {
          "output_type": "display_data",
          "data": {
            "application/javascript": [
              "window[\"92847df8-641d-11ea-acba-0242ac1c0002\"] = document.querySelector(\"#id3_content_1\");\n",
              "//# sourceURL=js_097899fa15"
            ],
            "text/plain": [
              "<IPython.core.display.Javascript object>"
            ]
          },
          "metadata": {
            "tags": [
              "id3_content_1",
              "outputarea_id3"
            ]
          }
        },
        {
          "output_type": "display_data",
          "data": {
            "application/javascript": [
              "window[\"9284c7e0-641d-11ea-acba-0242ac1c0002\"] = google.colab.output.setActiveOutputArea(window[\"92847df8-641d-11ea-acba-0242ac1c0002\"]);\n",
              "//# sourceURL=js_2941ffe255"
            ],
            "text/plain": [
              "<IPython.core.display.Javascript object>"
            ]
          },
          "metadata": {
            "tags": [
              "id3_content_1",
              "outputarea_id3"
            ]
          }
        },
        {
          "output_type": "display_data",
          "data": {
            "application/javascript": [
              "window[\"92c5da50-641d-11ea-acba-0242ac1c0002\"] = google.colab.output.setActiveOutputArea(window[\"92843ee2-641d-11ea-acba-0242ac1c0002\"]);\n",
              "//# sourceURL=js_b3a8dbe63e"
            ],
            "text/plain": [
              "<IPython.core.display.Javascript object>"
            ]
          },
          "metadata": {
            "tags": [
              "id3_content_1",
              "outputarea_id3"
            ]
          }
        },
        {
          "output_type": "display_data",
          "data": {
            "application/javascript": [
              "window[\"92c6e058-641d-11ea-acba-0242ac1c0002\"] = google.colab.output.getActiveOutputArea();\n",
              "//# sourceURL=js_e04989de18"
            ],
            "text/plain": [
              "<IPython.core.display.Javascript object>"
            ]
          },
          "metadata": {
            "tags": [
              "id3_content_2",
              "outputarea_id3"
            ]
          }
        },
        {
          "output_type": "display_data",
          "data": {
            "application/javascript": [
              "window[\"92c7141a-641d-11ea-acba-0242ac1c0002\"] = document.querySelector(\"#id3_content_2\");\n",
              "//# sourceURL=js_f835a34d41"
            ],
            "text/plain": [
              "<IPython.core.display.Javascript object>"
            ]
          },
          "metadata": {
            "tags": [
              "id3_content_2",
              "outputarea_id3"
            ]
          }
        },
        {
          "output_type": "display_data",
          "data": {
            "application/javascript": [
              "window[\"92c74f70-641d-11ea-acba-0242ac1c0002\"] = google.colab.output.setActiveOutputArea(window[\"92c7141a-641d-11ea-acba-0242ac1c0002\"]);\n",
              "//# sourceURL=js_92791f17c0"
            ],
            "text/plain": [
              "<IPython.core.display.Javascript object>"
            ]
          },
          "metadata": {
            "tags": [
              "id3_content_2",
              "outputarea_id3"
            ]
          }
        },
        {
          "output_type": "display_data",
          "data": {
            "application/javascript": [
              "window[\"92f343dc-641d-11ea-acba-0242ac1c0002\"] = google.colab.output.setActiveOutputArea(window[\"92c6e058-641d-11ea-acba-0242ac1c0002\"]);\n",
              "//# sourceURL=js_7e3c9f4de9"
            ],
            "text/plain": [
              "<IPython.core.display.Javascript object>"
            ]
          },
          "metadata": {
            "tags": [
              "id3_content_2",
              "outputarea_id3"
            ]
          }
        },
        {
          "output_type": "display_data",
          "data": {
            "application/javascript": [
              "window[\"92f44a16-641d-11ea-acba-0242ac1c0002\"] = google.colab.output.getActiveOutputArea();\n",
              "//# sourceURL=js_3614a293c6"
            ],
            "text/plain": [
              "<IPython.core.display.Javascript object>"
            ]
          },
          "metadata": {
            "tags": [
              "id3_content_3",
              "outputarea_id3"
            ]
          }
        },
        {
          "output_type": "display_data",
          "data": {
            "application/javascript": [
              "window[\"92f482ba-641d-11ea-acba-0242ac1c0002\"] = document.querySelector(\"#id3_content_3\");\n",
              "//# sourceURL=js_b291f79311"
            ],
            "text/plain": [
              "<IPython.core.display.Javascript object>"
            ]
          },
          "metadata": {
            "tags": [
              "id3_content_3",
              "outputarea_id3"
            ]
          }
        },
        {
          "output_type": "display_data",
          "data": {
            "application/javascript": [
              "window[\"92f4bd8e-641d-11ea-acba-0242ac1c0002\"] = google.colab.output.setActiveOutputArea(window[\"92f482ba-641d-11ea-acba-0242ac1c0002\"]);\n",
              "//# sourceURL=js_de7d56921b"
            ],
            "text/plain": [
              "<IPython.core.display.Javascript object>"
            ]
          },
          "metadata": {
            "tags": [
              "id3_content_3",
              "outputarea_id3"
            ]
          }
        },
        {
          "output_type": "display_data",
          "data": {
            "application/javascript": [
              "window[\"93348194-641d-11ea-acba-0242ac1c0002\"] = google.colab.output.setActiveOutputArea(window[\"92f44a16-641d-11ea-acba-0242ac1c0002\"]);\n",
              "//# sourceURL=js_5693862f01"
            ],
            "text/plain": [
              "<IPython.core.display.Javascript object>"
            ]
          },
          "metadata": {
            "tags": [
              "id3_content_3",
              "outputarea_id3"
            ]
          }
        },
        {
          "output_type": "display_data",
          "data": {
            "application/javascript": [
              "window[\"aa0f1c9e-641d-11ea-acba-0242ac1c0002\"] = google.colab.output.getActiveOutputArea();\n",
              "//# sourceURL=js_bef9554913"
            ],
            "text/plain": [
              "<IPython.core.display.Javascript object>"
            ]
          },
          "metadata": {
            "tags": [
              "id3_content_0",
              "outputarea_id3"
            ]
          }
        },
        {
          "output_type": "display_data",
          "data": {
            "application/javascript": [
              "window[\"aa0f5d9e-641d-11ea-acba-0242ac1c0002\"] = document.querySelector(\"#id3_content_0\");\n",
              "//# sourceURL=js_f4418f9028"
            ],
            "text/plain": [
              "<IPython.core.display.Javascript object>"
            ]
          },
          "metadata": {
            "tags": [
              "id3_content_0",
              "outputarea_id3"
            ]
          }
        },
        {
          "output_type": "display_data",
          "data": {
            "application/javascript": [
              "window[\"aa0fa5ce-641d-11ea-acba-0242ac1c0002\"] = google.colab.output.setActiveOutputArea(window[\"aa0f5d9e-641d-11ea-acba-0242ac1c0002\"]);\n",
              "//# sourceURL=js_e57cb24e31"
            ],
            "text/plain": [
              "<IPython.core.display.Javascript object>"
            ]
          },
          "metadata": {
            "tags": [
              "id3_content_0",
              "outputarea_id3"
            ]
          }
        },
        {
          "output_type": "display_data",
          "data": {
            "application/javascript": [
              "window[\"aa10acc6-641d-11ea-acba-0242ac1c0002\"] = google.colab.output.setActiveOutputArea(window[\"aa0f1c9e-641d-11ea-acba-0242ac1c0002\"]);\n",
              "//# sourceURL=js_f19a97f6b7"
            ],
            "text/plain": [
              "<IPython.core.display.Javascript object>"
            ]
          },
          "metadata": {
            "tags": [
              "id3_content_0",
              "outputarea_id3"
            ]
          }
        },
        {
          "output_type": "display_data",
          "data": {
            "application/javascript": [
              "window[\"aa11eac8-641d-11ea-acba-0242ac1c0002\"] = google.colab.output.getActiveOutputArea();\n",
              "//# sourceURL=js_0cf63128c2"
            ],
            "text/plain": [
              "<IPython.core.display.Javascript object>"
            ]
          },
          "metadata": {
            "tags": [
              "id3_content_1",
              "outputarea_id3"
            ]
          }
        },
        {
          "output_type": "display_data",
          "data": {
            "application/javascript": [
              "window[\"aa1223bc-641d-11ea-acba-0242ac1c0002\"] = document.querySelector(\"#id3_content_1\");\n",
              "//# sourceURL=js_abc44a9c82"
            ],
            "text/plain": [
              "<IPython.core.display.Javascript object>"
            ]
          },
          "metadata": {
            "tags": [
              "id3_content_1",
              "outputarea_id3"
            ]
          }
        },
        {
          "output_type": "display_data",
          "data": {
            "application/javascript": [
              "window[\"aa1268ae-641d-11ea-acba-0242ac1c0002\"] = google.colab.output.setActiveOutputArea(window[\"aa1223bc-641d-11ea-acba-0242ac1c0002\"]);\n",
              "//# sourceURL=js_34b859c321"
            ],
            "text/plain": [
              "<IPython.core.display.Javascript object>"
            ]
          },
          "metadata": {
            "tags": [
              "id3_content_1",
              "outputarea_id3"
            ]
          }
        },
        {
          "output_type": "display_data",
          "data": {
            "application/javascript": [
              "window[\"aa13d02c-641d-11ea-acba-0242ac1c0002\"] = google.colab.output.setActiveOutputArea(window[\"aa11eac8-641d-11ea-acba-0242ac1c0002\"]);\n",
              "//# sourceURL=js_ee64640a56"
            ],
            "text/plain": [
              "<IPython.core.display.Javascript object>"
            ]
          },
          "metadata": {
            "tags": [
              "id3_content_1",
              "outputarea_id3"
            ]
          }
        },
        {
          "output_type": "display_data",
          "data": {
            "application/javascript": [
              "window[\"aa15871e-641d-11ea-acba-0242ac1c0002\"] = google.colab.output.getActiveOutputArea();\n",
              "//# sourceURL=js_20b4e1a2e4"
            ],
            "text/plain": [
              "<IPython.core.display.Javascript object>"
            ]
          },
          "metadata": {
            "tags": [
              "id3_content_2",
              "outputarea_id3"
            ]
          }
        },
        {
          "output_type": "display_data",
          "data": {
            "application/javascript": [
              "window[\"aa15c008-641d-11ea-acba-0242ac1c0002\"] = document.querySelector(\"#id3_content_2\");\n",
              "//# sourceURL=js_e7c997e9f5"
            ],
            "text/plain": [
              "<IPython.core.display.Javascript object>"
            ]
          },
          "metadata": {
            "tags": [
              "id3_content_2",
              "outputarea_id3"
            ]
          }
        },
        {
          "output_type": "display_data",
          "data": {
            "application/javascript": [
              "window[\"aa163b14-641d-11ea-acba-0242ac1c0002\"] = google.colab.output.setActiveOutputArea(window[\"aa15c008-641d-11ea-acba-0242ac1c0002\"]);\n",
              "//# sourceURL=js_05e12fe56c"
            ],
            "text/plain": [
              "<IPython.core.display.Javascript object>"
            ]
          },
          "metadata": {
            "tags": [
              "id3_content_2",
              "outputarea_id3"
            ]
          }
        },
        {
          "output_type": "display_data",
          "data": {
            "application/javascript": [
              "window[\"aa177236-641d-11ea-acba-0242ac1c0002\"] = google.colab.output.setActiveOutputArea(window[\"aa15871e-641d-11ea-acba-0242ac1c0002\"]);\n",
              "//# sourceURL=js_7ea15d3ba1"
            ],
            "text/plain": [
              "<IPython.core.display.Javascript object>"
            ]
          },
          "metadata": {
            "tags": [
              "id3_content_2",
              "outputarea_id3"
            ]
          }
        },
        {
          "output_type": "display_data",
          "data": {
            "application/javascript": [
              "window[\"aa1933aa-641d-11ea-acba-0242ac1c0002\"] = google.colab.output.getActiveOutputArea();\n",
              "//# sourceURL=js_5f3c8c427c"
            ],
            "text/plain": [
              "<IPython.core.display.Javascript object>"
            ]
          },
          "metadata": {
            "tags": [
              "id3_content_3",
              "outputarea_id3"
            ]
          }
        },
        {
          "output_type": "display_data",
          "data": {
            "application/javascript": [
              "window[\"aa197afe-641d-11ea-acba-0242ac1c0002\"] = document.querySelector(\"#id3_content_3\");\n",
              "//# sourceURL=js_67cb93c1eb"
            ],
            "text/plain": [
              "<IPython.core.display.Javascript object>"
            ]
          },
          "metadata": {
            "tags": [
              "id3_content_3",
              "outputarea_id3"
            ]
          }
        },
        {
          "output_type": "display_data",
          "data": {
            "application/javascript": [
              "window[\"aa19ef02-641d-11ea-acba-0242ac1c0002\"] = google.colab.output.setActiveOutputArea(window[\"aa197afe-641d-11ea-acba-0242ac1c0002\"]);\n",
              "//# sourceURL=js_54e79368e2"
            ],
            "text/plain": [
              "<IPython.core.display.Javascript object>"
            ]
          },
          "metadata": {
            "tags": [
              "id3_content_3",
              "outputarea_id3"
            ]
          }
        },
        {
          "output_type": "display_data",
          "data": {
            "application/javascript": [
              "window[\"aa1b2340-641d-11ea-acba-0242ac1c0002\"] = google.colab.output.setActiveOutputArea(window[\"aa1933aa-641d-11ea-acba-0242ac1c0002\"]);\n",
              "//# sourceURL=js_7bd5c306fd"
            ],
            "text/plain": [
              "<IPython.core.display.Javascript object>"
            ]
          },
          "metadata": {
            "tags": [
              "id3_content_3",
              "outputarea_id3"
            ]
          }
        },
        {
          "output_type": "display_data",
          "data": {
            "application/javascript": [
              "window[\"ab51c516-641d-11ea-acba-0242ac1c0002\"] = google.colab.output.getActiveOutputArea();\n",
              "//# sourceURL=js_6c686cc00a"
            ],
            "text/plain": [
              "<IPython.core.display.Javascript object>"
            ]
          },
          "metadata": {
            "tags": [
              "id3_content_0",
              "outputarea_id3"
            ]
          }
        },
        {
          "output_type": "display_data",
          "data": {
            "application/javascript": [
              "window[\"ab51fa72-641d-11ea-acba-0242ac1c0002\"] = document.querySelector(\"#id3_content_0\");\n",
              "//# sourceURL=js_21350d7a2d"
            ],
            "text/plain": [
              "<IPython.core.display.Javascript object>"
            ]
          },
          "metadata": {
            "tags": [
              "id3_content_0",
              "outputarea_id3"
            ]
          }
        },
        {
          "output_type": "display_data",
          "data": {
            "application/javascript": [
              "window[\"ab522024-641d-11ea-acba-0242ac1c0002\"] = google.colab.output.setActiveOutputArea(window[\"ab51fa72-641d-11ea-acba-0242ac1c0002\"]);\n",
              "//# sourceURL=js_86fe0be506"
            ],
            "text/plain": [
              "<IPython.core.display.Javascript object>"
            ]
          },
          "metadata": {
            "tags": [
              "id3_content_0",
              "outputarea_id3"
            ]
          }
        },
        {
          "output_type": "display_data",
          "data": {
            "application/javascript": [
              "window[\"ab53b2c2-641d-11ea-acba-0242ac1c0002\"] = google.colab.output.setActiveOutputArea(window[\"ab51c516-641d-11ea-acba-0242ac1c0002\"]);\n",
              "//# sourceURL=js_4ae753721b"
            ],
            "text/plain": [
              "<IPython.core.display.Javascript object>"
            ]
          },
          "metadata": {
            "tags": [
              "id3_content_0",
              "outputarea_id3"
            ]
          }
        },
        {
          "output_type": "display_data",
          "data": {
            "application/javascript": [
              "window[\"ab55573a-641d-11ea-acba-0242ac1c0002\"] = google.colab.output.getActiveOutputArea();\n",
              "//# sourceURL=js_471dcec465"
            ],
            "text/plain": [
              "<IPython.core.display.Javascript object>"
            ]
          },
          "metadata": {
            "tags": [
              "id3_content_1",
              "outputarea_id3"
            ]
          }
        },
        {
          "output_type": "display_data",
          "data": {
            "application/javascript": [
              "window[\"ab558e4e-641d-11ea-acba-0242ac1c0002\"] = document.querySelector(\"#id3_content_1\");\n",
              "//# sourceURL=js_95f07ef2ce"
            ],
            "text/plain": [
              "<IPython.core.display.Javascript object>"
            ]
          },
          "metadata": {
            "tags": [
              "id3_content_1",
              "outputarea_id3"
            ]
          }
        },
        {
          "output_type": "display_data",
          "data": {
            "application/javascript": [
              "window[\"ab55c0d0-641d-11ea-acba-0242ac1c0002\"] = google.colab.output.setActiveOutputArea(window[\"ab558e4e-641d-11ea-acba-0242ac1c0002\"]);\n",
              "//# sourceURL=js_f25387e8f1"
            ],
            "text/plain": [
              "<IPython.core.display.Javascript object>"
            ]
          },
          "metadata": {
            "tags": [
              "id3_content_1",
              "outputarea_id3"
            ]
          }
        },
        {
          "output_type": "display_data",
          "data": {
            "application/javascript": [
              "window[\"ab56dc04-641d-11ea-acba-0242ac1c0002\"] = google.colab.output.setActiveOutputArea(window[\"ab55573a-641d-11ea-acba-0242ac1c0002\"]);\n",
              "//# sourceURL=js_02c93c68af"
            ],
            "text/plain": [
              "<IPython.core.display.Javascript object>"
            ]
          },
          "metadata": {
            "tags": [
              "id3_content_1",
              "outputarea_id3"
            ]
          }
        },
        {
          "output_type": "display_data",
          "data": {
            "application/javascript": [
              "window[\"ab586254-641d-11ea-acba-0242ac1c0002\"] = google.colab.output.getActiveOutputArea();\n",
              "//# sourceURL=js_00697910f1"
            ],
            "text/plain": [
              "<IPython.core.display.Javascript object>"
            ]
          },
          "metadata": {
            "tags": [
              "id3_content_2",
              "outputarea_id3"
            ]
          }
        },
        {
          "output_type": "display_data",
          "data": {
            "application/javascript": [
              "window[\"ab58b786-641d-11ea-acba-0242ac1c0002\"] = document.querySelector(\"#id3_content_2\");\n",
              "//# sourceURL=js_afccc51174"
            ],
            "text/plain": [
              "<IPython.core.display.Javascript object>"
            ]
          },
          "metadata": {
            "tags": [
              "id3_content_2",
              "outputarea_id3"
            ]
          }
        },
        {
          "output_type": "display_data",
          "data": {
            "application/javascript": [
              "window[\"ab58fa2a-641d-11ea-acba-0242ac1c0002\"] = google.colab.output.setActiveOutputArea(window[\"ab58b786-641d-11ea-acba-0242ac1c0002\"]);\n",
              "//# sourceURL=js_0f83f2ab93"
            ],
            "text/plain": [
              "<IPython.core.display.Javascript object>"
            ]
          },
          "metadata": {
            "tags": [
              "id3_content_2",
              "outputarea_id3"
            ]
          }
        },
        {
          "output_type": "display_data",
          "data": {
            "application/javascript": [
              "window[\"ab5a0d52-641d-11ea-acba-0242ac1c0002\"] = google.colab.output.setActiveOutputArea(window[\"ab586254-641d-11ea-acba-0242ac1c0002\"]);\n",
              "//# sourceURL=js_e48fe0ad8f"
            ],
            "text/plain": [
              "<IPython.core.display.Javascript object>"
            ]
          },
          "metadata": {
            "tags": [
              "id3_content_2",
              "outputarea_id3"
            ]
          }
        },
        {
          "output_type": "display_data",
          "data": {
            "application/javascript": [
              "window[\"ab5b4d5c-641d-11ea-acba-0242ac1c0002\"] = google.colab.output.getActiveOutputArea();\n",
              "//# sourceURL=js_268c0de890"
            ],
            "text/plain": [
              "<IPython.core.display.Javascript object>"
            ]
          },
          "metadata": {
            "tags": [
              "id3_content_3",
              "outputarea_id3"
            ]
          }
        },
        {
          "output_type": "display_data",
          "data": {
            "application/javascript": [
              "window[\"ab5b91e0-641d-11ea-acba-0242ac1c0002\"] = document.querySelector(\"#id3_content_3\");\n",
              "//# sourceURL=js_a46ab37163"
            ],
            "text/plain": [
              "<IPython.core.display.Javascript object>"
            ]
          },
          "metadata": {
            "tags": [
              "id3_content_3",
              "outputarea_id3"
            ]
          }
        },
        {
          "output_type": "display_data",
          "data": {
            "application/javascript": [
              "window[\"ab5bcf7a-641d-11ea-acba-0242ac1c0002\"] = google.colab.output.setActiveOutputArea(window[\"ab5b91e0-641d-11ea-acba-0242ac1c0002\"]);\n",
              "//# sourceURL=js_cdfab0dbb8"
            ],
            "text/plain": [
              "<IPython.core.display.Javascript object>"
            ]
          },
          "metadata": {
            "tags": [
              "id3_content_3",
              "outputarea_id3"
            ]
          }
        },
        {
          "output_type": "display_data",
          "data": {
            "application/javascript": [
              "window[\"ab5cabb6-641d-11ea-acba-0242ac1c0002\"] = google.colab.output.setActiveOutputArea(window[\"ab5b4d5c-641d-11ea-acba-0242ac1c0002\"]);\n",
              "//# sourceURL=js_edd1b6b43f"
            ],
            "text/plain": [
              "<IPython.core.display.Javascript object>"
            ]
          },
          "metadata": {
            "tags": [
              "id3_content_3",
              "outputarea_id3"
            ]
          }
        },
        {
          "output_type": "display_data",
          "data": {
            "application/javascript": [
              "window[\"ab68d95e-641d-11ea-acba-0242ac1c0002\"] = google.colab.output.getActiveOutputArea();\n",
              "//# sourceURL=js_fa621ee42f"
            ],
            "text/plain": [
              "<IPython.core.display.Javascript object>"
            ]
          },
          "metadata": {
            "tags": [
              "id3_content_0",
              "outputarea_id3"
            ]
          }
        },
        {
          "output_type": "display_data",
          "data": {
            "application/javascript": [
              "window[\"ab691e46-641d-11ea-acba-0242ac1c0002\"] = document.querySelector(\"#id3_content_0\");\n",
              "//# sourceURL=js_77e545bbd4"
            ],
            "text/plain": [
              "<IPython.core.display.Javascript object>"
            ]
          },
          "metadata": {
            "tags": [
              "id3_content_0",
              "outputarea_id3"
            ]
          }
        },
        {
          "output_type": "display_data",
          "data": {
            "application/javascript": [
              "window[\"ab695e7e-641d-11ea-acba-0242ac1c0002\"] = google.colab.output.setActiveOutputArea(window[\"ab691e46-641d-11ea-acba-0242ac1c0002\"]);\n",
              "//# sourceURL=js_edf3613df8"
            ],
            "text/plain": [
              "<IPython.core.display.Javascript object>"
            ]
          },
          "metadata": {
            "tags": [
              "id3_content_0",
              "outputarea_id3"
            ]
          }
        },
        {
          "output_type": "display_data",
          "data": {
            "application/javascript": [
              "window[\"ab98923e-641d-11ea-acba-0242ac1c0002\"] = google.colab.output.setActiveOutputArea(window[\"ab68d95e-641d-11ea-acba-0242ac1c0002\"]);\n",
              "//# sourceURL=js_c7f5693500"
            ],
            "text/plain": [
              "<IPython.core.display.Javascript object>"
            ]
          },
          "metadata": {
            "tags": [
              "id3_content_0",
              "outputarea_id3"
            ]
          }
        },
        {
          "output_type": "display_data",
          "data": {
            "application/javascript": [
              "window[\"ab99eeb8-641d-11ea-acba-0242ac1c0002\"] = google.colab.output.getActiveOutputArea();\n",
              "//# sourceURL=js_74a48d6a8b"
            ],
            "text/plain": [
              "<IPython.core.display.Javascript object>"
            ]
          },
          "metadata": {
            "tags": [
              "id3_content_1",
              "outputarea_id3"
            ]
          }
        },
        {
          "output_type": "display_data",
          "data": {
            "application/javascript": [
              "window[\"ab9a2b12-641d-11ea-acba-0242ac1c0002\"] = document.querySelector(\"#id3_content_1\");\n",
              "//# sourceURL=js_53a9b15fb5"
            ],
            "text/plain": [
              "<IPython.core.display.Javascript object>"
            ]
          },
          "metadata": {
            "tags": [
              "id3_content_1",
              "outputarea_id3"
            ]
          }
        },
        {
          "output_type": "display_data",
          "data": {
            "application/javascript": [
              "window[\"ab9a65fa-641d-11ea-acba-0242ac1c0002\"] = google.colab.output.setActiveOutputArea(window[\"ab9a2b12-641d-11ea-acba-0242ac1c0002\"]);\n",
              "//# sourceURL=js_0ec8fddec2"
            ],
            "text/plain": [
              "<IPython.core.display.Javascript object>"
            ]
          },
          "metadata": {
            "tags": [
              "id3_content_1",
              "outputarea_id3"
            ]
          }
        },
        {
          "output_type": "display_data",
          "data": {
            "application/javascript": [
              "window[\"abd8cf84-641d-11ea-acba-0242ac1c0002\"] = google.colab.output.setActiveOutputArea(window[\"ab99eeb8-641d-11ea-acba-0242ac1c0002\"]);\n",
              "//# sourceURL=js_186af94f7b"
            ],
            "text/plain": [
              "<IPython.core.display.Javascript object>"
            ]
          },
          "metadata": {
            "tags": [
              "id3_content_1",
              "outputarea_id3"
            ]
          }
        },
        {
          "output_type": "display_data",
          "data": {
            "application/javascript": [
              "window[\"abd9e6a8-641d-11ea-acba-0242ac1c0002\"] = google.colab.output.getActiveOutputArea();\n",
              "//# sourceURL=js_b354c9987b"
            ],
            "text/plain": [
              "<IPython.core.display.Javascript object>"
            ]
          },
          "metadata": {
            "tags": [
              "id3_content_2",
              "outputarea_id3"
            ]
          }
        },
        {
          "output_type": "display_data",
          "data": {
            "application/javascript": [
              "window[\"abda1f10-641d-11ea-acba-0242ac1c0002\"] = document.querySelector(\"#id3_content_2\");\n",
              "//# sourceURL=js_60a224b037"
            ],
            "text/plain": [
              "<IPython.core.display.Javascript object>"
            ]
          },
          "metadata": {
            "tags": [
              "id3_content_2",
              "outputarea_id3"
            ]
          }
        },
        {
          "output_type": "display_data",
          "data": {
            "application/javascript": [
              "window[\"abda55c0-641d-11ea-acba-0242ac1c0002\"] = google.colab.output.setActiveOutputArea(window[\"abda1f10-641d-11ea-acba-0242ac1c0002\"]);\n",
              "//# sourceURL=js_9a1df264f3"
            ],
            "text/plain": [
              "<IPython.core.display.Javascript object>"
            ]
          },
          "metadata": {
            "tags": [
              "id3_content_2",
              "outputarea_id3"
            ]
          }
        },
        {
          "output_type": "display_data",
          "data": {
            "application/javascript": [
              "window[\"ac0592d0-641d-11ea-acba-0242ac1c0002\"] = google.colab.output.setActiveOutputArea(window[\"abd9e6a8-641d-11ea-acba-0242ac1c0002\"]);\n",
              "//# sourceURL=js_422b7e5254"
            ],
            "text/plain": [
              "<IPython.core.display.Javascript object>"
            ]
          },
          "metadata": {
            "tags": [
              "id3_content_2",
              "outputarea_id3"
            ]
          }
        },
        {
          "output_type": "display_data",
          "data": {
            "application/javascript": [
              "window[\"ac06810e-641d-11ea-acba-0242ac1c0002\"] = google.colab.output.getActiveOutputArea();\n",
              "//# sourceURL=js_b4711f2b97"
            ],
            "text/plain": [
              "<IPython.core.display.Javascript object>"
            ]
          },
          "metadata": {
            "tags": [
              "id3_content_3",
              "outputarea_id3"
            ]
          }
        },
        {
          "output_type": "display_data",
          "data": {
            "application/javascript": [
              "window[\"ac06b7fa-641d-11ea-acba-0242ac1c0002\"] = document.querySelector(\"#id3_content_3\");\n",
              "//# sourceURL=js_b5834a3ba1"
            ],
            "text/plain": [
              "<IPython.core.display.Javascript object>"
            ]
          },
          "metadata": {
            "tags": [
              "id3_content_3",
              "outputarea_id3"
            ]
          }
        },
        {
          "output_type": "display_data",
          "data": {
            "application/javascript": [
              "window[\"ac06ecca-641d-11ea-acba-0242ac1c0002\"] = google.colab.output.setActiveOutputArea(window[\"ac06b7fa-641d-11ea-acba-0242ac1c0002\"]);\n",
              "//# sourceURL=js_bc3e1163e6"
            ],
            "text/plain": [
              "<IPython.core.display.Javascript object>"
            ]
          },
          "metadata": {
            "tags": [
              "id3_content_3",
              "outputarea_id3"
            ]
          }
        },
        {
          "output_type": "display_data",
          "data": {
            "application/javascript": [
              "window[\"ac47d32a-641d-11ea-acba-0242ac1c0002\"] = google.colab.output.setActiveOutputArea(window[\"ac06810e-641d-11ea-acba-0242ac1c0002\"]);\n",
              "//# sourceURL=js_6cb73c853c"
            ],
            "text/plain": [
              "<IPython.core.display.Javascript object>"
            ]
          },
          "metadata": {
            "tags": [
              "id3_content_3",
              "outputarea_id3"
            ]
          }
        },
        {
          "output_type": "display_data",
          "data": {
            "application/javascript": [
              "window[\"b05e88fa-641d-11ea-acba-0242ac1c0002\"] = google.colab.output.getActiveOutputArea();\n",
              "//# sourceURL=js_a0d336f276"
            ],
            "text/plain": [
              "<IPython.core.display.Javascript object>"
            ]
          },
          "metadata": {
            "tags": [
              "id3_content_0",
              "outputarea_id3"
            ]
          }
        },
        {
          "output_type": "display_data",
          "data": {
            "application/javascript": [
              "window[\"b05ebd2a-641d-11ea-acba-0242ac1c0002\"] = document.querySelector(\"#id3_content_0\");\n",
              "//# sourceURL=js_61a8fcbed6"
            ],
            "text/plain": [
              "<IPython.core.display.Javascript object>"
            ]
          },
          "metadata": {
            "tags": [
              "id3_content_0",
              "outputarea_id3"
            ]
          }
        },
        {
          "output_type": "display_data",
          "data": {
            "application/javascript": [
              "window[\"b05f1d4c-641d-11ea-acba-0242ac1c0002\"] = google.colab.output.setActiveOutputArea(window[\"b05ebd2a-641d-11ea-acba-0242ac1c0002\"]);\n",
              "//# sourceURL=js_52459bfa04"
            ],
            "text/plain": [
              "<IPython.core.display.Javascript object>"
            ]
          },
          "metadata": {
            "tags": [
              "id3_content_0",
              "outputarea_id3"
            ]
          }
        },
        {
          "output_type": "display_data",
          "data": {
            "application/javascript": [
              "window[\"b0616ac0-641d-11ea-acba-0242ac1c0002\"] = google.colab.output.setActiveOutputArea(window[\"b05e88fa-641d-11ea-acba-0242ac1c0002\"]);\n",
              "//# sourceURL=js_94908a411d"
            ],
            "text/plain": [
              "<IPython.core.display.Javascript object>"
            ]
          },
          "metadata": {
            "tags": [
              "id3_content_0",
              "outputarea_id3"
            ]
          }
        },
        {
          "output_type": "display_data",
          "data": {
            "application/javascript": [
              "window[\"b0643e26-641d-11ea-acba-0242ac1c0002\"] = google.colab.output.getActiveOutputArea();\n",
              "//# sourceURL=js_1434dd1f4a"
            ],
            "text/plain": [
              "<IPython.core.display.Javascript object>"
            ]
          },
          "metadata": {
            "tags": [
              "id3_content_1",
              "outputarea_id3"
            ]
          }
        },
        {
          "output_type": "display_data",
          "data": {
            "application/javascript": [
              "window[\"b0646f22-641d-11ea-acba-0242ac1c0002\"] = document.querySelector(\"#id3_content_1\");\n",
              "//# sourceURL=js_075edf65f1"
            ],
            "text/plain": [
              "<IPython.core.display.Javascript object>"
            ]
          },
          "metadata": {
            "tags": [
              "id3_content_1",
              "outputarea_id3"
            ]
          }
        },
        {
          "output_type": "display_data",
          "data": {
            "application/javascript": [
              "window[\"b064c242-641d-11ea-acba-0242ac1c0002\"] = google.colab.output.setActiveOutputArea(window[\"b0646f22-641d-11ea-acba-0242ac1c0002\"]);\n",
              "//# sourceURL=js_10ffab9fa8"
            ],
            "text/plain": [
              "<IPython.core.display.Javascript object>"
            ]
          },
          "metadata": {
            "tags": [
              "id3_content_1",
              "outputarea_id3"
            ]
          }
        },
        {
          "output_type": "display_data",
          "data": {
            "application/javascript": [
              "window[\"b065bfe4-641d-11ea-acba-0242ac1c0002\"] = google.colab.output.setActiveOutputArea(window[\"b0643e26-641d-11ea-acba-0242ac1c0002\"]);\n",
              "//# sourceURL=js_a263fb305a"
            ],
            "text/plain": [
              "<IPython.core.display.Javascript object>"
            ]
          },
          "metadata": {
            "tags": [
              "id3_content_1",
              "outputarea_id3"
            ]
          }
        },
        {
          "output_type": "display_data",
          "data": {
            "application/javascript": [
              "window[\"b066fd5a-641d-11ea-acba-0242ac1c0002\"] = google.colab.output.getActiveOutputArea();\n",
              "//# sourceURL=js_9dd674bbe4"
            ],
            "text/plain": [
              "<IPython.core.display.Javascript object>"
            ]
          },
          "metadata": {
            "tags": [
              "id3_content_2",
              "outputarea_id3"
            ]
          }
        },
        {
          "output_type": "display_data",
          "data": {
            "application/javascript": [
              "window[\"b067372a-641d-11ea-acba-0242ac1c0002\"] = document.querySelector(\"#id3_content_2\");\n",
              "//# sourceURL=js_41a9146c2c"
            ],
            "text/plain": [
              "<IPython.core.display.Javascript object>"
            ]
          },
          "metadata": {
            "tags": [
              "id3_content_2",
              "outputarea_id3"
            ]
          }
        },
        {
          "output_type": "display_data",
          "data": {
            "application/javascript": [
              "window[\"b0677406-641d-11ea-acba-0242ac1c0002\"] = google.colab.output.setActiveOutputArea(window[\"b067372a-641d-11ea-acba-0242ac1c0002\"]);\n",
              "//# sourceURL=js_a039010ae0"
            ],
            "text/plain": [
              "<IPython.core.display.Javascript object>"
            ]
          },
          "metadata": {
            "tags": [
              "id3_content_2",
              "outputarea_id3"
            ]
          }
        },
        {
          "output_type": "display_data",
          "data": {
            "application/javascript": [
              "window[\"b0687496-641d-11ea-acba-0242ac1c0002\"] = google.colab.output.setActiveOutputArea(window[\"b066fd5a-641d-11ea-acba-0242ac1c0002\"]);\n",
              "//# sourceURL=js_9aaff72061"
            ],
            "text/plain": [
              "<IPython.core.display.Javascript object>"
            ]
          },
          "metadata": {
            "tags": [
              "id3_content_2",
              "outputarea_id3"
            ]
          }
        },
        {
          "output_type": "display_data",
          "data": {
            "application/javascript": [
              "window[\"b069b82e-641d-11ea-acba-0242ac1c0002\"] = google.colab.output.getActiveOutputArea();\n",
              "//# sourceURL=js_934adeeb8e"
            ],
            "text/plain": [
              "<IPython.core.display.Javascript object>"
            ]
          },
          "metadata": {
            "tags": [
              "id3_content_3",
              "outputarea_id3"
            ]
          }
        },
        {
          "output_type": "display_data",
          "data": {
            "application/javascript": [
              "window[\"b069f3a2-641d-11ea-acba-0242ac1c0002\"] = document.querySelector(\"#id3_content_3\");\n",
              "//# sourceURL=js_54e93229a2"
            ],
            "text/plain": [
              "<IPython.core.display.Javascript object>"
            ]
          },
          "metadata": {
            "tags": [
              "id3_content_3",
              "outputarea_id3"
            ]
          }
        },
        {
          "output_type": "display_data",
          "data": {
            "application/javascript": [
              "window[\"b06a3290-641d-11ea-acba-0242ac1c0002\"] = google.colab.output.setActiveOutputArea(window[\"b069f3a2-641d-11ea-acba-0242ac1c0002\"]);\n",
              "//# sourceURL=js_565761cf76"
            ],
            "text/plain": [
              "<IPython.core.display.Javascript object>"
            ]
          },
          "metadata": {
            "tags": [
              "id3_content_3",
              "outputarea_id3"
            ]
          }
        },
        {
          "output_type": "display_data",
          "data": {
            "application/javascript": [
              "window[\"b06b277c-641d-11ea-acba-0242ac1c0002\"] = google.colab.output.setActiveOutputArea(window[\"b069b82e-641d-11ea-acba-0242ac1c0002\"]);\n",
              "//# sourceURL=js_6b73e60445"
            ],
            "text/plain": [
              "<IPython.core.display.Javascript object>"
            ]
          },
          "metadata": {
            "tags": [
              "id3_content_3",
              "outputarea_id3"
            ]
          }
        },
        {
          "output_type": "display_data",
          "data": {
            "application/javascript": [
              "window[\"b07e478a-641d-11ea-acba-0242ac1c0002\"] = google.colab.output.getActiveOutputArea();\n",
              "//# sourceURL=js_6f106d0bfb"
            ],
            "text/plain": [
              "<IPython.core.display.Javascript object>"
            ]
          },
          "metadata": {
            "tags": [
              "id3_content_0",
              "outputarea_id3"
            ]
          }
        },
        {
          "output_type": "display_data",
          "data": {
            "application/javascript": [
              "window[\"b07e8510-641d-11ea-acba-0242ac1c0002\"] = document.querySelector(\"#id3_content_0\");\n",
              "//# sourceURL=js_a40cb300a6"
            ],
            "text/plain": [
              "<IPython.core.display.Javascript object>"
            ]
          },
          "metadata": {
            "tags": [
              "id3_content_0",
              "outputarea_id3"
            ]
          }
        },
        {
          "output_type": "display_data",
          "data": {
            "application/javascript": [
              "window[\"b07ebd1e-641d-11ea-acba-0242ac1c0002\"] = google.colab.output.setActiveOutputArea(window[\"b07e8510-641d-11ea-acba-0242ac1c0002\"]);\n",
              "//# sourceURL=js_0e229ac792"
            ],
            "text/plain": [
              "<IPython.core.display.Javascript object>"
            ]
          },
          "metadata": {
            "tags": [
              "id3_content_0",
              "outputarea_id3"
            ]
          }
        },
        {
          "output_type": "display_data",
          "data": {
            "text/html": [
              "<html>\n",
              "<head><meta charset=\"utf-8\" /></head>\n",
              "<body>\n",
              "    <div>\n",
              "            <script src=\"https://cdnjs.cloudflare.com/ajax/libs/mathjax/2.7.5/MathJax.js?config=TeX-AMS-MML_SVG\"></script><script type=\"text/javascript\">if (window.MathJax) {MathJax.Hub.Config({SVG: {font: \"STIX-Web\"}});}</script>\n",
              "                <script type=\"text/javascript\">window.PlotlyConfig = {MathJaxConfig: 'local'};</script>\n",
              "        <script src=\"https://cdn.plot.ly/plotly-latest.min.js\"></script>    \n",
              "            <div id=\"688cc3f7-d9fd-4656-82dc-7c634dc51eee\" class=\"plotly-graph-div\" style=\"height:525px; width:100%;\"></div>\n",
              "            <script type=\"text/javascript\">\n",
              "                \n",
              "                    window.PLOTLYENV=window.PLOTLYENV || {};\n",
              "                    \n",
              "                if (document.getElementById(\"688cc3f7-d9fd-4656-82dc-7c634dc51eee\")) {\n",
              "                    Plotly.newPlot(\n",
              "                        '688cc3f7-d9fd-4656-82dc-7c634dc51eee',\n",
              "                        [{\"hoverlabel\": {\"namelength\": 0}, \"hovertemplate\": \"=Confirmed<br>date=%{x}<br># of people=%{y}\", \"legendgroup\": \"=Confirmed\", \"line\": {\"color\": \"grey\", \"dash\": \"solid\"}, \"mode\": \"lines\", \"name\": \"=Confirmed\", \"showlegend\": true, \"type\": \"scatter\", \"x\": [\"2020-01-22\", \"2020-01-23\", \"2020-01-24\", \"2020-01-25\", \"2020-01-26\", \"2020-01-27\", \"2020-01-28\", \"2020-01-29\", \"2020-01-30\", \"2020-01-31\", \"2020-02-01\", \"2020-02-02\", \"2020-02-03\", \"2020-02-04\", \"2020-02-05\", \"2020-02-06\", \"2020-02-07\", \"2020-02-08\", \"2020-02-09\", \"2020-02-10\", \"2020-02-11\", \"2020-02-12\", \"2020-02-13\", \"2020-02-14\", \"2020-02-15\", \"2020-02-16\", \"2020-02-17\", \"2020-02-18\", \"2020-02-19\", \"2020-02-20\", \"2020-02-21\", \"2020-02-22\", \"2020-02-23\", \"2020-02-24\", \"2020-02-25\", \"2020-02-26\", \"2020-02-27\", \"2020-02-28\", \"2020-02-29\", \"2020-03-01\", \"2020-03-02\", \"2020-03-03\", \"2020-03-04\", \"2020-03-05\", \"2020-03-06\", \"2020-03-07\", \"2020-03-08\", \"2020-03-09\", \"2020-03-10\", \"2020-03-11\"], \"xaxis\": \"x\", \"y\": [547.0, 639.0, 916.0, 1399.0, 2062.0, 2863.0, 5494.0, 6070.0, 8124.0, 9783.0, 11871.0, 16607.0, 19693.0, 23680.0, 27409.0, 30553.0, 34075.0, 36778.0, 39790.0, 42306.0, 44327.0, 44699.0, 59832.0, 66292.0, 68347.0, 70446.0, 72364.0, 74139.0, 74546.0, 74999.0, 75472.0, 76922.0, 76938.0, 77152.0, 77660.0, 78065.0, 78498.0, 78824.0, 79251.0, 79826.0, 80026.0, 80151.0, 80271.0, 80422.0, 80573.0, 80652.0, 80699.0, 80735.0, 80757.0, 80921.0], \"yaxis\": \"y\"}, {\"hoverlabel\": {\"namelength\": 0}, \"hovertemplate\": \"=Deaths<br>date=%{x}<br># of people=%{y}\", \"legendgroup\": \"=Deaths\", \"line\": {\"color\": \"red\", \"dash\": \"solid\"}, \"mode\": \"lines\", \"name\": \"=Deaths\", \"showlegend\": true, \"type\": \"scatter\", \"x\": [\"2020-01-22\", \"2020-01-23\", \"2020-01-24\", \"2020-01-25\", \"2020-01-26\", \"2020-01-27\", \"2020-01-28\", \"2020-01-29\", \"2020-01-30\", \"2020-01-31\", \"2020-02-01\", \"2020-02-02\", \"2020-02-03\", \"2020-02-04\", \"2020-02-05\", \"2020-02-06\", \"2020-02-07\", \"2020-02-08\", \"2020-02-09\", \"2020-02-10\", \"2020-02-11\", \"2020-02-12\", \"2020-02-13\", \"2020-02-14\", \"2020-02-15\", \"2020-02-16\", \"2020-02-17\", \"2020-02-18\", \"2020-02-19\", \"2020-02-20\", \"2020-02-21\", \"2020-02-22\", \"2020-02-23\", \"2020-02-24\", \"2020-02-25\", \"2020-02-26\", \"2020-02-27\", \"2020-02-28\", \"2020-02-29\", \"2020-03-01\", \"2020-03-02\", \"2020-03-03\", \"2020-03-04\", \"2020-03-05\", \"2020-03-06\", \"2020-03-07\", \"2020-03-08\", \"2020-03-09\", \"2020-03-10\", \"2020-03-11\"], \"xaxis\": \"x\", \"y\": [17.0, 18.0, 26.0, 42.0, 56.0, 82.0, 131.0, 133.0, 171.0, 213.0, 259.0, 361.0, 425.0, 490.0, 562.0, 632.0, 717.0, 804.0, 904.0, 1011.0, 1111.0, 1116.0, 1368.0, 1520.0, 1662.0, 1765.0, 1863.0, 2002.0, 2114.0, 2236.0, 2236.0, 2441.0, 2443.0, 2593.0, 2663.0, 2715.0, 2744.0, 2788.0, 2835.0, 2870.0, 2912.0, 2945.0, 2981.0, 3013.0, 3042.0, 3070.0, 3097.0, 3120.0, 3136.0, 3161.0], \"yaxis\": \"y\"}, {\"hoverlabel\": {\"namelength\": 0}, \"hovertemplate\": \"=Recovered<br>date=%{x}<br># of people=%{y}\", \"legendgroup\": \"=Recovered\", \"line\": {\"color\": \"green\", \"dash\": \"solid\"}, \"mode\": \"lines\", \"name\": \"=Recovered\", \"showlegend\": true, \"type\": \"scatter\", \"x\": [\"2020-01-22\", \"2020-01-23\", \"2020-01-24\", \"2020-01-25\", \"2020-01-26\", \"2020-01-27\", \"2020-01-28\", \"2020-01-29\", \"2020-01-30\", \"2020-01-31\", \"2020-02-01\", \"2020-02-02\", \"2020-02-03\", \"2020-02-04\", \"2020-02-05\", \"2020-02-06\", \"2020-02-07\", \"2020-02-08\", \"2020-02-09\", \"2020-02-10\", \"2020-02-11\", \"2020-02-12\", \"2020-02-13\", \"2020-02-14\", \"2020-02-15\", \"2020-02-16\", \"2020-02-17\", \"2020-02-18\", \"2020-02-19\", \"2020-02-20\", \"2020-02-21\", \"2020-02-22\", \"2020-02-23\", \"2020-02-24\", \"2020-02-25\", \"2020-02-26\", \"2020-02-27\", \"2020-02-28\", \"2020-02-29\", \"2020-03-01\", \"2020-03-02\", \"2020-03-03\", \"2020-03-04\", \"2020-03-05\", \"2020-03-06\", \"2020-03-07\", \"2020-03-08\", \"2020-03-09\", \"2020-03-10\", \"2020-03-11\"], \"xaxis\": \"x\", \"y\": [28.0, 30.0, 36.0, 39.0, 49.0, 58.0, 101.0, 120.0, 135.0, 214.0, 275.0, 463.0, 614.0, 843.0, 1115.0, 1476.0, 1998.0, 2595.0, 3218.0, 3917.0, 4635.0, 5079.0, 6213.0, 7973.0, 9294.0, 10748.0, 12455.0, 14199.0, 15952.0, 18002.0, 18693.0, 22687.0, 23170.0, 24990.0, 27650.0, 30053.0, 32898.0, 36291.0, 39279.0, 42118.0, 44810.0, 47404.0, 49955.0, 52240.0, 53888.0, 55478.0, 57320.0, 58735.0, 60106.0, 61644.0], \"yaxis\": \"y\"}, {\"hoverlabel\": {\"namelength\": 0}, \"hovertemplate\": \"=Existing<br>date=%{x}<br># of people=%{y}\", \"legendgroup\": \"=Existing\", \"line\": {\"color\": \"orange\", \"dash\": \"solid\"}, \"mode\": \"lines\", \"name\": \"=Existing\", \"showlegend\": true, \"type\": \"scatter\", \"x\": [\"2020-01-22\", \"2020-01-23\", \"2020-01-24\", \"2020-01-25\", \"2020-01-26\", \"2020-01-27\", \"2020-01-28\", \"2020-01-29\", \"2020-01-30\", \"2020-01-31\", \"2020-02-01\", \"2020-02-02\", \"2020-02-03\", \"2020-02-04\", \"2020-02-05\", \"2020-02-06\", \"2020-02-07\", \"2020-02-08\", \"2020-02-09\", \"2020-02-10\", \"2020-02-11\", \"2020-02-12\", \"2020-02-13\", \"2020-02-14\", \"2020-02-15\", \"2020-02-16\", \"2020-02-17\", \"2020-02-18\", \"2020-02-19\", \"2020-02-20\", \"2020-02-21\", \"2020-02-22\", \"2020-02-23\", \"2020-02-24\", \"2020-02-25\", \"2020-02-26\", \"2020-02-27\", \"2020-02-28\", \"2020-02-29\", \"2020-03-01\", \"2020-03-02\", \"2020-03-03\", \"2020-03-04\", \"2020-03-05\", \"2020-03-06\", \"2020-03-07\", \"2020-03-08\", \"2020-03-09\", \"2020-03-10\", \"2020-03-11\"], \"xaxis\": \"x\", \"y\": [502.0, 591.0, 854.0, 1318.0, 1957.0, 2723.0, 5262.0, 5817.0, 7818.0, 9356.0, 11337.0, 15783.0, 18654.0, 22347.0, 25732.0, 28445.0, 31360.0, 33379.0, 35668.0, 37378.0, 38581.0, 38504.0, 52251.0, 56799.0, 57391.0, 57933.0, 58046.0, 57938.0, 56480.0, 54761.0, 54543.0, 51794.0, 51325.0, 49569.0, 47347.0, 45297.0, 42856.0, 39745.0, 37137.0, 34838.0, 32304.0, 29802.0, 27335.0, 25169.0, 23643.0, 22104.0, 20282.0, 18880.0, 17515.0, 16116.0], \"yaxis\": \"y\"}, {\"hoverlabel\": {\"namelength\": 0}, \"hovertemplate\": \"=Recovered + Deaths<br>date=%{x}<br># of people=%{y}\", \"legendgroup\": \"=Recovered + Deaths\", \"line\": {\"color\": \"blue\", \"dash\": \"solid\"}, \"mode\": \"lines\", \"name\": \"=Recovered + Deaths\", \"showlegend\": true, \"type\": \"scatter\", \"x\": [\"2020-01-22\", \"2020-01-23\", \"2020-01-24\", \"2020-01-25\", \"2020-01-26\", \"2020-01-27\", \"2020-01-28\", \"2020-01-29\", \"2020-01-30\", \"2020-01-31\", \"2020-02-01\", \"2020-02-02\", \"2020-02-03\", \"2020-02-04\", \"2020-02-05\", \"2020-02-06\", \"2020-02-07\", \"2020-02-08\", \"2020-02-09\", \"2020-02-10\", \"2020-02-11\", \"2020-02-12\", \"2020-02-13\", \"2020-02-14\", \"2020-02-15\", \"2020-02-16\", \"2020-02-17\", \"2020-02-18\", \"2020-02-19\", \"2020-02-20\", \"2020-02-21\", \"2020-02-22\", \"2020-02-23\", \"2020-02-24\", \"2020-02-25\", \"2020-02-26\", \"2020-02-27\", \"2020-02-28\", \"2020-02-29\", \"2020-03-01\", \"2020-03-02\", \"2020-03-03\", \"2020-03-04\", \"2020-03-05\", \"2020-03-06\", \"2020-03-07\", \"2020-03-08\", \"2020-03-09\", \"2020-03-10\", \"2020-03-11\"], \"xaxis\": \"x\", \"y\": [45.0, 48.0, 62.0, 81.0, 105.0, 140.0, 232.0, 253.0, 306.0, 427.0, 534.0, 824.0, 1039.0, 1333.0, 1677.0, 2108.0, 2715.0, 3399.0, 4122.0, 4928.0, 5746.0, 6195.0, 7581.0, 9493.0, 10956.0, 12513.0, 14318.0, 16201.0, 18066.0, 20238.0, 20929.0, 25128.0, 25613.0, 27583.0, 30313.0, 32768.0, 35642.0, 39079.0, 42114.0, 44988.0, 47722.0, 50349.0, 52936.0, 55253.0, 56930.0, 58548.0, 60417.0, 61855.0, 63242.0, 64805.0], \"yaxis\": \"y\"}],\n",
              "                        {\"legend\": {\"tracegroupgap\": 0}, \"template\": {\"data\": {\"bar\": [{\"error_x\": {\"color\": \"#2a3f5f\"}, \"error_y\": {\"color\": \"#2a3f5f\"}, \"marker\": {\"line\": {\"color\": \"#E5ECF6\", \"width\": 0.5}}, \"type\": \"bar\"}], \"barpolar\": [{\"marker\": {\"line\": {\"color\": \"#E5ECF6\", \"width\": 0.5}}, \"type\": \"barpolar\"}], \"carpet\": [{\"aaxis\": {\"endlinecolor\": \"#2a3f5f\", \"gridcolor\": \"white\", \"linecolor\": \"white\", \"minorgridcolor\": \"white\", \"startlinecolor\": \"#2a3f5f\"}, \"baxis\": {\"endlinecolor\": \"#2a3f5f\", \"gridcolor\": \"white\", \"linecolor\": \"white\", \"minorgridcolor\": \"white\", \"startlinecolor\": \"#2a3f5f\"}, \"type\": \"carpet\"}], \"choropleth\": [{\"colorbar\": {\"outlinewidth\": 0, \"ticks\": \"\"}, \"type\": \"choropleth\"}], \"contour\": [{\"colorbar\": {\"outlinewidth\": 0, \"ticks\": \"\"}, \"colorscale\": [[0.0, \"#0d0887\"], [0.1111111111111111, \"#46039f\"], [0.2222222222222222, \"#7201a8\"], [0.3333333333333333, \"#9c179e\"], [0.4444444444444444, \"#bd3786\"], [0.5555555555555556, \"#d8576b\"], [0.6666666666666666, \"#ed7953\"], [0.7777777777777778, \"#fb9f3a\"], [0.8888888888888888, \"#fdca26\"], [1.0, \"#f0f921\"]], \"type\": \"contour\"}], \"contourcarpet\": [{\"colorbar\": {\"outlinewidth\": 0, \"ticks\": \"\"}, \"type\": \"contourcarpet\"}], \"heatmap\": [{\"colorbar\": {\"outlinewidth\": 0, \"ticks\": \"\"}, \"colorscale\": [[0.0, \"#0d0887\"], [0.1111111111111111, \"#46039f\"], [0.2222222222222222, \"#7201a8\"], [0.3333333333333333, \"#9c179e\"], [0.4444444444444444, \"#bd3786\"], [0.5555555555555556, \"#d8576b\"], [0.6666666666666666, \"#ed7953\"], [0.7777777777777778, \"#fb9f3a\"], [0.8888888888888888, \"#fdca26\"], [1.0, \"#f0f921\"]], \"type\": \"heatmap\"}], \"heatmapgl\": [{\"colorbar\": {\"outlinewidth\": 0, \"ticks\": \"\"}, \"colorscale\": [[0.0, \"#0d0887\"], [0.1111111111111111, \"#46039f\"], [0.2222222222222222, \"#7201a8\"], [0.3333333333333333, \"#9c179e\"], [0.4444444444444444, \"#bd3786\"], [0.5555555555555556, \"#d8576b\"], [0.6666666666666666, \"#ed7953\"], [0.7777777777777778, \"#fb9f3a\"], [0.8888888888888888, \"#fdca26\"], [1.0, \"#f0f921\"]], \"type\": \"heatmapgl\"}], \"histogram\": [{\"marker\": {\"colorbar\": {\"outlinewidth\": 0, \"ticks\": \"\"}}, \"type\": \"histogram\"}], \"histogram2d\": [{\"colorbar\": {\"outlinewidth\": 0, \"ticks\": \"\"}, \"colorscale\": [[0.0, \"#0d0887\"], [0.1111111111111111, \"#46039f\"], [0.2222222222222222, \"#7201a8\"], [0.3333333333333333, \"#9c179e\"], [0.4444444444444444, \"#bd3786\"], [0.5555555555555556, \"#d8576b\"], [0.6666666666666666, \"#ed7953\"], [0.7777777777777778, \"#fb9f3a\"], [0.8888888888888888, \"#fdca26\"], [1.0, \"#f0f921\"]], \"type\": \"histogram2d\"}], \"histogram2dcontour\": [{\"colorbar\": {\"outlinewidth\": 0, \"ticks\": \"\"}, \"colorscale\": [[0.0, \"#0d0887\"], [0.1111111111111111, \"#46039f\"], [0.2222222222222222, \"#7201a8\"], [0.3333333333333333, \"#9c179e\"], [0.4444444444444444, \"#bd3786\"], [0.5555555555555556, \"#d8576b\"], [0.6666666666666666, \"#ed7953\"], [0.7777777777777778, \"#fb9f3a\"], [0.8888888888888888, \"#fdca26\"], [1.0, \"#f0f921\"]], \"type\": \"histogram2dcontour\"}], \"mesh3d\": [{\"colorbar\": {\"outlinewidth\": 0, \"ticks\": \"\"}, \"type\": \"mesh3d\"}], \"parcoords\": [{\"line\": {\"colorbar\": {\"outlinewidth\": 0, \"ticks\": \"\"}}, \"type\": \"parcoords\"}], \"pie\": [{\"automargin\": true, \"type\": \"pie\"}], \"scatter\": [{\"marker\": {\"colorbar\": {\"outlinewidth\": 0, \"ticks\": \"\"}}, \"type\": \"scatter\"}], \"scatter3d\": [{\"line\": {\"colorbar\": {\"outlinewidth\": 0, \"ticks\": \"\"}}, \"marker\": {\"colorbar\": {\"outlinewidth\": 0, \"ticks\": \"\"}}, \"type\": \"scatter3d\"}], \"scattercarpet\": [{\"marker\": {\"colorbar\": {\"outlinewidth\": 0, \"ticks\": \"\"}}, \"type\": \"scattercarpet\"}], \"scattergeo\": [{\"marker\": {\"colorbar\": {\"outlinewidth\": 0, \"ticks\": \"\"}}, \"type\": \"scattergeo\"}], \"scattergl\": [{\"marker\": {\"colorbar\": {\"outlinewidth\": 0, \"ticks\": \"\"}}, \"type\": \"scattergl\"}], \"scattermapbox\": [{\"marker\": {\"colorbar\": {\"outlinewidth\": 0, \"ticks\": \"\"}}, \"type\": \"scattermapbox\"}], \"scatterpolar\": [{\"marker\": {\"colorbar\": {\"outlinewidth\": 0, \"ticks\": \"\"}}, \"type\": \"scatterpolar\"}], \"scatterpolargl\": [{\"marker\": {\"colorbar\": {\"outlinewidth\": 0, \"ticks\": \"\"}}, \"type\": \"scatterpolargl\"}], \"scatterternary\": [{\"marker\": {\"colorbar\": {\"outlinewidth\": 0, \"ticks\": \"\"}}, \"type\": \"scatterternary\"}], \"surface\": [{\"colorbar\": {\"outlinewidth\": 0, \"ticks\": \"\"}, \"colorscale\": [[0.0, \"#0d0887\"], [0.1111111111111111, \"#46039f\"], [0.2222222222222222, \"#7201a8\"], [0.3333333333333333, \"#9c179e\"], [0.4444444444444444, \"#bd3786\"], [0.5555555555555556, \"#d8576b\"], [0.6666666666666666, \"#ed7953\"], [0.7777777777777778, \"#fb9f3a\"], [0.8888888888888888, \"#fdca26\"], [1.0, \"#f0f921\"]], \"type\": \"surface\"}], \"table\": [{\"cells\": {\"fill\": {\"color\": \"#EBF0F8\"}, \"line\": {\"color\": \"white\"}}, \"header\": {\"fill\": {\"color\": \"#C8D4E3\"}, \"line\": {\"color\": \"white\"}}, \"type\": \"table\"}]}, \"layout\": {\"annotationdefaults\": {\"arrowcolor\": \"#2a3f5f\", \"arrowhead\": 0, \"arrowwidth\": 1}, \"coloraxis\": {\"colorbar\": {\"outlinewidth\": 0, \"ticks\": \"\"}}, \"colorscale\": {\"diverging\": [[0, \"#8e0152\"], [0.1, \"#c51b7d\"], [0.2, \"#de77ae\"], [0.3, \"#f1b6da\"], [0.4, \"#fde0ef\"], [0.5, \"#f7f7f7\"], [0.6, \"#e6f5d0\"], [0.7, \"#b8e186\"], [0.8, \"#7fbc41\"], [0.9, \"#4d9221\"], [1, \"#276419\"]], \"sequential\": [[0.0, \"#0d0887\"], [0.1111111111111111, \"#46039f\"], [0.2222222222222222, \"#7201a8\"], [0.3333333333333333, \"#9c179e\"], [0.4444444444444444, \"#bd3786\"], [0.5555555555555556, \"#d8576b\"], [0.6666666666666666, \"#ed7953\"], [0.7777777777777778, \"#fb9f3a\"], [0.8888888888888888, \"#fdca26\"], [1.0, \"#f0f921\"]], \"sequentialminus\": [[0.0, \"#0d0887\"], [0.1111111111111111, \"#46039f\"], [0.2222222222222222, \"#7201a8\"], [0.3333333333333333, \"#9c179e\"], [0.4444444444444444, \"#bd3786\"], [0.5555555555555556, \"#d8576b\"], [0.6666666666666666, \"#ed7953\"], [0.7777777777777778, \"#fb9f3a\"], [0.8888888888888888, \"#fdca26\"], [1.0, \"#f0f921\"]]}, \"colorway\": [\"#636efa\", \"#EF553B\", \"#00cc96\", \"#ab63fa\", \"#FFA15A\", \"#19d3f3\", \"#FF6692\", \"#B6E880\", \"#FF97FF\", \"#FECB52\"], \"font\": {\"color\": \"#2a3f5f\"}, \"geo\": {\"bgcolor\": \"white\", \"lakecolor\": \"white\", \"landcolor\": \"#E5ECF6\", \"showlakes\": true, \"showland\": true, \"subunitcolor\": \"white\"}, \"hoverlabel\": {\"align\": \"left\"}, \"hovermode\": \"closest\", \"mapbox\": {\"style\": \"light\"}, \"paper_bgcolor\": \"white\", \"plot_bgcolor\": \"#E5ECF6\", \"polar\": {\"angularaxis\": {\"gridcolor\": \"white\", \"linecolor\": \"white\", \"ticks\": \"\"}, \"bgcolor\": \"#E5ECF6\", \"radialaxis\": {\"gridcolor\": \"white\", \"linecolor\": \"white\", \"ticks\": \"\"}}, \"scene\": {\"xaxis\": {\"backgroundcolor\": \"#E5ECF6\", \"gridcolor\": \"white\", \"gridwidth\": 2, \"linecolor\": \"white\", \"showbackground\": true, \"ticks\": \"\", \"zerolinecolor\": \"white\"}, \"yaxis\": {\"backgroundcolor\": \"#E5ECF6\", \"gridcolor\": \"white\", \"gridwidth\": 2, \"linecolor\": \"white\", \"showbackground\": true, \"ticks\": \"\", \"zerolinecolor\": \"white\"}, \"zaxis\": {\"backgroundcolor\": \"#E5ECF6\", \"gridcolor\": \"white\", \"gridwidth\": 2, \"linecolor\": \"white\", \"showbackground\": true, \"ticks\": \"\", \"zerolinecolor\": \"white\"}}, \"shapedefaults\": {\"line\": {\"color\": \"#2a3f5f\"}}, \"ternary\": {\"aaxis\": {\"gridcolor\": \"white\", \"linecolor\": \"white\", \"ticks\": \"\"}, \"baxis\": {\"gridcolor\": \"white\", \"linecolor\": \"white\", \"ticks\": \"\"}, \"bgcolor\": \"#E5ECF6\", \"caxis\": {\"gridcolor\": \"white\", \"linecolor\": \"white\", \"ticks\": \"\"}}, \"title\": {\"x\": 0.05}, \"xaxis\": {\"automargin\": true, \"gridcolor\": \"white\", \"linecolor\": \"white\", \"ticks\": \"\", \"title\": {\"standoff\": 15}, \"zerolinecolor\": \"white\", \"zerolinewidth\": 2}, \"yaxis\": {\"automargin\": true, \"gridcolor\": \"white\", \"linecolor\": \"white\", \"ticks\": \"\", \"title\": {\"standoff\": 15}, \"zerolinecolor\": \"white\", \"zerolinewidth\": 2}}}, \"title\": {\"text\": \"COVID-19: Showing<br>China, Mainland China\"}, \"xaxis\": {\"anchor\": \"y\", \"domain\": [0.0, 1.0], \"title\": {\"text\": \"date\"}}, \"yaxis\": {\"anchor\": \"x\", \"domain\": [0.0, 1.0], \"title\": {\"text\": \"# of people\"}}},\n",
              "                        {\"responsive\": true}\n",
              "                    ).then(function(){\n",
              "                            \n",
              "var gd = document.getElementById('688cc3f7-d9fd-4656-82dc-7c634dc51eee');\n",
              "var x = new MutationObserver(function (mutations, observer) {{\n",
              "        var display = window.getComputedStyle(gd).display;\n",
              "        if (!display || display === 'none') {{\n",
              "            console.log([gd, 'removed!']);\n",
              "            Plotly.purge(gd);\n",
              "            observer.disconnect();\n",
              "        }}\n",
              "}});\n",
              "\n",
              "// Listen for the removal of the full notebook cells\n",
              "var notebookContainer = gd.closest('#notebook-container');\n",
              "if (notebookContainer) {{\n",
              "    x.observe(notebookContainer, {childList: true});\n",
              "}}\n",
              "\n",
              "// Listen for the clearing of the current output cell\n",
              "var outputEl = gd.closest('.output');\n",
              "if (outputEl) {{\n",
              "    x.observe(outputEl, {childList: true});\n",
              "}}\n",
              "\n",
              "                        })\n",
              "                };\n",
              "                \n",
              "            </script>\n",
              "        </div>\n",
              "</body>\n",
              "</html>"
            ]
          },
          "metadata": {
            "tags": [
              "id3_content_0",
              "outputarea_id3",
              "user_output"
            ]
          }
        },
        {
          "output_type": "display_data",
          "data": {
            "application/javascript": [
              "window[\"b0ae2626-641d-11ea-acba-0242ac1c0002\"] = google.colab.output.setActiveOutputArea(window[\"b07e478a-641d-11ea-acba-0242ac1c0002\"]);\n",
              "//# sourceURL=js_e488e28bba"
            ],
            "text/plain": [
              "<IPython.core.display.Javascript object>"
            ]
          },
          "metadata": {
            "tags": [
              "id3_content_0",
              "outputarea_id3"
            ]
          }
        },
        {
          "output_type": "display_data",
          "data": {
            "application/javascript": [
              "window[\"b0af215c-641d-11ea-acba-0242ac1c0002\"] = google.colab.output.getActiveOutputArea();\n",
              "//# sourceURL=js_6ad59fa8ce"
            ],
            "text/plain": [
              "<IPython.core.display.Javascript object>"
            ]
          },
          "metadata": {
            "tags": [
              "id3_content_1",
              "outputarea_id3"
            ]
          }
        },
        {
          "output_type": "display_data",
          "data": {
            "application/javascript": [
              "window[\"b0af5c4e-641d-11ea-acba-0242ac1c0002\"] = document.querySelector(\"#id3_content_1\");\n",
              "//# sourceURL=js_b5f4ff967f"
            ],
            "text/plain": [
              "<IPython.core.display.Javascript object>"
            ]
          },
          "metadata": {
            "tags": [
              "id3_content_1",
              "outputarea_id3"
            ]
          }
        },
        {
          "output_type": "display_data",
          "data": {
            "application/javascript": [
              "window[\"b0af9204-641d-11ea-acba-0242ac1c0002\"] = google.colab.output.setActiveOutputArea(window[\"b0af5c4e-641d-11ea-acba-0242ac1c0002\"]);\n",
              "//# sourceURL=js_e9542ae2a1"
            ],
            "text/plain": [
              "<IPython.core.display.Javascript object>"
            ]
          },
          "metadata": {
            "tags": [
              "id3_content_1",
              "outputarea_id3"
            ]
          }
        },
        {
          "output_type": "display_data",
          "data": {
            "text/html": [
              "<html>\n",
              "<head><meta charset=\"utf-8\" /></head>\n",
              "<body>\n",
              "    <div>\n",
              "            <script src=\"https://cdnjs.cloudflare.com/ajax/libs/mathjax/2.7.5/MathJax.js?config=TeX-AMS-MML_SVG\"></script><script type=\"text/javascript\">if (window.MathJax) {MathJax.Hub.Config({SVG: {font: \"STIX-Web\"}});}</script>\n",
              "                <script type=\"text/javascript\">window.PlotlyConfig = {MathJaxConfig: 'local'};</script>\n",
              "        <script src=\"https://cdn.plot.ly/plotly-latest.min.js\"></script>    \n",
              "            <div id=\"792d5752-77a3-45d9-8394-3215fb89a049\" class=\"plotly-graph-div\" style=\"height:525px; width:100%;\"></div>\n",
              "            <script type=\"text/javascript\">\n",
              "                \n",
              "                    window.PLOTLYENV=window.PLOTLYENV || {};\n",
              "                    \n",
              "                if (document.getElementById(\"792d5752-77a3-45d9-8394-3215fb89a049\")) {\n",
              "                    Plotly.newPlot(\n",
              "                        '792d5752-77a3-45d9-8394-3215fb89a049',\n",
              "                        [{\"alignmentgroup\": \"True\", \"hoverlabel\": {\"namelength\": 0}, \"hovertemplate\": \"Status=Confirmed<br>date=%{x}<br># of people=%{y}\", \"legendgroup\": \"Status=Confirmed\", \"marker\": {\"color\": \"red\"}, \"name\": \"Status=Confirmed\", \"offsetgroup\": \"Status=Confirmed\", \"orientation\": \"v\", \"showlegend\": true, \"textposition\": \"auto\", \"type\": \"bar\", \"x\": [\"2020-01-22\", \"2020-01-23\", \"2020-01-24\", \"2020-01-25\", \"2020-01-26\", \"2020-01-27\", \"2020-01-28\", \"2020-01-29\", \"2020-01-30\", \"2020-01-31\", \"2020-02-01\", \"2020-02-02\", \"2020-02-03\", \"2020-02-04\", \"2020-02-05\", \"2020-02-06\", \"2020-02-07\", \"2020-02-08\", \"2020-02-09\", \"2020-02-10\", \"2020-02-11\", \"2020-02-12\", \"2020-02-13\", \"2020-02-14\", \"2020-02-15\", \"2020-02-16\", \"2020-02-17\", \"2020-02-18\", \"2020-02-19\", \"2020-02-20\", \"2020-02-21\", \"2020-02-22\", \"2020-02-23\", \"2020-02-24\", \"2020-02-25\", \"2020-02-26\", \"2020-02-27\", \"2020-02-28\", \"2020-02-29\", \"2020-03-01\", \"2020-03-02\", \"2020-03-03\", \"2020-03-04\", \"2020-03-05\", \"2020-03-06\", \"2020-03-07\", \"2020-03-08\", \"2020-03-09\", \"2020-03-10\", \"2020-03-11\"], \"xaxis\": \"x\", \"y\": [null, 92.0, 277.0, 483.0, 663.0, 801.0, 2631.0, 576.0, 2054.0, 1659.0, 2088.0, 4736.0, 3086.0, 3987.0, 3729.0, 3144.0, 3522.0, 2703.0, 3012.0, 2516.0, 2021.0, 372.0, 15133.0, 6460.0, 2055.0, 2099.0, 1918.0, 1775.0, 407.0, 453.0, 473.0, 1450.0, 16.0, 214.0, 508.0, 405.0, 433.0, 326.0, 427.0, 575.0, 200.0, 125.0, 120.0, 151.0, 151.0, 79.0, 47.0, 36.0, 22.0, 164.0], \"yaxis\": \"y\"}, {\"alignmentgroup\": \"True\", \"hoverlabel\": {\"namelength\": 0}, \"hovertemplate\": \"Status=Recovered + Deaths<br>date=%{x}<br># of people=%{y}\", \"legendgroup\": \"Status=Recovered + Deaths\", \"marker\": {\"color\": \"blue\"}, \"name\": \"Status=Recovered + Deaths\", \"offsetgroup\": \"Status=Recovered + Deaths\", \"orientation\": \"v\", \"showlegend\": true, \"textposition\": \"auto\", \"type\": \"bar\", \"x\": [\"2020-01-22\", \"2020-01-23\", \"2020-01-24\", \"2020-01-25\", \"2020-01-26\", \"2020-01-27\", \"2020-01-28\", \"2020-01-29\", \"2020-01-30\", \"2020-01-31\", \"2020-02-01\", \"2020-02-02\", \"2020-02-03\", \"2020-02-04\", \"2020-02-05\", \"2020-02-06\", \"2020-02-07\", \"2020-02-08\", \"2020-02-09\", \"2020-02-10\", \"2020-02-11\", \"2020-02-12\", \"2020-02-13\", \"2020-02-14\", \"2020-02-15\", \"2020-02-16\", \"2020-02-17\", \"2020-02-18\", \"2020-02-19\", \"2020-02-20\", \"2020-02-21\", \"2020-02-22\", \"2020-02-23\", \"2020-02-24\", \"2020-02-25\", \"2020-02-26\", \"2020-02-27\", \"2020-02-28\", \"2020-02-29\", \"2020-03-01\", \"2020-03-02\", \"2020-03-03\", \"2020-03-04\", \"2020-03-05\", \"2020-03-06\", \"2020-03-07\", \"2020-03-08\", \"2020-03-09\", \"2020-03-10\", \"2020-03-11\"], \"xaxis\": \"x\", \"y\": [null, 3.0, 14.0, 19.0, 24.0, 35.0, 92.0, 21.0, 53.0, 121.0, 107.0, 290.0, 215.0, 294.0, 344.0, 431.0, 607.0, 684.0, 723.0, 806.0, 818.0, 449.0, 1386.0, 1912.0, 1463.0, 1557.0, 1805.0, 1883.0, 1865.0, 2172.0, 691.0, 4199.0, 485.0, 1970.0, 2730.0, 2455.0, 2874.0, 3437.0, 3035.0, 2874.0, 2734.0, 2627.0, 2587.0, 2317.0, 1677.0, 1618.0, 1869.0, 1438.0, 1387.0, 1563.0], \"yaxis\": \"y\"}],\n",
              "                        {\"barmode\": \"group\", \"legend\": {\"tracegroupgap\": 0}, \"template\": {\"data\": {\"bar\": [{\"error_x\": {\"color\": \"#2a3f5f\"}, \"error_y\": {\"color\": \"#2a3f5f\"}, \"marker\": {\"line\": {\"color\": \"#E5ECF6\", \"width\": 0.5}}, \"type\": \"bar\"}], \"barpolar\": [{\"marker\": {\"line\": {\"color\": \"#E5ECF6\", \"width\": 0.5}}, \"type\": \"barpolar\"}], \"carpet\": [{\"aaxis\": {\"endlinecolor\": \"#2a3f5f\", \"gridcolor\": \"white\", \"linecolor\": \"white\", \"minorgridcolor\": \"white\", \"startlinecolor\": \"#2a3f5f\"}, \"baxis\": {\"endlinecolor\": \"#2a3f5f\", \"gridcolor\": \"white\", \"linecolor\": \"white\", \"minorgridcolor\": \"white\", \"startlinecolor\": \"#2a3f5f\"}, \"type\": \"carpet\"}], \"choropleth\": [{\"colorbar\": {\"outlinewidth\": 0, \"ticks\": \"\"}, \"type\": \"choropleth\"}], \"contour\": [{\"colorbar\": {\"outlinewidth\": 0, \"ticks\": \"\"}, \"colorscale\": [[0.0, \"#0d0887\"], [0.1111111111111111, \"#46039f\"], [0.2222222222222222, \"#7201a8\"], [0.3333333333333333, \"#9c179e\"], [0.4444444444444444, \"#bd3786\"], [0.5555555555555556, \"#d8576b\"], [0.6666666666666666, \"#ed7953\"], [0.7777777777777778, \"#fb9f3a\"], [0.8888888888888888, \"#fdca26\"], [1.0, \"#f0f921\"]], \"type\": \"contour\"}], \"contourcarpet\": [{\"colorbar\": {\"outlinewidth\": 0, \"ticks\": \"\"}, \"type\": \"contourcarpet\"}], \"heatmap\": [{\"colorbar\": {\"outlinewidth\": 0, \"ticks\": \"\"}, \"colorscale\": [[0.0, \"#0d0887\"], [0.1111111111111111, \"#46039f\"], [0.2222222222222222, \"#7201a8\"], [0.3333333333333333, \"#9c179e\"], [0.4444444444444444, \"#bd3786\"], [0.5555555555555556, \"#d8576b\"], [0.6666666666666666, \"#ed7953\"], [0.7777777777777778, \"#fb9f3a\"], [0.8888888888888888, \"#fdca26\"], [1.0, \"#f0f921\"]], \"type\": \"heatmap\"}], \"heatmapgl\": [{\"colorbar\": {\"outlinewidth\": 0, \"ticks\": \"\"}, \"colorscale\": [[0.0, \"#0d0887\"], [0.1111111111111111, \"#46039f\"], [0.2222222222222222, \"#7201a8\"], [0.3333333333333333, \"#9c179e\"], [0.4444444444444444, \"#bd3786\"], [0.5555555555555556, \"#d8576b\"], [0.6666666666666666, \"#ed7953\"], [0.7777777777777778, \"#fb9f3a\"], [0.8888888888888888, \"#fdca26\"], [1.0, \"#f0f921\"]], \"type\": \"heatmapgl\"}], \"histogram\": [{\"marker\": {\"colorbar\": {\"outlinewidth\": 0, \"ticks\": \"\"}}, \"type\": \"histogram\"}], \"histogram2d\": [{\"colorbar\": {\"outlinewidth\": 0, \"ticks\": \"\"}, \"colorscale\": [[0.0, \"#0d0887\"], [0.1111111111111111, \"#46039f\"], [0.2222222222222222, \"#7201a8\"], [0.3333333333333333, \"#9c179e\"], [0.4444444444444444, \"#bd3786\"], [0.5555555555555556, \"#d8576b\"], [0.6666666666666666, \"#ed7953\"], [0.7777777777777778, \"#fb9f3a\"], [0.8888888888888888, \"#fdca26\"], [1.0, \"#f0f921\"]], \"type\": \"histogram2d\"}], \"histogram2dcontour\": [{\"colorbar\": {\"outlinewidth\": 0, \"ticks\": \"\"}, \"colorscale\": [[0.0, \"#0d0887\"], [0.1111111111111111, \"#46039f\"], [0.2222222222222222, \"#7201a8\"], [0.3333333333333333, \"#9c179e\"], [0.4444444444444444, \"#bd3786\"], [0.5555555555555556, \"#d8576b\"], [0.6666666666666666, \"#ed7953\"], [0.7777777777777778, \"#fb9f3a\"], [0.8888888888888888, \"#fdca26\"], [1.0, \"#f0f921\"]], \"type\": \"histogram2dcontour\"}], \"mesh3d\": [{\"colorbar\": {\"outlinewidth\": 0, \"ticks\": \"\"}, \"type\": \"mesh3d\"}], \"parcoords\": [{\"line\": {\"colorbar\": {\"outlinewidth\": 0, \"ticks\": \"\"}}, \"type\": \"parcoords\"}], \"pie\": [{\"automargin\": true, \"type\": \"pie\"}], \"scatter\": [{\"marker\": {\"colorbar\": {\"outlinewidth\": 0, \"ticks\": \"\"}}, \"type\": \"scatter\"}], \"scatter3d\": [{\"line\": {\"colorbar\": {\"outlinewidth\": 0, \"ticks\": \"\"}}, \"marker\": {\"colorbar\": {\"outlinewidth\": 0, \"ticks\": \"\"}}, \"type\": \"scatter3d\"}], \"scattercarpet\": [{\"marker\": {\"colorbar\": {\"outlinewidth\": 0, \"ticks\": \"\"}}, \"type\": \"scattercarpet\"}], \"scattergeo\": [{\"marker\": {\"colorbar\": {\"outlinewidth\": 0, \"ticks\": \"\"}}, \"type\": \"scattergeo\"}], \"scattergl\": [{\"marker\": {\"colorbar\": {\"outlinewidth\": 0, \"ticks\": \"\"}}, \"type\": \"scattergl\"}], \"scattermapbox\": [{\"marker\": {\"colorbar\": {\"outlinewidth\": 0, \"ticks\": \"\"}}, \"type\": \"scattermapbox\"}], \"scatterpolar\": [{\"marker\": {\"colorbar\": {\"outlinewidth\": 0, \"ticks\": \"\"}}, \"type\": \"scatterpolar\"}], \"scatterpolargl\": [{\"marker\": {\"colorbar\": {\"outlinewidth\": 0, \"ticks\": \"\"}}, \"type\": \"scatterpolargl\"}], \"scatterternary\": [{\"marker\": {\"colorbar\": {\"outlinewidth\": 0, \"ticks\": \"\"}}, \"type\": \"scatterternary\"}], \"surface\": [{\"colorbar\": {\"outlinewidth\": 0, \"ticks\": \"\"}, \"colorscale\": [[0.0, \"#0d0887\"], [0.1111111111111111, \"#46039f\"], [0.2222222222222222, \"#7201a8\"], [0.3333333333333333, \"#9c179e\"], [0.4444444444444444, \"#bd3786\"], [0.5555555555555556, \"#d8576b\"], [0.6666666666666666, \"#ed7953\"], [0.7777777777777778, \"#fb9f3a\"], [0.8888888888888888, \"#fdca26\"], [1.0, \"#f0f921\"]], \"type\": \"surface\"}], \"table\": [{\"cells\": {\"fill\": {\"color\": \"#EBF0F8\"}, \"line\": {\"color\": \"white\"}}, \"header\": {\"fill\": {\"color\": \"#C8D4E3\"}, \"line\": {\"color\": \"white\"}}, \"type\": \"table\"}]}, \"layout\": {\"annotationdefaults\": {\"arrowcolor\": \"#2a3f5f\", \"arrowhead\": 0, \"arrowwidth\": 1}, \"coloraxis\": {\"colorbar\": {\"outlinewidth\": 0, \"ticks\": \"\"}}, \"colorscale\": {\"diverging\": [[0, \"#8e0152\"], [0.1, \"#c51b7d\"], [0.2, \"#de77ae\"], [0.3, \"#f1b6da\"], [0.4, \"#fde0ef\"], [0.5, \"#f7f7f7\"], [0.6, \"#e6f5d0\"], [0.7, \"#b8e186\"], [0.8, \"#7fbc41\"], [0.9, \"#4d9221\"], [1, \"#276419\"]], \"sequential\": [[0.0, \"#0d0887\"], [0.1111111111111111, \"#46039f\"], [0.2222222222222222, \"#7201a8\"], [0.3333333333333333, \"#9c179e\"], [0.4444444444444444, \"#bd3786\"], [0.5555555555555556, \"#d8576b\"], [0.6666666666666666, \"#ed7953\"], [0.7777777777777778, \"#fb9f3a\"], [0.8888888888888888, \"#fdca26\"], [1.0, \"#f0f921\"]], \"sequentialminus\": [[0.0, \"#0d0887\"], [0.1111111111111111, \"#46039f\"], [0.2222222222222222, \"#7201a8\"], [0.3333333333333333, \"#9c179e\"], [0.4444444444444444, \"#bd3786\"], [0.5555555555555556, \"#d8576b\"], [0.6666666666666666, \"#ed7953\"], [0.7777777777777778, \"#fb9f3a\"], [0.8888888888888888, \"#fdca26\"], [1.0, \"#f0f921\"]]}, \"colorway\": [\"#636efa\", \"#EF553B\", \"#00cc96\", \"#ab63fa\", \"#FFA15A\", \"#19d3f3\", \"#FF6692\", \"#B6E880\", \"#FF97FF\", \"#FECB52\"], \"font\": {\"color\": \"#2a3f5f\"}, \"geo\": {\"bgcolor\": \"white\", \"lakecolor\": \"white\", \"landcolor\": \"#E5ECF6\", \"showlakes\": true, \"showland\": true, \"subunitcolor\": \"white\"}, \"hoverlabel\": {\"align\": \"left\"}, \"hovermode\": \"closest\", \"mapbox\": {\"style\": \"light\"}, \"paper_bgcolor\": \"white\", \"plot_bgcolor\": \"#E5ECF6\", \"polar\": {\"angularaxis\": {\"gridcolor\": \"white\", \"linecolor\": \"white\", \"ticks\": \"\"}, \"bgcolor\": \"#E5ECF6\", \"radialaxis\": {\"gridcolor\": \"white\", \"linecolor\": \"white\", \"ticks\": \"\"}}, \"scene\": {\"xaxis\": {\"backgroundcolor\": \"#E5ECF6\", \"gridcolor\": \"white\", \"gridwidth\": 2, \"linecolor\": \"white\", \"showbackground\": true, \"ticks\": \"\", \"zerolinecolor\": \"white\"}, \"yaxis\": {\"backgroundcolor\": \"#E5ECF6\", \"gridcolor\": \"white\", \"gridwidth\": 2, \"linecolor\": \"white\", \"showbackground\": true, \"ticks\": \"\", \"zerolinecolor\": \"white\"}, \"zaxis\": {\"backgroundcolor\": \"#E5ECF6\", \"gridcolor\": \"white\", \"gridwidth\": 2, \"linecolor\": \"white\", \"showbackground\": true, \"ticks\": \"\", \"zerolinecolor\": \"white\"}}, \"shapedefaults\": {\"line\": {\"color\": \"#2a3f5f\"}}, \"ternary\": {\"aaxis\": {\"gridcolor\": \"white\", \"linecolor\": \"white\", \"ticks\": \"\"}, \"baxis\": {\"gridcolor\": \"white\", \"linecolor\": \"white\", \"ticks\": \"\"}, \"bgcolor\": \"#E5ECF6\", \"caxis\": {\"gridcolor\": \"white\", \"linecolor\": \"white\", \"ticks\": \"\"}}, \"title\": {\"x\": 0.05}, \"xaxis\": {\"automargin\": true, \"gridcolor\": \"white\", \"linecolor\": \"white\", \"ticks\": \"\", \"title\": {\"standoff\": 15}, \"zerolinecolor\": \"white\", \"zerolinewidth\": 2}, \"yaxis\": {\"automargin\": true, \"gridcolor\": \"white\", \"linecolor\": \"white\", \"ticks\": \"\", \"title\": {\"standoff\": 15}, \"zerolinecolor\": \"white\", \"zerolinewidth\": 2}}}, \"title\": {\"text\": \"COVID-19: Daily Mutations in<br>China, Mainland China\"}, \"xaxis\": {\"anchor\": \"y\", \"domain\": [0.0, 1.0], \"title\": {\"text\": \"date\"}}, \"yaxis\": {\"anchor\": \"x\", \"domain\": [0.0, 1.0], \"title\": {\"text\": \"# of people\"}}},\n",
              "                        {\"responsive\": true}\n",
              "                    ).then(function(){\n",
              "                            \n",
              "var gd = document.getElementById('792d5752-77a3-45d9-8394-3215fb89a049');\n",
              "var x = new MutationObserver(function (mutations, observer) {{\n",
              "        var display = window.getComputedStyle(gd).display;\n",
              "        if (!display || display === 'none') {{\n",
              "            console.log([gd, 'removed!']);\n",
              "            Plotly.purge(gd);\n",
              "            observer.disconnect();\n",
              "        }}\n",
              "}});\n",
              "\n",
              "// Listen for the removal of the full notebook cells\n",
              "var notebookContainer = gd.closest('#notebook-container');\n",
              "if (notebookContainer) {{\n",
              "    x.observe(notebookContainer, {childList: true});\n",
              "}}\n",
              "\n",
              "// Listen for the clearing of the current output cell\n",
              "var outputEl = gd.closest('.output');\n",
              "if (outputEl) {{\n",
              "    x.observe(outputEl, {childList: true});\n",
              "}}\n",
              "\n",
              "                        })\n",
              "                };\n",
              "                \n",
              "            </script>\n",
              "        </div>\n",
              "</body>\n",
              "</html>"
            ]
          },
          "metadata": {
            "tags": [
              "id3_content_1",
              "outputarea_id3",
              "user_output"
            ]
          }
        },
        {
          "output_type": "display_data",
          "data": {
            "application/javascript": [
              "window[\"b0ef70cc-641d-11ea-acba-0242ac1c0002\"] = google.colab.output.setActiveOutputArea(window[\"b0af215c-641d-11ea-acba-0242ac1c0002\"]);\n",
              "//# sourceURL=js_8e5a743696"
            ],
            "text/plain": [
              "<IPython.core.display.Javascript object>"
            ]
          },
          "metadata": {
            "tags": [
              "id3_content_1",
              "outputarea_id3"
            ]
          }
        },
        {
          "output_type": "display_data",
          "data": {
            "application/javascript": [
              "window[\"b0f07670-641d-11ea-acba-0242ac1c0002\"] = google.colab.output.getActiveOutputArea();\n",
              "//# sourceURL=js_160c60873c"
            ],
            "text/plain": [
              "<IPython.core.display.Javascript object>"
            ]
          },
          "metadata": {
            "tags": [
              "id3_content_2",
              "outputarea_id3"
            ]
          }
        },
        {
          "output_type": "display_data",
          "data": {
            "application/javascript": [
              "window[\"b0f0ad2a-641d-11ea-acba-0242ac1c0002\"] = document.querySelector(\"#id3_content_2\");\n",
              "//# sourceURL=js_7bc64c51ab"
            ],
            "text/plain": [
              "<IPython.core.display.Javascript object>"
            ]
          },
          "metadata": {
            "tags": [
              "id3_content_2",
              "outputarea_id3"
            ]
          }
        },
        {
          "output_type": "display_data",
          "data": {
            "application/javascript": [
              "window[\"b0f0e40c-641d-11ea-acba-0242ac1c0002\"] = google.colab.output.setActiveOutputArea(window[\"b0f0ad2a-641d-11ea-acba-0242ac1c0002\"]);\n",
              "//# sourceURL=js_c49c44bf22"
            ],
            "text/plain": [
              "<IPython.core.display.Javascript object>"
            ]
          },
          "metadata": {
            "tags": [
              "id3_content_2",
              "outputarea_id3"
            ]
          }
        },
        {
          "output_type": "display_data",
          "data": {
            "text/html": [
              "<html>\n",
              "<head><meta charset=\"utf-8\" /></head>\n",
              "<body>\n",
              "    <div>\n",
              "            <script src=\"https://cdnjs.cloudflare.com/ajax/libs/mathjax/2.7.5/MathJax.js?config=TeX-AMS-MML_SVG\"></script><script type=\"text/javascript\">if (window.MathJax) {MathJax.Hub.Config({SVG: {font: \"STIX-Web\"}});}</script>\n",
              "                <script type=\"text/javascript\">window.PlotlyConfig = {MathJaxConfig: 'local'};</script>\n",
              "        <script src=\"https://cdn.plot.ly/plotly-latest.min.js\"></script>    \n",
              "            <div id=\"4e003ca9-c788-4179-94e3-6f6c31a883d4\" class=\"plotly-graph-div\" style=\"height:525px; width:100%;\"></div>\n",
              "            <script type=\"text/javascript\">\n",
              "                \n",
              "                    window.PLOTLYENV=window.PLOTLYENV || {};\n",
              "                    \n",
              "                if (document.getElementById(\"4e003ca9-c788-4179-94e3-6f6c31a883d4\")) {\n",
              "                    Plotly.newPlot(\n",
              "                        '4e003ca9-c788-4179-94e3-6f6c31a883d4',\n",
              "                        [{\"hoverlabel\": {\"namelength\": 0}, \"hovertemplate\": \"date=%{x}<br># of recovery days=%{y}\", \"legendgroup\": \"\", \"line\": {\"color\": \"#636efa\", \"dash\": \"solid\"}, \"mode\": \"lines\", \"name\": \"\", \"showlegend\": false, \"type\": \"scatter\", \"x\": [\"2020-01-22\", \"2020-01-23\", \"2020-01-24\", \"2020-01-25\", \"2020-01-26\", \"2020-01-27\", \"2020-01-28\", \"2020-01-29\", \"2020-01-30\", \"2020-01-31\", \"2020-02-01\", \"2020-02-02\", \"2020-02-03\", \"2020-02-04\", \"2020-02-05\", \"2020-02-06\", \"2020-02-07\", \"2020-02-08\", \"2020-02-09\", \"2020-02-10\", \"2020-02-11\", \"2020-02-12\", \"2020-02-13\", \"2020-02-14\", \"2020-02-15\", \"2020-02-16\", \"2020-02-17\", \"2020-02-18\", \"2020-02-19\", \"2020-02-20\", \"2020-02-21\", \"2020-02-22\", \"2020-02-23\", \"2020-02-24\", \"2020-02-25\", \"2020-02-26\", \"2020-02-27\", \"2020-02-28\", \"2020-02-29\", \"2020-03-01\", \"2020-03-02\", \"2020-03-03\", \"2020-03-04\", \"2020-03-05\", \"2020-03-06\", \"2020-03-07\", \"2020-03-08\", \"2020-03-09\", \"2020-03-10\", \"2020-03-11\"], \"xaxis\": \"x\", \"y\": [0, 1, 2, 3, 4, 5, 6, 7, 8, 9, 10, 9, 9, 10, 10, 10, 11, 11, 12, 13, 13, 13, 14, 14, 14, 14, 15, 16, 16, 16, 17, 17, 18, 18, 19, 19, 19, 19, 19, 17, 18, 19, 20, 21, 22, 23, 23, 24, 25, 26], \"yaxis\": \"y\"}],\n",
              "                        {\"legend\": {\"tracegroupgap\": 0}, \"template\": {\"data\": {\"bar\": [{\"error_x\": {\"color\": \"#2a3f5f\"}, \"error_y\": {\"color\": \"#2a3f5f\"}, \"marker\": {\"line\": {\"color\": \"#E5ECF6\", \"width\": 0.5}}, \"type\": \"bar\"}], \"barpolar\": [{\"marker\": {\"line\": {\"color\": \"#E5ECF6\", \"width\": 0.5}}, \"type\": \"barpolar\"}], \"carpet\": [{\"aaxis\": {\"endlinecolor\": \"#2a3f5f\", \"gridcolor\": \"white\", \"linecolor\": \"white\", \"minorgridcolor\": \"white\", \"startlinecolor\": \"#2a3f5f\"}, \"baxis\": {\"endlinecolor\": \"#2a3f5f\", \"gridcolor\": \"white\", \"linecolor\": \"white\", \"minorgridcolor\": \"white\", \"startlinecolor\": \"#2a3f5f\"}, \"type\": \"carpet\"}], \"choropleth\": [{\"colorbar\": {\"outlinewidth\": 0, \"ticks\": \"\"}, \"type\": \"choropleth\"}], \"contour\": [{\"colorbar\": {\"outlinewidth\": 0, \"ticks\": \"\"}, \"colorscale\": [[0.0, \"#0d0887\"], [0.1111111111111111, \"#46039f\"], [0.2222222222222222, \"#7201a8\"], [0.3333333333333333, \"#9c179e\"], [0.4444444444444444, \"#bd3786\"], [0.5555555555555556, \"#d8576b\"], [0.6666666666666666, \"#ed7953\"], [0.7777777777777778, \"#fb9f3a\"], [0.8888888888888888, \"#fdca26\"], [1.0, \"#f0f921\"]], \"type\": \"contour\"}], \"contourcarpet\": [{\"colorbar\": {\"outlinewidth\": 0, \"ticks\": \"\"}, \"type\": \"contourcarpet\"}], \"heatmap\": [{\"colorbar\": {\"outlinewidth\": 0, \"ticks\": \"\"}, \"colorscale\": [[0.0, \"#0d0887\"], [0.1111111111111111, \"#46039f\"], [0.2222222222222222, \"#7201a8\"], [0.3333333333333333, \"#9c179e\"], [0.4444444444444444, \"#bd3786\"], [0.5555555555555556, \"#d8576b\"], [0.6666666666666666, \"#ed7953\"], [0.7777777777777778, \"#fb9f3a\"], [0.8888888888888888, \"#fdca26\"], [1.0, \"#f0f921\"]], \"type\": \"heatmap\"}], \"heatmapgl\": [{\"colorbar\": {\"outlinewidth\": 0, \"ticks\": \"\"}, \"colorscale\": [[0.0, \"#0d0887\"], [0.1111111111111111, \"#46039f\"], [0.2222222222222222, \"#7201a8\"], [0.3333333333333333, \"#9c179e\"], [0.4444444444444444, \"#bd3786\"], [0.5555555555555556, \"#d8576b\"], [0.6666666666666666, \"#ed7953\"], [0.7777777777777778, \"#fb9f3a\"], [0.8888888888888888, \"#fdca26\"], [1.0, \"#f0f921\"]], \"type\": \"heatmapgl\"}], \"histogram\": [{\"marker\": {\"colorbar\": {\"outlinewidth\": 0, \"ticks\": \"\"}}, \"type\": \"histogram\"}], \"histogram2d\": [{\"colorbar\": {\"outlinewidth\": 0, \"ticks\": \"\"}, \"colorscale\": [[0.0, \"#0d0887\"], [0.1111111111111111, \"#46039f\"], [0.2222222222222222, \"#7201a8\"], [0.3333333333333333, \"#9c179e\"], [0.4444444444444444, \"#bd3786\"], [0.5555555555555556, \"#d8576b\"], [0.6666666666666666, \"#ed7953\"], [0.7777777777777778, \"#fb9f3a\"], [0.8888888888888888, \"#fdca26\"], [1.0, \"#f0f921\"]], \"type\": \"histogram2d\"}], \"histogram2dcontour\": [{\"colorbar\": {\"outlinewidth\": 0, \"ticks\": \"\"}, \"colorscale\": [[0.0, \"#0d0887\"], [0.1111111111111111, \"#46039f\"], [0.2222222222222222, \"#7201a8\"], [0.3333333333333333, \"#9c179e\"], [0.4444444444444444, \"#bd3786\"], [0.5555555555555556, \"#d8576b\"], [0.6666666666666666, \"#ed7953\"], [0.7777777777777778, \"#fb9f3a\"], [0.8888888888888888, \"#fdca26\"], [1.0, \"#f0f921\"]], \"type\": \"histogram2dcontour\"}], \"mesh3d\": [{\"colorbar\": {\"outlinewidth\": 0, \"ticks\": \"\"}, \"type\": \"mesh3d\"}], \"parcoords\": [{\"line\": {\"colorbar\": {\"outlinewidth\": 0, \"ticks\": \"\"}}, \"type\": \"parcoords\"}], \"pie\": [{\"automargin\": true, \"type\": \"pie\"}], \"scatter\": [{\"marker\": {\"colorbar\": {\"outlinewidth\": 0, \"ticks\": \"\"}}, \"type\": \"scatter\"}], \"scatter3d\": [{\"line\": {\"colorbar\": {\"outlinewidth\": 0, \"ticks\": \"\"}}, \"marker\": {\"colorbar\": {\"outlinewidth\": 0, \"ticks\": \"\"}}, \"type\": \"scatter3d\"}], \"scattercarpet\": [{\"marker\": {\"colorbar\": {\"outlinewidth\": 0, \"ticks\": \"\"}}, \"type\": \"scattercarpet\"}], \"scattergeo\": [{\"marker\": {\"colorbar\": {\"outlinewidth\": 0, \"ticks\": \"\"}}, \"type\": \"scattergeo\"}], \"scattergl\": [{\"marker\": {\"colorbar\": {\"outlinewidth\": 0, \"ticks\": \"\"}}, \"type\": \"scattergl\"}], \"scattermapbox\": [{\"marker\": {\"colorbar\": {\"outlinewidth\": 0, \"ticks\": \"\"}}, \"type\": \"scattermapbox\"}], \"scatterpolar\": [{\"marker\": {\"colorbar\": {\"outlinewidth\": 0, \"ticks\": \"\"}}, \"type\": \"scatterpolar\"}], \"scatterpolargl\": [{\"marker\": {\"colorbar\": {\"outlinewidth\": 0, \"ticks\": \"\"}}, \"type\": \"scatterpolargl\"}], \"scatterternary\": [{\"marker\": {\"colorbar\": {\"outlinewidth\": 0, \"ticks\": \"\"}}, \"type\": \"scatterternary\"}], \"surface\": [{\"colorbar\": {\"outlinewidth\": 0, \"ticks\": \"\"}, \"colorscale\": [[0.0, \"#0d0887\"], [0.1111111111111111, \"#46039f\"], [0.2222222222222222, \"#7201a8\"], [0.3333333333333333, \"#9c179e\"], [0.4444444444444444, \"#bd3786\"], [0.5555555555555556, \"#d8576b\"], [0.6666666666666666, \"#ed7953\"], [0.7777777777777778, \"#fb9f3a\"], [0.8888888888888888, \"#fdca26\"], [1.0, \"#f0f921\"]], \"type\": \"surface\"}], \"table\": [{\"cells\": {\"fill\": {\"color\": \"#EBF0F8\"}, \"line\": {\"color\": \"white\"}}, \"header\": {\"fill\": {\"color\": \"#C8D4E3\"}, \"line\": {\"color\": \"white\"}}, \"type\": \"table\"}]}, \"layout\": {\"annotationdefaults\": {\"arrowcolor\": \"#2a3f5f\", \"arrowhead\": 0, \"arrowwidth\": 1}, \"coloraxis\": {\"colorbar\": {\"outlinewidth\": 0, \"ticks\": \"\"}}, \"colorscale\": {\"diverging\": [[0, \"#8e0152\"], [0.1, \"#c51b7d\"], [0.2, \"#de77ae\"], [0.3, \"#f1b6da\"], [0.4, \"#fde0ef\"], [0.5, \"#f7f7f7\"], [0.6, \"#e6f5d0\"], [0.7, \"#b8e186\"], [0.8, \"#7fbc41\"], [0.9, \"#4d9221\"], [1, \"#276419\"]], \"sequential\": [[0.0, \"#0d0887\"], [0.1111111111111111, \"#46039f\"], [0.2222222222222222, \"#7201a8\"], [0.3333333333333333, \"#9c179e\"], [0.4444444444444444, \"#bd3786\"], [0.5555555555555556, \"#d8576b\"], [0.6666666666666666, \"#ed7953\"], [0.7777777777777778, \"#fb9f3a\"], [0.8888888888888888, \"#fdca26\"], [1.0, \"#f0f921\"]], \"sequentialminus\": [[0.0, \"#0d0887\"], [0.1111111111111111, \"#46039f\"], [0.2222222222222222, \"#7201a8\"], [0.3333333333333333, \"#9c179e\"], [0.4444444444444444, \"#bd3786\"], [0.5555555555555556, \"#d8576b\"], [0.6666666666666666, \"#ed7953\"], [0.7777777777777778, \"#fb9f3a\"], [0.8888888888888888, \"#fdca26\"], [1.0, \"#f0f921\"]]}, \"colorway\": [\"#636efa\", \"#EF553B\", \"#00cc96\", \"#ab63fa\", \"#FFA15A\", \"#19d3f3\", \"#FF6692\", \"#B6E880\", \"#FF97FF\", \"#FECB52\"], \"font\": {\"color\": \"#2a3f5f\"}, \"geo\": {\"bgcolor\": \"white\", \"lakecolor\": \"white\", \"landcolor\": \"#E5ECF6\", \"showlakes\": true, \"showland\": true, \"subunitcolor\": \"white\"}, \"hoverlabel\": {\"align\": \"left\"}, \"hovermode\": \"closest\", \"mapbox\": {\"style\": \"light\"}, \"paper_bgcolor\": \"white\", \"plot_bgcolor\": \"#E5ECF6\", \"polar\": {\"angularaxis\": {\"gridcolor\": \"white\", \"linecolor\": \"white\", \"ticks\": \"\"}, \"bgcolor\": \"#E5ECF6\", \"radialaxis\": {\"gridcolor\": \"white\", \"linecolor\": \"white\", \"ticks\": \"\"}}, \"scene\": {\"xaxis\": {\"backgroundcolor\": \"#E5ECF6\", \"gridcolor\": \"white\", \"gridwidth\": 2, \"linecolor\": \"white\", \"showbackground\": true, \"ticks\": \"\", \"zerolinecolor\": \"white\"}, \"yaxis\": {\"backgroundcolor\": \"#E5ECF6\", \"gridcolor\": \"white\", \"gridwidth\": 2, \"linecolor\": \"white\", \"showbackground\": true, \"ticks\": \"\", \"zerolinecolor\": \"white\"}, \"zaxis\": {\"backgroundcolor\": \"#E5ECF6\", \"gridcolor\": \"white\", \"gridwidth\": 2, \"linecolor\": \"white\", \"showbackground\": true, \"ticks\": \"\", \"zerolinecolor\": \"white\"}}, \"shapedefaults\": {\"line\": {\"color\": \"#2a3f5f\"}}, \"ternary\": {\"aaxis\": {\"gridcolor\": \"white\", \"linecolor\": \"white\", \"ticks\": \"\"}, \"baxis\": {\"gridcolor\": \"white\", \"linecolor\": \"white\", \"ticks\": \"\"}, \"bgcolor\": \"#E5ECF6\", \"caxis\": {\"gridcolor\": \"white\", \"linecolor\": \"white\", \"ticks\": \"\"}}, \"title\": {\"x\": 0.05}, \"xaxis\": {\"automargin\": true, \"gridcolor\": \"white\", \"linecolor\": \"white\", \"ticks\": \"\", \"title\": {\"standoff\": 15}, \"zerolinecolor\": \"white\", \"zerolinewidth\": 2}, \"yaxis\": {\"automargin\": true, \"gridcolor\": \"white\", \"linecolor\": \"white\", \"ticks\": \"\", \"title\": {\"standoff\": 15}, \"zerolinecolor\": \"white\", \"zerolinewidth\": 2}}}, \"title\": {\"text\": \"COVID-19: Showing<br>China, Mainland China\"}, \"xaxis\": {\"anchor\": \"y\", \"domain\": [0.0, 1.0], \"title\": {\"text\": \"date\"}}, \"yaxis\": {\"anchor\": \"x\", \"domain\": [0.0, 1.0], \"title\": {\"text\": \"# of recovery days\"}}},\n",
              "                        {\"responsive\": true}\n",
              "                    ).then(function(){\n",
              "                            \n",
              "var gd = document.getElementById('4e003ca9-c788-4179-94e3-6f6c31a883d4');\n",
              "var x = new MutationObserver(function (mutations, observer) {{\n",
              "        var display = window.getComputedStyle(gd).display;\n",
              "        if (!display || display === 'none') {{\n",
              "            console.log([gd, 'removed!']);\n",
              "            Plotly.purge(gd);\n",
              "            observer.disconnect();\n",
              "        }}\n",
              "}});\n",
              "\n",
              "// Listen for the removal of the full notebook cells\n",
              "var notebookContainer = gd.closest('#notebook-container');\n",
              "if (notebookContainer) {{\n",
              "    x.observe(notebookContainer, {childList: true});\n",
              "}}\n",
              "\n",
              "// Listen for the clearing of the current output cell\n",
              "var outputEl = gd.closest('.output');\n",
              "if (outputEl) {{\n",
              "    x.observe(outputEl, {childList: true});\n",
              "}}\n",
              "\n",
              "                        })\n",
              "                };\n",
              "                \n",
              "            </script>\n",
              "        </div>\n",
              "</body>\n",
              "</html>"
            ]
          },
          "metadata": {
            "tags": [
              "id3_content_2",
              "outputarea_id3",
              "user_output"
            ]
          }
        },
        {
          "output_type": "display_data",
          "data": {
            "application/javascript": [
              "window[\"b11c75d6-641d-11ea-acba-0242ac1c0002\"] = google.colab.output.setActiveOutputArea(window[\"b0f07670-641d-11ea-acba-0242ac1c0002\"]);\n",
              "//# sourceURL=js_725888d0da"
            ],
            "text/plain": [
              "<IPython.core.display.Javascript object>"
            ]
          },
          "metadata": {
            "tags": [
              "id3_content_2",
              "outputarea_id3"
            ]
          }
        },
        {
          "output_type": "display_data",
          "data": {
            "application/javascript": [
              "window[\"b11d724c-641d-11ea-acba-0242ac1c0002\"] = google.colab.output.getActiveOutputArea();\n",
              "//# sourceURL=js_ef28f6c8f3"
            ],
            "text/plain": [
              "<IPython.core.display.Javascript object>"
            ]
          },
          "metadata": {
            "tags": [
              "id3_content_3",
              "outputarea_id3"
            ]
          }
        },
        {
          "output_type": "display_data",
          "data": {
            "application/javascript": [
              "window[\"b11da9e2-641d-11ea-acba-0242ac1c0002\"] = document.querySelector(\"#id3_content_3\");\n",
              "//# sourceURL=js_3acc21a22d"
            ],
            "text/plain": [
              "<IPython.core.display.Javascript object>"
            ]
          },
          "metadata": {
            "tags": [
              "id3_content_3",
              "outputarea_id3"
            ]
          }
        },
        {
          "output_type": "display_data",
          "data": {
            "application/javascript": [
              "window[\"b11ddf98-641d-11ea-acba-0242ac1c0002\"] = google.colab.output.setActiveOutputArea(window[\"b11da9e2-641d-11ea-acba-0242ac1c0002\"]);\n",
              "//# sourceURL=js_fc80597887"
            ],
            "text/plain": [
              "<IPython.core.display.Javascript object>"
            ]
          },
          "metadata": {
            "tags": [
              "id3_content_3",
              "outputarea_id3"
            ]
          }
        },
        {
          "output_type": "display_data",
          "data": {
            "text/html": [
              "<html>\n",
              "<head><meta charset=\"utf-8\" /></head>\n",
              "<body>\n",
              "    <div>\n",
              "            <script src=\"https://cdnjs.cloudflare.com/ajax/libs/mathjax/2.7.5/MathJax.js?config=TeX-AMS-MML_SVG\"></script><script type=\"text/javascript\">if (window.MathJax) {MathJax.Hub.Config({SVG: {font: \"STIX-Web\"}});}</script>\n",
              "                <script type=\"text/javascript\">window.PlotlyConfig = {MathJaxConfig: 'local'};</script>\n",
              "        <script src=\"https://cdn.plot.ly/plotly-latest.min.js\"></script>    \n",
              "            <div id=\"1e0b543a-103f-4a9c-9981-aafaab13ab5c\" class=\"plotly-graph-div\" style=\"height:525px; width:100%;\"></div>\n",
              "            <script type=\"text/javascript\">\n",
              "                \n",
              "                    window.PLOTLYENV=window.PLOTLYENV || {};\n",
              "                    \n",
              "                if (document.getElementById(\"1e0b543a-103f-4a9c-9981-aafaab13ab5c\")) {\n",
              "                    Plotly.newPlot(\n",
              "                        '1e0b543a-103f-4a9c-9981-aafaab13ab5c',\n",
              "                        [{\"hoverlabel\": {\"namelength\": 0}, \"hovertemplate\": \"=Upper estimate<br>date=%{x}<br>%=%{y}\", \"legendgroup\": \"=Upper estimate\", \"line\": {\"color\": \"red\", \"dash\": \"solid\"}, \"mode\": \"lines\", \"name\": \"=Upper estimate\", \"showlegend\": true, \"type\": \"scatter\", \"x\": [\"2020-01-22\", \"2020-01-23\", \"2020-01-24\", \"2020-01-25\", \"2020-01-26\", \"2020-01-27\", \"2020-01-28\", \"2020-01-29\", \"2020-01-30\", \"2020-01-31\", \"2020-02-01\", \"2020-02-02\", \"2020-02-03\", \"2020-02-04\", \"2020-02-05\", \"2020-02-06\", \"2020-02-07\", \"2020-02-08\", \"2020-02-09\", \"2020-02-10\", \"2020-02-11\", \"2020-02-12\", \"2020-02-13\", \"2020-02-14\", \"2020-02-15\", \"2020-02-16\", \"2020-02-17\", \"2020-02-18\", \"2020-02-19\", \"2020-02-20\", \"2020-02-21\", \"2020-02-22\", \"2020-02-23\", \"2020-02-24\", \"2020-02-25\", \"2020-02-26\", \"2020-02-27\", \"2020-02-28\", \"2020-02-29\", \"2020-03-01\", \"2020-03-02\", \"2020-03-03\", \"2020-03-04\", \"2020-03-05\", \"2020-03-06\", \"2020-03-07\", \"2020-03-08\", \"2020-03-09\", \"2020-03-10\", \"2020-03-11\"], \"xaxis\": \"x\", \"y\": [37.78, 37.5, 41.94, 51.85, 53.33, 58.57, 56.47, 52.57, 55.88, 49.88, 48.5, 43.81, 40.9, 36.76, 33.51, 29.98, 26.41, 23.65, 21.93, 20.52, 19.34, 18.01, 18.05, 16.01, 15.17, 14.11, 13.01, 12.36, 11.7, 11.05, 10.68, 9.71, 9.54, 9.4, 8.79, 8.29, 7.7, 7.13, 6.73, 6.38, 6.1, 5.85, 5.63, 5.45, 5.34, 5.24, 5.13, 5.04, 4.96, 4.88], \"yaxis\": \"y\"}, {\"hoverlabel\": {\"namelength\": 0}, \"hovertemplate\": \"=Lower estimate<br>date=%{x}<br>%=%{y}\", \"legendgroup\": \"=Lower estimate\", \"line\": {\"color\": \"orange\", \"dash\": \"solid\"}, \"mode\": \"lines\", \"name\": \"=Lower estimate\", \"showlegend\": true, \"type\": \"scatter\", \"x\": [\"2020-01-22\", \"2020-01-23\", \"2020-01-24\", \"2020-01-25\", \"2020-01-26\", \"2020-01-27\", \"2020-01-28\", \"2020-01-29\", \"2020-01-30\", \"2020-01-31\", \"2020-02-01\", \"2020-02-02\", \"2020-02-03\", \"2020-02-04\", \"2020-02-05\", \"2020-02-06\", \"2020-02-07\", \"2020-02-08\", \"2020-02-09\", \"2020-02-10\", \"2020-02-11\", \"2020-02-12\", \"2020-02-13\", \"2020-02-14\", \"2020-02-15\", \"2020-02-16\", \"2020-02-17\", \"2020-02-18\", \"2020-02-19\", \"2020-02-20\", \"2020-02-21\", \"2020-02-22\", \"2020-02-23\", \"2020-02-24\", \"2020-02-25\", \"2020-02-26\", \"2020-02-27\", \"2020-02-28\", \"2020-02-29\", \"2020-03-01\", \"2020-03-02\", \"2020-03-03\", \"2020-03-04\", \"2020-03-05\", \"2020-03-06\", \"2020-03-07\", \"2020-03-08\", \"2020-03-09\", \"2020-03-10\", \"2020-03-11\"], \"xaxis\": \"x\", \"y\": [3.11, 2.82, 2.84, 3.0, 2.72, 2.86, 2.38, 2.19, 2.1, 2.18, 2.18, 2.17, 2.16, 2.07, 2.05, 2.07, 2.1, 2.19, 2.27, 2.39, 2.51, 2.5, 2.29, 2.29, 2.43, 2.51, 2.57, 2.7, 2.84, 2.98, 2.96, 3.17, 3.18, 3.36, 3.43, 3.48, 3.5, 3.54, 3.58, 3.6, 3.64, 3.67, 3.71, 3.75, 3.78, 3.81, 3.84, 3.86, 3.88, 3.91], \"yaxis\": \"y\"}],\n",
              "                        {\"legend\": {\"tracegroupgap\": 0}, \"template\": {\"data\": {\"bar\": [{\"error_x\": {\"color\": \"#2a3f5f\"}, \"error_y\": {\"color\": \"#2a3f5f\"}, \"marker\": {\"line\": {\"color\": \"#E5ECF6\", \"width\": 0.5}}, \"type\": \"bar\"}], \"barpolar\": [{\"marker\": {\"line\": {\"color\": \"#E5ECF6\", \"width\": 0.5}}, \"type\": \"barpolar\"}], \"carpet\": [{\"aaxis\": {\"endlinecolor\": \"#2a3f5f\", \"gridcolor\": \"white\", \"linecolor\": \"white\", \"minorgridcolor\": \"white\", \"startlinecolor\": \"#2a3f5f\"}, \"baxis\": {\"endlinecolor\": \"#2a3f5f\", \"gridcolor\": \"white\", \"linecolor\": \"white\", \"minorgridcolor\": \"white\", \"startlinecolor\": \"#2a3f5f\"}, \"type\": \"carpet\"}], \"choropleth\": [{\"colorbar\": {\"outlinewidth\": 0, \"ticks\": \"\"}, \"type\": \"choropleth\"}], \"contour\": [{\"colorbar\": {\"outlinewidth\": 0, \"ticks\": \"\"}, \"colorscale\": [[0.0, \"#0d0887\"], [0.1111111111111111, \"#46039f\"], [0.2222222222222222, \"#7201a8\"], [0.3333333333333333, \"#9c179e\"], [0.4444444444444444, \"#bd3786\"], [0.5555555555555556, \"#d8576b\"], [0.6666666666666666, \"#ed7953\"], [0.7777777777777778, \"#fb9f3a\"], [0.8888888888888888, \"#fdca26\"], [1.0, \"#f0f921\"]], \"type\": \"contour\"}], \"contourcarpet\": [{\"colorbar\": {\"outlinewidth\": 0, \"ticks\": \"\"}, \"type\": \"contourcarpet\"}], \"heatmap\": [{\"colorbar\": {\"outlinewidth\": 0, \"ticks\": \"\"}, \"colorscale\": [[0.0, \"#0d0887\"], [0.1111111111111111, \"#46039f\"], [0.2222222222222222, \"#7201a8\"], [0.3333333333333333, \"#9c179e\"], [0.4444444444444444, \"#bd3786\"], [0.5555555555555556, \"#d8576b\"], [0.6666666666666666, \"#ed7953\"], [0.7777777777777778, \"#fb9f3a\"], [0.8888888888888888, \"#fdca26\"], [1.0, \"#f0f921\"]], \"type\": \"heatmap\"}], \"heatmapgl\": [{\"colorbar\": {\"outlinewidth\": 0, \"ticks\": \"\"}, \"colorscale\": [[0.0, \"#0d0887\"], [0.1111111111111111, \"#46039f\"], [0.2222222222222222, \"#7201a8\"], [0.3333333333333333, \"#9c179e\"], [0.4444444444444444, \"#bd3786\"], [0.5555555555555556, \"#d8576b\"], [0.6666666666666666, \"#ed7953\"], [0.7777777777777778, \"#fb9f3a\"], [0.8888888888888888, \"#fdca26\"], [1.0, \"#f0f921\"]], \"type\": \"heatmapgl\"}], \"histogram\": [{\"marker\": {\"colorbar\": {\"outlinewidth\": 0, \"ticks\": \"\"}}, \"type\": \"histogram\"}], \"histogram2d\": [{\"colorbar\": {\"outlinewidth\": 0, \"ticks\": \"\"}, \"colorscale\": [[0.0, \"#0d0887\"], [0.1111111111111111, \"#46039f\"], [0.2222222222222222, \"#7201a8\"], [0.3333333333333333, \"#9c179e\"], [0.4444444444444444, \"#bd3786\"], [0.5555555555555556, \"#d8576b\"], [0.6666666666666666, \"#ed7953\"], [0.7777777777777778, \"#fb9f3a\"], [0.8888888888888888, \"#fdca26\"], [1.0, \"#f0f921\"]], \"type\": \"histogram2d\"}], \"histogram2dcontour\": [{\"colorbar\": {\"outlinewidth\": 0, \"ticks\": \"\"}, \"colorscale\": [[0.0, \"#0d0887\"], [0.1111111111111111, \"#46039f\"], [0.2222222222222222, \"#7201a8\"], [0.3333333333333333, \"#9c179e\"], [0.4444444444444444, \"#bd3786\"], [0.5555555555555556, \"#d8576b\"], [0.6666666666666666, \"#ed7953\"], [0.7777777777777778, \"#fb9f3a\"], [0.8888888888888888, \"#fdca26\"], [1.0, \"#f0f921\"]], \"type\": \"histogram2dcontour\"}], \"mesh3d\": [{\"colorbar\": {\"outlinewidth\": 0, \"ticks\": \"\"}, \"type\": \"mesh3d\"}], \"parcoords\": [{\"line\": {\"colorbar\": {\"outlinewidth\": 0, \"ticks\": \"\"}}, \"type\": \"parcoords\"}], \"pie\": [{\"automargin\": true, \"type\": \"pie\"}], \"scatter\": [{\"marker\": {\"colorbar\": {\"outlinewidth\": 0, \"ticks\": \"\"}}, \"type\": \"scatter\"}], \"scatter3d\": [{\"line\": {\"colorbar\": {\"outlinewidth\": 0, \"ticks\": \"\"}}, \"marker\": {\"colorbar\": {\"outlinewidth\": 0, \"ticks\": \"\"}}, \"type\": \"scatter3d\"}], \"scattercarpet\": [{\"marker\": {\"colorbar\": {\"outlinewidth\": 0, \"ticks\": \"\"}}, \"type\": \"scattercarpet\"}], \"scattergeo\": [{\"marker\": {\"colorbar\": {\"outlinewidth\": 0, \"ticks\": \"\"}}, \"type\": \"scattergeo\"}], \"scattergl\": [{\"marker\": {\"colorbar\": {\"outlinewidth\": 0, \"ticks\": \"\"}}, \"type\": \"scattergl\"}], \"scattermapbox\": [{\"marker\": {\"colorbar\": {\"outlinewidth\": 0, \"ticks\": \"\"}}, \"type\": \"scattermapbox\"}], \"scatterpolar\": [{\"marker\": {\"colorbar\": {\"outlinewidth\": 0, \"ticks\": \"\"}}, \"type\": \"scatterpolar\"}], \"scatterpolargl\": [{\"marker\": {\"colorbar\": {\"outlinewidth\": 0, \"ticks\": \"\"}}, \"type\": \"scatterpolargl\"}], \"scatterternary\": [{\"marker\": {\"colorbar\": {\"outlinewidth\": 0, \"ticks\": \"\"}}, \"type\": \"scatterternary\"}], \"surface\": [{\"colorbar\": {\"outlinewidth\": 0, \"ticks\": \"\"}, \"colorscale\": [[0.0, \"#0d0887\"], [0.1111111111111111, \"#46039f\"], [0.2222222222222222, \"#7201a8\"], [0.3333333333333333, \"#9c179e\"], [0.4444444444444444, \"#bd3786\"], [0.5555555555555556, \"#d8576b\"], [0.6666666666666666, \"#ed7953\"], [0.7777777777777778, \"#fb9f3a\"], [0.8888888888888888, \"#fdca26\"], [1.0, \"#f0f921\"]], \"type\": \"surface\"}], \"table\": [{\"cells\": {\"fill\": {\"color\": \"#EBF0F8\"}, \"line\": {\"color\": \"white\"}}, \"header\": {\"fill\": {\"color\": \"#C8D4E3\"}, \"line\": {\"color\": \"white\"}}, \"type\": \"table\"}]}, \"layout\": {\"annotationdefaults\": {\"arrowcolor\": \"#2a3f5f\", \"arrowhead\": 0, \"arrowwidth\": 1}, \"coloraxis\": {\"colorbar\": {\"outlinewidth\": 0, \"ticks\": \"\"}}, \"colorscale\": {\"diverging\": [[0, \"#8e0152\"], [0.1, \"#c51b7d\"], [0.2, \"#de77ae\"], [0.3, \"#f1b6da\"], [0.4, \"#fde0ef\"], [0.5, \"#f7f7f7\"], [0.6, \"#e6f5d0\"], [0.7, \"#b8e186\"], [0.8, \"#7fbc41\"], [0.9, \"#4d9221\"], [1, \"#276419\"]], \"sequential\": [[0.0, \"#0d0887\"], [0.1111111111111111, \"#46039f\"], [0.2222222222222222, \"#7201a8\"], [0.3333333333333333, \"#9c179e\"], [0.4444444444444444, \"#bd3786\"], [0.5555555555555556, \"#d8576b\"], [0.6666666666666666, \"#ed7953\"], [0.7777777777777778, \"#fb9f3a\"], [0.8888888888888888, \"#fdca26\"], [1.0, \"#f0f921\"]], \"sequentialminus\": [[0.0, \"#0d0887\"], [0.1111111111111111, \"#46039f\"], [0.2222222222222222, \"#7201a8\"], [0.3333333333333333, \"#9c179e\"], [0.4444444444444444, \"#bd3786\"], [0.5555555555555556, \"#d8576b\"], [0.6666666666666666, \"#ed7953\"], [0.7777777777777778, \"#fb9f3a\"], [0.8888888888888888, \"#fdca26\"], [1.0, \"#f0f921\"]]}, \"colorway\": [\"#636efa\", \"#EF553B\", \"#00cc96\", \"#ab63fa\", \"#FFA15A\", \"#19d3f3\", \"#FF6692\", \"#B6E880\", \"#FF97FF\", \"#FECB52\"], \"font\": {\"color\": \"#2a3f5f\"}, \"geo\": {\"bgcolor\": \"white\", \"lakecolor\": \"white\", \"landcolor\": \"#E5ECF6\", \"showlakes\": true, \"showland\": true, \"subunitcolor\": \"white\"}, \"hoverlabel\": {\"align\": \"left\"}, \"hovermode\": \"closest\", \"mapbox\": {\"style\": \"light\"}, \"paper_bgcolor\": \"white\", \"plot_bgcolor\": \"#E5ECF6\", \"polar\": {\"angularaxis\": {\"gridcolor\": \"white\", \"linecolor\": \"white\", \"ticks\": \"\"}, \"bgcolor\": \"#E5ECF6\", \"radialaxis\": {\"gridcolor\": \"white\", \"linecolor\": \"white\", \"ticks\": \"\"}}, \"scene\": {\"xaxis\": {\"backgroundcolor\": \"#E5ECF6\", \"gridcolor\": \"white\", \"gridwidth\": 2, \"linecolor\": \"white\", \"showbackground\": true, \"ticks\": \"\", \"zerolinecolor\": \"white\"}, \"yaxis\": {\"backgroundcolor\": \"#E5ECF6\", \"gridcolor\": \"white\", \"gridwidth\": 2, \"linecolor\": \"white\", \"showbackground\": true, \"ticks\": \"\", \"zerolinecolor\": \"white\"}, \"zaxis\": {\"backgroundcolor\": \"#E5ECF6\", \"gridcolor\": \"white\", \"gridwidth\": 2, \"linecolor\": \"white\", \"showbackground\": true, \"ticks\": \"\", \"zerolinecolor\": \"white\"}}, \"shapedefaults\": {\"line\": {\"color\": \"#2a3f5f\"}}, \"ternary\": {\"aaxis\": {\"gridcolor\": \"white\", \"linecolor\": \"white\", \"ticks\": \"\"}, \"baxis\": {\"gridcolor\": \"white\", \"linecolor\": \"white\", \"ticks\": \"\"}, \"bgcolor\": \"#E5ECF6\", \"caxis\": {\"gridcolor\": \"white\", \"linecolor\": \"white\", \"ticks\": \"\"}}, \"title\": {\"x\": 0.05}, \"xaxis\": {\"automargin\": true, \"gridcolor\": \"white\", \"linecolor\": \"white\", \"ticks\": \"\", \"title\": {\"standoff\": 15}, \"zerolinecolor\": \"white\", \"zerolinewidth\": 2}, \"yaxis\": {\"automargin\": true, \"gridcolor\": \"white\", \"linecolor\": \"white\", \"ticks\": \"\", \"title\": {\"standoff\": 15}, \"zerolinecolor\": \"white\", \"zerolinewidth\": 2}}}, \"title\": {\"text\": \"COVID-19: Estimated Mortality Rate of<br>China, Mainland China\"}, \"xaxis\": {\"anchor\": \"y\", \"domain\": [0.0, 1.0], \"title\": {\"text\": \"date\"}}, \"yaxis\": {\"anchor\": \"x\", \"domain\": [0.0, 1.0], \"title\": {\"text\": \"%\"}}},\n",
              "                        {\"responsive\": true}\n",
              "                    ).then(function(){\n",
              "                            \n",
              "var gd = document.getElementById('1e0b543a-103f-4a9c-9981-aafaab13ab5c');\n",
              "var x = new MutationObserver(function (mutations, observer) {{\n",
              "        var display = window.getComputedStyle(gd).display;\n",
              "        if (!display || display === 'none') {{\n",
              "            console.log([gd, 'removed!']);\n",
              "            Plotly.purge(gd);\n",
              "            observer.disconnect();\n",
              "        }}\n",
              "}});\n",
              "\n",
              "// Listen for the removal of the full notebook cells\n",
              "var notebookContainer = gd.closest('#notebook-container');\n",
              "if (notebookContainer) {{\n",
              "    x.observe(notebookContainer, {childList: true});\n",
              "}}\n",
              "\n",
              "// Listen for the clearing of the current output cell\n",
              "var outputEl = gd.closest('.output');\n",
              "if (outputEl) {{\n",
              "    x.observe(outputEl, {childList: true});\n",
              "}}\n",
              "\n",
              "                        })\n",
              "                };\n",
              "                \n",
              "            </script>\n",
              "        </div>\n",
              "</body>\n",
              "</html>"
            ]
          },
          "metadata": {
            "tags": [
              "id3_content_3",
              "outputarea_id3",
              "user_output"
            ]
          }
        },
        {
          "output_type": "display_data",
          "data": {
            "application/javascript": [
              "window[\"b15f15e4-641d-11ea-acba-0242ac1c0002\"] = google.colab.output.setActiveOutputArea(window[\"b11d724c-641d-11ea-acba-0242ac1c0002\"]);\n",
              "//# sourceURL=js_e6a3fff054"
            ],
            "text/plain": [
              "<IPython.core.display.Javascript object>"
            ]
          },
          "metadata": {
            "tags": [
              "id3_content_3",
              "outputarea_id3"
            ]
          }
        }
      ]
    }
  ]
}
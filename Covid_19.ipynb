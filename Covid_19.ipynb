{
  "nbformat": 4,
  "nbformat_minor": 0,
  "metadata": {
    "colab": {
      "name": "Covid-19.ipynb",
      "provenance": [],
      "collapsed_sections": [],
      "authorship_tag": "ABX9TyNJBrMclGiPe9Zql0yG0e6/",
      "include_colab_link": true
    },
    "kernelspec": {
      "name": "python3",
      "display_name": "Python 3"
    }
  },
  "cells": [
    {
      "cell_type": "markdown",
      "metadata": {
        "id": "view-in-github",
        "colab_type": "text"
      },
      "source": [
        "<a href=\"https://colab.research.google.com/github/flow4u/public/blob/master/Covid_19.ipynb\" target=\"_parent\"><img src=\"https://colab.research.google.com/assets/colab-badge.svg\" alt=\"Open In Colab\"/></a>"
      ]
    },
    {
      "cell_type": "markdown",
      "metadata": {
        "id": "a58Gjia9MDRw",
        "colab_type": "text"
      },
      "source": [
        "# Covid-19\n",
        "\n",
        "Data Source: https://github.com/CSSEGISandData/COVID-19\n",
        " \n",
        " \n",
        "\n",
        "To run this notebook: **CTRL + F9**\n",
        "\n",
        "To update when selecting different country: **CTRL + F10**"
      ]
    },
    {
      "cell_type": "code",
      "metadata": {
        "id": "Ipw826YVw5ZE",
        "colab_type": "code",
        "cellView": "form",
        "colab": {}
      },
      "source": [
        "#@title\n",
        "import pandas as pd\n",
        "import matplotlib.pyplot as plt\n",
        "import numpy as np\n",
        "from datetime import datetime"
      ],
      "execution_count": 0,
      "outputs": []
    },
    {
      "cell_type": "code",
      "metadata": {
        "id": "5dQmk2GEgFZ3",
        "colab_type": "code",
        "cellView": "form",
        "colab": {}
      },
      "source": [
        "#@title\n",
        "data_sets = ('Confirmed', 'Recovered', 'Deaths')\n",
        "base_url = \"https://raw.githubusercontent.com/CSSEGISandData/COVID-19/master/csse_covid_19_data/csse_covid_19_time_series/time_series_19-covid-\"\n",
        "\n",
        "for set in data_sets:\n",
        "  df_temp = pd.read_csv(base_url+set+'.csv')\n",
        "  df_temp = df_temp.drop(['Lat', 'Long'],axis=1)\n",
        "  del df_temp['Province/State']\n",
        "  # not all date columns have the same format, some are mm/d/yy, others mm/dd/yy\n",
        "  # this will convert first to date, then back to string\n",
        "  for col in df_temp.columns:\n",
        "    try:\n",
        "      col1 = col[:len(col)-2]+'20'+col[-2:]\n",
        "      col_new = datetime.strptime(col1,'%m/%d/%Y')\n",
        "      col_new = datetime.strftime(col_new, '%Y-%m-%d')\n",
        "      df_temp.rename(columns={col: col_new}, inplace=True)\n",
        "    except:\n",
        "      pass\n",
        "  df_temp = df_temp.groupby(['Country/Region']).sum()\n",
        "  df_temp['Status'] = set\n",
        "  try:\n",
        "    df = df.append(df_temp, sort=False)\n",
        "  except:\n",
        "    df=df_temp\n",
        "\n",
        "df = df.reindex(sorted(df.columns), axis=1)  "
      ],
      "execution_count": 0,
      "outputs": []
    },
    {
      "cell_type": "code",
      "metadata": {
        "id": "LYd1iM5NPYeD",
        "colab_type": "code",
        "colab": {},
        "cellView": "form"
      },
      "source": [
        "#@title\n",
        "europe = ['Belgium', 'Finland',\n",
        "       'France', 'Germany','Italy',\n",
        "       'Spain', 'Sweden',\n",
        "       'UK']\n",
        "\n",
        "western = ['Australia', 'Belgium', 'Canada', 'Finland',\n",
        "       'France', 'Germany', 'Italy', 'Japan',\n",
        "       'Sweden',\n",
        "       'UK', 'US']\n",
        "\n",
        "middle_east = ['Egypt', \n",
        "       'Iran', 'Iraq', 'Israel',\n",
        "       'Lebanon', 'Macau',\n",
        "       'United Arab Emirates']\n",
        "\n",
        "all_countries = ['Australia', 'Belgium', 'Cambodia', 'Canada', 'Egypt', 'Finland',\n",
        "       'France', 'Germany', 'Hong Kong', 'India', 'Iran', 'Iraq', 'Israel',\n",
        "       'Italy', 'Japan', 'Lebanon', 'Macau', 'Mainland China', 'Malaysia',\n",
        "       'Nepal', 'Others', 'Philippines', 'Russia', 'Singapore', 'South Korea',\n",
        "       'Spain', 'Sri Lanka', 'Sweden', 'Taiwan', 'Thailand', 'UK', 'US',\n",
        "       'United Arab Emirates', 'Vietnam']\n",
        "\n",
        "for t in df.index.unique():\n",
        "  if all_countries.count(t) == 0:\n",
        "    print('Missing: '+t)\n",
        "\n",
        "df.index.unique()"
      ],
      "execution_count": 0,
      "outputs": []
    },
    {
      "cell_type": "markdown",
      "metadata": {
        "id": "mJ8ssfn2L4s0",
        "colab_type": "text"
      },
      "source": [
        "# Selecting what data to see"
      ]
    },
    {
      "cell_type": "code",
      "metadata": {
        "id": "79iMb93Tz2H1",
        "colab_type": "code",
        "cellView": "form",
        "colab": {}
      },
      "source": [
        "#@markdown Select and Press CTRL + F10\n",
        "country_selection = \"Middle-East\" #@param [\"All\", \"Not Mainland China\", 'Mainland China\", \"Europe\", \"Europe + North America + Japan + Australia\", \"Russia\", \"Middle-East\", \"India\"] {allow-input: true}\n",
        "stepsize =  1#@param {type:\"integer\"}\n",
        "df2=[]\n",
        "if country_selection == 'Not Mainland China':\n",
        "  df2 = df[df.index != 'Mainland China']\n",
        "elif country_selection == 'Mainland China':\n",
        "  df2 = df[df.index == 'Mainland China']\n",
        "elif country_selection == 'Middle-East':\n",
        "  df2 = df[df.index.isin(middle_east)]\n",
        "elif country_selection == 'India':\n",
        "  df2 = df[df.index == 'India']\n",
        "elif country_selection == 'Europe':\n",
        "  df2 = df[df.index.isin(europe)]\n",
        "elif country_selection == 'Europe + North America + Japan + Australia':\n",
        "  df2 = df[df.index.isin(western)]\n",
        "elif country_selection == 'Russia':\n",
        "  df2 = df[df.index == 'Russia']\n",
        "else:\n",
        "  df2 = df\n",
        "# df2.head()\n",
        "\n",
        "df_status = df2.groupby(['Status']).sum()"
      ],
      "execution_count": 0,
      "outputs": []
    },
    {
      "cell_type": "code",
      "metadata": {
        "id": "B3SvQvLFl1Pk",
        "colab_type": "code",
        "cellView": "form",
        "colab": {}
      },
      "source": [
        "#@title\n",
        "df_plot = df_status.T.reset_index()\n",
        "\n",
        "plt.style.use('ggplot')\n",
        "x = df_plot['index']\n",
        "y1 = df_plot['Confirmed']\n",
        "y2 = df_plot['Deaths']\n",
        "fig, ax1 = plt.subplots(figsize=(20,6))\n",
        "\n",
        "ax2 = ax1.twinx()\n",
        "ax1.plot(x, y1, 'b-')\n",
        "ax2.plot(x, y2, 'r-')\n",
        "\n",
        "fig.autofmt_xdate()\n",
        "\n",
        "# ax1.set_ylim(0,55000)\n",
        "start, end = ax1.get_xlim()\n",
        "# stepsize = 5\n",
        "ax1.xaxis.set_ticks(np.arange(start, end, stepsize))\n",
        "\n",
        "ax1.set_xlabel('Date')\n",
        "ax1.set_ylabel('Confirmed', color='b')\n",
        "ax2.set_ylabel('Deaths', color='r')\n",
        "\n",
        "\n",
        "title = 'Showing ' + country_selection\n",
        "\n",
        "plt.title(title)\n",
        "\n",
        "plt.show()"
      ],
      "execution_count": 0,
      "outputs": []
    },
    {
      "cell_type": "code",
      "metadata": {
        "id": "OWSwDPFL_wbT",
        "colab_type": "code",
        "cellView": "form",
        "colab": {}
      },
      "source": [
        "#@title\n",
        "df_plot = df_status.T.reset_index()\n",
        "\n",
        "plt.style.use('ggplot')\n",
        "y11 = 'Recovered'\n",
        "y21 = 'Deaths'\n",
        "x = df_plot['index']\n",
        "y1 = df_plot[y11]\n",
        "y2 = df_plot[y21]\n",
        "fig, ax1 = plt.subplots(figsize=(20,6))\n",
        "\n",
        "fig.autofmt_xdate()\n",
        "\n",
        "# ax2 = ax1.twinx()\n",
        "line1, = ax1.plot(x, y1, 'g-', label=y11)\n",
        "line2, = ax1.plot(x, y2, 'r-', label=y21)\n",
        "\n",
        "# ax1.set_ylim(0,55000)\n",
        "start, end = ax1.get_xlim()\n",
        "# stepsize = 5\n",
        "ax1.xaxis.set_ticks(np.arange(start, end, stepsize))\n",
        "\n",
        "ax1.set_xlabel('Date')\n",
        "ax1.set_ylabel('Number of people')\n",
        "\n",
        "title = 'Showing ' + country_selection\n",
        "plt.legend(handles=[line1, line2])\n",
        "plt.title(title)\n",
        "\n",
        "plt.show()\n"
      ],
      "execution_count": 0,
      "outputs": []
    },
    {
      "cell_type": "code",
      "metadata": {
        "id": "NgPxPsWcDN_o",
        "colab_type": "code",
        "cellView": "form",
        "colab": {}
      },
      "source": [
        "#@title\n",
        "df_plot = df_status.T.reset_index()\n",
        "\n",
        "plt.style.use('ggplot')\n",
        "y11 = 'Confirmed'\n",
        "y21 = 'Recovered'\n",
        "x = df_plot['index']\n",
        "y1 = df_plot[y11]\n",
        "y2 = df_plot[y21]\n",
        "fig, ax1 = plt.subplots(figsize=(20,6))\n",
        "\n",
        "fig.autofmt_xdate()\n",
        "\n",
        "# ax2 = ax1.twinx()\n",
        "line1, = ax1.plot(x, y1, 'b-', label=y11)\n",
        "line2, = ax1.plot(x, y2, 'g-', label=y21)\n",
        "\n",
        "# ax1.set_ylim(0,55000)\n",
        "start, end = ax1.get_xlim()\n",
        "# stepsize = 5\n",
        "ax1.xaxis.set_ticks(np.arange(start, end, stepsize))\n",
        "\n",
        "ax1.set_xlabel('Date')\n",
        "ax1.set_ylabel('Number of people')\n",
        "\n",
        "title = 'Showing ' + country_selection\n",
        "plt.legend(handles=[line1, line2])\n",
        "plt.title(title)\n",
        "\n",
        "plt.show()"
      ],
      "execution_count": 0,
      "outputs": []
    },
    {
      "cell_type": "code",
      "metadata": {
        "id": "XfcZxuJ-B2nY",
        "colab_type": "code",
        "cellView": "form",
        "colab": {}
      },
      "source": [
        "#@title\n",
        "df_temp2 = df_status.T.reset_index()\n",
        "date_list=[]\n",
        "days_list=[]\n",
        "mortality_rate_list=[]\n",
        "for index, row in df_temp2.iterrows():\n",
        "  if row['Recovered'] > 0:\n",
        "    value_lookup = row['Recovered']\n",
        "    value2_lookup = row['Confirmed']\n",
        "    value3_lookup = row['Deaths']\n",
        "    mortality_rate = value3_lookup / value2_lookup * 100\n",
        "    mortality_rate_list.append(mortality_rate)\n",
        "    for index2, row2 in df_temp2.iterrows():\n",
        "      if row2['Confirmed'] >= (value_lookup+value3_lookup):\n",
        "        date1 = datetime.strptime(row['index'], '%Y-%m-%d')\n",
        "        date2 = datetime.strptime(row2['index'], '%Y-%m-%d')\n",
        "        recovery_time = date1-date2\n",
        "        recovery_time_date = datetime.strftime(date1, '%Y-%m-%d')\n",
        "        recovery_days = recovery_time.days\n",
        "        date_list.append(recovery_time_date)\n",
        "        days_list.append(recovery_days)\n",
        "        break\n",
        "\n",
        "df_recovery_time = pd.DataFrame(days_list, index=date_list, columns=['RecoveryDays'])\n",
        "df_mortality_rate = pd.DataFrame(mortality_rate_list, index=date_list, columns=['MortalityRate'])\n",
        "# print(df_recovery_time  )\n",
        "\n",
        "plt.style.use('ggplot')\n",
        "y11 = 'RecoveryDays'\n",
        "y21 = 'MortalityRate'\n",
        "x = df_recovery_time.index\n",
        "y1 = df_recovery_time[y11]\n",
        "y2 = df_mortality_rate[y21]\n",
        "fig, ax1 = plt.subplots(figsize=(20,6))\n",
        "\n",
        "ax2 = ax1.twinx()\n",
        "line1, = ax1.plot(x, y1, 'b-', label=y11)\n",
        "line2, = ax2.plot(x, y2, 'r-', label=y21)\n",
        "\n",
        "fig.autofmt_xdate()\n",
        "\n",
        "# ax1.set_ylim(0,55000)\n",
        "start, end = ax1.get_xlim()\n",
        "# stepsize = 5\n",
        "ax1.xaxis.set_ticks(np.arange(start, end, stepsize))\n",
        "\n",
        "ax1.set_xlabel('Date')\n",
        "ax1.set_ylabel('Days (Confirmed >= Recovered + Deaths)', color='b')\n",
        "ax2.set_ylabel('% of Confirmed', color='r')\n",
        "\n",
        "title = 'Showing COVID-19 Development Statics of ' + country_selection\n",
        "plt.legend(handles=[line1,line2], loc='upper left')\n",
        "plt.title(title)\n",
        "\n",
        "plt.show()"
      ],
      "execution_count": 0,
      "outputs": []
    }
  ]
}